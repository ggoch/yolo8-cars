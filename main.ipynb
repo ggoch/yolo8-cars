{
 "cells": [
  {
   "cell_type": "code",
   "execution_count": null,
   "metadata": {},
   "outputs": [],
   "source": [
    "import cv2\n",
    "import alimg\n",
    "import add_prefix\n",
    "import predict2labelme_json\n",
    "import label2coco\n",
    "import split_data\n",
    "import train\n",
    "import tool\n",
    "from video_player import VideoPlayer\n",
    "from ultralytics import YOLO\n",
    "import train\n",
    "from video_player import VideoPlayer\n",
    "import predict2labelme_json\n",
    "import video2img\n",
    "\n"
   ]
  },
  {
   "cell_type": "code",
   "execution_count": 6,
   "metadata": {},
   "outputs": [
    {
     "name": "stdout",
     "output_type": "stream",
     "text": [
      "Creating dataset: ./datas/yolo/base\n",
      "Generating dataset from: ./datas/labelme\\wb_01yellow00000000.json\n",
      "Generating dataset from: ./datas/labelme\\wb_01yellow00000001.json\n",
      "Generating dataset from: ./datas/labelme\\wb_01yellow00000002.json\n",
      "Generating dataset from: ./datas/labelme\\wb_01yellow00000003.json\n",
      "Generating dataset from: ./datas/labelme\\wb_01yellow00000004.json\n",
      "Generating dataset from: ./datas/labelme\\wb_01yellow00000005.json\n",
      "Generating dataset from: ./datas/labelme\\wb_01yellow00000006.json\n",
      "Generating dataset from: ./datas/labelme\\wb_01yellow00000007.json\n",
      "Generating dataset from: ./datas/labelme\\wb_01yellow00000008.json\n",
      "Generating dataset from: ./datas/labelme\\wb_01yellow00000009.json\n",
      "Generating dataset from: ./datas/labelme\\wb_01yellow00000010.json\n",
      "Generating dataset from: ./datas/labelme\\wb_01yellow00000011.json\n",
      "Generating dataset from: ./datas/labelme\\wb_01yellow00000012.json\n",
      "Generating dataset from: ./datas/labelme\\wb_01yellow00000013.json\n",
      "Generating dataset from: ./datas/labelme\\wb_01yellow00000014.json\n",
      "Generating dataset from: ./datas/labelme\\wb_01yellow00000015.json\n",
      "Generating dataset from: ./datas/labelme\\wb_01yellow00000016.json\n",
      "Generating dataset from: ./datas/labelme\\wb_01yellow00000017.json\n",
      "Generating dataset from: ./datas/labelme\\wb_01yellow00000018.json\n",
      "Generating dataset from: ./datas/labelme\\wb_01yellow00000019.json\n",
      "Generating dataset from: ./datas/labelme\\wb_01yellow00000028.json\n",
      "Generating dataset from: ./datas/labelme\\wb_01yellow00000029.json\n",
      "Generating dataset from: ./datas/labelme\\wb_01yellow00000030.json\n",
      "Generating dataset from: ./datas/labelme\\wb_01yellow00000031.json\n",
      "Generating dataset from: ./datas/labelme\\wb_01yellow00000032.json\n",
      "Generating dataset from: ./datas/labelme\\wb_03white00000000.json\n",
      "Generating dataset from: ./datas/labelme\\wb_03white00000001.json\n",
      "Generating dataset from: ./datas/labelme\\wb_03white00000002.json\n",
      "Generating dataset from: ./datas/labelme\\wb_03white00000003.json\n",
      "Generating dataset from: ./datas/labelme\\wb_03white00000004.json\n",
      "Generating dataset from: ./datas/labelme\\wb_03white00000008.json\n",
      "Generating dataset from: ./datas/labelme\\wb_03white00000009.json\n",
      "Generating dataset from: ./datas/labelme\\wb_03white00000010.json\n",
      "Generating dataset from: ./datas/labelme\\wb_03white00000011.json\n",
      "Generating dataset from: ./datas/labelme\\wb_03white00000091.json\n",
      "Generating dataset from: ./datas/labelme\\wb_03white00000092.json\n",
      "Generating dataset from: ./datas/labelme\\wb_03white00000093.json\n",
      "Generating dataset from: ./datas/labelme\\wb_03white00000094.json\n",
      "Generating dataset from: ./datas/labelme\\wb_03white00000095.json\n",
      "Generating dataset from: ./datas/labelme\\wb_05green00000002.json\n",
      "Generating dataset from: ./datas/labelme\\wb_05green00000003.json\n",
      "Generating dataset from: ./datas/labelme\\wb_05green00000004.json\n",
      "Generating dataset from: ./datas/labelme\\wb_05green00000005.json\n",
      "Generating dataset from: ./datas/labelme\\wb_05green00000006.json\n",
      "Generating dataset from: ./datas/labelme\\wb_05green00000007.json\n",
      "Generating dataset from: ./datas/labelme\\wb_05green00000008.json\n",
      "Generating dataset from: ./datas/labelme\\wb_05green00000009.json\n",
      "Generating dataset from: ./datas/labelme\\wb_05green00000010.json\n",
      "Generating dataset from: ./datas/labelme\\wb_05green00000014.json\n",
      "Generating dataset from: ./datas/labelme\\wb_05green00000015.json\n",
      "Generating dataset from: ./datas/labelme\\wb_05green00000016.json\n",
      "Generating dataset from: ./datas/labelme\\wb_05green00000031.json\n",
      "Generating dataset from: ./datas/labelme\\wb_05green00000032.json\n",
      "Generating dataset from: ./datas/labelme\\wb_05green00000033.json\n",
      "Generating dataset from: ./datas/labelme\\wb_05green00000034.json\n"
     ]
    }
   ],
   "source": [
    "# 將labelme處理的資料變成Yolo模型訓練格式\n",
    "\n",
    "labelme_folder = \"./datas/labelme\"\n",
    "export_dir = \"./datas/yolo/base\"\n",
    "label_txt = \"label.txt\"\n",
    "\n",
    "label2coco.main(labelme_folder, export_dir,label_txt)"
   ]
  },
  {
   "cell_type": "code",
   "execution_count": 3,
   "metadata": {},
   "outputs": [
    {
     "name": "stdout",
     "output_type": "stream",
     "text": [
      "文件 wb_01yellow00000000.txt 已重命名为 transformwb_01yellow00000000.txt\n",
      "文件 wb_01yellow00000001.txt 已重命名为 transformwb_01yellow00000001.txt\n",
      "文件 wb_01yellow00000002.txt 已重命名为 transformwb_01yellow00000002.txt\n",
      "文件 wb_01yellow00000003.txt 已重命名为 transformwb_01yellow00000003.txt\n",
      "文件 wb_01yellow00000004.txt 已重命名为 transformwb_01yellow00000004.txt\n",
      "文件 wb_01yellow00000005.txt 已重命名为 transformwb_01yellow00000005.txt\n",
      "文件 wb_01yellow00000006.txt 已重命名为 transformwb_01yellow00000006.txt\n",
      "文件 wb_01yellow00000007.txt 已重命名为 transformwb_01yellow00000007.txt\n",
      "文件 wb_01yellow00000008.txt 已重命名为 transformwb_01yellow00000008.txt\n",
      "文件 wb_01yellow00000009.txt 已重命名为 transformwb_01yellow00000009.txt\n",
      "文件 wb_01yellow00000010.txt 已重命名为 transformwb_01yellow00000010.txt\n",
      "文件 wb_01yellow00000011.txt 已重命名为 transformwb_01yellow00000011.txt\n",
      "文件 wb_01yellow00000012.txt 已重命名为 transformwb_01yellow00000012.txt\n",
      "文件 wb_01yellow00000013.txt 已重命名为 transformwb_01yellow00000013.txt\n",
      "文件 wb_01yellow00000014.txt 已重命名为 transformwb_01yellow00000014.txt\n",
      "文件 wb_01yellow00000015.txt 已重命名为 transformwb_01yellow00000015.txt\n",
      "文件 wb_01yellow00000016.txt 已重命名为 transformwb_01yellow00000016.txt\n",
      "文件 wb_01yellow00000017.txt 已重命名为 transformwb_01yellow00000017.txt\n",
      "文件 wb_01yellow00000018.txt 已重命名为 transformwb_01yellow00000018.txt\n",
      "文件 wb_01yellow00000019.txt 已重命名为 transformwb_01yellow00000019.txt\n",
      "文件 wb_01yellow00000028.txt 已重命名为 transformwb_01yellow00000028.txt\n",
      "文件 wb_01yellow00000029.txt 已重命名为 transformwb_01yellow00000029.txt\n",
      "文件 wb_01yellow00000030.txt 已重命名为 transformwb_01yellow00000030.txt\n",
      "文件 wb_01yellow00000031.txt 已重命名为 transformwb_01yellow00000031.txt\n",
      "文件 wb_01yellow00000032.txt 已重命名为 transformwb_01yellow00000032.txt\n",
      "文件 wb_03white00000000.txt 已重命名为 transformwb_03white00000000.txt\n",
      "文件 wb_03white00000001.txt 已重命名为 transformwb_03white00000001.txt\n",
      "文件 wb_03white00000002.txt 已重命名为 transformwb_03white00000002.txt\n",
      "文件 wb_03white00000003.txt 已重命名为 transformwb_03white00000003.txt\n",
      "文件 wb_03white00000004.txt 已重命名为 transformwb_03white00000004.txt\n",
      "文件 wb_03white00000008.txt 已重命名为 transformwb_03white00000008.txt\n",
      "文件 wb_03white00000009.txt 已重命名为 transformwb_03white00000009.txt\n",
      "文件 wb_03white00000010.txt 已重命名为 transformwb_03white00000010.txt\n",
      "文件 wb_03white00000011.txt 已重命名为 transformwb_03white00000011.txt\n",
      "文件 wb_03white00000091.txt 已重命名为 transformwb_03white00000091.txt\n",
      "文件 wb_03white00000092.txt 已重命名为 transformwb_03white00000092.txt\n",
      "文件 wb_03white00000093.txt 已重命名为 transformwb_03white00000093.txt\n",
      "文件 wb_03white00000094.txt 已重命名为 transformwb_03white00000094.txt\n",
      "文件 wb_03white00000095.txt 已重命名为 transformwb_03white00000095.txt\n",
      "文件 wb_05green00000002.txt 已重命名为 transformwb_05green00000002.txt\n",
      "文件 wb_05green00000003.txt 已重命名为 transformwb_05green00000003.txt\n",
      "文件 wb_05green00000004.txt 已重命名为 transformwb_05green00000004.txt\n",
      "文件 wb_05green00000005.txt 已重命名为 transformwb_05green00000005.txt\n",
      "文件 wb_05green00000006.txt 已重命名为 transformwb_05green00000006.txt\n",
      "文件 wb_05green00000007.txt 已重命名为 transformwb_05green00000007.txt\n",
      "文件 wb_05green00000008.txt 已重命名为 transformwb_05green00000008.txt\n",
      "文件 wb_05green00000009.txt 已重命名为 transformwb_05green00000009.txt\n",
      "文件 wb_05green00000010.txt 已重命名为 transformwb_05green00000010.txt\n",
      "文件 wb_05green00000014.txt 已重命名为 transformwb_05green00000014.txt\n",
      "文件 wb_05green00000015.txt 已重命名为 transformwb_05green00000015.txt\n",
      "文件 wb_05green00000016.txt 已重命名为 transformwb_05green00000016.txt\n",
      "文件 wb_05green00000031.txt 已重命名为 transformwb_05green00000031.txt\n",
      "文件 wb_05green00000032.txt 已重命名为 transformwb_05green00000032.txt\n",
      "文件 wb_05green00000033.txt 已重命名为 transformwb_05green00000033.txt\n",
      "文件 wb_05green00000034.txt 已重命名为 transformwb_05green00000034.txt\n"
     ]
    }
   ],
   "source": [
    "# 將資料做數據增強\n",
    "\n",
    "image_dir_path = export_dir + \"/JPEGImages\"\n",
    "label_dir_path = export_dir + \"/Labels\"\n",
    "output_path = \"./datas/yolo/transform\"\n",
    "\n",
    "alimg.transform_image_label(image_dir_path,label_dir_path,output_path)\n",
    "\n",
    "dir = output_path + \"/JPEGImages\"\n",
    "add_prefix.add_prefix_to_images(dir, 'transform')\n",
    "\n",
    "dir = output_path + \"/Labels\"\n",
    "add_prefix.add_prefix_to_txts(dir, 'transform')"
   ]
  },
  {
   "cell_type": "code",
   "execution_count": 5,
   "metadata": {},
   "outputs": [
    {
     "name": "stdout",
     "output_type": "stream",
     "text": [
      "./datas/yolo/base\\JPEGImages\\wb_01yellow00000007.jpg ./datas/training/train/base\\images\\wb_01yellow00000007.jpg\n",
      "./datas/yolo/base\\Labels\\wb_01yellow00000007.txt ./datas/training/train/base\\labels\\wb_01yellow00000007.txt\n",
      "./datas/yolo/base\\JPEGImages\\wb_05green00000034.jpg ./datas/training/train/base\\images\\wb_05green00000034.jpg\n",
      "./datas/yolo/base\\Labels\\wb_05green00000034.txt ./datas/training/train/base\\labels\\wb_05green00000034.txt\n",
      "./datas/yolo/base\\JPEGImages\\wb_05green00000010.jpg ./datas/training/train/base\\images\\wb_05green00000010.jpg\n",
      "./datas/yolo/base\\Labels\\wb_05green00000010.txt ./datas/training/train/base\\labels\\wb_05green00000010.txt\n",
      "./datas/yolo/base\\JPEGImages\\wb_01yellow00000014.jpg ./datas/training/train/base\\images\\wb_01yellow00000014.jpg\n",
      "./datas/yolo/base\\Labels\\wb_01yellow00000014.txt ./datas/training/train/base\\labels\\wb_01yellow00000014.txt\n",
      "./datas/yolo/base\\JPEGImages\\wb_03white00000008.jpg ./datas/training/train/base\\images\\wb_03white00000008.jpg\n",
      "./datas/yolo/base\\Labels\\wb_03white00000008.txt ./datas/training/train/base\\labels\\wb_03white00000008.txt\n",
      "./datas/yolo/base\\JPEGImages\\wb_01yellow00000000.jpg ./datas/training/train/base\\images\\wb_01yellow00000000.jpg\n",
      "./datas/yolo/base\\Labels\\wb_01yellow00000000.txt ./datas/training/train/base\\labels\\wb_01yellow00000000.txt\n",
      "./datas/yolo/base\\JPEGImages\\wb_01yellow00000011.jpg ./datas/training/train/base\\images\\wb_01yellow00000011.jpg\n",
      "./datas/yolo/base\\Labels\\wb_01yellow00000011.txt ./datas/training/train/base\\labels\\wb_01yellow00000011.txt\n",
      "./datas/yolo/base\\JPEGImages\\wb_05green00000009.jpg ./datas/training/train/base\\images\\wb_05green00000009.jpg\n",
      "./datas/yolo/base\\Labels\\wb_05green00000009.txt ./datas/training/train/base\\labels\\wb_05green00000009.txt\n",
      "./datas/yolo/base\\JPEGImages\\wb_01yellow00000010.jpg ./datas/training/train/base\\images\\wb_01yellow00000010.jpg\n",
      "./datas/yolo/base\\Labels\\wb_01yellow00000010.txt ./datas/training/train/base\\labels\\wb_01yellow00000010.txt\n",
      "./datas/yolo/base\\JPEGImages\\wb_01yellow00000018.jpg ./datas/training/train/base\\images\\wb_01yellow00000018.jpg\n",
      "./datas/yolo/base\\Labels\\wb_01yellow00000018.txt ./datas/training/train/base\\labels\\wb_01yellow00000018.txt\n",
      "./datas/yolo/base\\JPEGImages\\wb_03white00000004.jpg ./datas/training/train/base\\images\\wb_03white00000004.jpg\n",
      "./datas/yolo/base\\Labels\\wb_03white00000004.txt ./datas/training/train/base\\labels\\wb_03white00000004.txt\n",
      "./datas/yolo/base\\JPEGImages\\wb_03white00000092.jpg ./datas/training/train/base\\images\\wb_03white00000092.jpg\n",
      "./datas/yolo/base\\Labels\\wb_03white00000092.txt ./datas/training/train/base\\labels\\wb_03white00000092.txt\n",
      "./datas/yolo/base\\JPEGImages\\wb_03white00000000.jpg ./datas/training/train/base\\images\\wb_03white00000000.jpg\n",
      "./datas/yolo/base\\Labels\\wb_03white00000000.txt ./datas/training/train/base\\labels\\wb_03white00000000.txt\n",
      "./datas/yolo/base\\JPEGImages\\wb_03white00000094.jpg ./datas/training/train/base\\images\\wb_03white00000094.jpg\n",
      "./datas/yolo/base\\Labels\\wb_03white00000094.txt ./datas/training/train/base\\labels\\wb_03white00000094.txt\n",
      "./datas/yolo/base\\JPEGImages\\wb_05green00000032.jpg ./datas/training/train/base\\images\\wb_05green00000032.jpg\n",
      "./datas/yolo/base\\Labels\\wb_05green00000032.txt ./datas/training/train/base\\labels\\wb_05green00000032.txt\n",
      "./datas/yolo/base\\JPEGImages\\wb_01yellow00000013.jpg ./datas/training/train/base\\images\\wb_01yellow00000013.jpg\n",
      "./datas/yolo/base\\Labels\\wb_01yellow00000013.txt ./datas/training/train/base\\labels\\wb_01yellow00000013.txt\n",
      "./datas/yolo/base\\JPEGImages\\wb_01yellow00000008.jpg ./datas/training/train/base\\images\\wb_01yellow00000008.jpg\n",
      "./datas/yolo/base\\Labels\\wb_01yellow00000008.txt ./datas/training/train/base\\labels\\wb_01yellow00000008.txt\n",
      "./datas/yolo/base\\JPEGImages\\wb_01yellow00000009.jpg ./datas/training/train/base\\images\\wb_01yellow00000009.jpg\n",
      "./datas/yolo/base\\Labels\\wb_01yellow00000009.txt ./datas/training/train/base\\labels\\wb_01yellow00000009.txt\n",
      "./datas/yolo/base\\JPEGImages\\wb_03white00000011.jpg ./datas/training/train/base\\images\\wb_03white00000011.jpg\n",
      "./datas/yolo/base\\Labels\\wb_03white00000011.txt ./datas/training/train/base\\labels\\wb_03white00000011.txt\n",
      "./datas/yolo/base\\JPEGImages\\wb_01yellow00000028.jpg ./datas/training/train/base\\images\\wb_01yellow00000028.jpg\n",
      "./datas/yolo/base\\Labels\\wb_01yellow00000028.txt ./datas/training/train/base\\labels\\wb_01yellow00000028.txt\n",
      "./datas/yolo/base\\JPEGImages\\wb_01yellow00000029.jpg ./datas/training/train/base\\images\\wb_01yellow00000029.jpg\n",
      "./datas/yolo/base\\Labels\\wb_01yellow00000029.txt ./datas/training/train/base\\labels\\wb_01yellow00000029.txt\n",
      "./datas/yolo/base\\JPEGImages\\wb_05green00000014.jpg ./datas/training/train/base\\images\\wb_05green00000014.jpg\n",
      "./datas/yolo/base\\Labels\\wb_05green00000014.txt ./datas/training/train/base\\labels\\wb_05green00000014.txt\n",
      "./datas/yolo/base\\JPEGImages\\wb_01yellow00000004.jpg ./datas/training/train/base\\images\\wb_01yellow00000004.jpg\n",
      "./datas/yolo/base\\Labels\\wb_01yellow00000004.txt ./datas/training/train/base\\labels\\wb_01yellow00000004.txt\n",
      "./datas/yolo/base\\JPEGImages\\wb_05green00000002.jpg ./datas/training/train/base\\images\\wb_05green00000002.jpg\n",
      "./datas/yolo/base\\Labels\\wb_05green00000002.txt ./datas/training/train/base\\labels\\wb_05green00000002.txt\n",
      "./datas/yolo/base\\JPEGImages\\wb_05green00000015.jpg ./datas/training/train/base\\images\\wb_05green00000015.jpg\n",
      "./datas/yolo/base\\Labels\\wb_05green00000015.txt ./datas/training/train/base\\labels\\wb_05green00000015.txt\n",
      "./datas/yolo/base\\JPEGImages\\wb_03white00000001.jpg ./datas/training/train/base\\images\\wb_03white00000001.jpg\n",
      "./datas/yolo/base\\Labels\\wb_03white00000001.txt ./datas/training/train/base\\labels\\wb_03white00000001.txt\n",
      "./datas/yolo/base\\JPEGImages\\wb_01yellow00000016.jpg ./datas/training/train/base\\images\\wb_01yellow00000016.jpg\n",
      "./datas/yolo/base\\Labels\\wb_01yellow00000016.txt ./datas/training/train/base\\labels\\wb_01yellow00000016.txt\n",
      "./datas/yolo/base\\JPEGImages\\wb_01yellow00000017.jpg ./datas/training/train/base\\images\\wb_01yellow00000017.jpg\n",
      "./datas/yolo/base\\Labels\\wb_01yellow00000017.txt ./datas/training/train/base\\labels\\wb_01yellow00000017.txt\n",
      "./datas/yolo/base\\JPEGImages\\wb_05green00000008.jpg ./datas/training/train/base\\images\\wb_05green00000008.jpg\n",
      "./datas/yolo/base\\Labels\\wb_05green00000008.txt ./datas/training/train/base\\labels\\wb_05green00000008.txt\n",
      "./datas/yolo/base\\JPEGImages\\wb_03white00000002.jpg ./datas/training/train/base\\images\\wb_03white00000002.jpg\n",
      "./datas/yolo/base\\Labels\\wb_03white00000002.txt ./datas/training/train/base\\labels\\wb_03white00000002.txt\n",
      "./datas/yolo/base\\JPEGImages\\wb_03white00000003.jpg ./datas/training/train/base\\images\\wb_03white00000003.jpg\n",
      "./datas/yolo/base\\Labels\\wb_03white00000003.txt ./datas/training/train/base\\labels\\wb_03white00000003.txt\n",
      "./datas/yolo/base\\JPEGImages\\wb_05green00000003.jpg ./datas/training/train/base\\images\\wb_05green00000003.jpg\n",
      "./datas/yolo/base\\Labels\\wb_05green00000003.txt ./datas/training/train/base\\labels\\wb_05green00000003.txt\n",
      "./datas/yolo/base\\JPEGImages\\wb_05green00000016.jpg ./datas/training/train/base\\images\\wb_05green00000016.jpg\n",
      "./datas/yolo/base\\Labels\\wb_05green00000016.txt ./datas/training/train/base\\labels\\wb_05green00000016.txt\n",
      "./datas/yolo/base\\JPEGImages\\wb_03white00000009.jpg ./datas/training/train/base\\images\\wb_03white00000009.jpg\n",
      "./datas/yolo/base\\Labels\\wb_03white00000009.txt ./datas/training/train/base\\labels\\wb_03white00000009.txt\n",
      "./datas/yolo/base\\JPEGImages\\wb_01yellow00000032.jpg ./datas/training/train/base\\images\\wb_01yellow00000032.jpg\n",
      "./datas/yolo/base\\Labels\\wb_01yellow00000032.txt ./datas/training/train/base\\labels\\wb_01yellow00000032.txt\n",
      "./datas/yolo/base\\JPEGImages\\wb_03white00000093.jpg ./datas/training/train/base\\images\\wb_03white00000093.jpg\n",
      "./datas/yolo/base\\Labels\\wb_03white00000093.txt ./datas/training/train/base\\labels\\wb_03white00000093.txt\n",
      "./datas/yolo/base\\JPEGImages\\wb_01yellow00000019.jpg ./datas/training/train/base\\images\\wb_01yellow00000019.jpg\n",
      "./datas/yolo/base\\Labels\\wb_01yellow00000019.txt ./datas/training/train/base\\labels\\wb_01yellow00000019.txt\n",
      "./datas/yolo/base\\JPEGImages\\wb_05green00000033.jpg ./datas/training/train/base\\images\\wb_05green00000033.jpg\n",
      "./datas/yolo/base\\Labels\\wb_05green00000033.txt ./datas/training/train/base\\labels\\wb_05green00000033.txt\n",
      "./datas/yolo/base\\JPEGImages\\wb_01yellow00000001.jpg ./datas/training/train/base\\images\\wb_01yellow00000001.jpg\n",
      "./datas/yolo/base\\Labels\\wb_01yellow00000001.txt ./datas/training/train/base\\labels\\wb_01yellow00000001.txt\n",
      "./datas/yolo/base\\JPEGImages\\wb_01yellow00000003.jpg ./datas/training/train/base\\images\\wb_01yellow00000003.jpg\n",
      "./datas/yolo/base\\Labels\\wb_01yellow00000003.txt ./datas/training/train/base\\labels\\wb_01yellow00000003.txt\n",
      "./datas/yolo/base\\JPEGImages\\wb_05green00000007.jpg ./datas/training/train/base\\images\\wb_05green00000007.jpg\n",
      "./datas/yolo/base\\Labels\\wb_05green00000007.txt ./datas/training/train/base\\labels\\wb_05green00000007.txt\n",
      "./datas/yolo/base\\JPEGImages\\wb_05green00000005.jpg ./datas/training/train/base\\images\\wb_05green00000005.jpg\n",
      "./datas/yolo/base\\Labels\\wb_05green00000005.txt ./datas/training/train/base\\labels\\wb_05green00000005.txt\n",
      "./datas/yolo/base\\JPEGImages\\wb_01yellow00000012.jpg ./datas/training/train/base\\images\\wb_01yellow00000012.jpg\n",
      "./datas/yolo/base\\Labels\\wb_01yellow00000012.txt ./datas/training/train/base\\labels\\wb_01yellow00000012.txt\n",
      "./datas/yolo/base\\JPEGImages\\wb_01yellow00000030.jpg ./datas/training/train/base\\images\\wb_01yellow00000030.jpg\n",
      "./datas/yolo/base\\Labels\\wb_01yellow00000030.txt ./datas/training/train/base\\labels\\wb_01yellow00000030.txt\n",
      "./datas/yolo/base\\JPEGImages\\wb_05green00000004.jpg ./datas/training/valid/base\\images\\wb_05green00000004.jpg\n",
      "./datas/yolo/base\\Labels\\wb_05green00000004.txt ./datas/training/valid/base\\labels\\wb_05green00000004.txt\n",
      "./datas/yolo/base\\JPEGImages\\wb_01yellow00000002.jpg ./datas/training/valid/base\\images\\wb_01yellow00000002.jpg\n",
      "./datas/yolo/base\\Labels\\wb_01yellow00000002.txt ./datas/training/valid/base\\labels\\wb_01yellow00000002.txt\n",
      "./datas/yolo/base\\JPEGImages\\wb_03white00000010.jpg ./datas/training/valid/base\\images\\wb_03white00000010.jpg\n",
      "./datas/yolo/base\\Labels\\wb_03white00000010.txt ./datas/training/valid/base\\labels\\wb_03white00000010.txt\n",
      "./datas/yolo/base\\JPEGImages\\wb_01yellow00000006.jpg ./datas/training/valid/base\\images\\wb_01yellow00000006.jpg\n",
      "./datas/yolo/base\\Labels\\wb_01yellow00000006.txt ./datas/training/valid/base\\labels\\wb_01yellow00000006.txt\n",
      "./datas/yolo/base\\JPEGImages\\wb_05green00000031.jpg ./datas/training/valid/base\\images\\wb_05green00000031.jpg\n",
      "./datas/yolo/base\\Labels\\wb_05green00000031.txt ./datas/training/valid/base\\labels\\wb_05green00000031.txt\n",
      "./datas/yolo/base\\JPEGImages\\wb_01yellow00000015.jpg ./datas/training/valid/base\\images\\wb_01yellow00000015.jpg\n",
      "./datas/yolo/base\\Labels\\wb_01yellow00000015.txt ./datas/training/valid/base\\labels\\wb_01yellow00000015.txt\n",
      "./datas/yolo/base\\JPEGImages\\wb_03white00000095.jpg ./datas/training/valid/base\\images\\wb_03white00000095.jpg\n",
      "./datas/yolo/base\\Labels\\wb_03white00000095.txt ./datas/training/valid/base\\labels\\wb_03white00000095.txt\n",
      "./datas/yolo/base\\JPEGImages\\wb_01yellow00000005.jpg ./datas/training/valid/base\\images\\wb_01yellow00000005.jpg\n",
      "./datas/yolo/base\\Labels\\wb_01yellow00000005.txt ./datas/training/valid/base\\labels\\wb_01yellow00000005.txt\n",
      "./datas/yolo/base\\JPEGImages\\wb_05green00000006.jpg ./datas/training/valid/base\\images\\wb_05green00000006.jpg\n",
      "./datas/yolo/base\\Labels\\wb_05green00000006.txt ./datas/training/valid/base\\labels\\wb_05green00000006.txt\n",
      "./datas/yolo/base\\JPEGImages\\wb_01yellow00000031.jpg ./datas/training/valid/base\\images\\wb_01yellow00000031.jpg\n",
      "./datas/yolo/base\\Labels\\wb_01yellow00000031.txt ./datas/training/valid/base\\labels\\wb_01yellow00000031.txt\n",
      "./datas/yolo/base\\JPEGImages\\wb_03white00000091.jpg ./datas/training/valid/base\\images\\wb_03white00000091.jpg\n",
      "./datas/yolo/base\\Labels\\wb_03white00000091.txt ./datas/training/valid/base\\labels\\wb_03white00000091.txt\n",
      "done\n",
      "./datas/yolo/transform\\JPEGImages\\transformwb_01yellow00000031.jpg ./datas/training/train/transform\\images\\transformwb_01yellow00000031.jpg\n",
      "./datas/yolo/transform\\Labels\\transformwb_01yellow00000031.txt ./datas/training/train/transform\\labels\\transformwb_01yellow00000031.txt\n",
      "./datas/yolo/transform\\JPEGImages\\transformwb_01yellow00000004.jpg ./datas/training/train/transform\\images\\transformwb_01yellow00000004.jpg\n",
      "./datas/yolo/transform\\Labels\\transformwb_01yellow00000004.txt ./datas/training/train/transform\\labels\\transformwb_01yellow00000004.txt\n",
      "./datas/yolo/transform\\JPEGImages\\transformwb_01yellow00000019.jpg ./datas/training/train/transform\\images\\transformwb_01yellow00000019.jpg\n",
      "./datas/yolo/transform\\Labels\\transformwb_01yellow00000019.txt ./datas/training/train/transform\\labels\\transformwb_01yellow00000019.txt\n",
      "./datas/yolo/transform\\JPEGImages\\transformwb_03white00000010.jpg ./datas/training/train/transform\\images\\transformwb_03white00000010.jpg\n",
      "./datas/yolo/transform\\Labels\\transformwb_03white00000010.txt ./datas/training/train/transform\\labels\\transformwb_03white00000010.txt\n",
      "./datas/yolo/transform\\JPEGImages\\transformwb_01yellow00000032.jpg ./datas/training/train/transform\\images\\transformwb_01yellow00000032.jpg\n",
      "./datas/yolo/transform\\Labels\\transformwb_01yellow00000032.txt ./datas/training/train/transform\\labels\\transformwb_01yellow00000032.txt\n",
      "./datas/yolo/transform\\JPEGImages\\transformwb_03white00000092.jpg ./datas/training/train/transform\\images\\transformwb_03white00000092.jpg\n",
      "./datas/yolo/transform\\Labels\\transformwb_03white00000092.txt ./datas/training/train/transform\\labels\\transformwb_03white00000092.txt\n",
      "./datas/yolo/transform\\JPEGImages\\transformwb_01yellow00000008.jpg ./datas/training/train/transform\\images\\transformwb_01yellow00000008.jpg\n",
      "./datas/yolo/transform\\Labels\\transformwb_01yellow00000008.txt ./datas/training/train/transform\\labels\\transformwb_01yellow00000008.txt\n",
      "./datas/yolo/transform\\JPEGImages\\transformwb_01yellow00000006.jpg ./datas/training/train/transform\\images\\transformwb_01yellow00000006.jpg\n",
      "./datas/yolo/transform\\Labels\\transformwb_01yellow00000006.txt ./datas/training/train/transform\\labels\\transformwb_01yellow00000006.txt\n",
      "./datas/yolo/transform\\JPEGImages\\transformwb_03white00000000.jpg ./datas/training/train/transform\\images\\transformwb_03white00000000.jpg\n",
      "./datas/yolo/transform\\Labels\\transformwb_03white00000000.txt ./datas/training/train/transform\\labels\\transformwb_03white00000000.txt\n",
      "./datas/yolo/transform\\JPEGImages\\transformwb_05green00000006.jpg ./datas/training/train/transform\\images\\transformwb_05green00000006.jpg\n",
      "./datas/yolo/transform\\Labels\\transformwb_05green00000006.txt ./datas/training/train/transform\\labels\\transformwb_05green00000006.txt\n",
      "./datas/yolo/transform\\JPEGImages\\transformwb_03white00000094.jpg ./datas/training/train/transform\\images\\transformwb_03white00000094.jpg\n",
      "./datas/yolo/transform\\Labels\\transformwb_03white00000094.txt ./datas/training/train/transform\\labels\\transformwb_03white00000094.txt\n",
      "./datas/yolo/transform\\JPEGImages\\transformwb_01yellow00000007.jpg ./datas/training/train/transform\\images\\transformwb_01yellow00000007.jpg\n",
      "./datas/yolo/transform\\Labels\\transformwb_01yellow00000007.txt ./datas/training/train/transform\\labels\\transformwb_01yellow00000007.txt\n",
      "./datas/yolo/transform\\JPEGImages\\transformwb_05green00000010.jpg ./datas/training/train/transform\\images\\transformwb_05green00000010.jpg\n",
      "./datas/yolo/transform\\Labels\\transformwb_05green00000010.txt ./datas/training/train/transform\\labels\\transformwb_05green00000010.txt\n",
      "./datas/yolo/transform\\JPEGImages\\transformwb_05green00000002.jpg ./datas/training/train/transform\\images\\transformwb_05green00000002.jpg\n",
      "./datas/yolo/transform\\Labels\\transformwb_05green00000002.txt ./datas/training/train/transform\\labels\\transformwb_05green00000002.txt\n",
      "./datas/yolo/transform\\JPEGImages\\transformwb_03white00000003.jpg ./datas/training/train/transform\\images\\transformwb_03white00000003.jpg\n",
      "./datas/yolo/transform\\Labels\\transformwb_03white00000003.txt ./datas/training/train/transform\\labels\\transformwb_03white00000003.txt\n",
      "./datas/yolo/transform\\JPEGImages\\transformwb_05green00000031.jpg ./datas/training/train/transform\\images\\transformwb_05green00000031.jpg\n",
      "./datas/yolo/transform\\Labels\\transformwb_05green00000031.txt ./datas/training/train/transform\\labels\\transformwb_05green00000031.txt\n",
      "./datas/yolo/transform\\JPEGImages\\transformwb_05green00000015.jpg ./datas/training/train/transform\\images\\transformwb_05green00000015.jpg\n",
      "./datas/yolo/transform\\Labels\\transformwb_05green00000015.txt ./datas/training/train/transform\\labels\\transformwb_05green00000015.txt\n",
      "./datas/yolo/transform\\JPEGImages\\transformwb_01yellow00000003.jpg ./datas/training/train/transform\\images\\transformwb_01yellow00000003.jpg\n",
      "./datas/yolo/transform\\Labels\\transformwb_01yellow00000003.txt ./datas/training/train/transform\\labels\\transformwb_01yellow00000003.txt\n",
      "./datas/yolo/transform\\JPEGImages\\transformwb_01yellow00000030.jpg ./datas/training/train/transform\\images\\transformwb_01yellow00000030.jpg\n",
      "./datas/yolo/transform\\Labels\\transformwb_01yellow00000030.txt ./datas/training/train/transform\\labels\\transformwb_01yellow00000030.txt\n",
      "./datas/yolo/transform\\JPEGImages\\transformwb_01yellow00000028.jpg ./datas/training/train/transform\\images\\transformwb_01yellow00000028.jpg\n",
      "./datas/yolo/transform\\Labels\\transformwb_01yellow00000028.txt ./datas/training/train/transform\\labels\\transformwb_01yellow00000028.txt\n",
      "./datas/yolo/transform\\JPEGImages\\transformwb_05green00000016.jpg ./datas/training/train/transform\\images\\transformwb_05green00000016.jpg\n",
      "./datas/yolo/transform\\Labels\\transformwb_05green00000016.txt ./datas/training/train/transform\\labels\\transformwb_05green00000016.txt\n",
      "./datas/yolo/transform\\JPEGImages\\transformwb_01yellow00000002.jpg ./datas/training/train/transform\\images\\transformwb_01yellow00000002.jpg\n",
      "./datas/yolo/transform\\Labels\\transformwb_01yellow00000002.txt ./datas/training/train/transform\\labels\\transformwb_01yellow00000002.txt\n",
      "./datas/yolo/transform\\JPEGImages\\transformwb_01yellow00000013.jpg ./datas/training/train/transform\\images\\transformwb_01yellow00000013.jpg\n",
      "./datas/yolo/transform\\Labels\\transformwb_01yellow00000013.txt ./datas/training/train/transform\\labels\\transformwb_01yellow00000013.txt\n",
      "./datas/yolo/transform\\JPEGImages\\transformwb_05green00000014.jpg ./datas/training/train/transform\\images\\transformwb_05green00000014.jpg\n",
      "./datas/yolo/transform\\Labels\\transformwb_05green00000014.txt ./datas/training/train/transform\\labels\\transformwb_05green00000014.txt\n",
      "./datas/yolo/transform\\JPEGImages\\transformwb_05green00000032.jpg ./datas/training/train/transform\\images\\transformwb_05green00000032.jpg\n",
      "./datas/yolo/transform\\Labels\\transformwb_05green00000032.txt ./datas/training/train/transform\\labels\\transformwb_05green00000032.txt\n",
      "./datas/yolo/transform\\JPEGImages\\transformwb_03white00000091.jpg ./datas/training/train/transform\\images\\transformwb_03white00000091.jpg\n",
      "./datas/yolo/transform\\Labels\\transformwb_03white00000091.txt ./datas/training/train/transform\\labels\\transformwb_03white00000091.txt\n",
      "./datas/yolo/transform\\JPEGImages\\transformwb_01yellow00000009.jpg ./datas/training/train/transform\\images\\transformwb_01yellow00000009.jpg\n",
      "./datas/yolo/transform\\Labels\\transformwb_01yellow00000009.txt ./datas/training/train/transform\\labels\\transformwb_01yellow00000009.txt\n",
      "./datas/yolo/transform\\JPEGImages\\transformwb_03white00000093.jpg ./datas/training/train/transform\\images\\transformwb_03white00000093.jpg\n",
      "./datas/yolo/transform\\Labels\\transformwb_03white00000093.txt ./datas/training/train/transform\\labels\\transformwb_03white00000093.txt\n",
      "./datas/yolo/transform\\JPEGImages\\transformwb_01yellow00000001.jpg ./datas/training/train/transform\\images\\transformwb_01yellow00000001.jpg\n",
      "./datas/yolo/transform\\Labels\\transformwb_01yellow00000001.txt ./datas/training/train/transform\\labels\\transformwb_01yellow00000001.txt\n",
      "./datas/yolo/transform\\JPEGImages\\transformwb_05green00000005.jpg ./datas/training/train/transform\\images\\transformwb_05green00000005.jpg\n",
      "./datas/yolo/transform\\Labels\\transformwb_05green00000005.txt ./datas/training/train/transform\\labels\\transformwb_05green00000005.txt\n",
      "./datas/yolo/transform\\JPEGImages\\transformwb_01yellow00000005.jpg ./datas/training/train/transform\\images\\transformwb_01yellow00000005.jpg\n",
      "./datas/yolo/transform\\Labels\\transformwb_01yellow00000005.txt ./datas/training/train/transform\\labels\\transformwb_01yellow00000005.txt\n",
      "./datas/yolo/transform\\JPEGImages\\transformwb_03white00000004.jpg ./datas/training/train/transform\\images\\transformwb_03white00000004.jpg\n",
      "./datas/yolo/transform\\Labels\\transformwb_03white00000004.txt ./datas/training/train/transform\\labels\\transformwb_03white00000004.txt\n",
      "./datas/yolo/transform\\JPEGImages\\transformwb_03white00000008.jpg ./datas/training/train/transform\\images\\transformwb_03white00000008.jpg\n",
      "./datas/yolo/transform\\Labels\\transformwb_03white00000008.txt ./datas/training/train/transform\\labels\\transformwb_03white00000008.txt\n",
      "./datas/yolo/transform\\JPEGImages\\transformwb_01yellow00000010.jpg ./datas/training/train/transform\\images\\transformwb_01yellow00000010.jpg\n",
      "./datas/yolo/transform\\Labels\\transformwb_01yellow00000010.txt ./datas/training/train/transform\\labels\\transformwb_01yellow00000010.txt\n",
      "./datas/yolo/transform\\JPEGImages\\transformwb_05green00000003.jpg ./datas/training/train/transform\\images\\transformwb_05green00000003.jpg\n",
      "./datas/yolo/transform\\Labels\\transformwb_05green00000003.txt ./datas/training/train/transform\\labels\\transformwb_05green00000003.txt\n",
      "./datas/yolo/transform\\JPEGImages\\transformwb_03white00000002.jpg ./datas/training/train/transform\\images\\transformwb_03white00000002.jpg\n",
      "./datas/yolo/transform\\Labels\\transformwb_03white00000002.txt ./datas/training/train/transform\\labels\\transformwb_03white00000002.txt\n",
      "./datas/yolo/transform\\JPEGImages\\transformwb_03white00000011.jpg ./datas/training/train/transform\\images\\transformwb_03white00000011.jpg\n",
      "./datas/yolo/transform\\Labels\\transformwb_03white00000011.txt ./datas/training/train/transform\\labels\\transformwb_03white00000011.txt\n",
      "./datas/yolo/transform\\JPEGImages\\transformwb_01yellow00000000.jpg ./datas/training/train/transform\\images\\transformwb_01yellow00000000.jpg\n",
      "./datas/yolo/transform\\Labels\\transformwb_01yellow00000000.txt ./datas/training/train/transform\\labels\\transformwb_01yellow00000000.txt\n",
      "./datas/yolo/transform\\JPEGImages\\transformwb_01yellow00000017.jpg ./datas/training/train/transform\\images\\transformwb_01yellow00000017.jpg\n",
      "./datas/yolo/transform\\Labels\\transformwb_01yellow00000017.txt ./datas/training/train/transform\\labels\\transformwb_01yellow00000017.txt\n",
      "./datas/yolo/transform\\JPEGImages\\transformwb_01yellow00000014.jpg ./datas/training/train/transform\\images\\transformwb_01yellow00000014.jpg\n",
      "./datas/yolo/transform\\Labels\\transformwb_01yellow00000014.txt ./datas/training/train/transform\\labels\\transformwb_01yellow00000014.txt\n",
      "./datas/yolo/transform\\JPEGImages\\transformwb_03white00000009.jpg ./datas/training/train/transform\\images\\transformwb_03white00000009.jpg\n",
      "./datas/yolo/transform\\Labels\\transformwb_03white00000009.txt ./datas/training/train/transform\\labels\\transformwb_03white00000009.txt\n",
      "./datas/yolo/transform\\JPEGImages\\transformwb_01yellow00000015.jpg ./datas/training/train/transform\\images\\transformwb_01yellow00000015.jpg\n",
      "./datas/yolo/transform\\Labels\\transformwb_01yellow00000015.txt ./datas/training/train/transform\\labels\\transformwb_01yellow00000015.txt\n",
      "./datas/yolo/transform\\JPEGImages\\transformwb_01yellow00000011.jpg ./datas/training/train/transform\\images\\transformwb_01yellow00000011.jpg\n",
      "./datas/yolo/transform\\Labels\\transformwb_01yellow00000011.txt ./datas/training/train/transform\\labels\\transformwb_01yellow00000011.txt\n",
      "./datas/yolo/transform\\JPEGImages\\transformwb_01yellow00000016.jpg ./datas/training/train/transform\\images\\transformwb_01yellow00000016.jpg\n",
      "./datas/yolo/transform\\Labels\\transformwb_01yellow00000016.txt ./datas/training/train/transform\\labels\\transformwb_01yellow00000016.txt\n",
      "./datas/yolo/transform\\JPEGImages\\transformwb_01yellow00000018.jpg ./datas/training/valid/transform\\images\\transformwb_01yellow00000018.jpg\n",
      "./datas/yolo/transform\\Labels\\transformwb_01yellow00000018.txt ./datas/training/valid/transform\\labels\\transformwb_01yellow00000018.txt\n",
      "./datas/yolo/transform\\JPEGImages\\transformwb_05green00000034.jpg ./datas/training/valid/transform\\images\\transformwb_05green00000034.jpg\n",
      "./datas/yolo/transform\\Labels\\transformwb_05green00000034.txt ./datas/training/valid/transform\\labels\\transformwb_05green00000034.txt\n",
      "./datas/yolo/transform\\JPEGImages\\transformwb_05green00000007.jpg ./datas/training/valid/transform\\images\\transformwb_05green00000007.jpg\n",
      "./datas/yolo/transform\\Labels\\transformwb_05green00000007.txt ./datas/training/valid/transform\\labels\\transformwb_05green00000007.txt\n",
      "./datas/yolo/transform\\JPEGImages\\transformwb_05green00000009.jpg ./datas/training/valid/transform\\images\\transformwb_05green00000009.jpg\n",
      "./datas/yolo/transform\\Labels\\transformwb_05green00000009.txt ./datas/training/valid/transform\\labels\\transformwb_05green00000009.txt\n",
      "./datas/yolo/transform\\JPEGImages\\transformwb_05green00000008.jpg ./datas/training/valid/transform\\images\\transformwb_05green00000008.jpg\n",
      "./datas/yolo/transform\\Labels\\transformwb_05green00000008.txt ./datas/training/valid/transform\\labels\\transformwb_05green00000008.txt\n",
      "./datas/yolo/transform\\JPEGImages\\transformwb_03white00000095.jpg ./datas/training/valid/transform\\images\\transformwb_03white00000095.jpg\n",
      "./datas/yolo/transform\\Labels\\transformwb_03white00000095.txt ./datas/training/valid/transform\\labels\\transformwb_03white00000095.txt\n",
      "./datas/yolo/transform\\JPEGImages\\transformwb_01yellow00000012.jpg ./datas/training/valid/transform\\images\\transformwb_01yellow00000012.jpg\n",
      "./datas/yolo/transform\\Labels\\transformwb_01yellow00000012.txt ./datas/training/valid/transform\\labels\\transformwb_01yellow00000012.txt\n",
      "./datas/yolo/transform\\JPEGImages\\transformwb_01yellow00000029.jpg ./datas/training/valid/transform\\images\\transformwb_01yellow00000029.jpg\n",
      "./datas/yolo/transform\\Labels\\transformwb_01yellow00000029.txt ./datas/training/valid/transform\\labels\\transformwb_01yellow00000029.txt\n",
      "./datas/yolo/transform\\JPEGImages\\transformwb_03white00000001.jpg ./datas/training/valid/transform\\images\\transformwb_03white00000001.jpg\n",
      "./datas/yolo/transform\\Labels\\transformwb_03white00000001.txt ./datas/training/valid/transform\\labels\\transformwb_03white00000001.txt\n",
      "./datas/yolo/transform\\JPEGImages\\transformwb_05green00000004.jpg ./datas/training/valid/transform\\images\\transformwb_05green00000004.jpg\n",
      "./datas/yolo/transform\\Labels\\transformwb_05green00000004.txt ./datas/training/valid/transform\\labels\\transformwb_05green00000004.txt\n",
      "./datas/yolo/transform\\JPEGImages\\transformwb_05green00000033.jpg ./datas/training/valid/transform\\images\\transformwb_05green00000033.jpg\n",
      "./datas/yolo/transform\\Labels\\transformwb_05green00000033.txt ./datas/training/valid/transform\\labels\\transformwb_05green00000033.txt\n",
      "done\n"
     ]
    }
   ],
   "source": [
    "# 將資料切分成訓練集合驗證集\n",
    "\n",
    "img_source_dir = \"JPEGImages\"\n",
    "label_source_dir = \"Labels\"\n",
    "\n",
    "data_path = \"./datas/yolo/base\"\n",
    "train_path = \"./datas/training/train/base\"\n",
    "valid_path = \"./datas/training/valid/base\"\n",
    "\n",
    "split_data.split(data_path,train_path,valid_path,img_source_dir,label_source_dir)\n",
    "\n",
    "data_path = \"./datas/yolo/transform\"\n",
    "train_path = \"./datas/training/train/transform\"\n",
    "valid_path = \"./datas/training/valid/transform\"\n",
    "\n",
    "split_data.split(data_path,train_path,valid_path,img_source_dir,label_source_dir)"
   ]
  },
  {
   "cell_type": "code",
   "execution_count": 12,
   "metadata": {},
   "outputs": [
    {
     "name": "stdout",
     "output_type": "stream",
     "text": [
      "資料夾檔案合併完成： ./datasets/custom/valid/labels\n"
     ]
    }
   ],
   "source": [
    "# 將資料集資料整合並放到模型訓練預設位置\n",
    "\n",
    "output_folder = \"./datasets/custom/train/images\"\n",
    "first_folder = \"./datas/training/train/base/images\"\n",
    "second_folder = \"./datas/training/train/transform/images\"\n",
    "\n",
    "tool.merge_dir_data(first_folder,second_folder,output_folder)\n",
    "\n",
    "output_folder = \"./datasets/custom/train/labels\"\n",
    "first_folder = \"./datas/training/train/base/labels\"\n",
    "second_folder = \"./datas/training/train/transform/labels\"\n",
    "\n",
    "tool.merge_dir_data(first_folder,second_folder,output_folder)\n",
    "\n",
    "output_folder = \"./datasets/custom/valid/images\"\n",
    "first_folder = \"./datas/training/valid/base/images\"\n",
    "second_folder = \"./datas/training/valid/transform/images\"\n",
    "\n",
    "tool.merge_dir_data(first_folder,second_folder,output_folder)\n",
    "\n",
    "output_folder = \"./datasets/custom/valid/labels\"\n",
    "first_folder = \"./datas/training/valid/base/labels\"\n",
    "second_folder = \"./datas/training/valid/transform/labels\"\n",
    "\n",
    "tool.merge_dir_data(first_folder,second_folder,output_folder)\n",
    "\n"
   ]
  },
  {
   "cell_type": "code",
   "execution_count": 13,
   "metadata": {},
   "outputs": [
    {
     "name": "stdout",
     "output_type": "stream",
     "text": [
      "標籤處理完成: ./datasets/custom/train/labels\\transformwb_01yellow00000000.txt\n",
      "標籤處理完成: ./datasets/custom/train/labels\\transformwb_01yellow00000001.txt\n",
      "標籤處理完成: ./datasets/custom/train/labels\\transformwb_01yellow00000002.txt\n",
      "標籤處理完成: ./datasets/custom/train/labels\\transformwb_01yellow00000003.txt\n",
      "標籤處理完成: ./datasets/custom/train/labels\\transformwb_01yellow00000004.txt\n",
      "標籤處理完成: ./datasets/custom/train/labels\\transformwb_01yellow00000005.txt\n",
      "標籤處理完成: ./datasets/custom/train/labels\\transformwb_01yellow00000006.txt\n",
      "標籤處理完成: ./datasets/custom/train/labels\\transformwb_01yellow00000007.txt\n",
      "標籤處理完成: ./datasets/custom/train/labels\\transformwb_01yellow00000008.txt\n",
      "標籤處理完成: ./datasets/custom/train/labels\\transformwb_01yellow00000009.txt\n",
      "標籤處理完成: ./datasets/custom/train/labels\\transformwb_01yellow00000010.txt\n",
      "標籤處理完成: ./datasets/custom/train/labels\\transformwb_01yellow00000011.txt\n",
      "標籤處理完成: ./datasets/custom/train/labels\\transformwb_01yellow00000013.txt\n",
      "標籤處理完成: ./datasets/custom/train/labels\\transformwb_01yellow00000014.txt\n",
      "標籤處理完成: ./datasets/custom/train/labels\\transformwb_01yellow00000015.txt\n",
      "標籤處理完成: ./datasets/custom/train/labels\\transformwb_01yellow00000016.txt\n",
      "標籤處理完成: ./datasets/custom/train/labels\\transformwb_01yellow00000017.txt\n",
      "標籤處理完成: ./datasets/custom/train/labels\\transformwb_01yellow00000019.txt\n",
      "標籤處理完成: ./datasets/custom/train/labels\\transformwb_01yellow00000028.txt\n",
      "標籤處理完成: ./datasets/custom/train/labels\\transformwb_01yellow00000030.txt\n",
      "標籤處理完成: ./datasets/custom/train/labels\\transformwb_01yellow00000031.txt\n",
      "標籤處理完成: ./datasets/custom/train/labels\\transformwb_01yellow00000032.txt\n",
      "標籤處理完成: ./datasets/custom/train/labels\\transformwb_03white00000000.txt\n",
      "標籤處理完成: ./datasets/custom/train/labels\\transformwb_03white00000002.txt\n",
      "標籤處理完成: ./datasets/custom/train/labels\\transformwb_03white00000003.txt\n",
      "標籤處理完成: ./datasets/custom/train/labels\\transformwb_03white00000004.txt\n",
      "標籤處理完成: ./datasets/custom/train/labels\\transformwb_03white00000008.txt\n",
      "標籤處理完成: ./datasets/custom/train/labels\\transformwb_03white00000009.txt\n",
      "標籤處理完成: ./datasets/custom/train/labels\\transformwb_03white00000010.txt\n",
      "標籤處理完成: ./datasets/custom/train/labels\\transformwb_03white00000011.txt\n",
      "標籤處理完成: ./datasets/custom/train/labels\\transformwb_03white00000091.txt\n",
      "標籤處理完成: ./datasets/custom/train/labels\\transformwb_03white00000092.txt\n",
      "標籤處理完成: ./datasets/custom/train/labels\\transformwb_03white00000093.txt\n",
      "標籤處理完成: ./datasets/custom/train/labels\\transformwb_03white00000094.txt\n",
      "標籤處理完成: ./datasets/custom/train/labels\\transformwb_05green00000002.txt\n",
      "標籤處理完成: ./datasets/custom/train/labels\\transformwb_05green00000003.txt\n",
      "標籤處理完成: ./datasets/custom/train/labels\\transformwb_05green00000005.txt\n",
      "標籤處理完成: ./datasets/custom/train/labels\\transformwb_05green00000006.txt\n",
      "標籤處理完成: ./datasets/custom/train/labels\\transformwb_05green00000010.txt\n",
      "標籤處理完成: ./datasets/custom/train/labels\\transformwb_05green00000014.txt\n",
      "標籤處理完成: ./datasets/custom/train/labels\\transformwb_05green00000015.txt\n",
      "標籤處理完成: ./datasets/custom/train/labels\\transformwb_05green00000016.txt\n",
      "標籤處理完成: ./datasets/custom/train/labels\\transformwb_05green00000031.txt\n",
      "標籤處理完成: ./datasets/custom/train/labels\\transformwb_05green00000032.txt\n",
      "標籤處理完成: ./datasets/custom/train/labels\\wb_01yellow00000000.txt\n",
      "標籤處理完成: ./datasets/custom/train/labels\\wb_01yellow00000001.txt\n",
      "標籤處理完成: ./datasets/custom/train/labels\\wb_01yellow00000003.txt\n",
      "標籤處理完成: ./datasets/custom/train/labels\\wb_01yellow00000004.txt\n",
      "標籤處理完成: ./datasets/custom/train/labels\\wb_01yellow00000007.txt\n",
      "標籤處理完成: ./datasets/custom/train/labels\\wb_01yellow00000008.txt\n",
      "標籤處理完成: ./datasets/custom/train/labels\\wb_01yellow00000009.txt\n",
      "標籤處理完成: ./datasets/custom/train/labels\\wb_01yellow00000010.txt\n",
      "標籤處理完成: ./datasets/custom/train/labels\\wb_01yellow00000011.txt\n",
      "標籤處理完成: ./datasets/custom/train/labels\\wb_01yellow00000012.txt\n",
      "標籤處理完成: ./datasets/custom/train/labels\\wb_01yellow00000013.txt\n",
      "標籤處理完成: ./datasets/custom/train/labels\\wb_01yellow00000014.txt\n",
      "標籤處理完成: ./datasets/custom/train/labels\\wb_01yellow00000016.txt\n",
      "標籤處理完成: ./datasets/custom/train/labels\\wb_01yellow00000017.txt\n",
      "標籤處理完成: ./datasets/custom/train/labels\\wb_01yellow00000018.txt\n",
      "標籤處理完成: ./datasets/custom/train/labels\\wb_01yellow00000019.txt\n",
      "標籤處理完成: ./datasets/custom/train/labels\\wb_01yellow00000028.txt\n",
      "標籤處理完成: ./datasets/custom/train/labels\\wb_01yellow00000029.txt\n",
      "標籤處理完成: ./datasets/custom/train/labels\\wb_01yellow00000030.txt\n",
      "標籤處理完成: ./datasets/custom/train/labels\\wb_01yellow00000032.txt\n",
      "標籤處理完成: ./datasets/custom/train/labels\\wb_03white00000000.txt\n",
      "標籤處理完成: ./datasets/custom/train/labels\\wb_03white00000001.txt\n",
      "標籤處理完成: ./datasets/custom/train/labels\\wb_03white00000002.txt\n",
      "標籤處理完成: ./datasets/custom/train/labels\\wb_03white00000003.txt\n",
      "標籤處理完成: ./datasets/custom/train/labels\\wb_03white00000004.txt\n",
      "標籤處理完成: ./datasets/custom/train/labels\\wb_03white00000008.txt\n",
      "標籤處理完成: ./datasets/custom/train/labels\\wb_03white00000009.txt\n",
      "標籤處理完成: ./datasets/custom/train/labels\\wb_03white00000011.txt\n",
      "標籤處理完成: ./datasets/custom/train/labels\\wb_03white00000092.txt\n",
      "標籤處理完成: ./datasets/custom/train/labels\\wb_03white00000093.txt\n",
      "標籤處理完成: ./datasets/custom/train/labels\\wb_03white00000094.txt\n",
      "標籤處理完成: ./datasets/custom/train/labels\\wb_05green00000002.txt\n",
      "標籤處理完成: ./datasets/custom/train/labels\\wb_05green00000003.txt\n",
      "標籤處理完成: ./datasets/custom/train/labels\\wb_05green00000005.txt\n",
      "標籤處理完成: ./datasets/custom/train/labels\\wb_05green00000007.txt\n",
      "標籤處理完成: ./datasets/custom/train/labels\\wb_05green00000008.txt\n",
      "標籤處理完成: ./datasets/custom/train/labels\\wb_05green00000009.txt\n",
      "標籤處理完成: ./datasets/custom/train/labels\\wb_05green00000010.txt\n",
      "標籤處理完成: ./datasets/custom/train/labels\\wb_05green00000014.txt\n",
      "標籤處理完成: ./datasets/custom/train/labels\\wb_05green00000015.txt\n",
      "標籤處理完成: ./datasets/custom/train/labels\\wb_05green00000016.txt\n",
      "標籤處理完成: ./datasets/custom/train/labels\\wb_05green00000032.txt\n",
      "標籤處理完成: ./datasets/custom/train/labels\\wb_05green00000033.txt\n",
      "標籤處理完成: ./datasets/custom/train/labels\\wb_05green00000034.txt\n",
      "標籤處理完成: ./datasets/custom/valid/labels\\transformwb_01yellow00000012.txt\n",
      "標籤處理完成: ./datasets/custom/valid/labels\\transformwb_01yellow00000018.txt\n",
      "標籤處理完成: ./datasets/custom/valid/labels\\transformwb_01yellow00000029.txt\n",
      "標籤處理完成: ./datasets/custom/valid/labels\\transformwb_03white00000001.txt\n",
      "標籤處理完成: ./datasets/custom/valid/labels\\transformwb_03white00000095.txt\n",
      "標籤處理完成: ./datasets/custom/valid/labels\\transformwb_05green00000004.txt\n",
      "標籤處理完成: ./datasets/custom/valid/labels\\transformwb_05green00000007.txt\n",
      "標籤處理完成: ./datasets/custom/valid/labels\\transformwb_05green00000008.txt\n",
      "標籤處理完成: ./datasets/custom/valid/labels\\transformwb_05green00000009.txt\n",
      "標籤處理完成: ./datasets/custom/valid/labels\\transformwb_05green00000033.txt\n",
      "標籤處理完成: ./datasets/custom/valid/labels\\transformwb_05green00000034.txt\n",
      "標籤處理完成: ./datasets/custom/valid/labels\\wb_01yellow00000002.txt\n",
      "標籤處理完成: ./datasets/custom/valid/labels\\wb_01yellow00000005.txt\n",
      "標籤處理完成: ./datasets/custom/valid/labels\\wb_01yellow00000006.txt\n",
      "標籤處理完成: ./datasets/custom/valid/labels\\wb_01yellow00000015.txt\n",
      "標籤處理完成: ./datasets/custom/valid/labels\\wb_01yellow00000031.txt\n",
      "標籤處理完成: ./datasets/custom/valid/labels\\wb_03white00000010.txt\n",
      "標籤處理完成: ./datasets/custom/valid/labels\\wb_03white00000091.txt\n",
      "標籤處理完成: ./datasets/custom/valid/labels\\wb_03white00000095.txt\n",
      "標籤處理完成: ./datasets/custom/valid/labels\\wb_05green00000004.txt\n",
      "標籤處理完成: ./datasets/custom/valid/labels\\wb_05green00000006.txt\n",
      "標籤處理完成: ./datasets/custom/valid/labels\\wb_05green00000031.txt\n"
     ]
    }
   ],
   "source": [
    "# 將labels的坐標標準化\n",
    "\n",
    "image_dir = \"./datasets/custom/train/images\"\n",
    "label_dir = \"./datasets/custom/train/labels\"\n",
    "output_dir = \"./datasets/custom/train/labels\"\n",
    "\n",
    "tool.process_labels(image_dir,label_dir,output_dir)\n",
    "\n",
    "image_dir = \"./datasets/custom/valid/images\"\n",
    "label_dir = \"./datasets/custom/valid/labels\"\n",
    "output_dir = \"./datasets/custom/valid/labels\"\n",
    "\n",
    "tool.process_labels(image_dir,label_dir,output_dir)"
   ]
  },
  {
   "cell_type": "code",
   "execution_count": 15,
   "metadata": {},
   "outputs": [
    {
     "name": "stdout",
     "output_type": "stream",
     "text": [
      "\n",
      "                   from  n    params  module                                       arguments                     \n",
      "  0                  -1  1       464  ultralytics.nn.modules.conv.Conv             [3, 16, 3, 2]                 \n",
      "  1                  -1  1      4672  ultralytics.nn.modules.conv.Conv             [16, 32, 3, 2]                \n",
      "  2                  -1  1      7360  ultralytics.nn.modules.block.C2f             [32, 32, 1, True]             \n",
      "  3                  -1  1     18560  ultralytics.nn.modules.conv.Conv             [32, 64, 3, 2]                \n",
      "  4                  -1  2     49664  ultralytics.nn.modules.block.C2f             [64, 64, 2, True]             \n",
      "  5                  -1  1     73984  ultralytics.nn.modules.conv.Conv             [64, 128, 3, 2]               \n",
      "  6                  -1  2    197632  ultralytics.nn.modules.block.C2f             [128, 128, 2, True]           \n",
      "  7                  -1  1    295424  ultralytics.nn.modules.conv.Conv             [128, 256, 3, 2]              \n",
      "  8                  -1  1    460288  ultralytics.nn.modules.block.C2f             [256, 256, 1, True]           \n",
      "  9                  -1  1    164608  ultralytics.nn.modules.block.SPPF            [256, 256, 5]                 \n",
      " 10                  -1  1         0  torch.nn.modules.upsampling.Upsample         [None, 2, 'nearest']          \n",
      " 11             [-1, 6]  1         0  ultralytics.nn.modules.conv.Concat           [1]                           \n",
      " 12                  -1  1    148224  ultralytics.nn.modules.block.C2f             [384, 128, 1]                 \n",
      " 13                  -1  1         0  torch.nn.modules.upsampling.Upsample         [None, 2, 'nearest']          \n",
      " 14             [-1, 4]  1         0  ultralytics.nn.modules.conv.Concat           [1]                           \n",
      " 15                  -1  1     37248  ultralytics.nn.modules.block.C2f             [192, 64, 1]                  \n",
      " 16                  -1  1     36992  ultralytics.nn.modules.conv.Conv             [64, 64, 3, 2]                \n",
      " 17            [-1, 12]  1         0  ultralytics.nn.modules.conv.Concat           [1]                           \n",
      " 18                  -1  1    123648  ultralytics.nn.modules.block.C2f             [192, 128, 1]                 \n",
      " 19                  -1  1    147712  ultralytics.nn.modules.conv.Conv             [128, 128, 3, 2]              \n",
      " 20             [-1, 9]  1         0  ultralytics.nn.modules.conv.Concat           [1]                           \n",
      " 21                  -1  1    493056  ultralytics.nn.modules.block.C2f             [384, 256, 1]                 \n",
      " 22        [15, 18, 21]  1   1150432  ultralytics.nn.modules.head.Segment          [80, 32, 64, [64, 128, 256]]  \n",
      "YOLOv8n-seg summary: 261 layers, 3409968 parameters, 3409952 gradients, 12.8 GFLOPs\n",
      "\n",
      "Transferred 355/417 items from pretrained weights\n",
      "start training\n",
      "New https://pypi.org/project/ultralytics/8.1.3 available 😃 Update with 'pip install -U ultralytics'\n",
      "Ultralytics YOLOv8.0.232 🚀 Python-3.10.5 torch-2.1.1+cu118 CUDA:0 (NVIDIA GeForce RTX 3060, 12288MiB)\n",
      "\u001b[34m\u001b[1mengine\\trainer: \u001b[0mtask=segment, mode=train, model=yolov8n-seg.yaml, data=./data.yaml, epochs=150, time=None, patience=50, batch=16, imgsz=640, save=True, save_period=-1, cache=False, device=None, workers=8, project=None, name=train, exist_ok=False, pretrained=True, optimizer=auto, verbose=True, seed=0, deterministic=True, single_cls=False, rect=False, cos_lr=False, close_mosaic=10, resume=False, amp=True, fraction=1.0, profile=False, freeze=None, overlap_mask=True, mask_ratio=4, dropout=0.0, val=True, split=val, save_json=False, save_hybrid=False, conf=None, iou=0.7, max_det=300, half=False, dnn=False, plots=True, source=None, vid_stride=1, stream_buffer=False, visualize=False, augment=False, agnostic_nms=False, classes=None, retina_masks=False, embed=None, show=False, save_frames=False, save_txt=False, save_conf=False, save_crop=False, show_labels=True, show_conf=True, show_boxes=True, line_width=None, format=torchscript, keras=False, optimize=False, int8=False, dynamic=False, simplify=False, opset=None, workspace=4, nms=False, lr0=0.01, lrf=0.01, momentum=0.937, weight_decay=0.0005, warmup_epochs=3.0, warmup_momentum=0.8, warmup_bias_lr=0.1, box=7.5, cls=0.5, dfl=1.5, pose=12.0, kobj=1.0, label_smoothing=0.0, nbs=64, hsv_h=0.015, hsv_s=0.7, hsv_v=0.4, degrees=0.0, translate=0.1, scale=0.5, shear=0.0, perspective=0.0, flipud=0.0, fliplr=0.5, mosaic=1.0, mixup=0.0, copy_paste=0.0, cfg=None, tracker=botsort.yaml, save_dir=runs\\segment\\train\n",
      "Overriding model.yaml nc=80 with nc=4\n",
      "\n",
      "                   from  n    params  module                                       arguments                     \n",
      "  0                  -1  1       464  ultralytics.nn.modules.conv.Conv             [3, 16, 3, 2]                 \n",
      "  1                  -1  1      4672  ultralytics.nn.modules.conv.Conv             [16, 32, 3, 2]                \n",
      "  2                  -1  1      7360  ultralytics.nn.modules.block.C2f             [32, 32, 1, True]             \n",
      "  3                  -1  1     18560  ultralytics.nn.modules.conv.Conv             [32, 64, 3, 2]                \n",
      "  4                  -1  2     49664  ultralytics.nn.modules.block.C2f             [64, 64, 2, True]             \n",
      "  5                  -1  1     73984  ultralytics.nn.modules.conv.Conv             [64, 128, 3, 2]               \n",
      "  6                  -1  2    197632  ultralytics.nn.modules.block.C2f             [128, 128, 2, True]           \n",
      "  7                  -1  1    295424  ultralytics.nn.modules.conv.Conv             [128, 256, 3, 2]              \n",
      "  8                  -1  1    460288  ultralytics.nn.modules.block.C2f             [256, 256, 1, True]           \n",
      "  9                  -1  1    164608  ultralytics.nn.modules.block.SPPF            [256, 256, 5]                 \n",
      " 10                  -1  1         0  torch.nn.modules.upsampling.Upsample         [None, 2, 'nearest']          \n",
      " 11             [-1, 6]  1         0  ultralytics.nn.modules.conv.Concat           [1]                           \n",
      " 12                  -1  1    148224  ultralytics.nn.modules.block.C2f             [384, 128, 1]                 \n",
      " 13                  -1  1         0  torch.nn.modules.upsampling.Upsample         [None, 2, 'nearest']          \n",
      " 14             [-1, 4]  1         0  ultralytics.nn.modules.conv.Concat           [1]                           \n",
      " 15                  -1  1     37248  ultralytics.nn.modules.block.C2f             [192, 64, 1]                  \n",
      " 16                  -1  1     36992  ultralytics.nn.modules.conv.Conv             [64, 64, 3, 2]                \n",
      " 17            [-1, 12]  1         0  ultralytics.nn.modules.conv.Concat           [1]                           \n",
      " 18                  -1  1    123648  ultralytics.nn.modules.block.C2f             [192, 128, 1]                 \n",
      " 19                  -1  1    147712  ultralytics.nn.modules.conv.Conv             [128, 128, 3, 2]              \n",
      " 20             [-1, 9]  1         0  ultralytics.nn.modules.conv.Concat           [1]                           \n",
      " 21                  -1  1    493056  ultralytics.nn.modules.block.C2f             [384, 256, 1]                 \n",
      " 22        [15, 18, 21]  1   1004860  ultralytics.nn.modules.head.Segment          [4, 32, 64, [64, 128, 256]]   \n",
      "YOLOv8n-seg summary: 261 layers, 3264396 parameters, 3264380 gradients, 12.1 GFLOPs\n",
      "\n",
      "Transferred 381/417 items from pretrained weights\n",
      "Freezing layer 'model.22.dfl.conv.weight'\n",
      "\u001b[34m\u001b[1mAMP: \u001b[0mrunning Automatic Mixed Precision (AMP) checks with YOLOv8n...\n",
      "\u001b[34m\u001b[1mAMP: \u001b[0mchecks passed ✅\n"
     ]
    },
    {
     "name": "stderr",
     "output_type": "stream",
     "text": [
      "train: Scanning C:\\Users\\ggoch2\\Desktop\\Yolov8\\datasets\\custom\\train\\labels.cache... 88 images, 0 backgrounds, 0 corrupt: 100%|██████████| 88/88 [00:00<?, ?it/s]Scanning C:\\Users\\ggoch2\\Desktop\\Yolov8\\datasets\\custom\\train\\labels.cache... 88 images, 0 backgrounds, 0 corrupt: 100%|██████████| 88/88 [00:00<?, ?it/s]\n"
     ]
    },
    {
     "name": "stdout",
     "output_type": "stream",
     "text": [
      "\u001b[34m\u001b[1malbumentations: \u001b[0mBlur(p=0.01, blur_limit=(3, 7)), MedianBlur(p=0.01, blur_limit=(3, 7)), ToGray(p=0.01), CLAHE(p=0.01, clip_limit=(1, 4.0), tile_grid_size=(8, 8))\n"
     ]
    },
    {
     "name": "stderr",
     "output_type": "stream",
     "text": [
      "val: Scanning C:\\Users\\ggoch2\\Desktop\\Yolov8\\datasets\\custom\\valid\\labels.cache... 22 images, 1 backgrounds, 0 corrupt: 100%|██████████| 22/22 [00:00<?, ?it/s]Scanning C:\\Users\\ggoch2\\Desktop\\Yolov8\\datasets\\custom\\valid\\labels.cache... 22 images, 1 backgrounds, 0 corrupt: 100%|██████████| 22/22 [00:00<?, ?it/s]\n"
     ]
    },
    {
     "name": "stdout",
     "output_type": "stream",
     "text": [
      "Plotting labels to runs\\segment\\train\\labels.jpg... \n",
      "\u001b[34m\u001b[1moptimizer:\u001b[0m 'optimizer=auto' found, ignoring 'lr0=0.01' and 'momentum=0.937' and determining best 'optimizer', 'lr0' and 'momentum' automatically... \n",
      "\u001b[34m\u001b[1moptimizer:\u001b[0m AdamW(lr=0.00125, momentum=0.9) with parameter groups 66 weight(decay=0.0), 77 weight(decay=0.0005), 76 bias(decay=0.0)\n",
      "150 epochs...\n",
      "\n",
      "      Epoch    GPU_mem   box_loss   seg_loss   cls_loss   dfl_loss  Instances       Size\n"
     ]
    },
    {
     "name": "stderr",
     "output_type": "stream",
     "text": [
      "      1/150       3.1G      1.319      8.297       3.93      1.315         32        640: 100%|██████████| 6/6 [00:02<00:00,  2.77it/s]\n",
      "                 Class     Images  Instances      Box(P          R      mAP50  mAP50-95)     Mask(P          R      mAP50  mAP50-95): 100%|██████████| 1/1 [00:00<00:00,  2.79it/s]\n"
     ]
    },
    {
     "name": "stdout",
     "output_type": "stream",
     "text": [
      "                   all         22         46    0.00277      0.571     0.0503     0.0245    0.00232      0.465     0.0471      0.015\n",
      "\n",
      "      Epoch    GPU_mem   box_loss   seg_loss   cls_loss   dfl_loss  Instances       Size\n"
     ]
    },
    {
     "name": "stderr",
     "output_type": "stream",
     "text": [
      "      2/150      3.06G      1.274      6.616      3.865       1.28         44        640: 100%|██████████| 6/6 [00:01<00:00,  4.03it/s]\n",
      "                 Class     Images  Instances      Box(P          R      mAP50  mAP50-95)     Mask(P          R      mAP50  mAP50-95): 100%|██████████| 1/1 [00:00<00:00,  2.69it/s]\n"
     ]
    },
    {
     "name": "stdout",
     "output_type": "stream",
     "text": [
      "                   all         22         46    0.00379      0.529      0.106     0.0894    0.00352      0.475      0.102     0.0487\n",
      "\n",
      "      Epoch    GPU_mem   box_loss   seg_loss   cls_loss   dfl_loss  Instances       Size\n"
     ]
    },
    {
     "name": "stderr",
     "output_type": "stream",
     "text": [
      "      3/150      2.98G      1.152      5.129      3.551      1.194         27        640: 100%|██████████| 6/6 [00:01<00:00,  4.24it/s]\n",
      "                 Class     Images  Instances      Box(P          R      mAP50  mAP50-95)     Mask(P          R      mAP50  mAP50-95): 100%|██████████| 1/1 [00:00<00:00,  2.94it/s]\n"
     ]
    },
    {
     "name": "stdout",
     "output_type": "stream",
     "text": [
      "                   all         22         46     0.0055      0.689      0.149      0.114    0.00465      0.555      0.037     0.0109\n",
      "\n",
      "      Epoch    GPU_mem   box_loss   seg_loss   cls_loss   dfl_loss  Instances       Size\n"
     ]
    },
    {
     "name": "stderr",
     "output_type": "stream",
     "text": [
      "      4/150      2.97G      1.083      4.327      3.138      1.125         37        640: 100%|██████████| 6/6 [00:01<00:00,  4.47it/s]\n",
      "                 Class     Images  Instances      Box(P          R      mAP50  mAP50-95)     Mask(P          R      mAP50  mAP50-95): 100%|██████████| 1/1 [00:00<00:00,  2.84it/s]\n"
     ]
    },
    {
     "name": "stdout",
     "output_type": "stream",
     "text": [
      "                   all         22         46     0.0061       0.67       0.21       0.18     0.0043      0.477     0.0326    0.00728\n",
      "\n",
      "      Epoch    GPU_mem   box_loss   seg_loss   cls_loss   dfl_loss  Instances       Size\n"
     ]
    },
    {
     "name": "stderr",
     "output_type": "stream",
     "text": [
      "      5/150      2.93G      1.031      3.644      2.753      1.063         56        640: 100%|██████████| 6/6 [00:01<00:00,  4.54it/s]\n",
      "                 Class     Images  Instances      Box(P          R      mAP50  mAP50-95)     Mask(P          R      mAP50  mAP50-95): 100%|██████████| 1/1 [00:00<00:00,  2.84it/s]\n"
     ]
    },
    {
     "name": "stdout",
     "output_type": "stream",
     "text": [
      "                   all         22         46    0.00685      0.698       0.25      0.182    0.00544      0.569      0.103      0.035\n",
      "\n",
      "      Epoch    GPU_mem   box_loss   seg_loss   cls_loss   dfl_loss  Instances       Size\n"
     ]
    },
    {
     "name": "stderr",
     "output_type": "stream",
     "text": [
      "      6/150      3.08G      1.044      3.323      2.539      1.062         48        640: 100%|██████████| 6/6 [00:01<00:00,  4.40it/s]\n",
      "                 Class     Images  Instances      Box(P          R      mAP50  mAP50-95)     Mask(P          R      mAP50  mAP50-95): 100%|██████████| 1/1 [00:00<00:00,  2.45it/s]\n"
     ]
    },
    {
     "name": "stdout",
     "output_type": "stream",
     "text": [
      "                   all         22         46    0.00594      0.658      0.226      0.165    0.00537      0.607      0.148     0.0482\n",
      "\n",
      "      Epoch    GPU_mem   box_loss   seg_loss   cls_loss   dfl_loss  Instances       Size\n"
     ]
    },
    {
     "name": "stderr",
     "output_type": "stream",
     "text": [
      "      7/150       2.9G      1.037      3.246      2.332      1.083         52        640: 100%|██████████| 6/6 [00:01<00:00,  4.67it/s]\n",
      "                 Class     Images  Instances      Box(P          R      mAP50  mAP50-95)     Mask(P          R      mAP50  mAP50-95): 100%|██████████| 1/1 [00:00<00:00,  2.97it/s]\n"
     ]
    },
    {
     "name": "stdout",
     "output_type": "stream",
     "text": [
      "                   all         22         46      0.501      0.216      0.199       0.14      0.466      0.193      0.162     0.0745\n",
      "\n",
      "      Epoch    GPU_mem   box_loss   seg_loss   cls_loss   dfl_loss  Instances       Size\n"
     ]
    },
    {
     "name": "stderr",
     "output_type": "stream",
     "text": [
      "      8/150         3G      1.071      3.111      2.204      1.071         25        640: 100%|██████████| 6/6 [00:01<00:00,  4.49it/s]\n",
      "                 Class     Images  Instances      Box(P          R      mAP50  mAP50-95)     Mask(P          R      mAP50  mAP50-95): 100%|██████████| 1/1 [00:00<00:00,  3.09it/s]\n"
     ]
    },
    {
     "name": "stdout",
     "output_type": "stream",
     "text": [
      "                   all         22         46      0.654     0.0732      0.221      0.162      0.654     0.0732      0.221      0.101\n",
      "\n",
      "      Epoch    GPU_mem   box_loss   seg_loss   cls_loss   dfl_loss  Instances       Size\n"
     ]
    },
    {
     "name": "stderr",
     "output_type": "stream",
     "text": [
      "      9/150      2.98G      1.007      2.863      2.089      1.045         22        640: 100%|██████████| 6/6 [00:01<00:00,  4.59it/s]\n",
      "                 Class     Images  Instances      Box(P          R      mAP50  mAP50-95)     Mask(P          R      mAP50  mAP50-95): 100%|██████████| 1/1 [00:00<00:00,  3.17it/s]\n"
     ]
    },
    {
     "name": "stdout",
     "output_type": "stream",
     "text": [
      "                   all         22         46      0.669      0.119       0.27      0.168      0.635       0.11      0.233       0.13\n",
      "\n",
      "      Epoch    GPU_mem   box_loss   seg_loss   cls_loss   dfl_loss  Instances       Size\n"
     ]
    },
    {
     "name": "stderr",
     "output_type": "stream",
     "text": [
      "     10/150      2.91G      1.011      2.838       1.98      1.064         43        640: 100%|██████████| 6/6 [00:01<00:00,  4.82it/s]\n",
      "                 Class     Images  Instances      Box(P          R      mAP50  mAP50-95)     Mask(P          R      mAP50  mAP50-95): 100%|██████████| 1/1 [00:00<00:00,  3.08it/s]\n"
     ]
    },
    {
     "name": "stdout",
     "output_type": "stream",
     "text": [
      "                   all         22         46      0.648      0.175      0.261       0.16       0.62      0.162      0.232      0.136\n",
      "\n",
      "      Epoch    GPU_mem   box_loss   seg_loss   cls_loss   dfl_loss  Instances       Size\n"
     ]
    },
    {
     "name": "stderr",
     "output_type": "stream",
     "text": [
      "     11/150      3.01G     0.8957        2.5       1.74      1.015         32        640: 100%|██████████| 6/6 [00:01<00:00,  4.83it/s]\n",
      "                 Class     Images  Instances      Box(P          R      mAP50  mAP50-95)     Mask(P          R      mAP50  mAP50-95): 100%|██████████| 1/1 [00:00<00:00,  3.08it/s]\n"
     ]
    },
    {
     "name": "stdout",
     "output_type": "stream",
     "text": [
      "                   all         22         46      0.921      0.114      0.274      0.184      0.572      0.206      0.254      0.148\n",
      "\n",
      "      Epoch    GPU_mem   box_loss   seg_loss   cls_loss   dfl_loss  Instances       Size\n"
     ]
    },
    {
     "name": "stderr",
     "output_type": "stream",
     "text": [
      "     12/150      3.03G      1.014       2.59      1.871      1.092         38        640: 100%|██████████| 6/6 [00:01<00:00,  4.72it/s]\n",
      "                 Class     Images  Instances      Box(P          R      mAP50  mAP50-95)     Mask(P          R      mAP50  mAP50-95): 100%|██████████| 1/1 [00:00<00:00,  3.08it/s]\n"
     ]
    },
    {
     "name": "stdout",
     "output_type": "stream",
     "text": [
      "                   all         22         46      0.411      0.227      0.331      0.249      0.411      0.227      0.331       0.19\n",
      "\n",
      "      Epoch    GPU_mem   box_loss   seg_loss   cls_loss   dfl_loss  Instances       Size\n"
     ]
    },
    {
     "name": "stderr",
     "output_type": "stream",
     "text": [
      "     13/150      2.91G      0.989      2.461      1.817      1.086         41        640: 100%|██████████| 6/6 [00:01<00:00,  4.74it/s]\n",
      "                 Class     Images  Instances      Box(P          R      mAP50  mAP50-95)     Mask(P          R      mAP50  mAP50-95): 100%|██████████| 1/1 [00:00<00:00,  3.17it/s]\n"
     ]
    },
    {
     "name": "stdout",
     "output_type": "stream",
     "text": [
      "                   all         22         46      0.476      0.386      0.299      0.205      0.476      0.386      0.299      0.171\n",
      "\n",
      "      Epoch    GPU_mem   box_loss   seg_loss   cls_loss   dfl_loss  Instances       Size\n"
     ]
    },
    {
     "name": "stderr",
     "output_type": "stream",
     "text": [
      "     14/150      3.01G     0.9568      2.311      1.611      1.027         39        640: 100%|██████████| 6/6 [00:01<00:00,  4.82it/s]\n",
      "                 Class     Images  Instances      Box(P          R      mAP50  mAP50-95)     Mask(P          R      mAP50  mAP50-95): 100%|██████████| 1/1 [00:00<00:00,  3.09it/s]\n"
     ]
    },
    {
     "name": "stdout",
     "output_type": "stream",
     "text": [
      "                   all         22         46      0.501      0.212       0.28      0.212      0.501      0.212      0.259      0.182\n",
      "\n",
      "      Epoch    GPU_mem   box_loss   seg_loss   cls_loss   dfl_loss  Instances       Size\n"
     ]
    },
    {
     "name": "stderr",
     "output_type": "stream",
     "text": [
      "     15/150      2.96G       0.94      2.364      1.565      1.024         33        640: 100%|██████████| 6/6 [00:01<00:00,  4.88it/s]\n",
      "                 Class     Images  Instances      Box(P          R      mAP50  mAP50-95)     Mask(P          R      mAP50  mAP50-95): 100%|██████████| 1/1 [00:00<00:00,  3.23it/s]\n"
     ]
    },
    {
     "name": "stdout",
     "output_type": "stream",
     "text": [
      "                   all         22         46      0.492      0.288      0.259      0.213      0.492      0.288      0.259      0.182\n",
      "\n",
      "      Epoch    GPU_mem   box_loss   seg_loss   cls_loss   dfl_loss  Instances       Size\n"
     ]
    },
    {
     "name": "stderr",
     "output_type": "stream",
     "text": [
      "     16/150      2.92G     0.9512      2.209      1.533       1.03         34        640: 100%|██████████| 6/6 [00:01<00:00,  4.80it/s]\n",
      "                 Class     Images  Instances      Box(P          R      mAP50  mAP50-95)     Mask(P          R      mAP50  mAP50-95): 100%|██████████| 1/1 [00:00<00:00,  3.30it/s]\n"
     ]
    },
    {
     "name": "stdout",
     "output_type": "stream",
     "text": [
      "                   all         22         46      0.558      0.267      0.301      0.195      0.739      0.211       0.29      0.162\n",
      "\n",
      "      Epoch    GPU_mem   box_loss   seg_loss   cls_loss   dfl_loss  Instances       Size\n"
     ]
    },
    {
     "name": "stderr",
     "output_type": "stream",
     "text": [
      "     17/150      2.87G     0.9461      2.179      1.627      1.027         27        640: 100%|██████████| 6/6 [00:01<00:00,  4.98it/s]\n",
      "                 Class     Images  Instances      Box(P          R      mAP50  mAP50-95)     Mask(P          R      mAP50  mAP50-95): 100%|██████████| 1/1 [00:00<00:00,  3.10it/s]\n"
     ]
    },
    {
     "name": "stdout",
     "output_type": "stream",
     "text": [
      "                   all         22         46      0.379       0.34      0.223      0.129      0.379       0.34      0.209      0.111\n",
      "\n",
      "      Epoch    GPU_mem   box_loss   seg_loss   cls_loss   dfl_loss  Instances       Size\n"
     ]
    },
    {
     "name": "stderr",
     "output_type": "stream",
     "text": [
      "     18/150      3.04G     0.9456      2.121      1.536      1.006         39        640: 100%|██████████| 6/6 [00:01<00:00,  4.69it/s]\n",
      "                 Class     Images  Instances      Box(P          R      mAP50  mAP50-95)     Mask(P          R      mAP50  mAP50-95): 100%|██████████| 1/1 [00:00<00:00,  3.26it/s]\n"
     ]
    },
    {
     "name": "stdout",
     "output_type": "stream",
     "text": [
      "                   all         22         46      0.319      0.486      0.224      0.146      0.311      0.445      0.187      0.108\n",
      "\n",
      "      Epoch    GPU_mem   box_loss   seg_loss   cls_loss   dfl_loss  Instances       Size\n"
     ]
    },
    {
     "name": "stderr",
     "output_type": "stream",
     "text": [
      "     19/150      3.04G     0.9485      2.194      1.527      1.035         28        640: 100%|██████████| 6/6 [00:01<00:00,  4.94it/s]\n",
      "                 Class     Images  Instances      Box(P          R      mAP50  mAP50-95)     Mask(P          R      mAP50  mAP50-95): 100%|██████████| 1/1 [00:00<00:00,  3.23it/s]\n"
     ]
    },
    {
     "name": "stdout",
     "output_type": "stream",
     "text": [
      "                   all         22         46      0.326      0.561      0.279      0.183      0.321      0.497      0.214      0.113\n",
      "\n",
      "      Epoch    GPU_mem   box_loss   seg_loss   cls_loss   dfl_loss  Instances       Size\n"
     ]
    },
    {
     "name": "stderr",
     "output_type": "stream",
     "text": [
      "     20/150      2.95G     0.9546      2.081      1.398      1.033         72        640: 100%|██████████| 6/6 [00:01<00:00,  4.71it/s]\n",
      "                 Class     Images  Instances      Box(P          R      mAP50  mAP50-95)     Mask(P          R      mAP50  mAP50-95): 100%|██████████| 1/1 [00:00<00:00,  3.23it/s]\n"
     ]
    },
    {
     "name": "stdout",
     "output_type": "stream",
     "text": [
      "                   all         22         46       0.38      0.581      0.454      0.339      0.443        0.4      0.381      0.223\n",
      "\n",
      "      Epoch    GPU_mem   box_loss   seg_loss   cls_loss   dfl_loss  Instances       Size\n"
     ]
    },
    {
     "name": "stderr",
     "output_type": "stream",
     "text": [
      "     21/150      3.05G     0.8961      1.949      1.387      1.011         29        640: 100%|██████████| 6/6 [00:01<00:00,  4.88it/s]\n",
      "                 Class     Images  Instances      Box(P          R      mAP50  mAP50-95)     Mask(P          R      mAP50  mAP50-95): 100%|██████████| 1/1 [00:00<00:00,  3.21it/s]\n"
     ]
    },
    {
     "name": "stdout",
     "output_type": "stream",
     "text": [
      "                   all         22         46      0.575      0.449      0.471      0.369       0.45      0.377      0.326      0.203\n",
      "\n",
      "      Epoch    GPU_mem   box_loss   seg_loss   cls_loss   dfl_loss  Instances       Size\n"
     ]
    },
    {
     "name": "stderr",
     "output_type": "stream",
     "text": [
      "     22/150      2.97G      0.879      2.012      1.366     0.9793         28        640: 100%|██████████| 6/6 [00:01<00:00,  4.79it/s]\n",
      "                 Class     Images  Instances      Box(P          R      mAP50  mAP50-95)     Mask(P          R      mAP50  mAP50-95): 100%|██████████| 1/1 [00:00<00:00,  3.21it/s]\n"
     ]
    },
    {
     "name": "stdout",
     "output_type": "stream",
     "text": [
      "                   all         22         46      0.672      0.431      0.558      0.415      0.652      0.368      0.425      0.257\n",
      "\n",
      "      Epoch    GPU_mem   box_loss   seg_loss   cls_loss   dfl_loss  Instances       Size\n"
     ]
    },
    {
     "name": "stderr",
     "output_type": "stream",
     "text": [
      "     23/150         3G     0.8758      2.061      1.336      1.001         27        640: 100%|██████████| 6/6 [00:01<00:00,  4.93it/s]\n",
      "                 Class     Images  Instances      Box(P          R      mAP50  mAP50-95)     Mask(P          R      mAP50  mAP50-95): 100%|██████████| 1/1 [00:00<00:00,  3.13it/s]\n"
     ]
    },
    {
     "name": "stdout",
     "output_type": "stream",
     "text": [
      "                   all         22         46       0.43      0.524      0.488      0.341      0.492      0.476      0.366      0.219\n",
      "\n",
      "      Epoch    GPU_mem   box_loss   seg_loss   cls_loss   dfl_loss  Instances       Size\n"
     ]
    },
    {
     "name": "stderr",
     "output_type": "stream",
     "text": [
      "     24/150      3.05G     0.8789      2.008       1.24     0.9793         44        640: 100%|██████████| 6/6 [00:01<00:00,  4.79it/s]\n",
      "                 Class     Images  Instances      Box(P          R      mAP50  mAP50-95)     Mask(P          R      mAP50  mAP50-95): 100%|██████████| 1/1 [00:00<00:00,  3.18it/s]\n"
     ]
    },
    {
     "name": "stdout",
     "output_type": "stream",
     "text": [
      "                   all         22         46      0.618       0.46      0.494      0.326      0.618       0.46      0.456      0.271\n",
      "\n",
      "      Epoch    GPU_mem   box_loss   seg_loss   cls_loss   dfl_loss  Instances       Size\n"
     ]
    },
    {
     "name": "stderr",
     "output_type": "stream",
     "text": [
      "     25/150      2.98G      0.872      1.903      1.304     0.9891         37        640: 100%|██████████| 6/6 [00:01<00:00,  4.93it/s]\n",
      "                 Class     Images  Instances      Box(P          R      mAP50  mAP50-95)     Mask(P          R      mAP50  mAP50-95): 100%|██████████| 1/1 [00:00<00:00,  3.05it/s]\n"
     ]
    },
    {
     "name": "stdout",
     "output_type": "stream",
     "text": [
      "                   all         22         46      0.658      0.616      0.603      0.386       0.62      0.588      0.585      0.371\n",
      "\n",
      "      Epoch    GPU_mem   box_loss   seg_loss   cls_loss   dfl_loss  Instances       Size\n"
     ]
    },
    {
     "name": "stderr",
     "output_type": "stream",
     "text": [
      "     26/150      3.01G     0.8443      1.817       1.21     0.9605         50        640: 100%|██████████| 6/6 [00:01<00:00,  4.82it/s]\n",
      "                 Class     Images  Instances      Box(P          R      mAP50  mAP50-95)     Mask(P          R      mAP50  mAP50-95): 100%|██████████| 1/1 [00:00<00:00,  3.24it/s]\n"
     ]
    },
    {
     "name": "stdout",
     "output_type": "stream",
     "text": [
      "                   all         22         46      0.626      0.485      0.537      0.408      0.734      0.401      0.548      0.361\n",
      "\n",
      "      Epoch    GPU_mem   box_loss   seg_loss   cls_loss   dfl_loss  Instances       Size\n"
     ]
    },
    {
     "name": "stderr",
     "output_type": "stream",
     "text": [
      "     27/150         3G     0.8104      1.864      1.157     0.9555         46        640: 100%|██████████| 6/6 [00:01<00:00,  4.88it/s]\n",
      "                 Class     Images  Instances      Box(P          R      mAP50  mAP50-95)     Mask(P          R      mAP50  mAP50-95): 100%|██████████| 1/1 [00:00<00:00,  3.14it/s]\n"
     ]
    },
    {
     "name": "stdout",
     "output_type": "stream",
     "text": [
      "                   all         22         46      0.775      0.452      0.545      0.374      0.749      0.447      0.529      0.353\n",
      "\n",
      "      Epoch    GPU_mem   box_loss   seg_loss   cls_loss   dfl_loss  Instances       Size\n"
     ]
    },
    {
     "name": "stderr",
     "output_type": "stream",
     "text": [
      "     28/150      2.99G     0.8393      1.688      1.173     0.9586         36        640: 100%|██████████| 6/6 [00:01<00:00,  4.79it/s]\n",
      "                 Class     Images  Instances      Box(P          R      mAP50  mAP50-95)     Mask(P          R      mAP50  mAP50-95): 100%|██████████| 1/1 [00:00<00:00,  3.14it/s]\n"
     ]
    },
    {
     "name": "stdout",
     "output_type": "stream",
     "text": [
      "                   all         22         46      0.577      0.629      0.538      0.366      0.484      0.617      0.516      0.319\n",
      "\n",
      "      Epoch    GPU_mem   box_loss   seg_loss   cls_loss   dfl_loss  Instances       Size\n"
     ]
    },
    {
     "name": "stderr",
     "output_type": "stream",
     "text": [
      "     29/150      3.04G     0.8402      1.831      1.117     0.9591         39        640: 100%|██████████| 6/6 [00:01<00:00,  5.03it/s]\n",
      "                 Class     Images  Instances      Box(P          R      mAP50  mAP50-95)     Mask(P          R      mAP50  mAP50-95): 100%|██████████| 1/1 [00:00<00:00,  3.13it/s]\n"
     ]
    },
    {
     "name": "stdout",
     "output_type": "stream",
     "text": [
      "                   all         22         46      0.608      0.602      0.607       0.43      0.607      0.591      0.585      0.386\n",
      "\n",
      "      Epoch    GPU_mem   box_loss   seg_loss   cls_loss   dfl_loss  Instances       Size\n"
     ]
    },
    {
     "name": "stderr",
     "output_type": "stream",
     "text": [
      "     30/150      2.96G     0.8524      1.783       1.12     0.9799         48        640: 100%|██████████| 6/6 [00:01<00:00,  4.79it/s]\n",
      "                 Class     Images  Instances      Box(P          R      mAP50  mAP50-95)     Mask(P          R      mAP50  mAP50-95): 100%|██████████| 1/1 [00:00<00:00,  3.23it/s]\n"
     ]
    },
    {
     "name": "stdout",
     "output_type": "stream",
     "text": [
      "                   all         22         46      0.866      0.539      0.652      0.467      0.847      0.536      0.604      0.415\n",
      "\n",
      "      Epoch    GPU_mem   box_loss   seg_loss   cls_loss   dfl_loss  Instances       Size\n"
     ]
    },
    {
     "name": "stderr",
     "output_type": "stream",
     "text": [
      "     31/150         3G     0.8938      1.966      1.214     0.9914         37        640: 100%|██████████| 6/6 [00:01<00:00,  4.95it/s]\n",
      "                 Class     Images  Instances      Box(P          R      mAP50  mAP50-95)     Mask(P          R      mAP50  mAP50-95): 100%|██████████| 1/1 [00:00<00:00,  3.16it/s]\n"
     ]
    },
    {
     "name": "stdout",
     "output_type": "stream",
     "text": [
      "                   all         22         46      0.768      0.549       0.66       0.48      0.733      0.543      0.607      0.406\n",
      "\n",
      "      Epoch    GPU_mem   box_loss   seg_loss   cls_loss   dfl_loss  Instances       Size\n"
     ]
    },
    {
     "name": "stderr",
     "output_type": "stream",
     "text": [
      "     32/150      3.02G     0.8196      1.745      1.127     0.9693         39        640: 100%|██████████| 6/6 [00:01<00:00,  4.78it/s]\n",
      "                 Class     Images  Instances      Box(P          R      mAP50  mAP50-95)     Mask(P          R      mAP50  mAP50-95): 100%|██████████| 1/1 [00:00<00:00,  3.29it/s]\n"
     ]
    },
    {
     "name": "stdout",
     "output_type": "stream",
     "text": [
      "                   all         22         46      0.769      0.647      0.705      0.485      0.672      0.625      0.645       0.44\n",
      "\n",
      "      Epoch    GPU_mem   box_loss   seg_loss   cls_loss   dfl_loss  Instances       Size\n"
     ]
    },
    {
     "name": "stderr",
     "output_type": "stream",
     "text": [
      "     33/150      2.92G     0.8372      1.699      1.106     0.9707         39        640: 100%|██████████| 6/6 [00:01<00:00,  4.89it/s]\n",
      "                 Class     Images  Instances      Box(P          R      mAP50  mAP50-95)     Mask(P          R      mAP50  mAP50-95): 100%|██████████| 1/1 [00:00<00:00,  3.15it/s]\n"
     ]
    },
    {
     "name": "stdout",
     "output_type": "stream",
     "text": [
      "                   all         22         46      0.655       0.67      0.668      0.466      0.584      0.676      0.627      0.434\n",
      "\n",
      "      Epoch    GPU_mem   box_loss   seg_loss   cls_loss   dfl_loss  Instances       Size\n"
     ]
    },
    {
     "name": "stderr",
     "output_type": "stream",
     "text": [
      "     34/150       3.1G      0.816      1.849      1.111     0.9629         33        640: 100%|██████████| 6/6 [00:01<00:00,  4.75it/s]\n",
      "                 Class     Images  Instances      Box(P          R      mAP50  mAP50-95)     Mask(P          R      mAP50  mAP50-95): 100%|██████████| 1/1 [00:00<00:00,  3.00it/s]\n"
     ]
    },
    {
     "name": "stdout",
     "output_type": "stream",
     "text": [
      "                   all         22         46      0.697      0.675        0.7      0.523      0.697      0.675      0.691      0.491\n",
      "\n",
      "      Epoch    GPU_mem   box_loss   seg_loss   cls_loss   dfl_loss  Instances       Size\n"
     ]
    },
    {
     "name": "stderr",
     "output_type": "stream",
     "text": [
      "     35/150      2.98G     0.8296       1.74      1.047     0.9614         44        640: 100%|██████████| 6/6 [00:01<00:00,  4.90it/s]\n",
      "                 Class     Images  Instances      Box(P          R      mAP50  mAP50-95)     Mask(P          R      mAP50  mAP50-95): 100%|██████████| 1/1 [00:00<00:00,  3.06it/s]\n"
     ]
    },
    {
     "name": "stdout",
     "output_type": "stream",
     "text": [
      "                   all         22         46      0.863      0.638      0.744      0.554      0.827      0.626       0.73      0.517\n",
      "\n",
      "      Epoch    GPU_mem   box_loss   seg_loss   cls_loss   dfl_loss  Instances       Size\n"
     ]
    },
    {
     "name": "stderr",
     "output_type": "stream",
     "text": [
      "     36/150      2.97G     0.7753      1.748      1.089     0.9395         24        640: 100%|██████████| 6/6 [00:01<00:00,  4.77it/s]\n",
      "                 Class     Images  Instances      Box(P          R      mAP50  mAP50-95)     Mask(P          R      mAP50  mAP50-95): 100%|██████████| 1/1 [00:00<00:00,  3.24it/s]\n"
     ]
    },
    {
     "name": "stdout",
     "output_type": "stream",
     "text": [
      "                   all         22         46      0.827      0.647       0.72      0.523      0.793      0.635      0.693      0.488\n",
      "\n",
      "      Epoch    GPU_mem   box_loss   seg_loss   cls_loss   dfl_loss  Instances       Size\n"
     ]
    },
    {
     "name": "stderr",
     "output_type": "stream",
     "text": [
      "     37/150      3.01G      0.827       1.67      1.105     0.9736         44        640: 100%|██████████| 6/6 [00:01<00:00,  4.88it/s]\n",
      "                 Class     Images  Instances      Box(P          R      mAP50  mAP50-95)     Mask(P          R      mAP50  mAP50-95): 100%|██████████| 1/1 [00:00<00:00,  3.12it/s]\n"
     ]
    },
    {
     "name": "stdout",
     "output_type": "stream",
     "text": [
      "                   all         22         46      0.779       0.62      0.685      0.495       0.75      0.607      0.657      0.452\n",
      "\n",
      "      Epoch    GPU_mem   box_loss   seg_loss   cls_loss   dfl_loss  Instances       Size\n"
     ]
    },
    {
     "name": "stderr",
     "output_type": "stream",
     "text": [
      "     38/150      2.92G     0.8007      1.661      1.114     0.9574         31        640: 100%|██████████| 6/6 [00:01<00:00,  4.78it/s]\n",
      "                 Class     Images  Instances      Box(P          R      mAP50  mAP50-95)     Mask(P          R      mAP50  mAP50-95): 100%|██████████| 1/1 [00:00<00:00,  3.26it/s]\n"
     ]
    },
    {
     "name": "stdout",
     "output_type": "stream",
     "text": [
      "                   all         22         46      0.657        0.6      0.703       0.54      0.618      0.575      0.671      0.478\n",
      "\n",
      "      Epoch    GPU_mem   box_loss   seg_loss   cls_loss   dfl_loss  Instances       Size\n"
     ]
    },
    {
     "name": "stderr",
     "output_type": "stream",
     "text": [
      "     39/150      2.99G      0.798        1.7       1.06     0.9744         47        640: 100%|██████████| 6/6 [00:01<00:00,  4.91it/s]\n",
      "                 Class     Images  Instances      Box(P          R      mAP50  mAP50-95)     Mask(P          R      mAP50  mAP50-95): 100%|██████████| 1/1 [00:00<00:00,  3.20it/s]\n"
     ]
    },
    {
     "name": "stdout",
     "output_type": "stream",
     "text": [
      "                   all         22         46      0.662      0.636      0.706      0.551       0.64      0.615      0.668      0.488\n",
      "\n",
      "      Epoch    GPU_mem   box_loss   seg_loss   cls_loss   dfl_loss  Instances       Size\n"
     ]
    },
    {
     "name": "stderr",
     "output_type": "stream",
     "text": [
      "     40/150      3.02G      0.742      1.581      0.986     0.9551         32        640: 100%|██████████| 6/6 [00:01<00:00,  4.82it/s]\n",
      "                 Class     Images  Instances      Box(P          R      mAP50  mAP50-95)     Mask(P          R      mAP50  mAP50-95): 100%|██████████| 1/1 [00:00<00:00,  3.15it/s]\n"
     ]
    },
    {
     "name": "stdout",
     "output_type": "stream",
     "text": [
      "                   all         22         46      0.703      0.764      0.766      0.581      0.659      0.677      0.699      0.519\n",
      "\n",
      "      Epoch    GPU_mem   box_loss   seg_loss   cls_loss   dfl_loss  Instances       Size\n"
     ]
    },
    {
     "name": "stderr",
     "output_type": "stream",
     "text": [
      "     41/150       2.9G     0.7392      1.463      0.963     0.9411         21        640: 100%|██████████| 6/6 [00:01<00:00,  4.92it/s]\n",
      "                 Class     Images  Instances      Box(P          R      mAP50  mAP50-95)     Mask(P          R      mAP50  mAP50-95): 100%|██████████| 1/1 [00:00<00:00,  3.15it/s]\n"
     ]
    },
    {
     "name": "stdout",
     "output_type": "stream",
     "text": [
      "                   all         22         46       0.79      0.706      0.775      0.599      0.701      0.668       0.71      0.524\n",
      "\n",
      "      Epoch    GPU_mem   box_loss   seg_loss   cls_loss   dfl_loss  Instances       Size\n"
     ]
    },
    {
     "name": "stderr",
     "output_type": "stream",
     "text": [
      "     42/150         3G     0.7586      1.617     0.9519     0.9287         36        640: 100%|██████████| 6/6 [00:01<00:00,  4.76it/s]\n",
      "                 Class     Images  Instances      Box(P          R      mAP50  mAP50-95)     Mask(P          R      mAP50  mAP50-95): 100%|██████████| 1/1 [00:00<00:00,  3.32it/s]\n"
     ]
    },
    {
     "name": "stdout",
     "output_type": "stream",
     "text": [
      "                   all         22         46        0.8      0.678      0.743      0.584      0.705      0.632      0.688      0.489\n",
      "\n",
      "      Epoch    GPU_mem   box_loss   seg_loss   cls_loss   dfl_loss  Instances       Size\n"
     ]
    },
    {
     "name": "stderr",
     "output_type": "stream",
     "text": [
      "     43/150      2.94G     0.7248      1.471      0.954     0.9388         26        640: 100%|██████████| 6/6 [00:01<00:00,  4.89it/s]\n",
      "                 Class     Images  Instances      Box(P          R      mAP50  mAP50-95)     Mask(P          R      mAP50  mAP50-95): 100%|██████████| 1/1 [00:00<00:00,  3.15it/s]\n"
     ]
    },
    {
     "name": "stdout",
     "output_type": "stream",
     "text": [
      "                   all         22         46      0.776      0.681      0.741      0.554      0.696      0.644      0.698        0.5\n",
      "\n",
      "      Epoch    GPU_mem   box_loss   seg_loss   cls_loss   dfl_loss  Instances       Size\n"
     ]
    },
    {
     "name": "stderr",
     "output_type": "stream",
     "text": [
      "     44/150      2.94G     0.7206      1.572     0.9195     0.9131         27        640: 100%|██████████| 6/6 [00:01<00:00,  4.80it/s]\n",
      "                 Class     Images  Instances      Box(P          R      mAP50  mAP50-95)     Mask(P          R      mAP50  mAP50-95): 100%|██████████| 1/1 [00:00<00:00,  3.31it/s]\n"
     ]
    },
    {
     "name": "stdout",
     "output_type": "stream",
     "text": [
      "                   all         22         46       0.78      0.672      0.725      0.545      0.749       0.66      0.707       0.49\n",
      "\n",
      "      Epoch    GPU_mem   box_loss   seg_loss   cls_loss   dfl_loss  Instances       Size\n"
     ]
    },
    {
     "name": "stderr",
     "output_type": "stream",
     "text": [
      "     45/150      2.97G     0.7123      1.365     0.9155      0.934         43        640: 100%|██████████| 6/6 [00:01<00:00,  4.88it/s]\n",
      "                 Class     Images  Instances      Box(P          R      mAP50  mAP50-95)     Mask(P          R      mAP50  mAP50-95): 100%|██████████| 1/1 [00:00<00:00,  3.15it/s]\n"
     ]
    },
    {
     "name": "stdout",
     "output_type": "stream",
     "text": [
      "                   all         22         46      0.919      0.627      0.759      0.563      0.919      0.627      0.743      0.518\n",
      "\n",
      "      Epoch    GPU_mem   box_loss   seg_loss   cls_loss   dfl_loss  Instances       Size\n"
     ]
    },
    {
     "name": "stderr",
     "output_type": "stream",
     "text": [
      "     46/150      3.03G     0.7303      1.477     0.9246     0.9578         23        640: 100%|██████████| 6/6 [00:01<00:00,  4.74it/s]\n",
      "                 Class     Images  Instances      Box(P          R      mAP50  mAP50-95)     Mask(P          R      mAP50  mAP50-95): 100%|██████████| 1/1 [00:00<00:00,  3.29it/s]\n"
     ]
    },
    {
     "name": "stdout",
     "output_type": "stream",
     "text": [
      "                   all         22         46      0.739      0.649      0.717      0.531      0.739      0.649      0.697      0.488\n",
      "\n",
      "      Epoch    GPU_mem   box_loss   seg_loss   cls_loss   dfl_loss  Instances       Size\n"
     ]
    },
    {
     "name": "stderr",
     "output_type": "stream",
     "text": [
      "     47/150      2.99G     0.7469      1.566     0.9023     0.9486         38        640: 100%|██████████| 6/6 [00:01<00:00,  4.92it/s]\n",
      "                 Class     Images  Instances      Box(P          R      mAP50  mAP50-95)     Mask(P          R      mAP50  mAP50-95): 100%|██████████| 1/1 [00:00<00:00,  3.31it/s]\n"
     ]
    },
    {
     "name": "stdout",
     "output_type": "stream",
     "text": [
      "                   all         22         46      0.675      0.685       0.69      0.503      0.627       0.66      0.638      0.464\n",
      "\n",
      "      Epoch    GPU_mem   box_loss   seg_loss   cls_loss   dfl_loss  Instances       Size\n"
     ]
    },
    {
     "name": "stderr",
     "output_type": "stream",
     "text": [
      "     48/150      3.05G     0.7592      1.693     0.9574     0.9575         37        640: 100%|██████████| 6/6 [00:01<00:00,  4.81it/s]\n",
      "                 Class     Images  Instances      Box(P          R      mAP50  mAP50-95)     Mask(P          R      mAP50  mAP50-95): 100%|██████████| 1/1 [00:00<00:00,  3.00it/s]\n"
     ]
    },
    {
     "name": "stdout",
     "output_type": "stream",
     "text": [
      "                   all         22         46      0.863      0.615      0.726      0.536      0.795      0.578      0.668      0.454\n",
      "\n",
      "      Epoch    GPU_mem   box_loss   seg_loss   cls_loss   dfl_loss  Instances       Size\n"
     ]
    },
    {
     "name": "stderr",
     "output_type": "stream",
     "text": [
      "     49/150      2.98G     0.7328      1.457     0.9363     0.9232         25        640: 100%|██████████| 6/6 [00:01<00:00,  5.00it/s]\n",
      "                 Class     Images  Instances      Box(P          R      mAP50  mAP50-95)     Mask(P          R      mAP50  mAP50-95): 100%|██████████| 1/1 [00:00<00:00,  3.15it/s]\n"
     ]
    },
    {
     "name": "stdout",
     "output_type": "stream",
     "text": [
      "                   all         22         46      0.834      0.608      0.728      0.522      0.765      0.583      0.674      0.443\n",
      "\n",
      "      Epoch    GPU_mem   box_loss   seg_loss   cls_loss   dfl_loss  Instances       Size\n"
     ]
    },
    {
     "name": "stderr",
     "output_type": "stream",
     "text": [
      "     50/150      2.89G     0.7396      1.479      0.946     0.9523         46        640: 100%|██████████| 6/6 [00:01<00:00,  4.76it/s]\n",
      "                 Class     Images  Instances      Box(P          R      mAP50  mAP50-95)     Mask(P          R      mAP50  mAP50-95): 100%|██████████| 1/1 [00:00<00:00,  3.30it/s]\n"
     ]
    },
    {
     "name": "stdout",
     "output_type": "stream",
     "text": [
      "                   all         22         46      0.868      0.659      0.771      0.544      0.799      0.634      0.729      0.467\n",
      "\n",
      "      Epoch    GPU_mem   box_loss   seg_loss   cls_loss   dfl_loss  Instances       Size\n"
     ]
    },
    {
     "name": "stderr",
     "output_type": "stream",
     "text": [
      "     51/150      2.94G     0.7275      1.515     0.8952     0.9362         56        640: 100%|██████████| 6/6 [00:01<00:00,  4.82it/s]\n",
      "                 Class     Images  Instances      Box(P          R      mAP50  mAP50-95)     Mask(P          R      mAP50  mAP50-95): 100%|██████████| 1/1 [00:00<00:00,  3.21it/s]\n"
     ]
    },
    {
     "name": "stdout",
     "output_type": "stream",
     "text": [
      "                   all         22         46       0.91      0.622      0.772      0.528      0.823      0.544      0.697       0.45\n",
      "\n",
      "      Epoch    GPU_mem   box_loss   seg_loss   cls_loss   dfl_loss  Instances       Size\n"
     ]
    },
    {
     "name": "stderr",
     "output_type": "stream",
     "text": [
      "     52/150      3.05G     0.7445      1.568     0.8978     0.9288         38        640: 100%|██████████| 6/6 [00:01<00:00,  4.73it/s]\n",
      "                 Class     Images  Instances      Box(P          R      mAP50  mAP50-95)     Mask(P          R      mAP50  mAP50-95): 100%|██████████| 1/1 [00:00<00:00,  3.22it/s]\n"
     ]
    },
    {
     "name": "stdout",
     "output_type": "stream",
     "text": [
      "                   all         22         46      0.762      0.632      0.725      0.506      0.634      0.576      0.638      0.439\n",
      "\n",
      "      Epoch    GPU_mem   box_loss   seg_loss   cls_loss   dfl_loss  Instances       Size\n"
     ]
    },
    {
     "name": "stderr",
     "output_type": "stream",
     "text": [
      "     53/150      3.01G     0.7257      1.462     0.8959     0.9309         36        640: 100%|██████████| 6/6 [00:01<00:00,  4.95it/s]\n",
      "                 Class     Images  Instances      Box(P          R      mAP50  mAP50-95)     Mask(P          R      mAP50  mAP50-95): 100%|██████████| 1/1 [00:00<00:00,  3.20it/s]\n"
     ]
    },
    {
     "name": "stdout",
     "output_type": "stream",
     "text": [
      "                   all         22         46      0.806      0.616      0.743      0.545      0.666      0.614      0.657      0.464\n",
      "\n",
      "      Epoch    GPU_mem   box_loss   seg_loss   cls_loss   dfl_loss  Instances       Size\n"
     ]
    },
    {
     "name": "stderr",
     "output_type": "stream",
     "text": [
      "     54/150      3.01G     0.7469      1.533     0.8513     0.9204         35        640: 100%|██████████| 6/6 [00:01<00:00,  4.75it/s]\n",
      "                 Class     Images  Instances      Box(P          R      mAP50  mAP50-95)     Mask(P          R      mAP50  mAP50-95): 100%|██████████| 1/1 [00:00<00:00,  3.12it/s]\n"
     ]
    },
    {
     "name": "stdout",
     "output_type": "stream",
     "text": [
      "                   all         22         46      0.897      0.677      0.799      0.588      0.868      0.649      0.742      0.517\n",
      "\n",
      "      Epoch    GPU_mem   box_loss   seg_loss   cls_loss   dfl_loss  Instances       Size\n"
     ]
    },
    {
     "name": "stderr",
     "output_type": "stream",
     "text": [
      "     55/150      3.01G     0.7265      1.528     0.8771     0.9255         50        640: 100%|██████████| 6/6 [00:01<00:00,  4.77it/s]\n",
      "                 Class     Images  Instances      Box(P          R      mAP50  mAP50-95)     Mask(P          R      mAP50  mAP50-95): 100%|██████████| 1/1 [00:00<00:00,  3.19it/s]\n"
     ]
    },
    {
     "name": "stdout",
     "output_type": "stream",
     "text": [
      "                   all         22         46      0.776       0.73      0.803      0.602      0.727      0.705       0.74      0.524\n",
      "\n",
      "      Epoch    GPU_mem   box_loss   seg_loss   cls_loss   dfl_loss  Instances       Size\n"
     ]
    },
    {
     "name": "stderr",
     "output_type": "stream",
     "text": [
      "     56/150         3G     0.7022      1.453     0.8825      0.926         37        640: 100%|██████████| 6/6 [00:01<00:00,  4.83it/s]\n",
      "                 Class     Images  Instances      Box(P          R      mAP50  mAP50-95)     Mask(P          R      mAP50  mAP50-95): 100%|██████████| 1/1 [00:00<00:00,  3.32it/s]\n"
     ]
    },
    {
     "name": "stdout",
     "output_type": "stream",
     "text": [
      "                   all         22         46      0.889      0.711      0.788      0.608      0.793      0.686      0.732      0.502\n",
      "\n",
      "      Epoch    GPU_mem   box_loss   seg_loss   cls_loss   dfl_loss  Instances       Size\n"
     ]
    },
    {
     "name": "stderr",
     "output_type": "stream",
     "text": [
      "     57/150      3.04G     0.7036      1.468     0.8038     0.9058         61        640: 100%|██████████| 6/6 [00:01<00:00,  4.90it/s]\n",
      "                 Class     Images  Instances      Box(P          R      mAP50  mAP50-95)     Mask(P          R      mAP50  mAP50-95): 100%|██████████| 1/1 [00:00<00:00,  3.06it/s]\n"
     ]
    },
    {
     "name": "stdout",
     "output_type": "stream",
     "text": [
      "                   all         22         46      0.909      0.698      0.781      0.609      0.854      0.673      0.745      0.496\n",
      "\n",
      "      Epoch    GPU_mem   box_loss   seg_loss   cls_loss   dfl_loss  Instances       Size\n"
     ]
    },
    {
     "name": "stderr",
     "output_type": "stream",
     "text": [
      "     58/150      2.98G     0.6865      1.367     0.8446     0.9165         25        640: 100%|██████████| 6/6 [00:01<00:00,  4.62it/s]\n",
      "                 Class     Images  Instances      Box(P          R      mAP50  mAP50-95)     Mask(P          R      mAP50  mAP50-95): 100%|██████████| 1/1 [00:00<00:00,  3.33it/s]\n"
     ]
    },
    {
     "name": "stdout",
     "output_type": "stream",
     "text": [
      "                   all         22         46      0.846      0.707      0.753      0.601      0.822      0.695       0.74      0.497\n",
      "\n",
      "      Epoch    GPU_mem   box_loss   seg_loss   cls_loss   dfl_loss  Instances       Size\n"
     ]
    },
    {
     "name": "stderr",
     "output_type": "stream",
     "text": [
      "     59/150      3.08G     0.7248      1.467     0.8916     0.9182         26        640: 100%|██████████| 6/6 [00:01<00:00,  4.83it/s]\n",
      "                 Class     Images  Instances      Box(P          R      mAP50  mAP50-95)     Mask(P          R      mAP50  mAP50-95): 100%|██████████| 1/1 [00:00<00:00,  3.11it/s]\n"
     ]
    },
    {
     "name": "stdout",
     "output_type": "stream",
     "text": [
      "                   all         22         46      0.886       0.69      0.785      0.597      0.859      0.678      0.745      0.512\n",
      "\n",
      "      Epoch    GPU_mem   box_loss   seg_loss   cls_loss   dfl_loss  Instances       Size\n"
     ]
    },
    {
     "name": "stderr",
     "output_type": "stream",
     "text": [
      "     60/150      2.99G     0.6999      1.328     0.8205     0.9263         37        640: 100%|██████████| 6/6 [00:01<00:00,  4.66it/s]\n",
      "                 Class     Images  Instances      Box(P          R      mAP50  mAP50-95)     Mask(P          R      mAP50  mAP50-95): 100%|██████████| 1/1 [00:00<00:00,  3.09it/s]\n"
     ]
    },
    {
     "name": "stdout",
     "output_type": "stream",
     "text": [
      "                   all         22         46      0.911      0.698      0.801      0.618      0.911      0.698       0.79      0.574\n",
      "\n",
      "      Epoch    GPU_mem   box_loss   seg_loss   cls_loss   dfl_loss  Instances       Size\n"
     ]
    },
    {
     "name": "stderr",
     "output_type": "stream",
     "text": [
      "     61/150      2.97G     0.6558      1.288     0.7813      0.906         25        640: 100%|██████████| 6/6 [00:01<00:00,  4.97it/s]\n",
      "                 Class     Images  Instances      Box(P          R      mAP50  mAP50-95)     Mask(P          R      mAP50  mAP50-95): 100%|██████████| 1/1 [00:00<00:00,  3.12it/s]\n"
     ]
    },
    {
     "name": "stdout",
     "output_type": "stream",
     "text": [
      "                   all         22         46      0.943      0.672      0.814      0.635      0.911       0.66      0.788       0.59\n",
      "\n",
      "      Epoch    GPU_mem   box_loss   seg_loss   cls_loss   dfl_loss  Instances       Size\n"
     ]
    },
    {
     "name": "stderr",
     "output_type": "stream",
     "text": [
      "     62/150      2.96G     0.6403      1.332     0.7812     0.8843         37        640: 100%|██████████| 6/6 [00:01<00:00,  4.82it/s]\n",
      "                 Class     Images  Instances      Box(P          R      mAP50  mAP50-95)     Mask(P          R      mAP50  mAP50-95): 100%|██████████| 1/1 [00:00<00:00,  3.33it/s]\n"
     ]
    },
    {
     "name": "stdout",
     "output_type": "stream",
     "text": [
      "                   all         22         46      0.889      0.735      0.819      0.646      0.845       0.71      0.778      0.565\n",
      "\n",
      "      Epoch    GPU_mem   box_loss   seg_loss   cls_loss   dfl_loss  Instances       Size\n"
     ]
    },
    {
     "name": "stderr",
     "output_type": "stream",
     "text": [
      "     63/150      2.98G     0.7001      1.511     0.7896     0.9069         38        640: 100%|██████████| 6/6 [00:01<00:00,  4.92it/s]\n",
      "                 Class     Images  Instances      Box(P          R      mAP50  mAP50-95)     Mask(P          R      mAP50  mAP50-95): 100%|██████████| 1/1 [00:00<00:00,  2.79it/s]\n"
     ]
    },
    {
     "name": "stdout",
     "output_type": "stream",
     "text": [
      "                   all         22         46      0.919      0.708      0.817      0.636       0.87      0.681      0.764      0.563\n",
      "\n",
      "      Epoch    GPU_mem   box_loss   seg_loss   cls_loss   dfl_loss  Instances       Size\n"
     ]
    },
    {
     "name": "stderr",
     "output_type": "stream",
     "text": [
      "     64/150      2.98G     0.7171       1.49     0.7756     0.9056         34        640: 100%|██████████| 6/6 [00:01<00:00,  4.74it/s]\n",
      "                 Class     Images  Instances      Box(P          R      mAP50  mAP50-95)     Mask(P          R      mAP50  mAP50-95): 100%|██████████| 1/1 [00:00<00:00,  3.20it/s]\n"
     ]
    },
    {
     "name": "stdout",
     "output_type": "stream",
     "text": [
      "                   all         22         46      0.888      0.694      0.799       0.62      0.834      0.671      0.756      0.546\n",
      "\n",
      "      Epoch    GPU_mem   box_loss   seg_loss   cls_loss   dfl_loss  Instances       Size\n"
     ]
    },
    {
     "name": "stderr",
     "output_type": "stream",
     "text": [
      "     65/150      2.98G     0.6881      1.489     0.8193     0.9292         35        640: 100%|██████████| 6/6 [00:01<00:00,  4.96it/s]\n",
      "                 Class     Images  Instances      Box(P          R      mAP50  mAP50-95)     Mask(P          R      mAP50  mAP50-95): 100%|██████████| 1/1 [00:00<00:00,  3.07it/s]\n"
     ]
    },
    {
     "name": "stdout",
     "output_type": "stream",
     "text": [
      "                   all         22         46      0.867      0.727      0.821      0.655      0.851      0.695      0.788      0.574\n",
      "\n",
      "      Epoch    GPU_mem   box_loss   seg_loss   cls_loss   dfl_loss  Instances       Size\n"
     ]
    },
    {
     "name": "stderr",
     "output_type": "stream",
     "text": [
      "     66/150      3.01G      0.674       1.37     0.7512     0.9225         41        640: 100%|██████████| 6/6 [00:01<00:00,  4.66it/s]\n",
      "                 Class     Images  Instances      Box(P          R      mAP50  mAP50-95)     Mask(P          R      mAP50  mAP50-95): 100%|██████████| 1/1 [00:00<00:00,  3.04it/s]\n"
     ]
    },
    {
     "name": "stdout",
     "output_type": "stream",
     "text": [
      "                   all         22         46      0.912      0.731      0.804      0.648      0.912      0.731      0.816      0.582\n",
      "\n",
      "      Epoch    GPU_mem   box_loss   seg_loss   cls_loss   dfl_loss  Instances       Size\n"
     ]
    },
    {
     "name": "stderr",
     "output_type": "stream",
     "text": [
      "     67/150      2.97G     0.6539      1.332     0.7386     0.9109         71        640: 100%|██████████| 6/6 [00:01<00:00,  4.73it/s]\n",
      "                 Class     Images  Instances      Box(P          R      mAP50  mAP50-95)     Mask(P          R      mAP50  mAP50-95): 100%|██████████| 1/1 [00:00<00:00,  3.20it/s]\n"
     ]
    },
    {
     "name": "stdout",
     "output_type": "stream",
     "text": [
      "                   all         22         46      0.933      0.743      0.803      0.642      0.933      0.743      0.803      0.593\n",
      "\n",
      "      Epoch    GPU_mem   box_loss   seg_loss   cls_loss   dfl_loss  Instances       Size\n"
     ]
    },
    {
     "name": "stderr",
     "output_type": "stream",
     "text": [
      "     68/150      2.93G     0.6725      1.376     0.7931     0.9061         28        640: 100%|██████████| 6/6 [00:01<00:00,  4.51it/s]\n",
      "                 Class     Images  Instances      Box(P          R      mAP50  mAP50-95)     Mask(P          R      mAP50  mAP50-95): 100%|██████████| 1/1 [00:00<00:00,  3.18it/s]\n"
     ]
    },
    {
     "name": "stdout",
     "output_type": "stream",
     "text": [
      "                   all         22         46      0.914      0.754      0.803      0.629      0.914      0.754      0.799      0.576\n",
      "\n",
      "      Epoch    GPU_mem   box_loss   seg_loss   cls_loss   dfl_loss  Instances       Size\n"
     ]
    },
    {
     "name": "stderr",
     "output_type": "stream",
     "text": [
      "     69/150      2.98G     0.6713      1.323       0.72     0.9147         34        640: 100%|██████████| 6/6 [00:01<00:00,  4.93it/s]\n",
      "                 Class     Images  Instances      Box(P          R      mAP50  mAP50-95)     Mask(P          R      mAP50  mAP50-95): 100%|██████████| 1/1 [00:00<00:00,  3.31it/s]\n"
     ]
    },
    {
     "name": "stdout",
     "output_type": "stream",
     "text": [
      "                   all         22         46      0.938      0.736      0.801      0.632       0.91      0.724      0.793      0.556\n",
      "\n",
      "      Epoch    GPU_mem   box_loss   seg_loss   cls_loss   dfl_loss  Instances       Size\n"
     ]
    },
    {
     "name": "stderr",
     "output_type": "stream",
     "text": [
      "     70/150      3.01G     0.6685      1.402     0.7044     0.9076         45        640: 100%|██████████| 6/6 [00:01<00:00,  4.74it/s]\n",
      "                 Class     Images  Instances      Box(P          R      mAP50  mAP50-95)     Mask(P          R      mAP50  mAP50-95): 100%|██████████| 1/1 [00:00<00:00,  3.30it/s]\n"
     ]
    },
    {
     "name": "stdout",
     "output_type": "stream",
     "text": [
      "                   all         22         46       0.94      0.677      0.773      0.596      0.911      0.664      0.753      0.529\n",
      "\n",
      "      Epoch    GPU_mem   box_loss   seg_loss   cls_loss   dfl_loss  Instances       Size\n"
     ]
    },
    {
     "name": "stderr",
     "output_type": "stream",
     "text": [
      "     71/150      3.03G     0.6261      1.304     0.7188     0.8909         30        640: 100%|██████████| 6/6 [00:01<00:00,  4.89it/s]\n",
      "                 Class     Images  Instances      Box(P          R      mAP50  mAP50-95)     Mask(P          R      mAP50  mAP50-95): 100%|██████████| 1/1 [00:00<00:00,  3.15it/s]\n"
     ]
    },
    {
     "name": "stdout",
     "output_type": "stream",
     "text": [
      "                   all         22         46       0.93      0.679      0.766      0.592      0.903      0.673      0.756      0.524\n",
      "\n",
      "      Epoch    GPU_mem   box_loss   seg_loss   cls_loss   dfl_loss  Instances       Size\n"
     ]
    },
    {
     "name": "stderr",
     "output_type": "stream",
     "text": [
      "     72/150      2.98G     0.6703      1.284     0.7257     0.9079         45        640: 100%|██████████| 6/6 [00:01<00:00,  4.76it/s]\n",
      "                 Class     Images  Instances      Box(P          R      mAP50  mAP50-95)     Mask(P          R      mAP50  mAP50-95): 100%|██████████| 1/1 [00:00<00:00,  3.31it/s]\n"
     ]
    },
    {
     "name": "stdout",
     "output_type": "stream",
     "text": [
      "                   all         22         46      0.893       0.72      0.778      0.593      0.917      0.733      0.781      0.545\n",
      "\n",
      "      Epoch    GPU_mem   box_loss   seg_loss   cls_loss   dfl_loss  Instances       Size\n"
     ]
    },
    {
     "name": "stderr",
     "output_type": "stream",
     "text": [
      "     73/150      2.97G     0.6742      1.398     0.7234     0.9001         54        640: 100%|██████████| 6/6 [00:01<00:00,  4.89it/s]\n",
      "                 Class     Images  Instances      Box(P          R      mAP50  mAP50-95)     Mask(P          R      mAP50  mAP50-95): 100%|██████████| 1/1 [00:00<00:00,  3.31it/s]\n"
     ]
    },
    {
     "name": "stdout",
     "output_type": "stream",
     "text": [
      "                   all         22         46      0.966      0.652      0.787      0.598      0.838      0.752      0.797      0.558\n",
      "\n",
      "      Epoch    GPU_mem   box_loss   seg_loss   cls_loss   dfl_loss  Instances       Size\n"
     ]
    },
    {
     "name": "stderr",
     "output_type": "stream",
     "text": [
      "     74/150      2.98G      0.682       1.39      0.732     0.9015         50        640: 100%|██████████| 6/6 [00:01<00:00,  4.70it/s]\n",
      "                 Class     Images  Instances      Box(P          R      mAP50  mAP50-95)     Mask(P          R      mAP50  mAP50-95): 100%|██████████| 1/1 [00:00<00:00,  3.31it/s]\n"
     ]
    },
    {
     "name": "stdout",
     "output_type": "stream",
     "text": [
      "                   all         22         46      0.914      0.728      0.783      0.607      0.914      0.728      0.794      0.564\n",
      "\n",
      "      Epoch    GPU_mem   box_loss   seg_loss   cls_loss   dfl_loss  Instances       Size\n"
     ]
    },
    {
     "name": "stderr",
     "output_type": "stream",
     "text": [
      "     75/150      2.96G     0.6369      1.301     0.6978     0.8912         35        640: 100%|██████████| 6/6 [00:01<00:00,  4.91it/s]\n",
      "                 Class     Images  Instances      Box(P          R      mAP50  mAP50-95)     Mask(P          R      mAP50  mAP50-95): 100%|██████████| 1/1 [00:00<00:00,  3.14it/s]\n"
     ]
    },
    {
     "name": "stdout",
     "output_type": "stream",
     "text": [
      "                   all         22         46      0.891      0.735      0.781      0.617      0.891      0.735      0.766      0.552\n",
      "\n",
      "      Epoch    GPU_mem   box_loss   seg_loss   cls_loss   dfl_loss  Instances       Size\n"
     ]
    },
    {
     "name": "stderr",
     "output_type": "stream",
     "text": [
      "     76/150      2.98G     0.6598      1.323     0.6819     0.8875         37        640: 100%|██████████| 6/6 [00:01<00:00,  4.71it/s]\n",
      "                 Class     Images  Instances      Box(P          R      mAP50  mAP50-95)     Mask(P          R      mAP50  mAP50-95): 100%|██████████| 1/1 [00:00<00:00,  3.25it/s]\n"
     ]
    },
    {
     "name": "stdout",
     "output_type": "stream",
     "text": [
      "                   all         22         46      0.952      0.718      0.797      0.633      0.923      0.706      0.761      0.557\n",
      "\n",
      "      Epoch    GPU_mem   box_loss   seg_loss   cls_loss   dfl_loss  Instances       Size\n"
     ]
    },
    {
     "name": "stderr",
     "output_type": "stream",
     "text": [
      "     77/150      3.01G      0.627      1.226     0.6791     0.8686         32        640: 100%|██████████| 6/6 [00:01<00:00,  4.86it/s]\n",
      "                 Class     Images  Instances      Box(P          R      mAP50  mAP50-95)     Mask(P          R      mAP50  mAP50-95): 100%|██████████| 1/1 [00:00<00:00,  3.14it/s]\n"
     ]
    },
    {
     "name": "stdout",
     "output_type": "stream",
     "text": [
      "                   all         22         46      0.963      0.711      0.812      0.638      0.936      0.698      0.779      0.575\n",
      "\n",
      "      Epoch    GPU_mem   box_loss   seg_loss   cls_loss   dfl_loss  Instances       Size\n"
     ]
    },
    {
     "name": "stderr",
     "output_type": "stream",
     "text": [
      "     78/150      3.02G     0.6573      1.301     0.6786     0.8948         38        640: 100%|██████████| 6/6 [00:01<00:00,  4.75it/s]\n",
      "                 Class     Images  Instances      Box(P          R      mAP50  mAP50-95)     Mask(P          R      mAP50  mAP50-95): 100%|██████████| 1/1 [00:00<00:00,  3.48it/s]\n"
     ]
    },
    {
     "name": "stdout",
     "output_type": "stream",
     "text": [
      "                   all         22         46      0.915      0.711      0.794      0.649       0.89      0.699       0.78      0.556\n",
      "\n",
      "      Epoch    GPU_mem   box_loss   seg_loss   cls_loss   dfl_loss  Instances       Size\n"
     ]
    },
    {
     "name": "stderr",
     "output_type": "stream",
     "text": [
      "     79/150      2.93G     0.6303      1.331     0.6542     0.8854         44        640: 100%|██████████| 6/6 [00:01<00:00,  4.84it/s]\n",
      "                 Class     Images  Instances      Box(P          R      mAP50  mAP50-95)     Mask(P          R      mAP50  mAP50-95): 100%|██████████| 1/1 [00:00<00:00,  3.19it/s]\n"
     ]
    },
    {
     "name": "stdout",
     "output_type": "stream",
     "text": [
      "                   all         22         46      0.938      0.729      0.803      0.645      0.908      0.716      0.773      0.552\n",
      "\n",
      "      Epoch    GPU_mem   box_loss   seg_loss   cls_loss   dfl_loss  Instances       Size\n"
     ]
    },
    {
     "name": "stderr",
     "output_type": "stream",
     "text": [
      "     80/150      3.01G     0.6543      1.396     0.6845     0.8812         46        640: 100%|██████████| 6/6 [00:01<00:00,  4.77it/s]\n",
      "                 Class     Images  Instances      Box(P          R      mAP50  mAP50-95)     Mask(P          R      mAP50  mAP50-95): 100%|██████████| 1/1 [00:00<00:00,  3.30it/s]\n"
     ]
    },
    {
     "name": "stdout",
     "output_type": "stream",
     "text": [
      "                   all         22         46      0.868      0.736      0.796      0.632      0.868      0.736       0.79      0.539\n",
      "\n",
      "      Epoch    GPU_mem   box_loss   seg_loss   cls_loss   dfl_loss  Instances       Size\n"
     ]
    },
    {
     "name": "stderr",
     "output_type": "stream",
     "text": [
      "     81/150         3G      0.646      1.278      0.702     0.9018         60        640: 100%|██████████| 6/6 [00:01<00:00,  4.90it/s]\n",
      "                 Class     Images  Instances      Box(P          R      mAP50  mAP50-95)     Mask(P          R      mAP50  mAP50-95): 100%|██████████| 1/1 [00:00<00:00,  3.30it/s]\n"
     ]
    },
    {
     "name": "stdout",
     "output_type": "stream",
     "text": [
      "                   all         22         46      0.809      0.766      0.802      0.626      0.888       0.69      0.765      0.545\n",
      "\n",
      "      Epoch    GPU_mem   box_loss   seg_loss   cls_loss   dfl_loss  Instances       Size\n"
     ]
    },
    {
     "name": "stderr",
     "output_type": "stream",
     "text": [
      "     82/150      2.94G     0.6364      1.297     0.6738     0.8885         52        640: 100%|██████████| 6/6 [00:01<00:00,  4.74it/s]\n",
      "                 Class     Images  Instances      Box(P          R      mAP50  mAP50-95)     Mask(P          R      mAP50  mAP50-95): 100%|██████████| 1/1 [00:00<00:00,  3.31it/s]\n"
     ]
    },
    {
     "name": "stdout",
     "output_type": "stream",
     "text": [
      "                   all         22         46      0.838      0.827      0.836      0.661      0.806      0.809      0.809      0.556\n",
      "\n",
      "      Epoch    GPU_mem   box_loss   seg_loss   cls_loss   dfl_loss  Instances       Size\n"
     ]
    },
    {
     "name": "stderr",
     "output_type": "stream",
     "text": [
      "     83/150      2.97G     0.6302      1.341     0.6679     0.8892         45        640: 100%|██████████| 6/6 [00:01<00:00,  4.86it/s]\n",
      "                 Class     Images  Instances      Box(P          R      mAP50  mAP50-95)     Mask(P          R      mAP50  mAP50-95): 100%|██████████| 1/1 [00:00<00:00,  3.16it/s]\n"
     ]
    },
    {
     "name": "stdout",
     "output_type": "stream",
     "text": [
      "                   all         22         46      0.861      0.817      0.849      0.662      0.824      0.794      0.804      0.557\n",
      "\n",
      "      Epoch    GPU_mem   box_loss   seg_loss   cls_loss   dfl_loss  Instances       Size\n"
     ]
    },
    {
     "name": "stderr",
     "output_type": "stream",
     "text": [
      "     84/150      2.93G      0.568      1.158     0.6432     0.8735         45        640: 100%|██████████| 6/6 [00:01<00:00,  4.69it/s]\n",
      "                 Class     Images  Instances      Box(P          R      mAP50  mAP50-95)     Mask(P          R      mAP50  mAP50-95): 100%|██████████| 1/1 [00:00<00:00,  3.30it/s]\n"
     ]
    },
    {
     "name": "stdout",
     "output_type": "stream",
     "text": [
      "                   all         22         46      0.946      0.769      0.834      0.649      0.921      0.745      0.796      0.566\n",
      "\n",
      "      Epoch    GPU_mem   box_loss   seg_loss   cls_loss   dfl_loss  Instances       Size\n"
     ]
    },
    {
     "name": "stderr",
     "output_type": "stream",
     "text": [
      "     85/150      2.94G     0.6041      1.156      0.623      0.869         36        640: 100%|██████████| 6/6 [00:01<00:00,  4.75it/s]\n",
      "                 Class     Images  Instances      Box(P          R      mAP50  mAP50-95)     Mask(P          R      mAP50  mAP50-95): 100%|██████████| 1/1 [00:00<00:00,  3.35it/s]\n"
     ]
    },
    {
     "name": "stdout",
     "output_type": "stream",
     "text": [
      "                   all         22         46      0.939      0.788       0.85      0.653      0.896      0.764      0.805      0.572\n",
      "\n",
      "      Epoch    GPU_mem   box_loss   seg_loss   cls_loss   dfl_loss  Instances       Size\n"
     ]
    },
    {
     "name": "stderr",
     "output_type": "stream",
     "text": [
      "     86/150      3.06G     0.5984      1.238     0.6688     0.8901         27        640: 100%|██████████| 6/6 [00:01<00:00,  4.82it/s]\n",
      "                 Class     Images  Instances      Box(P          R      mAP50  mAP50-95)     Mask(P          R      mAP50  mAP50-95): 100%|██████████| 1/1 [00:00<00:00,  3.28it/s]\n"
     ]
    },
    {
     "name": "stdout",
     "output_type": "stream",
     "text": [
      "                   all         22         46       0.96      0.781      0.846      0.665      0.954      0.755      0.809      0.594\n",
      "\n",
      "      Epoch    GPU_mem   box_loss   seg_loss   cls_loss   dfl_loss  Instances       Size\n"
     ]
    },
    {
     "name": "stderr",
     "output_type": "stream",
     "text": [
      "     87/150         3G     0.5927       1.19     0.6097     0.8729         26        640: 100%|██████████| 6/6 [00:01<00:00,  5.01it/s]\n",
      "                 Class     Images  Instances      Box(P          R      mAP50  mAP50-95)     Mask(P          R      mAP50  mAP50-95): 100%|██████████| 1/1 [00:00<00:00,  3.28it/s]\n"
     ]
    },
    {
     "name": "stdout",
     "output_type": "stream",
     "text": [
      "                   all         22         46      0.967      0.772      0.826       0.65      0.952      0.768      0.813      0.577\n",
      "\n",
      "      Epoch    GPU_mem   box_loss   seg_loss   cls_loss   dfl_loss  Instances       Size\n"
     ]
    },
    {
     "name": "stderr",
     "output_type": "stream",
     "text": [
      "     88/150      2.89G     0.6265      1.237     0.6801     0.9109         35        640: 100%|██████████| 6/6 [00:01<00:00,  4.62it/s]\n",
      "                 Class     Images  Instances      Box(P          R      mAP50  mAP50-95)     Mask(P          R      mAP50  mAP50-95): 100%|██████████| 1/1 [00:00<00:00,  3.26it/s]\n"
     ]
    },
    {
     "name": "stdout",
     "output_type": "stream",
     "text": [
      "                   all         22         46      0.921      0.782       0.81      0.654       0.94       0.73      0.781       0.58\n",
      "\n",
      "      Epoch    GPU_mem   box_loss   seg_loss   cls_loss   dfl_loss  Instances       Size\n"
     ]
    },
    {
     "name": "stderr",
     "output_type": "stream",
     "text": [
      "     89/150      3.04G     0.5948      1.258      0.649     0.8767         27        640: 100%|██████████| 6/6 [00:01<00:00,  4.92it/s]\n",
      "                 Class     Images  Instances      Box(P          R      mAP50  mAP50-95)     Mask(P          R      mAP50  mAP50-95): 100%|██████████| 1/1 [00:00<00:00,  3.23it/s]\n"
     ]
    },
    {
     "name": "stdout",
     "output_type": "stream",
     "text": [
      "                   all         22         46      0.912      0.782        0.8      0.657      0.896      0.706      0.739      0.566\n",
      "\n",
      "      Epoch    GPU_mem   box_loss   seg_loss   cls_loss   dfl_loss  Instances       Size\n"
     ]
    },
    {
     "name": "stderr",
     "output_type": "stream",
     "text": [
      "     90/150      2.99G      0.602      1.304      0.606     0.8752         64        640: 100%|██████████| 6/6 [00:01<00:00,  4.70it/s]\n",
      "                 Class     Images  Instances      Box(P          R      mAP50  mAP50-95)     Mask(P          R      mAP50  mAP50-95): 100%|██████████| 1/1 [00:00<00:00,  3.19it/s]\n"
     ]
    },
    {
     "name": "stdout",
     "output_type": "stream",
     "text": [
      "                   all         22         46      0.897      0.765       0.79      0.667      0.832      0.729      0.737      0.565\n",
      "\n",
      "      Epoch    GPU_mem   box_loss   seg_loss   cls_loss   dfl_loss  Instances       Size\n"
     ]
    },
    {
     "name": "stderr",
     "output_type": "stream",
     "text": [
      "     91/150      2.96G     0.6028      1.178     0.6683     0.8819         35        640: 100%|██████████| 6/6 [00:01<00:00,  4.96it/s]\n",
      "                 Class     Images  Instances      Box(P          R      mAP50  mAP50-95)     Mask(P          R      mAP50  mAP50-95): 100%|██████████| 1/1 [00:00<00:00,  3.24it/s]\n"
     ]
    },
    {
     "name": "stdout",
     "output_type": "stream",
     "text": [
      "                   all         22         46      0.899      0.761      0.791      0.663      0.844      0.722      0.741      0.562\n",
      "\n",
      "      Epoch    GPU_mem   box_loss   seg_loss   cls_loss   dfl_loss  Instances       Size\n"
     ]
    },
    {
     "name": "stderr",
     "output_type": "stream",
     "text": [
      "     92/150      2.92G     0.6182      1.278     0.6729     0.8989         36        640: 100%|██████████| 6/6 [00:01<00:00,  4.65it/s]\n",
      "                 Class     Images  Instances      Box(P          R      mAP50  mAP50-95)     Mask(P          R      mAP50  mAP50-95): 100%|██████████| 1/1 [00:00<00:00,  3.00it/s]\n"
     ]
    },
    {
     "name": "stdout",
     "output_type": "stream",
     "text": [
      "                   all         22         46      0.825      0.776      0.806      0.674      0.778      0.741       0.75      0.568\n",
      "\n",
      "      Epoch    GPU_mem   box_loss   seg_loss   cls_loss   dfl_loss  Instances       Size\n"
     ]
    },
    {
     "name": "stderr",
     "output_type": "stream",
     "text": [
      "     93/150      2.92G      0.598      1.243     0.6397     0.8853         40        640: 100%|██████████| 6/6 [00:01<00:00,  4.97it/s]\n",
      "                 Class     Images  Instances      Box(P          R      mAP50  mAP50-95)     Mask(P          R      mAP50  mAP50-95): 100%|██████████| 1/1 [00:00<00:00,  3.23it/s]\n"
     ]
    },
    {
     "name": "stdout",
     "output_type": "stream",
     "text": [
      "                   all         22         46      0.818      0.798      0.821      0.677      0.786      0.773      0.786      0.574\n",
      "\n",
      "      Epoch    GPU_mem   box_loss   seg_loss   cls_loss   dfl_loss  Instances       Size\n"
     ]
    },
    {
     "name": "stderr",
     "output_type": "stream",
     "text": [
      "     94/150      2.96G     0.6148      1.301     0.6566     0.8972         41        640: 100%|██████████| 6/6 [00:01<00:00,  4.74it/s]\n",
      "                 Class     Images  Instances      Box(P          R      mAP50  mAP50-95)     Mask(P          R      mAP50  mAP50-95): 100%|██████████| 1/1 [00:00<00:00,  2.96it/s]\n"
     ]
    },
    {
     "name": "stdout",
     "output_type": "stream",
     "text": [
      "                   all         22         46      0.888      0.776      0.827      0.673      0.828      0.737      0.745      0.561\n",
      "\n",
      "      Epoch    GPU_mem   box_loss   seg_loss   cls_loss   dfl_loss  Instances       Size\n"
     ]
    },
    {
     "name": "stderr",
     "output_type": "stream",
     "text": [
      "     95/150      3.01G     0.5691      1.169     0.6043      0.878         28        640: 100%|██████████| 6/6 [00:01<00:00,  4.83it/s]\n",
      "                 Class     Images  Instances      Box(P          R      mAP50  mAP50-95)     Mask(P          R      mAP50  mAP50-95): 100%|██████████| 1/1 [00:00<00:00,  3.37it/s]\n"
     ]
    },
    {
     "name": "stdout",
     "output_type": "stream",
     "text": [
      "                   all         22         46       0.91       0.77       0.82      0.661      0.837      0.733      0.741      0.563\n",
      "\n",
      "      Epoch    GPU_mem   box_loss   seg_loss   cls_loss   dfl_loss  Instances       Size\n"
     ]
    },
    {
     "name": "stderr",
     "output_type": "stream",
     "text": [
      "     96/150      2.97G     0.6285      1.315     0.6255     0.8779         48        640: 100%|██████████| 6/6 [00:01<00:00,  4.81it/s]\n",
      "                 Class     Images  Instances      Box(P          R      mAP50  mAP50-95)     Mask(P          R      mAP50  mAP50-95): 100%|██████████| 1/1 [00:00<00:00,  3.27it/s]\n"
     ]
    },
    {
     "name": "stdout",
     "output_type": "stream",
     "text": [
      "                   all         22         46      0.917      0.772      0.814      0.669      0.871       0.74      0.751      0.574\n",
      "\n",
      "      Epoch    GPU_mem   box_loss   seg_loss   cls_loss   dfl_loss  Instances       Size\n"
     ]
    },
    {
     "name": "stderr",
     "output_type": "stream",
     "text": [
      "     97/150      2.95G     0.5759      1.207     0.5935     0.8715         37        640: 100%|██████████| 6/6 [00:01<00:00,  4.86it/s]\n",
      "                 Class     Images  Instances      Box(P          R      mAP50  mAP50-95)     Mask(P          R      mAP50  mAP50-95): 100%|██████████| 1/1 [00:00<00:00,  3.34it/s]\n"
     ]
    },
    {
     "name": "stdout",
     "output_type": "stream",
     "text": [
      "                   all         22         46      0.927      0.772      0.817      0.669       0.86      0.735      0.759      0.586\n",
      "\n",
      "      Epoch    GPU_mem   box_loss   seg_loss   cls_loss   dfl_loss  Instances       Size\n"
     ]
    },
    {
     "name": "stderr",
     "output_type": "stream",
     "text": [
      "     98/150       3.1G     0.6385      1.283     0.6192     0.8812         60        640: 100%|██████████| 6/6 [00:01<00:00,  4.71it/s]\n",
      "                 Class     Images  Instances      Box(P          R      mAP50  mAP50-95)     Mask(P          R      mAP50  mAP50-95): 100%|██████████| 1/1 [00:00<00:00,  3.48it/s]\n"
     ]
    },
    {
     "name": "stdout",
     "output_type": "stream",
     "text": [
      "                   all         22         46      0.989      0.768       0.82      0.671      0.955      0.757       0.82      0.592\n",
      "\n",
      "      Epoch    GPU_mem   box_loss   seg_loss   cls_loss   dfl_loss  Instances       Size\n"
     ]
    },
    {
     "name": "stderr",
     "output_type": "stream",
     "text": [
      "     99/150      2.99G     0.6042       1.27     0.6024     0.8951         34        640: 100%|██████████| 6/6 [00:01<00:00,  4.86it/s]\n",
      "                 Class     Images  Instances      Box(P          R      mAP50  mAP50-95)     Mask(P          R      mAP50  mAP50-95): 100%|██████████| 1/1 [00:00<00:00,  3.42it/s]\n"
     ]
    },
    {
     "name": "stdout",
     "output_type": "stream",
     "text": [
      "                   all         22         46      0.953      0.761      0.822      0.682      0.953      0.761      0.821       0.59\n",
      "\n",
      "      Epoch    GPU_mem   box_loss   seg_loss   cls_loss   dfl_loss  Instances       Size\n"
     ]
    },
    {
     "name": "stderr",
     "output_type": "stream",
     "text": [
      "    100/150      3.05G     0.5663      1.183     0.5944     0.8706         42        640: 100%|██████████| 6/6 [00:01<00:00,  4.76it/s]\n",
      "                 Class     Images  Instances      Box(P          R      mAP50  mAP50-95)     Mask(P          R      mAP50  mAP50-95): 100%|██████████| 1/1 [00:00<00:00,  3.37it/s]\n"
     ]
    },
    {
     "name": "stdout",
     "output_type": "stream",
     "text": [
      "                   all         22         46      0.944      0.796      0.834      0.696      0.944      0.796      0.833      0.608\n",
      "\n",
      "      Epoch    GPU_mem   box_loss   seg_loss   cls_loss   dfl_loss  Instances       Size\n"
     ]
    },
    {
     "name": "stderr",
     "output_type": "stream",
     "text": [
      "    101/150      3.01G     0.5675      1.102     0.5991     0.8795         27        640: 100%|██████████| 6/6 [00:01<00:00,  4.99it/s]\n",
      "                 Class     Images  Instances      Box(P          R      mAP50  mAP50-95)     Mask(P          R      mAP50  mAP50-95): 100%|██████████| 1/1 [00:00<00:00,  3.39it/s]\n"
     ]
    },
    {
     "name": "stdout",
     "output_type": "stream",
     "text": [
      "                   all         22         46      0.937      0.789      0.838      0.697      0.937      0.789      0.829      0.606\n",
      "\n",
      "      Epoch    GPU_mem   box_loss   seg_loss   cls_loss   dfl_loss  Instances       Size\n"
     ]
    },
    {
     "name": "stderr",
     "output_type": "stream",
     "text": [
      "    102/150      3.05G      0.591      1.185     0.5934     0.8913         48        640: 100%|██████████| 6/6 [00:01<00:00,  4.80it/s]\n",
      "                 Class     Images  Instances      Box(P          R      mAP50  mAP50-95)     Mask(P          R      mAP50  mAP50-95): 100%|██████████| 1/1 [00:00<00:00,  3.20it/s]\n"
     ]
    },
    {
     "name": "stdout",
     "output_type": "stream",
     "text": [
      "                   all         22         46      0.955      0.802      0.851      0.689      0.894      0.766        0.8      0.613\n",
      "\n",
      "      Epoch    GPU_mem   box_loss   seg_loss   cls_loss   dfl_loss  Instances       Size\n"
     ]
    },
    {
     "name": "stderr",
     "output_type": "stream",
     "text": [
      "    103/150      3.02G      0.533      1.088     0.5644     0.8548         36        640: 100%|██████████| 6/6 [00:01<00:00,  4.96it/s]\n",
      "                 Class     Images  Instances      Box(P          R      mAP50  mAP50-95)     Mask(P          R      mAP50  mAP50-95): 100%|██████████| 1/1 [00:00<00:00,  3.36it/s]\n"
     ]
    },
    {
     "name": "stdout",
     "output_type": "stream",
     "text": [
      "                   all         22         46      0.916      0.813      0.849      0.666      0.895      0.763      0.794      0.614\n",
      "\n",
      "      Epoch    GPU_mem   box_loss   seg_loss   cls_loss   dfl_loss  Instances       Size\n"
     ]
    },
    {
     "name": "stderr",
     "output_type": "stream",
     "text": [
      "    104/150      2.95G     0.5598      1.105     0.5737     0.8739         37        640: 100%|██████████| 6/6 [00:01<00:00,  4.54it/s]\n",
      "                 Class     Images  Instances      Box(P          R      mAP50  mAP50-95)     Mask(P          R      mAP50  mAP50-95): 100%|██████████| 1/1 [00:00<00:00,  3.41it/s]\n"
     ]
    },
    {
     "name": "stdout",
     "output_type": "stream",
     "text": [
      "                   all         22         46       0.97      0.796      0.852      0.664      0.902      0.764      0.783        0.6\n",
      "\n",
      "      Epoch    GPU_mem   box_loss   seg_loss   cls_loss   dfl_loss  Instances       Size\n"
     ]
    },
    {
     "name": "stderr",
     "output_type": "stream",
     "text": [
      "    105/150      2.96G     0.5601      1.192      0.555     0.8637         48        640: 100%|██████████| 6/6 [00:01<00:00,  4.70it/s]\n",
      "                 Class     Images  Instances      Box(P          R      mAP50  mAP50-95)     Mask(P          R      mAP50  mAP50-95): 100%|██████████| 1/1 [00:00<00:00,  3.21it/s]\n"
     ]
    },
    {
     "name": "stdout",
     "output_type": "stream",
     "text": [
      "                   all         22         46      0.967      0.808      0.852      0.682      0.904       0.77       0.78      0.605\n",
      "\n",
      "      Epoch    GPU_mem   box_loss   seg_loss   cls_loss   dfl_loss  Instances       Size\n"
     ]
    },
    {
     "name": "stderr",
     "output_type": "stream",
     "text": [
      "    106/150      2.97G     0.5749      1.139     0.6014     0.8933         27        640: 100%|██████████| 6/6 [00:01<00:00,  4.61it/s]\n",
      "                 Class     Images  Instances      Box(P          R      mAP50  mAP50-95)     Mask(P          R      mAP50  mAP50-95): 100%|██████████| 1/1 [00:00<00:00,  3.33it/s]\n"
     ]
    },
    {
     "name": "stdout",
     "output_type": "stream",
     "text": [
      "                   all         22         46      0.929      0.813      0.849      0.681      0.885      0.788      0.815      0.603\n",
      "\n",
      "      Epoch    GPU_mem   box_loss   seg_loss   cls_loss   dfl_loss  Instances       Size\n"
     ]
    },
    {
     "name": "stderr",
     "output_type": "stream",
     "text": [
      "    107/150      2.96G     0.5781      1.205     0.5656      0.873         48        640: 100%|██████████| 6/6 [00:01<00:00,  4.70it/s]\n",
      "                 Class     Images  Instances      Box(P          R      mAP50  mAP50-95)     Mask(P          R      mAP50  mAP50-95): 100%|██████████| 1/1 [00:00<00:00,  3.19it/s]\n"
     ]
    },
    {
     "name": "stdout",
     "output_type": "stream",
     "text": [
      "                   all         22         46      0.916      0.809       0.85      0.687      0.893      0.797      0.837      0.599\n",
      "\n",
      "      Epoch    GPU_mem   box_loss   seg_loss   cls_loss   dfl_loss  Instances       Size\n"
     ]
    },
    {
     "name": "stderr",
     "output_type": "stream",
     "text": [
      "    108/150      2.93G     0.5874      1.136     0.6232     0.8931         41        640: 100%|██████████| 6/6 [00:01<00:00,  4.77it/s]\n",
      "                 Class     Images  Instances      Box(P          R      mAP50  mAP50-95)     Mask(P          R      mAP50  mAP50-95): 100%|██████████| 1/1 [00:00<00:00,  3.46it/s]\n"
     ]
    },
    {
     "name": "stdout",
     "output_type": "stream",
     "text": [
      "                   all         22         46      0.987      0.781      0.857      0.686      0.986      0.777      0.821      0.582\n",
      "\n",
      "      Epoch    GPU_mem   box_loss   seg_loss   cls_loss   dfl_loss  Instances       Size\n"
     ]
    },
    {
     "name": "stderr",
     "output_type": "stream",
     "text": [
      "    109/150      2.95G     0.5799      1.109     0.5725     0.8763         43        640: 100%|██████████| 6/6 [00:01<00:00,  4.99it/s]\n",
      "                 Class     Images  Instances      Box(P          R      mAP50  mAP50-95)     Mask(P          R      mAP50  mAP50-95): 100%|██████████| 1/1 [00:00<00:00,  3.41it/s]\n"
     ]
    },
    {
     "name": "stdout",
     "output_type": "stream",
     "text": [
      "                   all         22         46      0.991      0.783      0.862      0.689      0.991      0.783      0.839      0.579\n",
      "\n",
      "      Epoch    GPU_mem   box_loss   seg_loss   cls_loss   dfl_loss  Instances       Size\n"
     ]
    },
    {
     "name": "stderr",
     "output_type": "stream",
     "text": [
      "    110/150      2.99G     0.5512      1.274     0.5543     0.8563         42        640: 100%|██████████| 6/6 [00:01<00:00,  4.82it/s]\n",
      "                 Class     Images  Instances      Box(P          R      mAP50  mAP50-95)     Mask(P          R      mAP50  mAP50-95): 100%|██████████| 1/1 [00:00<00:00,  3.60it/s]\n"
     ]
    },
    {
     "name": "stdout",
     "output_type": "stream",
     "text": [
      "                   all         22         46      0.945      0.795       0.86      0.692      0.945      0.795      0.838      0.586\n",
      "\n",
      "      Epoch    GPU_mem   box_loss   seg_loss   cls_loss   dfl_loss  Instances       Size\n"
     ]
    },
    {
     "name": "stderr",
     "output_type": "stream",
     "text": [
      "    111/150      2.98G     0.5553      1.214     0.5772      0.886         49        640: 100%|██████████| 6/6 [00:01<00:00,  4.91it/s]\n",
      "                 Class     Images  Instances      Box(P          R      mAP50  mAP50-95)     Mask(P          R      mAP50  mAP50-95): 100%|██████████| 1/1 [00:00<00:00,  3.40it/s]\n"
     ]
    },
    {
     "name": "stdout",
     "output_type": "stream",
     "text": [
      "                   all         22         46      0.914       0.79       0.86      0.689      0.915       0.79      0.847      0.599\n",
      "\n",
      "      Epoch    GPU_mem   box_loss   seg_loss   cls_loss   dfl_loss  Instances       Size\n"
     ]
    },
    {
     "name": "stderr",
     "output_type": "stream",
     "text": [
      "    112/150      2.92G     0.5096     0.9722     0.5372     0.8642         40        640: 100%|██████████| 6/6 [00:01<00:00,  4.85it/s]\n",
      "                 Class     Images  Instances      Box(P          R      mAP50  mAP50-95)     Mask(P          R      mAP50  mAP50-95): 100%|██████████| 1/1 [00:00<00:00,  3.59it/s]\n"
     ]
    },
    {
     "name": "stdout",
     "output_type": "stream",
     "text": [
      "                   all         22         46      0.933      0.724      0.842      0.678      0.905      0.711      0.816      0.579\n",
      "\n",
      "      Epoch    GPU_mem   box_loss   seg_loss   cls_loss   dfl_loss  Instances       Size\n"
     ]
    },
    {
     "name": "stderr",
     "output_type": "stream",
     "text": [
      "    113/150      3.03G     0.5609      1.149     0.5681     0.8865         42        640: 100%|██████████| 6/6 [00:01<00:00,  4.98it/s]\n",
      "                 Class     Images  Instances      Box(P          R      mAP50  mAP50-95)     Mask(P          R      mAP50  mAP50-95): 100%|██████████| 1/1 [00:00<00:00,  3.40it/s]\n"
     ]
    },
    {
     "name": "stdout",
     "output_type": "stream",
     "text": [
      "                   all         22         46      0.935      0.724      0.843      0.676      0.906      0.711      0.805      0.571\n",
      "\n",
      "      Epoch    GPU_mem   box_loss   seg_loss   cls_loss   dfl_loss  Instances       Size\n"
     ]
    },
    {
     "name": "stderr",
     "output_type": "stream",
     "text": [
      "    114/150      3.02G     0.5301      1.113     0.5291      0.855         41        640: 100%|██████████| 6/6 [00:01<00:00,  4.63it/s]\n",
      "                 Class     Images  Instances      Box(P          R      mAP50  mAP50-95)     Mask(P          R      mAP50  mAP50-95): 100%|██████████| 1/1 [00:00<00:00,  3.27it/s]\n"
     ]
    },
    {
     "name": "stdout",
     "output_type": "stream",
     "text": [
      "                   all         22         46      0.833      0.783      0.847      0.674      0.924       0.69      0.817      0.575\n",
      "\n",
      "      Epoch    GPU_mem   box_loss   seg_loss   cls_loss   dfl_loss  Instances       Size\n"
     ]
    },
    {
     "name": "stderr",
     "output_type": "stream",
     "text": [
      "    115/150      2.96G     0.5452     0.9872     0.5353     0.8695         37        640: 100%|██████████| 6/6 [00:01<00:00,  4.88it/s]\n",
      "                 Class     Images  Instances      Box(P          R      mAP50  mAP50-95)     Mask(P          R      mAP50  mAP50-95): 100%|██████████| 1/1 [00:00<00:00,  3.36it/s]\n"
     ]
    },
    {
     "name": "stdout",
     "output_type": "stream",
     "text": [
      "                   all         22         46      0.835      0.781      0.852      0.686      0.792      0.763      0.818       0.59\n",
      "\n",
      "      Epoch    GPU_mem   box_loss   seg_loss   cls_loss   dfl_loss  Instances       Size\n"
     ]
    },
    {
     "name": "stderr",
     "output_type": "stream",
     "text": [
      "    116/150      2.93G     0.5602      1.119     0.5994     0.8825         28        640: 100%|██████████| 6/6 [00:01<00:00,  4.77it/s]\n",
      "                 Class     Images  Instances      Box(P          R      mAP50  mAP50-95)     Mask(P          R      mAP50  mAP50-95): 100%|██████████| 1/1 [00:00<00:00,  3.36it/s]\n"
     ]
    },
    {
     "name": "stdout",
     "output_type": "stream",
     "text": [
      "                   all         22         46      0.894      0.804      0.851      0.697      0.852       0.78      0.808      0.584\n",
      "\n",
      "      Epoch    GPU_mem   box_loss   seg_loss   cls_loss   dfl_loss  Instances       Size\n"
     ]
    },
    {
     "name": "stderr",
     "output_type": "stream",
     "text": [
      "    117/150      2.98G     0.5613      1.139     0.5358     0.8487         34        640: 100%|██████████| 6/6 [00:01<00:00,  4.81it/s]\n",
      "                 Class     Images  Instances      Box(P          R      mAP50  mAP50-95)     Mask(P          R      mAP50  mAP50-95): 100%|██████████| 1/1 [00:00<00:00,  3.26it/s]\n"
     ]
    },
    {
     "name": "stdout",
     "output_type": "stream",
     "text": [
      "                   all         22         46      0.917      0.804      0.855      0.695      0.896      0.791      0.839      0.606\n",
      "\n",
      "      Epoch    GPU_mem   box_loss   seg_loss   cls_loss   dfl_loss  Instances       Size\n"
     ]
    },
    {
     "name": "stderr",
     "output_type": "stream",
     "text": [
      "    118/150      3.05G     0.5672      1.075     0.5284     0.8757         35        640: 100%|██████████| 6/6 [00:01<00:00,  4.76it/s]\n",
      "                 Class     Images  Instances      Box(P          R      mAP50  mAP50-95)     Mask(P          R      mAP50  mAP50-95): 100%|██████████| 1/1 [00:00<00:00,  3.37it/s]\n"
     ]
    },
    {
     "name": "stdout",
     "output_type": "stream",
     "text": [
      "                   all         22         46      0.926      0.798      0.856      0.689      0.926      0.798      0.849      0.599\n",
      "\n",
      "      Epoch    GPU_mem   box_loss   seg_loss   cls_loss   dfl_loss  Instances       Size\n"
     ]
    },
    {
     "name": "stderr",
     "output_type": "stream",
     "text": [
      "    119/150      2.94G     0.5761      1.143     0.5684     0.8828         23        640: 100%|██████████| 6/6 [00:01<00:00,  4.88it/s]\n",
      "                 Class     Images  Instances      Box(P          R      mAP50  mAP50-95)     Mask(P          R      mAP50  mAP50-95): 100%|██████████| 1/1 [00:00<00:00,  3.48it/s]\n"
     ]
    },
    {
     "name": "stdout",
     "output_type": "stream",
     "text": [
      "                   all         22         46      0.913      0.798      0.858      0.681      0.924      0.771       0.81      0.607\n",
      "\n",
      "      Epoch    GPU_mem   box_loss   seg_loss   cls_loss   dfl_loss  Instances       Size\n"
     ]
    },
    {
     "name": "stderr",
     "output_type": "stream",
     "text": [
      "    120/150      2.96G     0.5433      1.106     0.5182     0.8639         37        640: 100%|██████████| 6/6 [00:01<00:00,  4.87it/s]\n",
      "                 Class     Images  Instances      Box(P          R      mAP50  mAP50-95)     Mask(P          R      mAP50  mAP50-95): 100%|██████████| 1/1 [00:00<00:00,  3.42it/s]\n"
     ]
    },
    {
     "name": "stdout",
     "output_type": "stream",
     "text": [
      "                   all         22         46      0.907      0.805      0.851      0.684      0.887      0.792      0.818      0.591\n",
      "\n",
      "      Epoch    GPU_mem   box_loss   seg_loss   cls_loss   dfl_loss  Instances       Size\n"
     ]
    },
    {
     "name": "stderr",
     "output_type": "stream",
     "text": [
      "    121/150      3.05G     0.5208      1.034      0.538     0.8636         45        640: 100%|██████████| 6/6 [00:01<00:00,  4.97it/s]\n",
      "                 Class     Images  Instances      Box(P          R      mAP50  mAP50-95)     Mask(P          R      mAP50  mAP50-95): 100%|██████████| 1/1 [00:00<00:00,  3.34it/s]\n"
     ]
    },
    {
     "name": "stdout",
     "output_type": "stream",
     "text": [
      "                   all         22         46      0.952       0.81      0.853      0.689      0.893      0.804      0.816      0.603\n",
      "\n",
      "      Epoch    GPU_mem   box_loss   seg_loss   cls_loss   dfl_loss  Instances       Size\n"
     ]
    },
    {
     "name": "stderr",
     "output_type": "stream",
     "text": [
      "    122/150      2.93G     0.5243      1.063     0.5388     0.8804         36        640: 100%|██████████| 6/6 [00:01<00:00,  4.69it/s]\n",
      "                 Class     Images  Instances      Box(P          R      mAP50  mAP50-95)     Mask(P          R      mAP50  mAP50-95): 100%|██████████| 1/1 [00:00<00:00,  3.43it/s]\n"
     ]
    },
    {
     "name": "stdout",
     "output_type": "stream",
     "text": [
      "                   all         22         46      0.924      0.813      0.853      0.702      0.863      0.793      0.801      0.599\n",
      "\n",
      "      Epoch    GPU_mem   box_loss   seg_loss   cls_loss   dfl_loss  Instances       Size\n"
     ]
    },
    {
     "name": "stderr",
     "output_type": "stream",
     "text": [
      "    123/150      3.03G     0.5043      1.094     0.5089     0.8605         28        640: 100%|██████████| 6/6 [00:01<00:00,  5.08it/s]\n",
      "                 Class     Images  Instances      Box(P          R      mAP50  mAP50-95)     Mask(P          R      mAP50  mAP50-95): 100%|██████████| 1/1 [00:00<00:00,  3.29it/s]\n"
     ]
    },
    {
     "name": "stdout",
     "output_type": "stream",
     "text": [
      "                   all         22         46      0.915      0.809      0.858      0.703      0.839      0.781      0.786      0.593\n",
      "\n",
      "      Epoch    GPU_mem   box_loss   seg_loss   cls_loss   dfl_loss  Instances       Size\n"
     ]
    },
    {
     "name": "stderr",
     "output_type": "stream",
     "text": [
      "    124/150         3G     0.5055      1.025     0.5162     0.8763         30        640: 100%|██████████| 6/6 [00:01<00:00,  4.78it/s]\n",
      "                 Class     Images  Instances      Box(P          R      mAP50  mAP50-95)     Mask(P          R      mAP50  mAP50-95): 100%|██████████| 1/1 [00:00<00:00,  3.36it/s]\n"
     ]
    },
    {
     "name": "stdout",
     "output_type": "stream",
     "text": [
      "                   all         22         46      0.962      0.803      0.867      0.719       0.89      0.767      0.804      0.601\n",
      "\n",
      "      Epoch    GPU_mem   box_loss   seg_loss   cls_loss   dfl_loss  Instances       Size\n"
     ]
    },
    {
     "name": "stderr",
     "output_type": "stream",
     "text": [
      "    125/150      2.94G     0.5137      1.064     0.4958     0.8514         44        640: 100%|██████████| 6/6 [00:01<00:00,  4.98it/s]\n",
      "                 Class     Images  Instances      Box(P          R      mAP50  mAP50-95)     Mask(P          R      mAP50  mAP50-95): 100%|██████████| 1/1 [00:00<00:00,  3.44it/s]\n"
     ]
    },
    {
     "name": "stdout",
     "output_type": "stream",
     "text": [
      "                   all         22         46      0.907      0.814      0.867      0.717      0.847      0.776      0.806      0.601\n",
      "\n",
      "      Epoch    GPU_mem   box_loss   seg_loss   cls_loss   dfl_loss  Instances       Size\n"
     ]
    },
    {
     "name": "stderr",
     "output_type": "stream",
     "text": [
      "    126/150      2.99G     0.5351      1.115     0.5406     0.8771         39        640: 100%|██████████| 6/6 [00:01<00:00,  4.64it/s]\n",
      "                 Class     Images  Instances      Box(P          R      mAP50  mAP50-95)     Mask(P          R      mAP50  mAP50-95): 100%|██████████| 1/1 [00:00<00:00,  3.59it/s]\n"
     ]
    },
    {
     "name": "stdout",
     "output_type": "stream",
     "text": [
      "                   all         22         46       0.91      0.813      0.864      0.715      0.961      0.757       0.83      0.615\n",
      "\n",
      "      Epoch    GPU_mem   box_loss   seg_loss   cls_loss   dfl_loss  Instances       Size\n"
     ]
    },
    {
     "name": "stderr",
     "output_type": "stream",
     "text": [
      "    127/150      2.92G     0.5094       1.06     0.5039     0.8502         43        640: 100%|██████████| 6/6 [00:01<00:00,  5.02it/s]\n",
      "                 Class     Images  Instances      Box(P          R      mAP50  mAP50-95)     Mask(P          R      mAP50  mAP50-95): 100%|██████████| 1/1 [00:00<00:00,  3.40it/s]\n"
     ]
    },
    {
     "name": "stdout",
     "output_type": "stream",
     "text": [
      "                   all         22         46      0.921      0.816      0.863      0.715      0.962      0.765      0.826       0.62\n",
      "\n",
      "      Epoch    GPU_mem   box_loss   seg_loss   cls_loss   dfl_loss  Instances       Size\n"
     ]
    },
    {
     "name": "stderr",
     "output_type": "stream",
     "text": [
      "    128/150      2.92G     0.5191     0.9792      0.546     0.9025         18        640: 100%|██████████| 6/6 [00:01<00:00,  4.78it/s]\n",
      "                 Class     Images  Instances      Box(P          R      mAP50  mAP50-95)     Mask(P          R      mAP50  mAP50-95): 100%|██████████| 1/1 [00:00<00:00,  3.50it/s]\n"
     ]
    },
    {
     "name": "stdout",
     "output_type": "stream",
     "text": [
      "                   all         22         46      0.927      0.818      0.862      0.705      0.948      0.767      0.819      0.634\n",
      "\n",
      "      Epoch    GPU_mem   box_loss   seg_loss   cls_loss   dfl_loss  Instances       Size\n"
     ]
    },
    {
     "name": "stderr",
     "output_type": "stream",
     "text": [
      "    129/150      2.91G     0.5201      1.055     0.5103     0.8599         53        640: 100%|██████████| 6/6 [00:01<00:00,  4.89it/s]\n",
      "                 Class     Images  Instances      Box(P          R      mAP50  mAP50-95)     Mask(P          R      mAP50  mAP50-95): 100%|██████████| 1/1 [00:00<00:00,  3.40it/s]\n"
     ]
    },
    {
     "name": "stdout",
     "output_type": "stream",
     "text": [
      "                   all         22         46      0.933      0.813      0.867      0.701      0.947      0.765      0.812      0.622\n",
      "\n",
      "      Epoch    GPU_mem   box_loss   seg_loss   cls_loss   dfl_loss  Instances       Size\n"
     ]
    },
    {
     "name": "stderr",
     "output_type": "stream",
     "text": [
      "    130/150      2.98G     0.5277      1.108     0.5194     0.8656         37        640: 100%|██████████| 6/6 [00:01<00:00,  4.72it/s]\n",
      "                 Class     Images  Instances      Box(P          R      mAP50  mAP50-95)     Mask(P          R      mAP50  mAP50-95): 100%|██████████| 1/1 [00:00<00:00,  3.39it/s]\n"
     ]
    },
    {
     "name": "stdout",
     "output_type": "stream",
     "text": [
      "                   all         22         46      0.976      0.805      0.867      0.704      0.902      0.781      0.818       0.61\n",
      "\n",
      "      Epoch    GPU_mem   box_loss   seg_loss   cls_loss   dfl_loss  Instances       Size\n"
     ]
    },
    {
     "name": "stderr",
     "output_type": "stream",
     "text": [
      "    131/150      3.03G     0.5344      1.101     0.5311     0.8627         39        640: 100%|██████████| 6/6 [00:01<00:00,  4.80it/s]\n",
      "                 Class     Images  Instances      Box(P          R      mAP50  mAP50-95)     Mask(P          R      mAP50  mAP50-95): 100%|██████████| 1/1 [00:00<00:00,  3.39it/s]\n"
     ]
    },
    {
     "name": "stdout",
     "output_type": "stream",
     "text": [
      "                   all         22         46      0.967      0.805      0.867      0.693      0.958      0.771       0.82      0.606\n",
      "\n",
      "      Epoch    GPU_mem   box_loss   seg_loss   cls_loss   dfl_loss  Instances       Size\n"
     ]
    },
    {
     "name": "stderr",
     "output_type": "stream",
     "text": [
      "    132/150      3.06G     0.5065      1.025     0.5076     0.8472         49        640: 100%|██████████| 6/6 [00:01<00:00,  4.74it/s]\n",
      "                 Class     Images  Instances      Box(P          R      mAP50  mAP50-95)     Mask(P          R      mAP50  mAP50-95): 100%|██████████| 1/1 [00:00<00:00,  3.47it/s]\n"
     ]
    },
    {
     "name": "stdout",
     "output_type": "stream",
     "text": [
      "                   all         22         46       0.98      0.794      0.865      0.702       0.84      0.787      0.785      0.596\n",
      "\n",
      "      Epoch    GPU_mem   box_loss   seg_loss   cls_loss   dfl_loss  Instances       Size\n"
     ]
    },
    {
     "name": "stderr",
     "output_type": "stream",
     "text": [
      "    133/150      3.03G     0.4877      1.088     0.5018     0.8605         36        640: 100%|██████████| 6/6 [00:01<00:00,  4.89it/s]\n",
      "                 Class     Images  Instances      Box(P          R      mAP50  mAP50-95)     Mask(P          R      mAP50  mAP50-95): 100%|██████████| 1/1 [00:00<00:00,  3.22it/s]\n"
     ]
    },
    {
     "name": "stdout",
     "output_type": "stream",
     "text": [
      "                   all         22         46      0.982      0.793      0.865      0.699       0.84      0.788      0.785      0.592\n",
      "\n",
      "      Epoch    GPU_mem   box_loss   seg_loss   cls_loss   dfl_loss  Instances       Size\n"
     ]
    },
    {
     "name": "stderr",
     "output_type": "stream",
     "text": [
      "    134/150       3.1G     0.5236      1.091     0.5164     0.8816         24        640: 100%|██████████| 6/6 [00:01<00:00,  4.61it/s]\n",
      "                 Class     Images  Instances      Box(P          R      mAP50  mAP50-95)     Mask(P          R      mAP50  mAP50-95): 100%|██████████| 1/1 [00:00<00:00,  3.26it/s]\n"
     ]
    },
    {
     "name": "stdout",
     "output_type": "stream",
     "text": [
      "                   all         22         46      0.978      0.795       0.86      0.709      0.855      0.799      0.792      0.606\n",
      "\n",
      "      Epoch    GPU_mem   box_loss   seg_loss   cls_loss   dfl_loss  Instances       Size\n"
     ]
    },
    {
     "name": "stderr",
     "output_type": "stream",
     "text": [
      "    135/150      2.99G     0.5285      1.083     0.5079      0.857         44        640: 100%|██████████| 6/6 [00:01<00:00,  4.82it/s]\n",
      "                 Class     Images  Instances      Box(P          R      mAP50  mAP50-95)     Mask(P          R      mAP50  mAP50-95): 100%|██████████| 1/1 [00:00<00:00,  3.36it/s]\n"
     ]
    },
    {
     "name": "stdout",
     "output_type": "stream",
     "text": [
      "                   all         22         46      0.971      0.799      0.866      0.709      0.863      0.788      0.792      0.607\n",
      "\n",
      "      Epoch    GPU_mem   box_loss   seg_loss   cls_loss   dfl_loss  Instances       Size\n"
     ]
    },
    {
     "name": "stderr",
     "output_type": "stream",
     "text": [
      "    136/150      3.01G     0.4927     0.9984     0.4859     0.8684         31        640: 100%|██████████| 6/6 [00:01<00:00,  4.75it/s]\n",
      "                 Class     Images  Instances      Box(P          R      mAP50  mAP50-95)     Mask(P          R      mAP50  mAP50-95): 100%|██████████| 1/1 [00:00<00:00,  3.58it/s]\n"
     ]
    },
    {
     "name": "stdout",
     "output_type": "stream",
     "text": [
      "                   all         22         46       0.97      0.797      0.867      0.713      0.861      0.789      0.792      0.605\n",
      "\n",
      "      Epoch    GPU_mem   box_loss   seg_loss   cls_loss   dfl_loss  Instances       Size\n"
     ]
    },
    {
     "name": "stderr",
     "output_type": "stream",
     "text": [
      "    137/150      2.95G     0.4802     0.9906     0.4828     0.8619         35        640: 100%|██████████| 6/6 [00:01<00:00,  4.86it/s]\n",
      "                 Class     Images  Instances      Box(P          R      mAP50  mAP50-95)     Mask(P          R      mAP50  mAP50-95): 100%|██████████| 1/1 [00:00<00:00,  3.60it/s]\n"
     ]
    },
    {
     "name": "stdout",
     "output_type": "stream",
     "text": [
      "                   all         22         46      0.967      0.795       0.87        0.7      0.894      0.759       0.78      0.601\n",
      "\n",
      "      Epoch    GPU_mem   box_loss   seg_loss   cls_loss   dfl_loss  Instances       Size\n"
     ]
    },
    {
     "name": "stderr",
     "output_type": "stream",
     "text": [
      "    138/150      3.01G      0.516      1.109     0.5049     0.8573         32        640: 100%|██████████| 6/6 [00:01<00:00,  4.73it/s]\n",
      "                 Class     Images  Instances      Box(P          R      mAP50  mAP50-95)     Mask(P          R      mAP50  mAP50-95): 100%|██████████| 1/1 [00:00<00:00,  3.39it/s]\n"
     ]
    },
    {
     "name": "stdout",
     "output_type": "stream",
     "text": [
      "                   all         22         46      0.959      0.795      0.867      0.705      0.892      0.757       0.79      0.606\n",
      "\n",
      "      Epoch    GPU_mem   box_loss   seg_loss   cls_loss   dfl_loss  Instances       Size\n"
     ]
    },
    {
     "name": "stderr",
     "output_type": "stream",
     "text": [
      "    139/150      2.99G     0.5574      1.091     0.5061     0.8977         29        640: 100%|██████████| 6/6 [00:01<00:00,  5.00it/s]\n",
      "                 Class     Images  Instances      Box(P          R      mAP50  mAP50-95)     Mask(P          R      mAP50  mAP50-95): 100%|██████████| 1/1 [00:00<00:00,  3.44it/s]\n"
     ]
    },
    {
     "name": "stdout",
     "output_type": "stream",
     "text": [
      "                   all         22         46      0.971      0.794      0.868      0.715      0.905      0.754      0.791      0.602\n",
      "\n",
      "      Epoch    GPU_mem   box_loss   seg_loss   cls_loss   dfl_loss  Instances       Size\n"
     ]
    },
    {
     "name": "stderr",
     "output_type": "stream",
     "text": [
      "    140/150      3.01G     0.4689     0.9865     0.4759     0.8479         22        640: 100%|██████████| 6/6 [00:01<00:00,  4.74it/s]\n",
      "                 Class     Images  Instances      Box(P          R      mAP50  mAP50-95)     Mask(P          R      mAP50  mAP50-95): 100%|██████████| 1/1 [00:00<00:00,  3.42it/s]\n"
     ]
    },
    {
     "name": "stdout",
     "output_type": "stream",
     "text": [
      "                   all         22         46      0.919        0.8       0.87      0.716       0.91      0.756      0.794      0.607\n",
      "Closing dataloader mosaic\n",
      "\u001b[34m\u001b[1malbumentations: \u001b[0mBlur(p=0.01, blur_limit=(3, 7)), MedianBlur(p=0.01, blur_limit=(3, 7)), ToGray(p=0.01), CLAHE(p=0.01, clip_limit=(1, 4.0), tile_grid_size=(8, 8))\n",
      "\n",
      "      Epoch    GPU_mem   box_loss   seg_loss   cls_loss   dfl_loss  Instances       Size\n"
     ]
    },
    {
     "name": "stderr",
     "output_type": "stream",
     "text": [
      "    141/150      2.84G     0.5173      1.174     0.6371     0.8448         20        640: 100%|██████████| 6/6 [00:02<00:00,  2.92it/s]\n",
      "                 Class     Images  Instances      Box(P          R      mAP50  mAP50-95)     Mask(P          R      mAP50  mAP50-95): 100%|██████████| 1/1 [00:00<00:00,  2.79it/s]\n"
     ]
    },
    {
     "name": "stdout",
     "output_type": "stream",
     "text": [
      "                   all         22         46      0.969      0.783      0.867      0.715      0.907      0.754      0.792      0.609\n",
      "\n",
      "      Epoch    GPU_mem   box_loss   seg_loss   cls_loss   dfl_loss  Instances       Size\n"
     ]
    },
    {
     "name": "stderr",
     "output_type": "stream",
     "text": [
      "    142/150      2.88G     0.5332      1.107     0.6319     0.8488         25        640: 100%|██████████| 6/6 [00:01<00:00,  4.82it/s]\n",
      "                 Class     Images  Instances      Box(P          R      mAP50  mAP50-95)     Mask(P          R      mAP50  mAP50-95): 100%|██████████| 1/1 [00:00<00:00,  3.27it/s]\n"
     ]
    },
    {
     "name": "stdout",
     "output_type": "stream",
     "text": [
      "                   all         22         46      0.952      0.793      0.863      0.709      0.908      0.756        0.8      0.606\n",
      "\n",
      "      Epoch    GPU_mem   box_loss   seg_loss   cls_loss   dfl_loss  Instances       Size\n"
     ]
    },
    {
     "name": "stderr",
     "output_type": "stream",
     "text": [
      "    143/150      2.88G     0.4975      1.052     0.5343      0.817         13        640: 100%|██████████| 6/6 [00:01<00:00,  4.43it/s]\n",
      "                 Class     Images  Instances      Box(P          R      mAP50  mAP50-95)     Mask(P          R      mAP50  mAP50-95): 100%|██████████| 1/1 [00:00<00:00,  3.22it/s]\n"
     ]
    },
    {
     "name": "stdout",
     "output_type": "stream",
     "text": [
      "                   all         22         46      0.954      0.793      0.861      0.706      0.899      0.759      0.799      0.607\n",
      "\n",
      "      Epoch    GPU_mem   box_loss   seg_loss   cls_loss   dfl_loss  Instances       Size\n"
     ]
    },
    {
     "name": "stderr",
     "output_type": "stream",
     "text": [
      "    144/150      2.85G     0.4782     0.9674     0.5263     0.8531         16        640: 100%|██████████| 6/6 [00:01<00:00,  4.89it/s]\n",
      "                 Class     Images  Instances      Box(P          R      mAP50  mAP50-95)     Mask(P          R      mAP50  mAP50-95): 100%|██████████| 1/1 [00:00<00:00,  3.43it/s]\n"
     ]
    },
    {
     "name": "stdout",
     "output_type": "stream",
     "text": [
      "                   all         22         46      0.922      0.808      0.859      0.705      0.922       0.77      0.826      0.607\n",
      "\n",
      "      Epoch    GPU_mem   box_loss   seg_loss   cls_loss   dfl_loss  Instances       Size\n"
     ]
    },
    {
     "name": "stderr",
     "output_type": "stream",
     "text": [
      "    145/150      2.88G     0.5212      1.048     0.5357     0.8377         20        640: 100%|██████████| 6/6 [00:01<00:00,  5.01it/s]\n",
      "                 Class     Images  Instances      Box(P          R      mAP50  mAP50-95)     Mask(P          R      mAP50  mAP50-95): 100%|██████████| 1/1 [00:00<00:00,  3.04it/s]\n"
     ]
    },
    {
     "name": "stdout",
     "output_type": "stream",
     "text": [
      "                   all         22         46      0.933      0.809      0.857      0.709      0.887       0.79      0.825      0.605\n",
      "\n",
      "      Epoch    GPU_mem   box_loss   seg_loss   cls_loss   dfl_loss  Instances       Size\n"
     ]
    },
    {
     "name": "stderr",
     "output_type": "stream",
     "text": [
      "    146/150      2.91G     0.4532      1.069     0.5163     0.8378         21        640: 100%|██████████| 6/6 [00:01<00:00,  4.75it/s]\n",
      "                 Class     Images  Instances      Box(P          R      mAP50  mAP50-95)     Mask(P          R      mAP50  mAP50-95): 100%|██████████| 1/1 [00:00<00:00,  3.41it/s]\n"
     ]
    },
    {
     "name": "stdout",
     "output_type": "stream",
     "text": [
      "                   all         22         46      0.917      0.789      0.851      0.703      0.871      0.768      0.827      0.604\n",
      "\n",
      "      Epoch    GPU_mem   box_loss   seg_loss   cls_loss   dfl_loss  Instances       Size\n"
     ]
    },
    {
     "name": "stderr",
     "output_type": "stream",
     "text": [
      "    147/150      2.84G     0.4797       1.07     0.5387     0.8308         14        640: 100%|██████████| 6/6 [00:01<00:00,  5.00it/s]\n",
      "                 Class     Images  Instances      Box(P          R      mAP50  mAP50-95)     Mask(P          R      mAP50  mAP50-95): 100%|██████████| 1/1 [00:00<00:00,  3.52it/s]\n"
     ]
    },
    {
     "name": "stdout",
     "output_type": "stream",
     "text": [
      "                   all         22         46      0.938      0.811      0.854      0.705      0.896      0.798       0.83      0.604\n",
      "\n",
      "      Epoch    GPU_mem   box_loss   seg_loss   cls_loss   dfl_loss  Instances       Size\n"
     ]
    },
    {
     "name": "stderr",
     "output_type": "stream",
     "text": [
      "    148/150       2.9G     0.4635      1.049     0.5058     0.7989         12        640: 100%|██████████| 6/6 [00:01<00:00,  4.64it/s]\n",
      "                 Class     Images  Instances      Box(P          R      mAP50  mAP50-95)     Mask(P          R      mAP50  mAP50-95): 100%|██████████| 1/1 [00:00<00:00,  3.45it/s]\n"
     ]
    },
    {
     "name": "stdout",
     "output_type": "stream",
     "text": [
      "                   all         22         46      0.933      0.809      0.848      0.704      0.898        0.8      0.829      0.603\n",
      "\n",
      "      Epoch    GPU_mem   box_loss   seg_loss   cls_loss   dfl_loss  Instances       Size\n"
     ]
    },
    {
     "name": "stderr",
     "output_type": "stream",
     "text": [
      "    149/150      2.92G     0.4381     0.9466     0.4813     0.8033         22        640: 100%|██████████| 6/6 [00:01<00:00,  4.94it/s]\n",
      "                 Class     Images  Instances      Box(P          R      mAP50  mAP50-95)     Mask(P          R      mAP50  mAP50-95): 100%|██████████| 1/1 [00:00<00:00,  3.62it/s]\n"
     ]
    },
    {
     "name": "stdout",
     "output_type": "stream",
     "text": [
      "                   all         22         46      0.934      0.807      0.848      0.701      0.896        0.8       0.83      0.602\n",
      "\n",
      "      Epoch    GPU_mem   box_loss   seg_loss   cls_loss   dfl_loss  Instances       Size\n"
     ]
    },
    {
     "name": "stderr",
     "output_type": "stream",
     "text": [
      "    150/150      2.85G     0.4238     0.9472     0.4972     0.8332         13        640: 100%|██████████| 6/6 [00:01<00:00,  4.77it/s]\n",
      "                 Class     Images  Instances      Box(P          R      mAP50  mAP50-95)     Mask(P          R      mAP50  mAP50-95): 100%|██████████| 1/1 [00:00<00:00,  3.51it/s]\n"
     ]
    },
    {
     "name": "stdout",
     "output_type": "stream",
     "text": [
      "                   all         22         46      0.937      0.808      0.849      0.705      0.902        0.8      0.828      0.604\n",
      "\n",
      "150 epochs completed in 0.093 hours.\n",
      "Optimizer stripped from runs\\segment\\train\\weights\\last.pt, 6.8MB\n",
      "Optimizer stripped from runs\\segment\\train\\weights\\best.pt, 6.8MB\n",
      "\n",
      "Validating runs\\segment\\train\\weights\\best.pt...\n",
      "Ultralytics YOLOv8.0.232 🚀 Python-3.10.5 torch-2.1.1+cu118 CUDA:0 (NVIDIA GeForce RTX 3060, 12288MiB)\n",
      "YOLOv8n-seg summary (fused): 195 layers, 3258844 parameters, 0 gradients, 12.0 GFLOPs\n"
     ]
    },
    {
     "name": "stderr",
     "output_type": "stream",
     "text": [
      "                 Class     Images  Instances      Box(P          R      mAP50  mAP50-95)     Mask(P          R      mAP50  mAP50-95): 100%|██████████| 1/1 [00:00<00:00,  3.42it/s]\n"
     ]
    },
    {
     "name": "stdout",
     "output_type": "stream",
     "text": [
      "                   all         22         46      0.927      0.818      0.862      0.702      0.948      0.766      0.819      0.634\n",
      "            yellow_car         22         11      0.943          1      0.995      0.894      0.968          1      0.995      0.809\n",
      "             green_car         22          9      0.957      0.889      0.888      0.707      0.998      0.889      0.888       0.73\n",
      "             white_car         22          6      0.893      0.833      0.836      0.816          1      0.827      0.836      0.719\n",
      "                linces         22         20      0.914       0.55      0.727      0.393      0.825       0.35      0.556      0.278\n",
      "Speed: 0.7ms preprocess, 2.4ms inference, 0.0ms loss, 0.8ms postprocess per image\n",
      "Results saved to \u001b[1mruns\\segment\\train\u001b[0m\n",
      "training time : 486.6880099773407 seconds\n",
      "Ultralytics YOLOv8.0.232 🚀 Python-3.10.5 torch-2.1.1+cu118 CPU (12th Gen Intel Core(TM) i7-12700F)\n",
      "YOLOv8n-seg summary (fused): 195 layers, 3258844 parameters, 0 gradients, 12.0 GFLOPs\n",
      "\n",
      "\u001b[34m\u001b[1mPyTorch:\u001b[0m starting from 'runs\\segment\\train\\weights\\best.pt' with input shape (1, 3, 640, 640) BCHW and output shape(s) ((1, 40, 8400), (1, 32, 160, 160)) (6.5 MB)\n",
      "\n",
      "\u001b[34m\u001b[1mTorchScript:\u001b[0m starting export with torch 2.1.1+cu118...\n",
      "\u001b[34m\u001b[1mTorchScript:\u001b[0m export success ✅ 2.6s, saved as 'runs\\segment\\train\\weights\\best.torchscript' (12.9 MB)\n",
      "\n",
      "Export complete (4.5s)\n",
      "Results saved to \u001b[1mC:\\Users\\ggoch2\\Desktop\\Yolov8\\runs\\segment\\train\\weights\u001b[0m\n",
      "Predict:         yolo predict task=segment model=runs\\segment\\train\\weights\\best.torchscript imgsz=640  \n",
      "Validate:        yolo val task=segment model=runs\\segment\\train\\weights\\best.torchscript imgsz=640 data=./data.yaml  \n",
      "Visualize:       https://netron.app\n",
      "model export path : runs\\segment\\train\\weights\\best.torchscript\n"
     ]
    }
   ],
   "source": [
    "# 開始訓練\n",
    "\n",
    "model_output_path = \"./runs/segment/train\"\n",
    "data_yaml_path = \"./data.yaml\"\n",
    "\n",
    "if __name__ == \"__main__\":\n",
    "    # yaml裡面的data路徑從datasets開始\n",
    "    train.train_model(model_output_path,data_yaml_path,epochs=150)"
   ]
  },
  {
   "cell_type": "code",
   "execution_count": null,
   "metadata": {},
   "outputs": [
    {
     "name": "stdout",
     "output_type": "stream",
     "text": [
      "\n",
      "0: 384x640 1 green_car, 50.8ms\n",
      "Speed: 3.4ms preprocess, 50.8ms inference, 3.0ms postprocess per image at shape (1, 3, 384, 640)\n",
      "\n",
      "0: 384x640 1 green_car, 1 linces, 6.0ms\n",
      "Speed: 2.0ms preprocess, 6.0ms inference, 2.0ms postprocess per image at shape (1, 3, 384, 640)\n",
      "\n",
      "0: 384x640 1 green_car, 2 lincess, 5.0ms\n",
      "Speed: 1.0ms preprocess, 5.0ms inference, 2.0ms postprocess per image at shape (1, 3, 384, 640)\n",
      "\n",
      "0: 384x640 1 green_car, 2 lincess, 8.0ms\n",
      "Speed: 1.0ms preprocess, 8.0ms inference, 2.0ms postprocess per image at shape (1, 3, 384, 640)\n",
      "\n",
      "0: 384x640 1 green_car, 2 lincess, 6.0ms\n",
      "Speed: 1.0ms preprocess, 6.0ms inference, 2.0ms postprocess per image at shape (1, 3, 384, 640)\n",
      "\n",
      "0: 384x640 1 green_car, 1 linces, 5.0ms\n",
      "Speed: 2.0ms preprocess, 5.0ms inference, 2.0ms postprocess per image at shape (1, 3, 384, 640)\n",
      "\n",
      "0: 384x640 1 green_car, 5.0ms\n",
      "Speed: 2.0ms preprocess, 5.0ms inference, 2.0ms postprocess per image at shape (1, 3, 384, 640)\n",
      "\n",
      "0: 384x640 1 green_car, 1 linces, 5.0ms\n",
      "Speed: 1.0ms preprocess, 5.0ms inference, 2.5ms postprocess per image at shape (1, 3, 384, 640)\n",
      "\n",
      "0: 384x640 1 green_car, 1 linces, 6.0ms\n",
      "Speed: 1.0ms preprocess, 6.0ms inference, 2.0ms postprocess per image at shape (1, 3, 384, 640)\n",
      "\n",
      "0: 384x640 1 green_car, 1 linces, 6.0ms\n",
      "Speed: 1.0ms preprocess, 6.0ms inference, 2.0ms postprocess per image at shape (1, 3, 384, 640)\n",
      "\n",
      "0: 384x640 1 green_car, 1 linces, 9.0ms\n",
      "Speed: 1.0ms preprocess, 9.0ms inference, 2.0ms postprocess per image at shape (1, 3, 384, 640)\n",
      "\n",
      "0: 384x640 1 green_car, 1 linces, 5.0ms\n",
      "Speed: 2.0ms preprocess, 5.0ms inference, 2.0ms postprocess per image at shape (1, 3, 384, 640)\n",
      "\n",
      "0: 384x640 1 green_car, 1 linces, 5.1ms\n",
      "Speed: 1.0ms preprocess, 5.1ms inference, 2.0ms postprocess per image at shape (1, 3, 384, 640)\n",
      "\n",
      "0: 384x640 1 green_car, 1 linces, 6.0ms\n",
      "Speed: 2.0ms preprocess, 6.0ms inference, 1.0ms postprocess per image at shape (1, 3, 384, 640)\n",
      "\n",
      "0: 384x640 1 green_car, 1 linces, 5.5ms\n",
      "Speed: 1.0ms preprocess, 5.5ms inference, 2.0ms postprocess per image at shape (1, 3, 384, 640)\n",
      "\n",
      "0: 384x640 1 green_car, 1 linces, 5.0ms\n",
      "Speed: 1.0ms preprocess, 5.0ms inference, 2.0ms postprocess per image at shape (1, 3, 384, 640)\n",
      "\n",
      "0: 384x640 1 green_car, 1 linces, 5.0ms\n",
      "Speed: 1.0ms preprocess, 5.0ms inference, 2.0ms postprocess per image at shape (1, 3, 384, 640)\n",
      "\n",
      "0: 384x640 1 green_car, 1 linces, 5.0ms\n",
      "Speed: 2.0ms preprocess, 5.0ms inference, 1.0ms postprocess per image at shape (1, 3, 384, 640)\n",
      "\n",
      "0: 384x640 1 green_car, 1 linces, 6.0ms\n",
      "Speed: 1.0ms preprocess, 6.0ms inference, 1.0ms postprocess per image at shape (1, 3, 384, 640)\n",
      "\n",
      "0: 384x640 1 green_car, 1 linces, 5.0ms\n",
      "Speed: 1.0ms preprocess, 5.0ms inference, 2.0ms postprocess per image at shape (1, 3, 384, 640)\n",
      "\n",
      "0: 384x640 1 green_car, 1 linces, 0.0ms\n",
      "Speed: 0.0ms preprocess, 0.0ms inference, 0.0ms postprocess per image at shape (1, 3, 384, 640)\n",
      "\n",
      "0: 384x640 1 green_car, 1 linces, 16.4ms\n",
      "Speed: 0.0ms preprocess, 16.4ms inference, 0.0ms postprocess per image at shape (1, 3, 384, 640)\n",
      "\n",
      "0: 384x640 1 green_car, 1 linces, 15.6ms\n",
      "Speed: 0.0ms preprocess, 15.6ms inference, 0.0ms postprocess per image at shape (1, 3, 384, 640)\n",
      "\n",
      "0: 384x640 1 green_car, 1 linces, 9.7ms\n",
      "Speed: 0.0ms preprocess, 9.7ms inference, 0.0ms postprocess per image at shape (1, 3, 384, 640)\n",
      "\n",
      "0: 384x640 1 green_car, 1 linces, 0.0ms\n",
      "Speed: 2.0ms preprocess, 0.0ms inference, 0.0ms postprocess per image at shape (1, 3, 384, 640)\n",
      "\n",
      "0: 384x640 1 green_car, 1 linces, 0.0ms\n",
      "Speed: 7.1ms preprocess, 0.0ms inference, 9.0ms postprocess per image at shape (1, 3, 384, 640)\n",
      "\n",
      "0: 384x640 1 green_car, 1 linces, 0.0ms\n",
      "Speed: 16.3ms preprocess, 0.0ms inference, 0.0ms postprocess per image at shape (1, 3, 384, 640)\n",
      "\n",
      "0: 384x640 1 green_car, 1 linces, 30.8ms\n",
      "Speed: 5.6ms preprocess, 30.8ms inference, 0.0ms postprocess per image at shape (1, 3, 384, 640)\n",
      "\n",
      "0: 384x640 1 green_car, 1 linces, 35.8ms\n",
      "Speed: 11.5ms preprocess, 35.8ms inference, 0.0ms postprocess per image at shape (1, 3, 384, 640)\n",
      "\n",
      "0: 384x640 1 green_car, 1 linces, 32.2ms\n",
      "Speed: 0.0ms preprocess, 32.2ms inference, 15.5ms postprocess per image at shape (1, 3, 384, 640)\n",
      "\n",
      "0: 384x640 1 green_car, 1 linces, 31.2ms\n",
      "Speed: 0.0ms preprocess, 31.2ms inference, 6.0ms postprocess per image at shape (1, 3, 384, 640)\n",
      "\n",
      "0: 384x640 1 green_car, 1 linces, 31.2ms\n",
      "Speed: 0.0ms preprocess, 31.2ms inference, 0.0ms postprocess per image at shape (1, 3, 384, 640)\n",
      "\n",
      "0: 384x640 1 green_car, 1 linces, 15.6ms\n",
      "Speed: 0.0ms preprocess, 15.6ms inference, 0.0ms postprocess per image at shape (1, 3, 384, 640)\n",
      "\n",
      "0: 384x640 1 green_car, 1 linces, 15.6ms\n",
      "Speed: 0.0ms preprocess, 15.6ms inference, 0.0ms postprocess per image at shape (1, 3, 384, 640)\n",
      "\n",
      "0: 384x640 1 green_car, 1 linces, 30.1ms\n",
      "Speed: 0.0ms preprocess, 30.1ms inference, 0.0ms postprocess per image at shape (1, 3, 384, 640)\n",
      "\n",
      "0: 384x640 1 yellow_car, 1 green_car, 15.6ms\n",
      "Speed: 15.6ms preprocess, 15.6ms inference, 0.0ms postprocess per image at shape (1, 3, 384, 640)\n",
      "\n",
      "0: 384x640 1 yellow_car, 1 green_car, 15.0ms\n",
      "Speed: 9.2ms preprocess, 15.0ms inference, 0.0ms postprocess per image at shape (1, 3, 384, 640)\n",
      "\n",
      "0: 384x640 1 yellow_car, 1 green_car, 15.6ms\n",
      "Speed: 0.0ms preprocess, 15.6ms inference, 15.6ms postprocess per image at shape (1, 3, 384, 640)\n",
      "\n",
      "0: 384x640 1 yellow_car, 3.0ms\n",
      "Speed: 0.0ms preprocess, 3.0ms inference, 0.0ms postprocess per image at shape (1, 3, 384, 640)\n",
      "\n",
      "0: 384x640 1 yellow_car, 1 green_car, 2.5ms\n",
      "Speed: 13.3ms preprocess, 2.5ms inference, 0.0ms postprocess per image at shape (1, 3, 384, 640)\n",
      "\n",
      "0: 384x640 1 yellow_car, 18.6ms\n",
      "Speed: 0.0ms preprocess, 18.6ms inference, 0.0ms postprocess per image at shape (1, 3, 384, 640)\n",
      "\n",
      "0: 384x640 1 green_car, 1 linces, 15.6ms\n",
      "Speed: 0.0ms preprocess, 15.6ms inference, 0.0ms postprocess per image at shape (1, 3, 384, 640)\n",
      "\n",
      "0: 384x640 1 green_car, 15.6ms\n",
      "Speed: 0.0ms preprocess, 15.6ms inference, 0.0ms postprocess per image at shape (1, 3, 384, 640)\n",
      "\n",
      "0: 384x640 1 green_car, 15.6ms\n",
      "Speed: 0.0ms preprocess, 15.6ms inference, 0.0ms postprocess per image at shape (1, 3, 384, 640)\n",
      "\n",
      "0: 384x640 1 green_car, 1 linces, 0.0ms\n",
      "Speed: 15.6ms preprocess, 0.0ms inference, 15.6ms postprocess per image at shape (1, 3, 384, 640)\n",
      "\n",
      "0: 384x640 1 green_car, 1 linces, 15.6ms\n",
      "Speed: 0.0ms preprocess, 15.6ms inference, 0.0ms postprocess per image at shape (1, 3, 384, 640)\n",
      "\n",
      "0: 384x640 1 green_car, 1 linces, 15.6ms\n",
      "Speed: 0.0ms preprocess, 15.6ms inference, 0.0ms postprocess per image at shape (1, 3, 384, 640)\n",
      "\n",
      "0: 384x640 1 yellow_car, 1 linces, 11.5ms\n",
      "Speed: 0.0ms preprocess, 11.5ms inference, 0.0ms postprocess per image at shape (1, 3, 384, 640)\n",
      "\n",
      "0: 384x640 1 green_car, 1 linces, 10.0ms\n",
      "Speed: 5.1ms preprocess, 10.0ms inference, 0.0ms postprocess per image at shape (1, 3, 384, 640)\n",
      "\n",
      "0: 384x640 1 yellow_car, 1 linces, 16.6ms\n",
      "Speed: 0.0ms preprocess, 16.6ms inference, 0.0ms postprocess per image at shape (1, 3, 384, 640)\n",
      "\n",
      "0: 384x640 (no detections), 15.6ms\n",
      "Speed: 0.0ms preprocess, 15.6ms inference, 0.0ms postprocess per image at shape (1, 3, 384, 640)\n",
      "\n",
      "0: 384x640 (no detections), 15.6ms\n",
      "Speed: 0.0ms preprocess, 15.6ms inference, 0.0ms postprocess per image at shape (1, 3, 384, 640)\n",
      "\n",
      "0: 384x640 (no detections), 0.0ms\n",
      "Speed: 0.0ms preprocess, 0.0ms inference, 15.8ms postprocess per image at shape (1, 3, 384, 640)\n",
      "\n",
      "0: 384x640 (no detections), 15.6ms\n",
      "Speed: 0.0ms preprocess, 15.6ms inference, 0.0ms postprocess per image at shape (1, 3, 384, 640)\n",
      "\n",
      "0: 384x640 (no detections), 21.6ms\n",
      "Speed: 0.0ms preprocess, 21.6ms inference, 0.0ms postprocess per image at shape (1, 3, 384, 640)\n",
      "\n",
      "0: 384x640 1 linces, 15.6ms\n",
      "Speed: 0.0ms preprocess, 15.6ms inference, 0.0ms postprocess per image at shape (1, 3, 384, 640)\n",
      "\n",
      "0: 384x640 (no detections), 0.0ms\n",
      "Speed: 0.0ms preprocess, 0.0ms inference, 0.0ms postprocess per image at shape (1, 3, 384, 640)\n",
      "\n",
      "0: 384x640 (no detections), 0.0ms\n",
      "Speed: 0.0ms preprocess, 0.0ms inference, 0.0ms postprocess per image at shape (1, 3, 384, 640)\n",
      "\n",
      "0: 384x640 (no detections), 0.0ms\n",
      "Speed: 0.0ms preprocess, 0.0ms inference, 0.0ms postprocess per image at shape (1, 3, 384, 640)\n",
      "\n",
      "0: 384x640 1 yellow_car, 1 green_car, 0.0ms\n",
      "Speed: 16.2ms preprocess, 0.0ms inference, 0.0ms postprocess per image at shape (1, 3, 384, 640)\n",
      "\n",
      "0: 384x640 1 yellow_car, 1 green_car, 0.0ms\n",
      "Speed: 0.0ms preprocess, 0.0ms inference, 0.0ms postprocess per image at shape (1, 3, 384, 640)\n",
      "\n",
      "0: 384x640 1 green_car, 3.5ms\n",
      "Speed: 12.6ms preprocess, 3.5ms inference, 0.0ms postprocess per image at shape (1, 3, 384, 640)\n",
      "\n",
      "0: 384x640 1 yellow_car, 1 green_car, 15.6ms\n",
      "Speed: 0.0ms preprocess, 15.6ms inference, 0.0ms postprocess per image at shape (1, 3, 384, 640)\n",
      "\n",
      "0: 384x640 1 yellow_car, 1 green_car, 0.0ms\n",
      "Speed: 1.1ms preprocess, 0.0ms inference, 0.0ms postprocess per image at shape (1, 3, 384, 640)\n",
      "\n",
      "0: 384x640 1 yellow_car, 1 green_car, 0.0ms\n",
      "Speed: 0.0ms preprocess, 0.0ms inference, 0.0ms postprocess per image at shape (1, 3, 384, 640)\n",
      "\n",
      "0: 384x640 1 yellow_car, 1 green_car, 3.0ms\n",
      "Speed: 13.0ms preprocess, 3.0ms inference, 0.0ms postprocess per image at shape (1, 3, 384, 640)\n",
      "\n",
      "0: 384x640 1 yellow_car, 1 green_car, 0.0ms\n",
      "Speed: 0.0ms preprocess, 0.0ms inference, 15.6ms postprocess per image at shape (1, 3, 384, 640)\n",
      "\n",
      "0: 384x640 1 yellow_car, 1 green_car, 15.6ms\n",
      "Speed: 0.0ms preprocess, 15.6ms inference, 8.2ms postprocess per image at shape (1, 3, 384, 640)\n",
      "\n",
      "0: 384x640 1 yellow_car, 1 green_car, 0.0ms\n",
      "Speed: 0.0ms preprocess, 0.0ms inference, 0.0ms postprocess per image at shape (1, 3, 384, 640)\n",
      "\n",
      "0: 384x640 1 yellow_car, 1 green_car, 7.5ms\n",
      "Speed: 0.0ms preprocess, 7.5ms inference, 0.0ms postprocess per image at shape (1, 3, 384, 640)\n",
      "\n",
      "0: 384x640 1 green_car, 8.5ms\n",
      "Speed: 0.0ms preprocess, 8.5ms inference, 7.5ms postprocess per image at shape (1, 3, 384, 640)\n",
      "\n",
      "0: 384x640 1 green_car, 15.6ms\n",
      "Speed: 0.0ms preprocess, 15.6ms inference, 0.0ms postprocess per image at shape (1, 3, 384, 640)\n",
      "\n",
      "0: 384x640 (no detections), 7.5ms\n",
      "Speed: 0.0ms preprocess, 7.5ms inference, 0.0ms postprocess per image at shape (1, 3, 384, 640)\n",
      "\n",
      "0: 384x640 1 green_car, 11.0ms\n",
      "Speed: 4.7ms preprocess, 11.0ms inference, 0.0ms postprocess per image at shape (1, 3, 384, 640)\n",
      "\n",
      "0: 384x640 1 green_car, 15.2ms\n",
      "Speed: 0.0ms preprocess, 15.2ms inference, 0.0ms postprocess per image at shape (1, 3, 384, 640)\n",
      "\n",
      "0: 384x640 1 green_car, 0.0ms\n",
      "Speed: 0.0ms preprocess, 0.0ms inference, 0.0ms postprocess per image at shape (1, 3, 384, 640)\n",
      "\n",
      "0: 384x640 1 green_car, 15.6ms\n",
      "Speed: 0.0ms preprocess, 15.6ms inference, 0.0ms postprocess per image at shape (1, 3, 384, 640)\n",
      "\n",
      "0: 384x640 (no detections), 0.0ms\n",
      "Speed: 0.0ms preprocess, 0.0ms inference, 0.0ms postprocess per image at shape (1, 3, 384, 640)\n",
      "\n",
      "0: 384x640 1 yellow_car, 15.6ms\n",
      "Speed: 0.0ms preprocess, 15.6ms inference, 0.0ms postprocess per image at shape (1, 3, 384, 640)\n",
      "\n",
      "0: 384x640 1 yellow_car, 15.6ms\n",
      "Speed: 0.0ms preprocess, 15.6ms inference, 0.0ms postprocess per image at shape (1, 3, 384, 640)\n",
      "\n",
      "0: 384x640 1 yellow_car, 0.0ms\n",
      "Speed: 0.0ms preprocess, 0.0ms inference, 15.6ms postprocess per image at shape (1, 3, 384, 640)\n",
      "\n",
      "0: 384x640 (no detections), 15.0ms\n",
      "Speed: 0.0ms preprocess, 15.0ms inference, 0.0ms postprocess per image at shape (1, 3, 384, 640)\n",
      "\n",
      "0: 384x640 1 yellow_car, 15.6ms\n",
      "Speed: 0.0ms preprocess, 15.6ms inference, 0.0ms postprocess per image at shape (1, 3, 384, 640)\n",
      "\n",
      "0: 384x640 1 yellow_car, 15.6ms\n",
      "Speed: 0.0ms preprocess, 15.6ms inference, 0.0ms postprocess per image at shape (1, 3, 384, 640)\n",
      "\n",
      "0: 384x640 1 yellow_car, 0.0ms\n",
      "Speed: 15.6ms preprocess, 0.0ms inference, 0.0ms postprocess per image at shape (1, 3, 384, 640)\n",
      "\n",
      "0: 384x640 1 yellow_car, 15.6ms\n",
      "Speed: 0.0ms preprocess, 15.6ms inference, 0.0ms postprocess per image at shape (1, 3, 384, 640)\n",
      "\n",
      "0: 384x640 1 yellow_car, 15.6ms\n",
      "Speed: 0.0ms preprocess, 15.6ms inference, 0.0ms postprocess per image at shape (1, 3, 384, 640)\n",
      "\n",
      "0: 384x640 1 yellow_car, 0.0ms\n",
      "Speed: 0.0ms preprocess, 0.0ms inference, 15.9ms postprocess per image at shape (1, 3, 384, 640)\n",
      "\n",
      "0: 384x640 1 yellow_car, 18.6ms\n",
      "Speed: 0.0ms preprocess, 18.6ms inference, 0.0ms postprocess per image at shape (1, 3, 384, 640)\n",
      "\n",
      "0: 384x640 1 yellow_car, 1 green_car, 0.0ms\n",
      "Speed: 16.3ms preprocess, 0.0ms inference, 0.0ms postprocess per image at shape (1, 3, 384, 640)\n",
      "\n",
      "0: 384x640 1 yellow_car, 1 green_car, 0.0ms\n",
      "Speed: 0.0ms preprocess, 0.0ms inference, 15.6ms postprocess per image at shape (1, 3, 384, 640)\n",
      "\n",
      "0: 384x640 1 yellow_car, 1 green_car, 3.6ms\n",
      "Speed: 3.2ms preprocess, 3.6ms inference, 0.0ms postprocess per image at shape (1, 3, 384, 640)\n",
      "\n",
      "0: 384x640 1 yellow_car, 1 green_car, 0.0ms\n",
      "Speed: 0.0ms preprocess, 0.0ms inference, 0.0ms postprocess per image at shape (1, 3, 384, 640)\n",
      "\n",
      "0: 384x640 1 yellow_car, 1 green_car, 16.0ms\n",
      "Speed: 0.0ms preprocess, 16.0ms inference, 0.0ms postprocess per image at shape (1, 3, 384, 640)\n",
      "\n",
      "0: 384x640 1 yellow_car, 1 green_car, 0.0ms\n",
      "Speed: 0.0ms preprocess, 0.0ms inference, 15.6ms postprocess per image at shape (1, 3, 384, 640)\n",
      "\n",
      "0: 384x640 1 yellow_car, 1 green_car, 15.6ms\n",
      "Speed: 0.0ms preprocess, 15.6ms inference, 0.0ms postprocess per image at shape (1, 3, 384, 640)\n",
      "\n",
      "0: 384x640 1 yellow_car, 1 green_car, 0.0ms\n",
      "Speed: 0.0ms preprocess, 0.0ms inference, 0.0ms postprocess per image at shape (1, 3, 384, 640)\n",
      "\n",
      "0: 384x640 1 yellow_car, 1 green_car, 15.6ms\n",
      "Speed: 0.0ms preprocess, 15.6ms inference, 0.0ms postprocess per image at shape (1, 3, 384, 640)\n",
      "\n",
      "0: 384x640 1 yellow_car, 1 green_car, 0.0ms\n",
      "Speed: 15.6ms preprocess, 0.0ms inference, 0.0ms postprocess per image at shape (1, 3, 384, 640)\n",
      "\n",
      "0: 384x640 1 yellow_car, 1 green_car, 0.0ms\n",
      "Speed: 0.0ms preprocess, 0.0ms inference, 0.0ms postprocess per image at shape (1, 3, 384, 640)\n",
      "\n",
      "0: 384x640 1 yellow_car, 1 green_car, 0.0ms\n",
      "Speed: 0.0ms preprocess, 0.0ms inference, 15.6ms postprocess per image at shape (1, 3, 384, 640)\n",
      "\n",
      "0: 384x640 1 yellow_car, 1 green_car, 15.6ms\n",
      "Speed: 0.0ms preprocess, 15.6ms inference, 0.0ms postprocess per image at shape (1, 3, 384, 640)\n",
      "\n",
      "0: 384x640 1 yellow_car, 1 green_car, 15.0ms\n",
      "Speed: 0.0ms preprocess, 15.0ms inference, 0.0ms postprocess per image at shape (1, 3, 384, 640)\n",
      "\n",
      "0: 384x640 1 yellow_car, 1 green_car, 0.0ms\n",
      "Speed: 0.0ms preprocess, 0.0ms inference, 14.5ms postprocess per image at shape (1, 3, 384, 640)\n",
      "\n",
      "0: 384x640 1 yellow_car, 1 green_car, 15.6ms\n",
      "Speed: 0.0ms preprocess, 15.6ms inference, 6.5ms postprocess per image at shape (1, 3, 384, 640)\n",
      "\n",
      "0: 384x640 1 yellow_car, 1 green_car, 0.0ms\n",
      "Speed: 0.0ms preprocess, 0.0ms inference, 0.0ms postprocess per image at shape (1, 3, 384, 640)\n",
      "\n",
      "0: 384x640 1 yellow_car, 1 green_car, 4.3ms\n",
      "Speed: 11.6ms preprocess, 4.3ms inference, 0.0ms postprocess per image at shape (1, 3, 384, 640)\n",
      "\n",
      "0: 384x640 1 yellow_car, 0.0ms\n",
      "Speed: 0.0ms preprocess, 0.0ms inference, 15.6ms postprocess per image at shape (1, 3, 384, 640)\n",
      "\n",
      "0: 384x640 1 yellow_car, 15.6ms\n",
      "Speed: 0.0ms preprocess, 15.6ms inference, 0.0ms postprocess per image at shape (1, 3, 384, 640)\n",
      "\n",
      "0: 384x640 1 yellow_car, 0.0ms\n",
      "Speed: 0.0ms preprocess, 0.0ms inference, 18.1ms postprocess per image at shape (1, 3, 384, 640)\n",
      "\n",
      "0: 384x640 1 yellow_car, 0.0ms\n",
      "Speed: 0.0ms preprocess, 0.0ms inference, 15.6ms postprocess per image at shape (1, 3, 384, 640)\n",
      "\n",
      "0: 384x640 1 yellow_car, 15.6ms\n",
      "Speed: 0.0ms preprocess, 15.6ms inference, 0.0ms postprocess per image at shape (1, 3, 384, 640)\n",
      "\n",
      "0: 384x640 3 yellow_cars, 15.6ms\n",
      "Speed: 0.0ms preprocess, 15.6ms inference, 0.0ms postprocess per image at shape (1, 3, 384, 640)\n",
      "\n",
      "0: 384x640 1 yellow_car, 1 linces, 15.6ms\n",
      "Speed: 0.0ms preprocess, 15.6ms inference, 0.0ms postprocess per image at shape (1, 3, 384, 640)\n",
      "\n",
      "0: 384x640 1 yellow_car, 15.6ms\n",
      "Speed: 0.0ms preprocess, 15.6ms inference, 0.0ms postprocess per image at shape (1, 3, 384, 640)\n",
      "\n",
      "0: 384x640 1 yellow_car, 1 linces, 15.6ms\n",
      "Speed: 0.0ms preprocess, 15.6ms inference, 0.0ms postprocess per image at shape (1, 3, 384, 640)\n",
      "\n",
      "0: 384x640 1 yellow_car, 15.6ms\n",
      "Speed: 0.0ms preprocess, 15.6ms inference, 0.0ms postprocess per image at shape (1, 3, 384, 640)\n",
      "\n",
      "0: 384x640 1 yellow_car, 1 green_car, 15.6ms\n",
      "Speed: 15.6ms preprocess, 15.6ms inference, 0.0ms postprocess per image at shape (1, 3, 384, 640)\n",
      "\n",
      "0: 384x640 1 yellow_car, 1 green_car, 15.6ms\n",
      "Speed: 0.0ms preprocess, 15.6ms inference, 0.0ms postprocess per image at shape (1, 3, 384, 640)\n",
      "\n",
      "0: 384x640 1 yellow_car, 1 green_car, 15.6ms\n",
      "Speed: 0.0ms preprocess, 15.6ms inference, 0.0ms postprocess per image at shape (1, 3, 384, 640)\n",
      "\n",
      "0: 384x640 1 yellow_car, 1 green_car, 22.6ms\n",
      "Speed: 0.0ms preprocess, 22.6ms inference, 0.0ms postprocess per image at shape (1, 3, 384, 640)\n",
      "\n",
      "0: 384x640 1 yellow_car, 1 green_car, 15.6ms\n",
      "Speed: 0.0ms preprocess, 15.6ms inference, 0.0ms postprocess per image at shape (1, 3, 384, 640)\n",
      "\n",
      "0: 384x640 1 yellow_car, 1 green_car, 15.0ms\n",
      "Speed: 0.0ms preprocess, 15.0ms inference, 0.0ms postprocess per image at shape (1, 3, 384, 640)\n",
      "\n",
      "0: 384x640 1 yellow_car, 1 green_car, 15.6ms\n",
      "Speed: 0.0ms preprocess, 15.6ms inference, 0.0ms postprocess per image at shape (1, 3, 384, 640)\n",
      "\n",
      "0: 384x640 1 yellow_car, 1 green_car, 16.5ms\n",
      "Speed: 0.0ms preprocess, 16.5ms inference, 0.0ms postprocess per image at shape (1, 3, 384, 640)\n",
      "\n",
      "0: 384x640 1 yellow_car, 1 green_car, 15.6ms\n",
      "Speed: 0.0ms preprocess, 15.6ms inference, 0.0ms postprocess per image at shape (1, 3, 384, 640)\n",
      "\n",
      "0: 384x640 1 yellow_car, 1 green_car, 15.0ms\n",
      "Speed: 0.0ms preprocess, 15.0ms inference, 0.0ms postprocess per image at shape (1, 3, 384, 640)\n",
      "\n",
      "0: 384x640 1 yellow_car, 1 green_car, 15.6ms\n",
      "Speed: 0.0ms preprocess, 15.6ms inference, 0.0ms postprocess per image at shape (1, 3, 384, 640)\n",
      "\n",
      "0: 384x640 1 yellow_car, 1 green_car, 15.6ms\n",
      "Speed: 0.0ms preprocess, 15.6ms inference, 0.0ms postprocess per image at shape (1, 3, 384, 640)\n",
      "\n",
      "0: 384x640 1 yellow_car, 1 green_car, 0.0ms\n",
      "Speed: 13.5ms preprocess, 0.0ms inference, 0.0ms postprocess per image at shape (1, 3, 384, 640)\n",
      "\n",
      "0: 384x640 1 green_car, 15.6ms\n",
      "Speed: 0.0ms preprocess, 15.6ms inference, 0.0ms postprocess per image at shape (1, 3, 384, 640)\n",
      "\n",
      "0: 384x640 1 green_car, 15.6ms\n",
      "Speed: 0.0ms preprocess, 15.6ms inference, 0.0ms postprocess per image at shape (1, 3, 384, 640)\n",
      "\n",
      "0: 384x640 (no detections), 15.6ms\n",
      "Speed: 0.0ms preprocess, 15.6ms inference, 0.0ms postprocess per image at shape (1, 3, 384, 640)\n",
      "\n",
      "0: 384x640 1 green_car, 16.3ms\n",
      "Speed: 0.0ms preprocess, 16.3ms inference, 0.0ms postprocess per image at shape (1, 3, 384, 640)\n",
      "\n",
      "0: 384x640 1 green_car, 1 linces, 15.6ms\n",
      "Speed: 0.0ms preprocess, 15.6ms inference, 0.0ms postprocess per image at shape (1, 3, 384, 640)\n",
      "\n",
      "0: 384x640 1 green_car, 1 linces, 21.1ms\n",
      "Speed: 0.0ms preprocess, 21.1ms inference, 0.0ms postprocess per image at shape (1, 3, 384, 640)\n",
      "\n",
      "0: 384x640 1 green_car, 1 linces, 15.6ms\n",
      "Speed: 0.0ms preprocess, 15.6ms inference, 0.0ms postprocess per image at shape (1, 3, 384, 640)\n",
      "\n",
      "0: 384x640 1 yellow_car, 1 linces, 15.6ms\n",
      "Speed: 0.0ms preprocess, 15.6ms inference, 0.0ms postprocess per image at shape (1, 3, 384, 640)\n",
      "\n",
      "0: 384x640 1 green_car, 1 linces, 15.6ms\n",
      "Speed: 0.0ms preprocess, 15.6ms inference, 0.0ms postprocess per image at shape (1, 3, 384, 640)\n",
      "\n",
      "0: 384x640 1 green_car, 1 linces, 14.5ms\n",
      "Speed: 0.0ms preprocess, 14.5ms inference, 0.0ms postprocess per image at shape (1, 3, 384, 640)\n",
      "\n",
      "0: 384x640 1 green_car, 1 linces, 15.6ms\n",
      "Speed: 0.0ms preprocess, 15.6ms inference, 0.0ms postprocess per image at shape (1, 3, 384, 640)\n",
      "\n",
      "0: 384x640 1 green_car, 1 linces, 8.5ms\n",
      "Speed: 0.0ms preprocess, 8.5ms inference, 0.0ms postprocess per image at shape (1, 3, 384, 640)\n",
      "\n",
      "0: 384x640 1 green_car, 1 linces, 15.6ms\n",
      "Speed: 0.0ms preprocess, 15.6ms inference, 0.0ms postprocess per image at shape (1, 3, 384, 640)\n",
      "\n",
      "0: 384x640 1 green_car, 1 linces, 16.0ms\n",
      "Speed: 0.0ms preprocess, 16.0ms inference, 0.0ms postprocess per image at shape (1, 3, 384, 640)\n",
      "\n",
      "0: 384x640 1 green_car, 18.0ms\n",
      "Speed: 0.0ms preprocess, 18.0ms inference, 0.0ms postprocess per image at shape (1, 3, 384, 640)\n",
      "\n",
      "0: 384x640 1 green_car, 1 linces, 12.5ms\n",
      "Speed: 0.0ms preprocess, 12.5ms inference, 0.0ms postprocess per image at shape (1, 3, 384, 640)\n",
      "\n",
      "0: 384x640 1 green_car, 2 lincess, 15.6ms\n",
      "Speed: 0.0ms preprocess, 15.6ms inference, 0.0ms postprocess per image at shape (1, 3, 384, 640)\n",
      "\n",
      "0: 384x640 1 green_car, 2 lincess, 15.6ms\n",
      "Speed: 0.0ms preprocess, 15.6ms inference, 0.0ms postprocess per image at shape (1, 3, 384, 640)\n",
      "\n",
      "0: 384x640 1 green_car, 2 lincess, 0.0ms\n",
      "Speed: 16.3ms preprocess, 0.0ms inference, 0.0ms postprocess per image at shape (1, 3, 384, 640)\n",
      "\n",
      "0: 384x640 1 green_car, 1 linces, 0.0ms\n",
      "Speed: 15.7ms preprocess, 0.0ms inference, 16.2ms postprocess per image at shape (1, 3, 384, 640)\n",
      "\n",
      "0: 384x640 1 green_car, 15.6ms\n",
      "Speed: 0.0ms preprocess, 15.6ms inference, 0.0ms postprocess per image at shape (1, 3, 384, 640)\n",
      "\n",
      "0: 384x640 1 green_car, 1 linces, 10.5ms\n",
      "Speed: 0.0ms preprocess, 10.5ms inference, 0.0ms postprocess per image at shape (1, 3, 384, 640)\n",
      "\n",
      "0: 384x640 1 green_car, 1 linces, 15.6ms\n",
      "Speed: 0.0ms preprocess, 15.6ms inference, 0.0ms postprocess per image at shape (1, 3, 384, 640)\n",
      "\n",
      "0: 384x640 1 green_car, 1 linces, 15.9ms\n",
      "Speed: 0.0ms preprocess, 15.9ms inference, 0.0ms postprocess per image at shape (1, 3, 384, 640)\n",
      "\n",
      "0: 384x640 1 green_car, 1 linces, 15.6ms\n",
      "Speed: 0.0ms preprocess, 15.6ms inference, 0.0ms postprocess per image at shape (1, 3, 384, 640)\n",
      "\n",
      "0: 384x640 1 green_car, 1 linces, 16.7ms\n",
      "Speed: 0.0ms preprocess, 16.7ms inference, 0.0ms postprocess per image at shape (1, 3, 384, 640)\n",
      "\n",
      "0: 384x640 1 green_car, 1 linces, 13.0ms\n",
      "Speed: 0.0ms preprocess, 13.0ms inference, 0.0ms postprocess per image at shape (1, 3, 384, 640)\n",
      "\n",
      "0: 384x640 1 green_car, 1 linces, 15.6ms\n",
      "Speed: 0.0ms preprocess, 15.6ms inference, 0.0ms postprocess per image at shape (1, 3, 384, 640)\n",
      "\n",
      "0: 384x640 1 green_car, 1 linces, 15.6ms\n",
      "Speed: 0.0ms preprocess, 15.6ms inference, 0.0ms postprocess per image at shape (1, 3, 384, 640)\n",
      "\n",
      "0: 384x640 1 green_car, 1 linces, 15.6ms\n",
      "Speed: 0.0ms preprocess, 15.6ms inference, 0.0ms postprocess per image at shape (1, 3, 384, 640)\n",
      "\n",
      "0: 384x640 1 green_car, 1 linces, 16.3ms\n",
      "Speed: 0.0ms preprocess, 16.3ms inference, 0.0ms postprocess per image at shape (1, 3, 384, 640)\n",
      "\n",
      "0: 384x640 1 green_car, 1 linces, 15.6ms\n",
      "Speed: 0.0ms preprocess, 15.6ms inference, 0.0ms postprocess per image at shape (1, 3, 384, 640)\n",
      "\n",
      "0: 384x640 1 green_car, 1 linces, 0.0ms\n",
      "Speed: 13.0ms preprocess, 0.0ms inference, 0.0ms postprocess per image at shape (1, 3, 384, 640)\n",
      "\n",
      "0: 384x640 1 green_car, 1 linces, 15.6ms\n",
      "Speed: 0.0ms preprocess, 15.6ms inference, 0.0ms postprocess per image at shape (1, 3, 384, 640)\n",
      "\n",
      "0: 384x640 1 green_car, 1 linces, 7.7ms\n",
      "Speed: 0.0ms preprocess, 7.7ms inference, 0.0ms postprocess per image at shape (1, 3, 384, 640)\n",
      "\n",
      "0: 384x640 1 green_car, 1 linces, 15.6ms\n",
      "Speed: 0.0ms preprocess, 15.6ms inference, 0.0ms postprocess per image at shape (1, 3, 384, 640)\n",
      "\n",
      "0: 384x640 1 green_car, 1 linces, 16.0ms\n",
      "Speed: 0.0ms preprocess, 16.0ms inference, 0.0ms postprocess per image at shape (1, 3, 384, 640)\n",
      "\n",
      "0: 384x640 1 green_car, 1 linces, 10.2ms\n",
      "Speed: 5.7ms preprocess, 10.2ms inference, 0.0ms postprocess per image at shape (1, 3, 384, 640)\n",
      "\n",
      "0: 384x640 1 green_car, 1 linces, 0.0ms\n",
      "Speed: 0.0ms preprocess, 0.0ms inference, 15.6ms postprocess per image at shape (1, 3, 384, 640)\n",
      "\n",
      "0: 384x640 1 green_car, 1 linces, 0.0ms\n",
      "Speed: 15.7ms preprocess, 0.0ms inference, 15.6ms postprocess per image at shape (1, 3, 384, 640)\n",
      "\n",
      "0: 384x640 1 green_car, 1 linces, 15.0ms\n",
      "Speed: 0.7ms preprocess, 15.0ms inference, 0.0ms postprocess per image at shape (1, 3, 384, 640)\n",
      "\n",
      "0: 384x640 1 green_car, 1 linces, 15.6ms\n",
      "Speed: 0.0ms preprocess, 15.6ms inference, 0.0ms postprocess per image at shape (1, 3, 384, 640)\n",
      "\n",
      "0: 384x640 1 green_car, 1 linces, 0.0ms\n",
      "Speed: 0.0ms preprocess, 0.0ms inference, 0.0ms postprocess per image at shape (1, 3, 384, 640)\n",
      "\n",
      "0: 384x640 1 green_car, 1 linces, 16.6ms\n",
      "Speed: 0.0ms preprocess, 16.6ms inference, 0.0ms postprocess per image at shape (1, 3, 384, 640)\n",
      "\n",
      "0: 384x640 1 green_car, 1 linces, 0.0ms\n",
      "Speed: 15.6ms preprocess, 0.0ms inference, 0.0ms postprocess per image at shape (1, 3, 384, 640)\n",
      "\n",
      "0: 384x640 1 green_car, 1 linces, 0.0ms\n",
      "Speed: 0.0ms preprocess, 0.0ms inference, 0.0ms postprocess per image at shape (1, 3, 384, 640)\n",
      "\n",
      "0: 384x640 1 green_car, 1 linces, 7.0ms\n",
      "Speed: 0.0ms preprocess, 7.0ms inference, 0.0ms postprocess per image at shape (1, 3, 384, 640)\n",
      "\n",
      "0: 384x640 1 green_car, 1 linces, 0.0ms\n",
      "Speed: 0.0ms preprocess, 0.0ms inference, 15.6ms postprocess per image at shape (1, 3, 384, 640)\n",
      "\n",
      "0: 384x640 1 green_car, 1 linces, 15.6ms\n",
      "Speed: 0.0ms preprocess, 15.6ms inference, 0.0ms postprocess per image at shape (1, 3, 384, 640)\n",
      "\n",
      "0: 384x640 1 yellow_car, 1 green_car, 3.0ms\n",
      "Speed: 13.0ms preprocess, 3.0ms inference, 0.0ms postprocess per image at shape (1, 3, 384, 640)\n",
      "\n",
      "0: 384x640 1 yellow_car, 1 green_car, 15.6ms\n",
      "Speed: 0.0ms preprocess, 15.6ms inference, 0.0ms postprocess per image at shape (1, 3, 384, 640)\n",
      "\n",
      "0: 384x640 1 yellow_car, 1 green_car, 0.0ms\n",
      "Speed: 0.0ms preprocess, 0.0ms inference, 0.0ms postprocess per image at shape (1, 3, 384, 640)\n",
      "\n",
      "0: 384x640 1 yellow_car, 0.0ms\n",
      "Speed: 0.0ms preprocess, 0.0ms inference, 13.5ms postprocess per image at shape (1, 3, 384, 640)\n",
      "\n",
      "0: 384x640 1 yellow_car, 1 green_car, 15.6ms\n",
      "Speed: 0.0ms preprocess, 15.6ms inference, 0.0ms postprocess per image at shape (1, 3, 384, 640)\n",
      "\n",
      "0: 384x640 1 yellow_car, 0.0ms\n",
      "Speed: 0.0ms preprocess, 0.0ms inference, 0.0ms postprocess per image at shape (1, 3, 384, 640)\n",
      "\n",
      "0: 384x640 1 green_car, 1 linces, 0.0ms\n",
      "Speed: 0.0ms preprocess, 0.0ms inference, 0.0ms postprocess per image at shape (1, 3, 384, 640)\n",
      "\n",
      "0: 384x640 1 green_car, 15.6ms\n",
      "Speed: 0.0ms preprocess, 15.6ms inference, 0.0ms postprocess per image at shape (1, 3, 384, 640)\n",
      "\n",
      "0: 384x640 1 green_car, 15.6ms\n",
      "Speed: 0.0ms preprocess, 15.6ms inference, 0.0ms postprocess per image at shape (1, 3, 384, 640)\n",
      "\n",
      "0: 384x640 1 green_car, 1 linces, 0.0ms\n",
      "Speed: 16.2ms preprocess, 0.0ms inference, 0.0ms postprocess per image at shape (1, 3, 384, 640)\n",
      "\n",
      "0: 384x640 1 green_car, 1 linces, 0.0ms\n",
      "Speed: 0.0ms preprocess, 0.0ms inference, 0.0ms postprocess per image at shape (1, 3, 384, 640)\n",
      "\n",
      "0: 384x640 1 green_car, 1 linces, 0.0ms\n",
      "Speed: 0.0ms preprocess, 0.0ms inference, 0.0ms postprocess per image at shape (1, 3, 384, 640)\n",
      "\n",
      "0: 384x640 1 yellow_car, 1 linces, 0.0ms\n",
      "Speed: 0.0ms preprocess, 0.0ms inference, 15.6ms postprocess per image at shape (1, 3, 384, 640)\n",
      "\n",
      "0: 384x640 1 green_car, 1 linces, 15.6ms\n",
      "Speed: 0.0ms preprocess, 15.6ms inference, 0.0ms postprocess per image at shape (1, 3, 384, 640)\n",
      "\n",
      "0: 384x640 1 yellow_car, 1 linces, 10.0ms\n",
      "Speed: 0.0ms preprocess, 10.0ms inference, 0.0ms postprocess per image at shape (1, 3, 384, 640)\n",
      "\n",
      "0: 384x640 (no detections), 0.0ms\n",
      "Speed: 0.0ms preprocess, 0.0ms inference, 15.6ms postprocess per image at shape (1, 3, 384, 640)\n",
      "\n",
      "0: 384x640 (no detections), 0.0ms\n",
      "Speed: 0.0ms preprocess, 0.0ms inference, 0.0ms postprocess per image at shape (1, 3, 384, 640)\n",
      "\n",
      "0: 384x640 (no detections), 0.0ms\n",
      "Speed: 0.0ms preprocess, 0.0ms inference, 0.0ms postprocess per image at shape (1, 3, 384, 640)\n",
      "\n",
      "0: 384x640 (no detections), 0.0ms\n",
      "Speed: 0.0ms preprocess, 0.0ms inference, 0.0ms postprocess per image at shape (1, 3, 384, 640)\n",
      "\n",
      "0: 384x640 (no detections), 15.6ms\n",
      "Speed: 0.0ms preprocess, 15.6ms inference, 0.0ms postprocess per image at shape (1, 3, 384, 640)\n",
      "\n",
      "0: 384x640 1 linces, 0.0ms\n",
      "Speed: 0.0ms preprocess, 0.0ms inference, 9.5ms postprocess per image at shape (1, 3, 384, 640)\n",
      "\n",
      "0: 384x640 (no detections), 15.6ms\n",
      "Speed: 0.0ms preprocess, 15.6ms inference, 0.0ms postprocess per image at shape (1, 3, 384, 640)\n",
      "\n",
      "0: 384x640 (no detections), 0.0ms\n",
      "Speed: 0.0ms preprocess, 0.0ms inference, 0.0ms postprocess per image at shape (1, 3, 384, 640)\n",
      "\n",
      "0: 384x640 (no detections), 0.0ms\n",
      "Speed: 0.0ms preprocess, 0.0ms inference, 0.0ms postprocess per image at shape (1, 3, 384, 640)\n",
      "\n",
      "0: 384x640 1 yellow_car, 1 green_car, 15.6ms\n",
      "Speed: 0.0ms preprocess, 15.6ms inference, 0.0ms postprocess per image at shape (1, 3, 384, 640)\n",
      "\n",
      "0: 384x640 1 yellow_car, 1 green_car, 0.0ms\n",
      "Speed: 15.6ms preprocess, 0.0ms inference, 0.0ms postprocess per image at shape (1, 3, 384, 640)\n",
      "\n",
      "0: 384x640 1 green_car, 0.0ms\n",
      "Speed: 0.0ms preprocess, 0.0ms inference, 0.0ms postprocess per image at shape (1, 3, 384, 640)\n",
      "\n",
      "0: 384x640 1 yellow_car, 1 green_car, 15.6ms\n",
      "Speed: 0.0ms preprocess, 15.6ms inference, 0.0ms postprocess per image at shape (1, 3, 384, 640)\n",
      "\n",
      "0: 384x640 1 yellow_car, 1 green_car, 15.6ms\n",
      "Speed: 0.0ms preprocess, 15.6ms inference, 0.0ms postprocess per image at shape (1, 3, 384, 640)\n",
      "\n",
      "0: 384x640 1 yellow_car, 1 green_car, 15.5ms\n",
      "Speed: 0.0ms preprocess, 15.5ms inference, 0.0ms postprocess per image at shape (1, 3, 384, 640)\n",
      "\n",
      "0: 384x640 1 yellow_car, 1 green_car, 0.0ms\n",
      "Speed: 0.0ms preprocess, 0.0ms inference, 0.0ms postprocess per image at shape (1, 3, 384, 640)\n",
      "\n",
      "0: 384x640 1 yellow_car, 1 green_car, 0.0ms\n",
      "Speed: 0.0ms preprocess, 0.0ms inference, 0.0ms postprocess per image at shape (1, 3, 384, 640)\n",
      "\n",
      "0: 384x640 1 yellow_car, 1 green_car, 16.0ms\n",
      "Speed: 0.0ms preprocess, 16.0ms inference, 0.0ms postprocess per image at shape (1, 3, 384, 640)\n",
      "\n",
      "0: 384x640 1 yellow_car, 1 green_car, 15.6ms\n",
      "Speed: 0.0ms preprocess, 15.6ms inference, 0.0ms postprocess per image at shape (1, 3, 384, 640)\n",
      "\n",
      "0: 384x640 1 yellow_car, 1 green_car, 0.0ms\n",
      "Speed: 15.6ms preprocess, 0.0ms inference, 0.0ms postprocess per image at shape (1, 3, 384, 640)\n",
      "\n",
      "0: 384x640 1 green_car, 3.5ms\n",
      "Speed: 0.0ms preprocess, 3.5ms inference, 0.0ms postprocess per image at shape (1, 3, 384, 640)\n",
      "\n",
      "0: 384x640 1 green_car, 0.0ms\n",
      "Speed: 0.0ms preprocess, 0.0ms inference, 15.6ms postprocess per image at shape (1, 3, 384, 640)\n",
      "\n",
      "0: 384x640 (no detections), 15.6ms\n",
      "Speed: 0.0ms preprocess, 15.6ms inference, 0.0ms postprocess per image at shape (1, 3, 384, 640)\n"
     ]
    }
   ],
   "source": [
    "# 播放影片測試\n",
    "\n",
    "model = YOLO(\"models/wb/v1.0/weights/best.pt\")\n",
    "\n",
    "# video_player = VideoPlayer(\"datas/videos/Barataria Morvant Exit.mp4\")\n",
    "video_player = VideoPlayer(\"wbdatas/wb_videos/green/5.mp4\")\n",
    "\n",
    "def predict(frame):\n",
    "    img = frame[:, :, ::-1].copy()  # 转换颜色空间\n",
    "    results = model.predict(img, save=False)\n",
    "    return results[0].plot()\n",
    "\n",
    "video_player.play(predict)"
   ]
  },
  {
   "cell_type": "code",
   "execution_count": null,
   "metadata": {},
   "outputs": [],
   "source": [
    "# 將影片切成圖檔\n",
    "\n",
    "video_path = \"./wbdatas/wb_videos/white/8.mp4\"\n",
    "\n",
    "video2img.toimg(video_path,\"wb_08white\")\n"
   ]
  },
  {
   "cell_type": "code",
   "execution_count": null,
   "metadata": {},
   "outputs": [],
   "source": [
    "# 利用產生的模型對剛剛的圖檔做標記\n",
    "\n",
    "model_path = \"models/wb/v1.0/weights/best.pt\"\n",
    "result_video_path = \"./wbdatas/wb_videos/white/8\"\n",
    "output_dir = \"./datas/labelmecheck\"\n",
    "\n",
    "predict2labelme_json.predict_result_to_labelme_datas(\n",
    "    model_path, result_video_path, output_dir\n",
    ")"
   ]
  }
 ],
 "metadata": {
  "kernelspec": {
   "display_name": "cuda-gpt",
   "language": "python",
   "name": "cuda"
  },
  "language_info": {
   "codemirror_mode": {
    "name": "ipython",
    "version": 3
   },
   "file_extension": ".py",
   "mimetype": "text/x-python",
   "name": "python",
   "nbconvert_exporter": "python",
   "pygments_lexer": "ipython3",
   "version": "3.10.5"
  }
 },
 "nbformat": 4,
 "nbformat_minor": 4
}
