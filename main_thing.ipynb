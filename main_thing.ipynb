{
 "cells": [
  {
   "cell_type": "code",
   "execution_count": 2,
   "metadata": {},
   "outputs": [],
   "source": [
    "import cv2\n",
    "import alimg\n",
    "import add_prefix\n",
    "import predict2labelme_json\n",
    "import label2coco\n",
    "import split_data\n",
    "import train\n",
    "import tool\n",
    "from video_player import VideoPlayer\n",
    "from ultralytics import YOLO\n",
    "import train\n",
    "from video_player import VideoPlayer\n",
    "import predict2labelme_json\n",
    "import video2img\n",
    "\n"
   ]
  },
  {
   "cell_type": "code",
   "execution_count": 5,
   "metadata": {},
   "outputs": [
    {
     "name": "stdout",
     "output_type": "stream",
     "text": [
      "Creating dataset: ./datas/yolo/base\n",
      "Generating dataset from: ./datas/labelme_thing\\wb_20b579fc-7855-dc8f-15ca-3a09d7ac889200000009.json\n",
      "Generating dataset from: ./datas/labelme_thing\\wb_20b579fc-7855-dc8f-15ca-3a09d7ac889200000010.json\n",
      "Generating dataset from: ./datas/labelme_thing\\wb_3752dcd7-352c-0d4a-4013-3a0bfe8ecfec00000032.json\n",
      "Generating dataset from: ./datas/labelme_thing\\wb_3752dcd7-352c-0d4a-4013-3a0bfe8ecfec00000033.json\n",
      "Generating dataset from: ./datas/labelme_thing\\wb_45bef8b3-0214-d4f1-5abc-3a0c9e36367f00000033.json\n",
      "Generating dataset from: ./datas/labelme_thing\\wb_45bef8b3-0214-d4f1-5abc-3a0c9e36367f00000034.json\n",
      "Generating dataset from: ./datas/labelme_thing\\wb_4dc1393b-9694-423c-de8a-3a0bf98a53b400000085.json\n",
      "Generating dataset from: ./datas/labelme_thing\\wb_4dc1393b-9694-423c-de8a-3a0bf98a53b400000086.json\n",
      "Generating dataset from: ./datas/labelme_thing\\wb_4dc1393b-9694-423c-de8a-3a0bf98a53b400000087.json\n",
      "Generating dataset from: ./datas/labelme_thing\\wb_94cb8bb8-4c88-11ec-9b81-3a0bea150e9c00000078.json\n",
      "Generating dataset from: ./datas/labelme_thing\\wb_94cb8bb8-4c88-11ec-9b81-3a0bea150e9c00000079.json\n",
      "Generating dataset from: ./datas/labelme_thing\\wb_bc487c96-e362-bb95-9850-3a0c2cfd40be00000009.json\n",
      "Generating dataset from: ./datas/labelme_thing\\wb_bc487c96-e362-bb95-9850-3a0c2cfd40be00000010.json\n",
      "Generating dataset from: ./datas/labelme_thing\\wb_bc487c96-e362-bb95-9850-3a0c2cfd40be00000011.json\n",
      "Generating dataset from: ./datas/labelme_thing\\wb_bc487c96-e362-bb95-9850-3a0c2cfd40be00000087.json\n",
      "Generating dataset from: ./datas/labelme_thing\\wb_bc487c96-e362-bb95-9850-3a0c2cfd40be00000088.json\n",
      "Generating dataset from: ./datas/labelme_thing\\wb_ea9baa90-3b4b-6a27-b725-3a09e1f4824500000088.json\n",
      "Generating dataset from: ./datas/labelme_thing\\wb_ea9baa90-3b4b-6a27-b725-3a09e1f4824500000089.json\n",
      "Saved to: ./datas/yolo/base\\annotations.json\n"
     ]
    }
   ],
   "source": [
    "# 將labelme處理的資料變成Yolo模型訓練格式\n",
    "\n",
    "labelme_folder = \"./datas/labelme_thing\"\n",
    "export_dir = \"./datas/yolo/base\"\n",
    "label_txt = \"label_thing.txt\"\n",
    "\n",
    "label2coco.main(labelme_folder, export_dir,label_txt)"
   ]
  },
  {
   "cell_type": "code",
   "execution_count": 7,
   "metadata": {},
   "outputs": [
    {
     "name": "stdout",
     "output_type": "stream",
     "text": [
      "Transforming images and labels...\n",
      "Done!\n",
      "文件 wb_20b579fc-7855-dc8f-15ca-3a09d7ac889200000009.jpg 已重命名为 transformwb_20b579fc-7855-dc8f-15ca-3a09d7ac889200000009.jpg\n",
      "文件 wb_20b579fc-7855-dc8f-15ca-3a09d7ac889200000010.jpg 已重命名为 transformwb_20b579fc-7855-dc8f-15ca-3a09d7ac889200000010.jpg\n",
      "文件 wb_3752dcd7-352c-0d4a-4013-3a0bfe8ecfec00000032.jpg 已重命名为 transformwb_3752dcd7-352c-0d4a-4013-3a0bfe8ecfec00000032.jpg\n",
      "文件 wb_3752dcd7-352c-0d4a-4013-3a0bfe8ecfec00000033.jpg 已重命名为 transformwb_3752dcd7-352c-0d4a-4013-3a0bfe8ecfec00000033.jpg\n",
      "文件 wb_45bef8b3-0214-d4f1-5abc-3a0c9e36367f00000033.jpg 已重命名为 transformwb_45bef8b3-0214-d4f1-5abc-3a0c9e36367f00000033.jpg\n",
      "文件 wb_45bef8b3-0214-d4f1-5abc-3a0c9e36367f00000034.jpg 已重命名为 transformwb_45bef8b3-0214-d4f1-5abc-3a0c9e36367f00000034.jpg\n",
      "文件 wb_4dc1393b-9694-423c-de8a-3a0bf98a53b400000085.jpg 已重命名为 transformwb_4dc1393b-9694-423c-de8a-3a0bf98a53b400000085.jpg\n",
      "文件 wb_4dc1393b-9694-423c-de8a-3a0bf98a53b400000086.jpg 已重命名为 transformwb_4dc1393b-9694-423c-de8a-3a0bf98a53b400000086.jpg\n",
      "文件 wb_4dc1393b-9694-423c-de8a-3a0bf98a53b400000087.jpg 已重命名为 transformwb_4dc1393b-9694-423c-de8a-3a0bf98a53b400000087.jpg\n",
      "文件 wb_94cb8bb8-4c88-11ec-9b81-3a0bea150e9c00000078.jpg 已重命名为 transformwb_94cb8bb8-4c88-11ec-9b81-3a0bea150e9c00000078.jpg\n",
      "文件 wb_94cb8bb8-4c88-11ec-9b81-3a0bea150e9c00000079.jpg 已重命名为 transformwb_94cb8bb8-4c88-11ec-9b81-3a0bea150e9c00000079.jpg\n",
      "文件 wb_bc487c96-e362-bb95-9850-3a0c2cfd40be00000009.jpg 已重命名为 transformwb_bc487c96-e362-bb95-9850-3a0c2cfd40be00000009.jpg\n",
      "文件 wb_bc487c96-e362-bb95-9850-3a0c2cfd40be00000010.jpg 已重命名为 transformwb_bc487c96-e362-bb95-9850-3a0c2cfd40be00000010.jpg\n",
      "文件 wb_bc487c96-e362-bb95-9850-3a0c2cfd40be00000011.jpg 已重命名为 transformwb_bc487c96-e362-bb95-9850-3a0c2cfd40be00000011.jpg\n",
      "文件 wb_bc487c96-e362-bb95-9850-3a0c2cfd40be00000087.jpg 已重命名为 transformwb_bc487c96-e362-bb95-9850-3a0c2cfd40be00000087.jpg\n",
      "文件 wb_bc487c96-e362-bb95-9850-3a0c2cfd40be00000088.jpg 已重命名为 transformwb_bc487c96-e362-bb95-9850-3a0c2cfd40be00000088.jpg\n",
      "文件 wb_ea9baa90-3b4b-6a27-b725-3a09e1f4824500000088.jpg 已重命名为 transformwb_ea9baa90-3b4b-6a27-b725-3a09e1f4824500000088.jpg\n",
      "文件 wb_ea9baa90-3b4b-6a27-b725-3a09e1f4824500000089.jpg 已重命名为 transformwb_ea9baa90-3b4b-6a27-b725-3a09e1f4824500000089.jpg\n",
      "文件 wb_20b579fc-7855-dc8f-15ca-3a09d7ac889200000009.txt 已重命名为 transformwb_20b579fc-7855-dc8f-15ca-3a09d7ac889200000009.txt\n",
      "文件 wb_20b579fc-7855-dc8f-15ca-3a09d7ac889200000010.txt 已重命名为 transformwb_20b579fc-7855-dc8f-15ca-3a09d7ac889200000010.txt\n",
      "文件 wb_3752dcd7-352c-0d4a-4013-3a0bfe8ecfec00000032.txt 已重命名为 transformwb_3752dcd7-352c-0d4a-4013-3a0bfe8ecfec00000032.txt\n",
      "文件 wb_3752dcd7-352c-0d4a-4013-3a0bfe8ecfec00000033.txt 已重命名为 transformwb_3752dcd7-352c-0d4a-4013-3a0bfe8ecfec00000033.txt\n",
      "文件 wb_45bef8b3-0214-d4f1-5abc-3a0c9e36367f00000033.txt 已重命名为 transformwb_45bef8b3-0214-d4f1-5abc-3a0c9e36367f00000033.txt\n",
      "文件 wb_45bef8b3-0214-d4f1-5abc-3a0c9e36367f00000034.txt 已重命名为 transformwb_45bef8b3-0214-d4f1-5abc-3a0c9e36367f00000034.txt\n",
      "文件 wb_4dc1393b-9694-423c-de8a-3a0bf98a53b400000085.txt 已重命名为 transformwb_4dc1393b-9694-423c-de8a-3a0bf98a53b400000085.txt\n",
      "文件 wb_4dc1393b-9694-423c-de8a-3a0bf98a53b400000086.txt 已重命名为 transformwb_4dc1393b-9694-423c-de8a-3a0bf98a53b400000086.txt\n",
      "文件 wb_4dc1393b-9694-423c-de8a-3a0bf98a53b400000087.txt 已重命名为 transformwb_4dc1393b-9694-423c-de8a-3a0bf98a53b400000087.txt\n",
      "文件 wb_94cb8bb8-4c88-11ec-9b81-3a0bea150e9c00000078.txt 已重命名为 transformwb_94cb8bb8-4c88-11ec-9b81-3a0bea150e9c00000078.txt\n",
      "文件 wb_94cb8bb8-4c88-11ec-9b81-3a0bea150e9c00000079.txt 已重命名为 transformwb_94cb8bb8-4c88-11ec-9b81-3a0bea150e9c00000079.txt\n",
      "文件 wb_bc487c96-e362-bb95-9850-3a0c2cfd40be00000009.txt 已重命名为 transformwb_bc487c96-e362-bb95-9850-3a0c2cfd40be00000009.txt\n",
      "文件 wb_bc487c96-e362-bb95-9850-3a0c2cfd40be00000010.txt 已重命名为 transformwb_bc487c96-e362-bb95-9850-3a0c2cfd40be00000010.txt\n",
      "文件 wb_bc487c96-e362-bb95-9850-3a0c2cfd40be00000011.txt 已重命名为 transformwb_bc487c96-e362-bb95-9850-3a0c2cfd40be00000011.txt\n",
      "文件 wb_bc487c96-e362-bb95-9850-3a0c2cfd40be00000087.txt 已重命名为 transformwb_bc487c96-e362-bb95-9850-3a0c2cfd40be00000087.txt\n",
      "文件 wb_bc487c96-e362-bb95-9850-3a0c2cfd40be00000088.txt 已重命名为 transformwb_bc487c96-e362-bb95-9850-3a0c2cfd40be00000088.txt\n",
      "文件 wb_ea9baa90-3b4b-6a27-b725-3a09e1f4824500000088.txt 已重命名为 transformwb_ea9baa90-3b4b-6a27-b725-3a09e1f4824500000088.txt\n",
      "文件 wb_ea9baa90-3b4b-6a27-b725-3a09e1f4824500000089.txt 已重命名为 transformwb_ea9baa90-3b4b-6a27-b725-3a09e1f4824500000089.txt\n"
     ]
    }
   ],
   "source": [
    "# 將資料做數據增強\n",
    "\n",
    "image_dir_path = export_dir + \"/JPEGImages\"\n",
    "label_dir_path = export_dir + \"/Labels\"\n",
    "output_path = \"./datas/yolo/transform\"\n",
    "\n",
    "alimg.transform_image_label(image_dir_path,label_dir_path,output_path)\n",
    "\n",
    "dir = output_path + \"/JPEGImages\"\n",
    "add_prefix.add_prefix_to_images(dir, 'transform')\n",
    "\n",
    "dir = output_path + \"/Labels\"\n",
    "add_prefix.add_prefix_to_txts(dir, 'transform')"
   ]
  },
  {
   "cell_type": "code",
   "execution_count": 8,
   "metadata": {},
   "outputs": [
    {
     "name": "stdout",
     "output_type": "stream",
     "text": [
      "./datas/yolo/base\\JPEGImages\\wb_20b579fc-7855-dc8f-15ca-3a09d7ac889200000010.jpg ./datas/training/train/base\\images\\wb_20b579fc-7855-dc8f-15ca-3a09d7ac889200000010.jpg\n",
      "./datas/yolo/base\\Labels\\wb_20b579fc-7855-dc8f-15ca-3a09d7ac889200000010.txt ./datas/training/train/base\\labels\\wb_20b579fc-7855-dc8f-15ca-3a09d7ac889200000010.txt\n",
      "./datas/yolo/base\\JPEGImages\\wb_3752dcd7-352c-0d4a-4013-3a0bfe8ecfec00000032.jpg ./datas/training/train/base\\images\\wb_3752dcd7-352c-0d4a-4013-3a0bfe8ecfec00000032.jpg\n",
      "./datas/yolo/base\\Labels\\wb_3752dcd7-352c-0d4a-4013-3a0bfe8ecfec00000032.txt ./datas/training/train/base\\labels\\wb_3752dcd7-352c-0d4a-4013-3a0bfe8ecfec00000032.txt\n",
      "./datas/yolo/base\\JPEGImages\\wb_bc487c96-e362-bb95-9850-3a0c2cfd40be00000011.jpg ./datas/training/train/base\\images\\wb_bc487c96-e362-bb95-9850-3a0c2cfd40be00000011.jpg\n",
      "./datas/yolo/base\\Labels\\wb_bc487c96-e362-bb95-9850-3a0c2cfd40be00000011.txt ./datas/training/train/base\\labels\\wb_bc487c96-e362-bb95-9850-3a0c2cfd40be00000011.txt\n",
      "./datas/yolo/base\\JPEGImages\\wb_45bef8b3-0214-d4f1-5abc-3a0c9e36367f00000034.jpg ./datas/training/train/base\\images\\wb_45bef8b3-0214-d4f1-5abc-3a0c9e36367f00000034.jpg\n",
      "./datas/yolo/base\\Labels\\wb_45bef8b3-0214-d4f1-5abc-3a0c9e36367f00000034.txt ./datas/training/train/base\\labels\\wb_45bef8b3-0214-d4f1-5abc-3a0c9e36367f00000034.txt\n",
      "./datas/yolo/base\\JPEGImages\\wb_bc487c96-e362-bb95-9850-3a0c2cfd40be00000087.jpg ./datas/training/train/base\\images\\wb_bc487c96-e362-bb95-9850-3a0c2cfd40be00000087.jpg\n",
      "./datas/yolo/base\\Labels\\wb_bc487c96-e362-bb95-9850-3a0c2cfd40be00000087.txt ./datas/training/train/base\\labels\\wb_bc487c96-e362-bb95-9850-3a0c2cfd40be00000087.txt\n",
      "./datas/yolo/base\\JPEGImages\\wb_bc487c96-e362-bb95-9850-3a0c2cfd40be00000009.jpg ./datas/training/train/base\\images\\wb_bc487c96-e362-bb95-9850-3a0c2cfd40be00000009.jpg\n",
      "./datas/yolo/base\\Labels\\wb_bc487c96-e362-bb95-9850-3a0c2cfd40be00000009.txt ./datas/training/train/base\\labels\\wb_bc487c96-e362-bb95-9850-3a0c2cfd40be00000009.txt\n",
      "./datas/yolo/base\\JPEGImages\\wb_94cb8bb8-4c88-11ec-9b81-3a0bea150e9c00000078.jpg ./datas/training/train/base\\images\\wb_94cb8bb8-4c88-11ec-9b81-3a0bea150e9c00000078.jpg\n",
      "./datas/yolo/base\\Labels\\wb_94cb8bb8-4c88-11ec-9b81-3a0bea150e9c00000078.txt ./datas/training/train/base\\labels\\wb_94cb8bb8-4c88-11ec-9b81-3a0bea150e9c00000078.txt\n",
      "./datas/yolo/base\\JPEGImages\\wb_3752dcd7-352c-0d4a-4013-3a0bfe8ecfec00000033.jpg ./datas/training/train/base\\images\\wb_3752dcd7-352c-0d4a-4013-3a0bfe8ecfec00000033.jpg\n",
      "./datas/yolo/base\\Labels\\wb_3752dcd7-352c-0d4a-4013-3a0bfe8ecfec00000033.txt ./datas/training/train/base\\labels\\wb_3752dcd7-352c-0d4a-4013-3a0bfe8ecfec00000033.txt\n",
      "./datas/yolo/base\\JPEGImages\\wb_bc487c96-e362-bb95-9850-3a0c2cfd40be00000088.jpg ./datas/training/train/base\\images\\wb_bc487c96-e362-bb95-9850-3a0c2cfd40be00000088.jpg\n",
      "./datas/yolo/base\\Labels\\wb_bc487c96-e362-bb95-9850-3a0c2cfd40be00000088.txt ./datas/training/train/base\\labels\\wb_bc487c96-e362-bb95-9850-3a0c2cfd40be00000088.txt\n",
      "./datas/yolo/base\\JPEGImages\\wb_94cb8bb8-4c88-11ec-9b81-3a0bea150e9c00000079.jpg ./datas/training/train/base\\images\\wb_94cb8bb8-4c88-11ec-9b81-3a0bea150e9c00000079.jpg\n",
      "./datas/yolo/base\\Labels\\wb_94cb8bb8-4c88-11ec-9b81-3a0bea150e9c00000079.txt ./datas/training/train/base\\labels\\wb_94cb8bb8-4c88-11ec-9b81-3a0bea150e9c00000079.txt\n",
      "./datas/yolo/base\\JPEGImages\\wb_20b579fc-7855-dc8f-15ca-3a09d7ac889200000009.jpg ./datas/training/train/base\\images\\wb_20b579fc-7855-dc8f-15ca-3a09d7ac889200000009.jpg\n",
      "./datas/yolo/base\\Labels\\wb_20b579fc-7855-dc8f-15ca-3a09d7ac889200000009.txt ./datas/training/train/base\\labels\\wb_20b579fc-7855-dc8f-15ca-3a09d7ac889200000009.txt\n",
      "./datas/yolo/base\\JPEGImages\\wb_ea9baa90-3b4b-6a27-b725-3a09e1f4824500000088.jpg ./datas/training/train/base\\images\\wb_ea9baa90-3b4b-6a27-b725-3a09e1f4824500000088.jpg\n",
      "./datas/yolo/base\\Labels\\wb_ea9baa90-3b4b-6a27-b725-3a09e1f4824500000088.txt ./datas/training/train/base\\labels\\wb_ea9baa90-3b4b-6a27-b725-3a09e1f4824500000088.txt\n",
      "./datas/yolo/base\\JPEGImages\\wb_4dc1393b-9694-423c-de8a-3a0bf98a53b400000086.jpg ./datas/training/train/base\\images\\wb_4dc1393b-9694-423c-de8a-3a0bf98a53b400000086.jpg\n",
      "./datas/yolo/base\\Labels\\wb_4dc1393b-9694-423c-de8a-3a0bf98a53b400000086.txt ./datas/training/train/base\\labels\\wb_4dc1393b-9694-423c-de8a-3a0bf98a53b400000086.txt\n",
      "./datas/yolo/base\\JPEGImages\\wb_bc487c96-e362-bb95-9850-3a0c2cfd40be00000010.jpg ./datas/training/train/base\\images\\wb_bc487c96-e362-bb95-9850-3a0c2cfd40be00000010.jpg\n",
      "./datas/yolo/base\\Labels\\wb_bc487c96-e362-bb95-9850-3a0c2cfd40be00000010.txt ./datas/training/train/base\\labels\\wb_bc487c96-e362-bb95-9850-3a0c2cfd40be00000010.txt\n",
      "./datas/yolo/base\\JPEGImages\\wb_ea9baa90-3b4b-6a27-b725-3a09e1f4824500000089.jpg ./datas/training/valid/base\\images\\wb_ea9baa90-3b4b-6a27-b725-3a09e1f4824500000089.jpg\n",
      "./datas/yolo/base\\Labels\\wb_ea9baa90-3b4b-6a27-b725-3a09e1f4824500000089.txt ./datas/training/valid/base\\labels\\wb_ea9baa90-3b4b-6a27-b725-3a09e1f4824500000089.txt\n",
      "./datas/yolo/base\\JPEGImages\\wb_4dc1393b-9694-423c-de8a-3a0bf98a53b400000087.jpg ./datas/training/valid/base\\images\\wb_4dc1393b-9694-423c-de8a-3a0bf98a53b400000087.jpg\n",
      "./datas/yolo/base\\Labels\\wb_4dc1393b-9694-423c-de8a-3a0bf98a53b400000087.txt ./datas/training/valid/base\\labels\\wb_4dc1393b-9694-423c-de8a-3a0bf98a53b400000087.txt\n",
      "./datas/yolo/base\\JPEGImages\\wb_4dc1393b-9694-423c-de8a-3a0bf98a53b400000085.jpg ./datas/training/valid/base\\images\\wb_4dc1393b-9694-423c-de8a-3a0bf98a53b400000085.jpg\n",
      "./datas/yolo/base\\Labels\\wb_4dc1393b-9694-423c-de8a-3a0bf98a53b400000085.txt ./datas/training/valid/base\\labels\\wb_4dc1393b-9694-423c-de8a-3a0bf98a53b400000085.txt\n",
      "./datas/yolo/base\\JPEGImages\\wb_45bef8b3-0214-d4f1-5abc-3a0c9e36367f00000033.jpg ./datas/training/valid/base\\images\\wb_45bef8b3-0214-d4f1-5abc-3a0c9e36367f00000033.jpg\n",
      "./datas/yolo/base\\Labels\\wb_45bef8b3-0214-d4f1-5abc-3a0c9e36367f00000033.txt ./datas/training/valid/base\\labels\\wb_45bef8b3-0214-d4f1-5abc-3a0c9e36367f00000033.txt\n",
      "done\n",
      "./datas/yolo/transform\\JPEGImages\\transformwb_bc487c96-e362-bb95-9850-3a0c2cfd40be00000009.jpg ./datas/training/train/transform\\images\\transformwb_bc487c96-e362-bb95-9850-3a0c2cfd40be00000009.jpg\n",
      "./datas/yolo/transform\\Labels\\transformwb_bc487c96-e362-bb95-9850-3a0c2cfd40be00000009.txt ./datas/training/train/transform\\labels\\transformwb_bc487c96-e362-bb95-9850-3a0c2cfd40be00000009.txt\n",
      "./datas/yolo/transform\\JPEGImages\\transformwb_20b579fc-7855-dc8f-15ca-3a09d7ac889200000009.jpg ./datas/training/train/transform\\images\\transformwb_20b579fc-7855-dc8f-15ca-3a09d7ac889200000009.jpg\n",
      "./datas/yolo/transform\\Labels\\transformwb_20b579fc-7855-dc8f-15ca-3a09d7ac889200000009.txt ./datas/training/train/transform\\labels\\transformwb_20b579fc-7855-dc8f-15ca-3a09d7ac889200000009.txt\n",
      "./datas/yolo/transform\\JPEGImages\\transformwb_94cb8bb8-4c88-11ec-9b81-3a0bea150e9c00000079.jpg ./datas/training/train/transform\\images\\transformwb_94cb8bb8-4c88-11ec-9b81-3a0bea150e9c00000079.jpg\n",
      "./datas/yolo/transform\\Labels\\transformwb_94cb8bb8-4c88-11ec-9b81-3a0bea150e9c00000079.txt ./datas/training/train/transform\\labels\\transformwb_94cb8bb8-4c88-11ec-9b81-3a0bea150e9c00000079.txt\n",
      "./datas/yolo/transform\\JPEGImages\\transformwb_bc487c96-e362-bb95-9850-3a0c2cfd40be00000011.jpg ./datas/training/train/transform\\images\\transformwb_bc487c96-e362-bb95-9850-3a0c2cfd40be00000011.jpg\n",
      "./datas/yolo/transform\\Labels\\transformwb_bc487c96-e362-bb95-9850-3a0c2cfd40be00000011.txt ./datas/training/train/transform\\labels\\transformwb_bc487c96-e362-bb95-9850-3a0c2cfd40be00000011.txt\n",
      "./datas/yolo/transform\\JPEGImages\\transformwb_45bef8b3-0214-d4f1-5abc-3a0c9e36367f00000034.jpg ./datas/training/train/transform\\images\\transformwb_45bef8b3-0214-d4f1-5abc-3a0c9e36367f00000034.jpg\n",
      "./datas/yolo/transform\\Labels\\transformwb_45bef8b3-0214-d4f1-5abc-3a0c9e36367f00000034.txt ./datas/training/train/transform\\labels\\transformwb_45bef8b3-0214-d4f1-5abc-3a0c9e36367f00000034.txt\n",
      "./datas/yolo/transform\\JPEGImages\\transformwb_3752dcd7-352c-0d4a-4013-3a0bfe8ecfec00000033.jpg ./datas/training/train/transform\\images\\transformwb_3752dcd7-352c-0d4a-4013-3a0bfe8ecfec00000033.jpg\n",
      "./datas/yolo/transform\\Labels\\transformwb_3752dcd7-352c-0d4a-4013-3a0bfe8ecfec00000033.txt ./datas/training/train/transform\\labels\\transformwb_3752dcd7-352c-0d4a-4013-3a0bfe8ecfec00000033.txt\n",
      "./datas/yolo/transform\\JPEGImages\\transformwb_94cb8bb8-4c88-11ec-9b81-3a0bea150e9c00000078.jpg ./datas/training/train/transform\\images\\transformwb_94cb8bb8-4c88-11ec-9b81-3a0bea150e9c00000078.jpg\n",
      "./datas/yolo/transform\\Labels\\transformwb_94cb8bb8-4c88-11ec-9b81-3a0bea150e9c00000078.txt ./datas/training/train/transform\\labels\\transformwb_94cb8bb8-4c88-11ec-9b81-3a0bea150e9c00000078.txt\n",
      "./datas/yolo/transform\\JPEGImages\\transformwb_4dc1393b-9694-423c-de8a-3a0bf98a53b400000085.jpg ./datas/training/train/transform\\images\\transformwb_4dc1393b-9694-423c-de8a-3a0bf98a53b400000085.jpg\n",
      "./datas/yolo/transform\\Labels\\transformwb_4dc1393b-9694-423c-de8a-3a0bf98a53b400000085.txt ./datas/training/train/transform\\labels\\transformwb_4dc1393b-9694-423c-de8a-3a0bf98a53b400000085.txt\n",
      "./datas/yolo/transform\\JPEGImages\\transformwb_ea9baa90-3b4b-6a27-b725-3a09e1f4824500000089.jpg ./datas/training/train/transform\\images\\transformwb_ea9baa90-3b4b-6a27-b725-3a09e1f4824500000089.jpg\n",
      "./datas/yolo/transform\\Labels\\transformwb_ea9baa90-3b4b-6a27-b725-3a09e1f4824500000089.txt ./datas/training/train/transform\\labels\\transformwb_ea9baa90-3b4b-6a27-b725-3a09e1f4824500000089.txt\n",
      "./datas/yolo/transform\\JPEGImages\\transformwb_20b579fc-7855-dc8f-15ca-3a09d7ac889200000010.jpg ./datas/training/train/transform\\images\\transformwb_20b579fc-7855-dc8f-15ca-3a09d7ac889200000010.jpg\n",
      "./datas/yolo/transform\\Labels\\transformwb_20b579fc-7855-dc8f-15ca-3a09d7ac889200000010.txt ./datas/training/train/transform\\labels\\transformwb_20b579fc-7855-dc8f-15ca-3a09d7ac889200000010.txt\n",
      "./datas/yolo/transform\\JPEGImages\\transformwb_ea9baa90-3b4b-6a27-b725-3a09e1f4824500000088.jpg ./datas/training/train/transform\\images\\transformwb_ea9baa90-3b4b-6a27-b725-3a09e1f4824500000088.jpg\n",
      "./datas/yolo/transform\\Labels\\transformwb_ea9baa90-3b4b-6a27-b725-3a09e1f4824500000088.txt ./datas/training/train/transform\\labels\\transformwb_ea9baa90-3b4b-6a27-b725-3a09e1f4824500000088.txt\n",
      "./datas/yolo/transform\\JPEGImages\\transformwb_45bef8b3-0214-d4f1-5abc-3a0c9e36367f00000033.jpg ./datas/training/train/transform\\images\\transformwb_45bef8b3-0214-d4f1-5abc-3a0c9e36367f00000033.jpg\n",
      "./datas/yolo/transform\\Labels\\transformwb_45bef8b3-0214-d4f1-5abc-3a0c9e36367f00000033.txt ./datas/training/train/transform\\labels\\transformwb_45bef8b3-0214-d4f1-5abc-3a0c9e36367f00000033.txt\n",
      "./datas/yolo/transform\\JPEGImages\\transformwb_bc487c96-e362-bb95-9850-3a0c2cfd40be00000010.jpg ./datas/training/train/transform\\images\\transformwb_bc487c96-e362-bb95-9850-3a0c2cfd40be00000010.jpg\n",
      "./datas/yolo/transform\\Labels\\transformwb_bc487c96-e362-bb95-9850-3a0c2cfd40be00000010.txt ./datas/training/train/transform\\labels\\transformwb_bc487c96-e362-bb95-9850-3a0c2cfd40be00000010.txt\n",
      "./datas/yolo/transform\\JPEGImages\\transformwb_bc487c96-e362-bb95-9850-3a0c2cfd40be00000087.jpg ./datas/training/train/transform\\images\\transformwb_bc487c96-e362-bb95-9850-3a0c2cfd40be00000087.jpg\n",
      "./datas/yolo/transform\\Labels\\transformwb_bc487c96-e362-bb95-9850-3a0c2cfd40be00000087.txt ./datas/training/train/transform\\labels\\transformwb_bc487c96-e362-bb95-9850-3a0c2cfd40be00000087.txt\n",
      "./datas/yolo/transform\\JPEGImages\\transformwb_bc487c96-e362-bb95-9850-3a0c2cfd40be00000088.jpg ./datas/training/valid/transform\\images\\transformwb_bc487c96-e362-bb95-9850-3a0c2cfd40be00000088.jpg\n",
      "./datas/yolo/transform\\Labels\\transformwb_bc487c96-e362-bb95-9850-3a0c2cfd40be00000088.txt ./datas/training/valid/transform\\labels\\transformwb_bc487c96-e362-bb95-9850-3a0c2cfd40be00000088.txt\n",
      "./datas/yolo/transform\\JPEGImages\\transformwb_4dc1393b-9694-423c-de8a-3a0bf98a53b400000087.jpg ./datas/training/valid/transform\\images\\transformwb_4dc1393b-9694-423c-de8a-3a0bf98a53b400000087.jpg\n",
      "./datas/yolo/transform\\Labels\\transformwb_4dc1393b-9694-423c-de8a-3a0bf98a53b400000087.txt ./datas/training/valid/transform\\labels\\transformwb_4dc1393b-9694-423c-de8a-3a0bf98a53b400000087.txt\n",
      "./datas/yolo/transform\\JPEGImages\\transformwb_4dc1393b-9694-423c-de8a-3a0bf98a53b400000086.jpg ./datas/training/valid/transform\\images\\transformwb_4dc1393b-9694-423c-de8a-3a0bf98a53b400000086.jpg\n",
      "./datas/yolo/transform\\Labels\\transformwb_4dc1393b-9694-423c-de8a-3a0bf98a53b400000086.txt ./datas/training/valid/transform\\labels\\transformwb_4dc1393b-9694-423c-de8a-3a0bf98a53b400000086.txt\n",
      "./datas/yolo/transform\\JPEGImages\\transformwb_3752dcd7-352c-0d4a-4013-3a0bfe8ecfec00000032.jpg ./datas/training/valid/transform\\images\\transformwb_3752dcd7-352c-0d4a-4013-3a0bfe8ecfec00000032.jpg\n",
      "./datas/yolo/transform\\Labels\\transformwb_3752dcd7-352c-0d4a-4013-3a0bfe8ecfec00000032.txt ./datas/training/valid/transform\\labels\\transformwb_3752dcd7-352c-0d4a-4013-3a0bfe8ecfec00000032.txt\n",
      "done\n"
     ]
    }
   ],
   "source": [
    "# 將資料切分成訓練集合驗證集\n",
    "\n",
    "img_source_dir = \"JPEGImages\"\n",
    "label_source_dir = \"Labels\"\n",
    "\n",
    "data_path = \"./datas/yolo/base\"\n",
    "train_path = \"./datas/training/train/base\"\n",
    "valid_path = \"./datas/training/valid/base\"\n",
    "\n",
    "split_data.split(data_path,train_path,valid_path,img_source_dir,label_source_dir)\n",
    "\n",
    "data_path = \"./datas/yolo/transform\"\n",
    "train_path = \"./datas/training/train/transform\"\n",
    "valid_path = \"./datas/training/valid/transform\"\n",
    "\n",
    "split_data.split(data_path,train_path,valid_path,img_source_dir,label_source_dir)"
   ]
  },
  {
   "cell_type": "code",
   "execution_count": 9,
   "metadata": {},
   "outputs": [
    {
     "name": "stdout",
     "output_type": "stream",
     "text": [
      "資料夾檔案合併完成： ./datasets/custom/train/images\n",
      "資料夾檔案合併完成： ./datasets/custom/train/labels\n",
      "資料夾檔案合併完成： ./datasets/custom/valid/images\n",
      "資料夾檔案合併完成： ./datasets/custom/valid/labels\n"
     ]
    }
   ],
   "source": [
    "# 將資料集資料整合並放到模型訓練預設位置\n",
    "\n",
    "output_folder = \"./datasets/custom/train/images\"\n",
    "first_folder = \"./datas/training/train/base/images\"\n",
    "second_folder = \"./datas/training/train/transform/images\"\n",
    "\n",
    "tool.merge_dir_data(first_folder,second_folder,output_folder)\n",
    "\n",
    "output_folder = \"./datasets/custom/train/labels\"\n",
    "first_folder = \"./datas/training/train/base/labels\"\n",
    "second_folder = \"./datas/training/train/transform/labels\"\n",
    "\n",
    "tool.merge_dir_data(first_folder,second_folder,output_folder)\n",
    "\n",
    "output_folder = \"./datasets/custom/valid/images\"\n",
    "first_folder = \"./datas/training/valid/base/images\"\n",
    "second_folder = \"./datas/training/valid/transform/images\"\n",
    "\n",
    "tool.merge_dir_data(first_folder,second_folder,output_folder)\n",
    "\n",
    "output_folder = \"./datasets/custom/valid/labels\"\n",
    "first_folder = \"./datas/training/valid/base/labels\"\n",
    "second_folder = \"./datas/training/valid/transform/labels\"\n",
    "\n",
    "tool.merge_dir_data(first_folder,second_folder,output_folder)\n",
    "\n"
   ]
  },
  {
   "cell_type": "code",
   "execution_count": 10,
   "metadata": {},
   "outputs": [
    {
     "name": "stdout",
     "output_type": "stream",
     "text": [
      "標籤處理完成: ./datasets/custom/train/labels\\transformwb_20b579fc-7855-dc8f-15ca-3a09d7ac889200000009.txt\n",
      "標籤處理完成: ./datasets/custom/train/labels\\transformwb_20b579fc-7855-dc8f-15ca-3a09d7ac889200000010.txt\n",
      "標籤處理完成: ./datasets/custom/train/labels\\transformwb_3752dcd7-352c-0d4a-4013-3a0bfe8ecfec00000032.txt\n",
      "標籤處理完成: ./datasets/custom/train/labels\\transformwb_3752dcd7-352c-0d4a-4013-3a0bfe8ecfec00000033.txt\n",
      "標籤處理完成: ./datasets/custom/train/labels\\transformwb_45bef8b3-0214-d4f1-5abc-3a0c9e36367f00000033.txt\n",
      "標籤處理完成: ./datasets/custom/train/labels\\transformwb_45bef8b3-0214-d4f1-5abc-3a0c9e36367f00000034.txt\n",
      "標籤處理完成: ./datasets/custom/train/labels\\transformwb_4dc1393b-9694-423c-de8a-3a0bf98a53b400000085.txt\n",
      "標籤處理完成: ./datasets/custom/train/labels\\transformwb_94cb8bb8-4c88-11ec-9b81-3a0bea150e9c00000078.txt\n",
      "標籤處理完成: ./datasets/custom/train/labels\\transformwb_94cb8bb8-4c88-11ec-9b81-3a0bea150e9c00000079.txt\n",
      "標籤處理完成: ./datasets/custom/train/labels\\transformwb_bc487c96-e362-bb95-9850-3a0c2cfd40be00000009.txt\n",
      "標籤處理完成: ./datasets/custom/train/labels\\transformwb_bc487c96-e362-bb95-9850-3a0c2cfd40be00000010.txt\n",
      "標籤處理完成: ./datasets/custom/train/labels\\transformwb_bc487c96-e362-bb95-9850-3a0c2cfd40be00000011.txt\n",
      "標籤處理完成: ./datasets/custom/train/labels\\transformwb_bc487c96-e362-bb95-9850-3a0c2cfd40be00000087.txt\n",
      "標籤處理完成: ./datasets/custom/train/labels\\transformwb_bc487c96-e362-bb95-9850-3a0c2cfd40be00000088.txt\n",
      "標籤處理完成: ./datasets/custom/train/labels\\transformwb_ea9baa90-3b4b-6a27-b725-3a09e1f4824500000088.txt\n",
      "標籤處理完成: ./datasets/custom/train/labels\\transformwb_ea9baa90-3b4b-6a27-b725-3a09e1f4824500000089.txt\n",
      "標籤處理完成: ./datasets/custom/train/labels\\wb_20b579fc-7855-dc8f-15ca-3a09d7ac889200000009.txt\n",
      "標籤處理完成: ./datasets/custom/train/labels\\wb_20b579fc-7855-dc8f-15ca-3a09d7ac889200000010.txt\n",
      "標籤處理完成: ./datasets/custom/train/labels\\wb_3752dcd7-352c-0d4a-4013-3a0bfe8ecfec00000032.txt\n",
      "標籤處理完成: ./datasets/custom/train/labels\\wb_3752dcd7-352c-0d4a-4013-3a0bfe8ecfec00000033.txt\n",
      "標籤處理完成: ./datasets/custom/train/labels\\wb_45bef8b3-0214-d4f1-5abc-3a0c9e36367f00000033.txt\n",
      "標籤處理完成: ./datasets/custom/train/labels\\wb_45bef8b3-0214-d4f1-5abc-3a0c9e36367f00000034.txt\n",
      "標籤處理完成: ./datasets/custom/train/labels\\wb_4dc1393b-9694-423c-de8a-3a0bf98a53b400000086.txt\n",
      "標籤處理完成: ./datasets/custom/train/labels\\wb_4dc1393b-9694-423c-de8a-3a0bf98a53b400000087.txt\n",
      "標籤處理完成: ./datasets/custom/train/labels\\wb_94cb8bb8-4c88-11ec-9b81-3a0bea150e9c00000078.txt\n",
      "標籤處理完成: ./datasets/custom/train/labels\\wb_94cb8bb8-4c88-11ec-9b81-3a0bea150e9c00000079.txt\n",
      "標籤處理完成: ./datasets/custom/train/labels\\wb_bc487c96-e362-bb95-9850-3a0c2cfd40be00000009.txt\n",
      "標籤處理完成: ./datasets/custom/train/labels\\wb_bc487c96-e362-bb95-9850-3a0c2cfd40be00000010.txt\n",
      "標籤處理完成: ./datasets/custom/train/labels\\wb_bc487c96-e362-bb95-9850-3a0c2cfd40be00000011.txt\n",
      "標籤處理完成: ./datasets/custom/train/labels\\wb_bc487c96-e362-bb95-9850-3a0c2cfd40be00000087.txt\n",
      "標籤處理完成: ./datasets/custom/train/labels\\wb_bc487c96-e362-bb95-9850-3a0c2cfd40be00000088.txt\n",
      "標籤處理完成: ./datasets/custom/train/labels\\wb_ea9baa90-3b4b-6a27-b725-3a09e1f4824500000088.txt\n",
      "標籤處理完成: ./datasets/custom/train/labels\\wb_ea9baa90-3b4b-6a27-b725-3a09e1f4824500000089.txt\n",
      "標籤處理完成: ./datasets/custom/valid/labels\\transformwb_3752dcd7-352c-0d4a-4013-3a0bfe8ecfec00000032.txt\n",
      "標籤處理完成: ./datasets/custom/valid/labels\\transformwb_45bef8b3-0214-d4f1-5abc-3a0c9e36367f00000034.txt\n",
      "標籤處理完成: ./datasets/custom/valid/labels\\transformwb_4dc1393b-9694-423c-de8a-3a0bf98a53b400000085.txt\n",
      "標籤處理完成: ./datasets/custom/valid/labels\\transformwb_4dc1393b-9694-423c-de8a-3a0bf98a53b400000086.txt\n",
      "標籤處理完成: ./datasets/custom/valid/labels\\transformwb_4dc1393b-9694-423c-de8a-3a0bf98a53b400000087.txt\n",
      "標籤處理完成: ./datasets/custom/valid/labels\\transformwb_bc487c96-e362-bb95-9850-3a0c2cfd40be00000010.txt\n",
      "標籤處理完成: ./datasets/custom/valid/labels\\transformwb_bc487c96-e362-bb95-9850-3a0c2cfd40be00000088.txt\n",
      "標籤處理完成: ./datasets/custom/valid/labels\\transformwb_ea9baa90-3b4b-6a27-b725-3a09e1f4824500000089.txt\n",
      "標籤處理完成: ./datasets/custom/valid/labels\\wb_45bef8b3-0214-d4f1-5abc-3a0c9e36367f00000033.txt\n",
      "標籤處理完成: ./datasets/custom/valid/labels\\wb_4dc1393b-9694-423c-de8a-3a0bf98a53b400000085.txt\n",
      "標籤處理完成: ./datasets/custom/valid/labels\\wb_4dc1393b-9694-423c-de8a-3a0bf98a53b400000087.txt\n",
      "標籤處理完成: ./datasets/custom/valid/labels\\wb_94cb8bb8-4c88-11ec-9b81-3a0bea150e9c00000078.txt\n",
      "標籤處理完成: ./datasets/custom/valid/labels\\wb_bc487c96-e362-bb95-9850-3a0c2cfd40be00000009.txt\n",
      "標籤處理完成: ./datasets/custom/valid/labels\\wb_bc487c96-e362-bb95-9850-3a0c2cfd40be00000011.txt\n",
      "標籤處理完成: ./datasets/custom/valid/labels\\wb_bc487c96-e362-bb95-9850-3a0c2cfd40be00000087.txt\n",
      "標籤處理完成: ./datasets/custom/valid/labels\\wb_bc487c96-e362-bb95-9850-3a0c2cfd40be00000088.txt\n",
      "標籤處理完成: ./datasets/custom/valid/labels\\wb_ea9baa90-3b4b-6a27-b725-3a09e1f4824500000089.txt\n"
     ]
    }
   ],
   "source": [
    "# 將labels的坐標標準化\n",
    "\n",
    "image_dir = \"./datasets/custom/train/images\"\n",
    "label_dir = \"./datasets/custom/train/labels\"\n",
    "output_dir = \"./datasets/custom/train/labels\"\n",
    "\n",
    "tool.process_labels(image_dir,label_dir,output_dir)\n",
    "\n",
    "image_dir = \"./datasets/custom/valid/images\"\n",
    "label_dir = \"./datasets/custom/valid/labels\"\n",
    "output_dir = \"./datasets/custom/valid/labels\"\n",
    "\n",
    "tool.process_labels(image_dir,label_dir,output_dir)"
   ]
  },
  {
   "cell_type": "code",
   "execution_count": 11,
   "metadata": {},
   "outputs": [
    {
     "name": "stdout",
     "output_type": "stream",
     "text": [
      "Transferred 355/417 items from pretrained weights\n",
      "start training\n",
      "New https://pypi.org/project/ultralytics/8.2.19 available  Update with 'pip install -U ultralytics'\n",
      "Ultralytics YOLOv8.2.2  Python-3.10.5 torch-2.2.2+cpu CPU (Intel Core(TM) i7-8700 3.20GHz)\n",
      "\u001b[34m\u001b[1mengine\\trainer: \u001b[0mtask=segment, mode=train, model=yolov8n-seg.yaml, data=./data_thing.yaml, epochs=150, time=None, patience=100, batch=16, imgsz=640, save=True, save_period=-1, cache=False, device=None, workers=8, project=None, name=train6, exist_ok=False, pretrained=True, optimizer=auto, verbose=True, seed=0, deterministic=True, single_cls=False, rect=False, cos_lr=False, close_mosaic=10, resume=False, amp=True, fraction=1.0, profile=False, freeze=None, multi_scale=False, overlap_mask=True, mask_ratio=4, dropout=0.0, val=True, split=val, save_json=False, save_hybrid=False, conf=None, iou=0.7, max_det=300, half=False, dnn=False, plots=True, source=None, vid_stride=1, stream_buffer=False, visualize=False, augment=False, agnostic_nms=False, classes=None, retina_masks=False, embed=None, show=False, save_frames=False, save_txt=False, save_conf=False, save_crop=False, show_labels=True, show_conf=True, show_boxes=True, line_width=None, format=torchscript, keras=False, optimize=False, int8=False, dynamic=False, simplify=False, opset=None, workspace=4, nms=False, lr0=0.01, lrf=0.01, momentum=0.937, weight_decay=0.0005, warmup_epochs=3.0, warmup_momentum=0.8, warmup_bias_lr=0.1, box=7.5, cls=0.5, dfl=1.5, pose=12.0, kobj=1.0, label_smoothing=0.0, nbs=64, hsv_h=0.015, hsv_s=0.7, hsv_v=0.4, degrees=0.0, translate=0.1, scale=0.5, shear=0.0, perspective=0.0, flipud=0.0, fliplr=0.5, bgr=0.0, mosaic=1.0, mixup=0.0, copy_paste=0.0, auto_augment=randaugment, erasing=0.4, crop_fraction=1.0, cfg=None, tracker=botsort.yaml, save_dir=C:\\Users\\further-pc\\.pyenv\\runs\\segment\\train6\n",
      "Overriding model.yaml nc=80 with nc=2\n",
      "\n",
      "                   from  n    params  module                                       arguments                     \n",
      "  0                  -1  1       464  ultralytics.nn.modules.conv.Conv             [3, 16, 3, 2]                 \n",
      "  1                  -1  1      4672  ultralytics.nn.modules.conv.Conv             [16, 32, 3, 2]                \n",
      "  2                  -1  1      7360  ultralytics.nn.modules.block.C2f             [32, 32, 1, True]             \n",
      "  3                  -1  1     18560  ultralytics.nn.modules.conv.Conv             [32, 64, 3, 2]                \n",
      "  4                  -1  2     49664  ultralytics.nn.modules.block.C2f             [64, 64, 2, True]             \n",
      "  5                  -1  1     73984  ultralytics.nn.modules.conv.Conv             [64, 128, 3, 2]               \n",
      "  6                  -1  2    197632  ultralytics.nn.modules.block.C2f             [128, 128, 2, True]           \n",
      "  7                  -1  1    295424  ultralytics.nn.modules.conv.Conv             [128, 256, 3, 2]              \n",
      "  8                  -1  1    460288  ultralytics.nn.modules.block.C2f             [256, 256, 1, True]           \n",
      "  9                  -1  1    164608  ultralytics.nn.modules.block.SPPF            [256, 256, 5]                 \n",
      " 10                  -1  1         0  torch.nn.modules.upsampling.Upsample         [None, 2, 'nearest']          \n",
      " 11             [-1, 6]  1         0  ultralytics.nn.modules.conv.Concat           [1]                           \n",
      " 12                  -1  1    148224  ultralytics.nn.modules.block.C2f             [384, 128, 1]                 \n",
      " 13                  -1  1         0  torch.nn.modules.upsampling.Upsample         [None, 2, 'nearest']          \n",
      " 14             [-1, 4]  1         0  ultralytics.nn.modules.conv.Concat           [1]                           \n",
      " 15                  -1  1     37248  ultralytics.nn.modules.block.C2f             [192, 64, 1]                  \n",
      " 16                  -1  1     36992  ultralytics.nn.modules.conv.Conv             [64, 64, 3, 2]                \n",
      " 17            [-1, 12]  1         0  ultralytics.nn.modules.conv.Concat           [1]                           \n",
      " 18                  -1  1    123648  ultralytics.nn.modules.block.C2f             [192, 128, 1]                 \n",
      " 19                  -1  1    147712  ultralytics.nn.modules.conv.Conv             [128, 128, 3, 2]              \n",
      " 20             [-1, 9]  1         0  ultralytics.nn.modules.conv.Concat           [1]                           \n",
      " 21                  -1  1    493056  ultralytics.nn.modules.block.C2f             [384, 256, 1]                 \n",
      " 22        [15, 18, 21]  1   1004470  ultralytics.nn.modules.head.Segment          [2, 32, 64, [64, 128, 256]]   \n",
      "YOLOv8n-seg summary: 261 layers, 3264006 parameters, 3263990 gradients, 12.1 GFLOPs\n",
      "\n",
      "Transferred 381/417 items from pretrained weights\n",
      "\u001b[34m\u001b[1mTensorBoard: \u001b[0mStart with 'tensorboard --logdir C:\\Users\\further-pc\\.pyenv\\runs\\segment\\train6', view at http://localhost:6006/\n",
      "Freezing layer 'model.22.dfl.conv.weight'\n"
     ]
    },
    {
     "name": "stderr",
     "output_type": "stream",
     "text": [
      "train: Scanning C:\\Users\\further-pc\\Documents\\yolo8-cars\\datasets\\custom\\train\\labels...:   0%|          | 0/33 [00:00<?, ?it/s]Scanning C:\\Users\\further-pc\\Documents\\yolo8-cars\\datasets\\custom\\train\\labels... 33 images, 0 backgrounds, 0 corrupt: 100%|██████\n"
     ]
    },
    {
     "name": "stdout",
     "output_type": "stream",
     "text": [
      "\u001b[34m\u001b[1mtrain: \u001b[0mNew cache created: C:\\Users\\further-pc\\Documents\\yolo8-cars\\datasets\\custom\\train\\labels.cache\n",
      "\u001b[34m\u001b[1malbumentations: \u001b[0mBlur(p=0.01, blur_limit=(3, 7)), MedianBlur(p=0.01, blur_limit=(3, 7)), ToGray(p=0.01), CLAHE(p=0.01, clip_limit=(1, 4.0), tile_grid_size=(8, 8))\n"
     ]
    },
    {
     "name": "stderr",
     "output_type": "stream",
     "text": [
      "val: Scanning C:\\Users\\further-pc\\Documents\\yolo8-cars\\datasets\\custom\\valid\\labels...:   0%|          | 0/17 [00:00<?, ?it/s]Scanning C:\\Users\\further-pc\\Documents\\yolo8-cars\\datasets\\custom\\valid\\labels... 17 images, 0 backgrounds, 0 corrupt: 100%|████████\n"
     ]
    },
    {
     "name": "stdout",
     "output_type": "stream",
     "text": [
      "\u001b[34m\u001b[1mval: \u001b[0mNew cache created: C:\\Users\\further-pc\\Documents\\yolo8-cars\\datasets\\custom\\valid\\labels.cache\n",
      "Plotting labels to C:\\Users\\further-pc\\.pyenv\\runs\\segment\\train6\\labels.jpg... \n",
      "\u001b[34m\u001b[1moptimizer:\u001b[0m 'optimizer=auto' found, ignoring 'lr0=0.01' and 'momentum=0.937' and determining best 'optimizer', 'lr0' and 'momentum' automatically... \n",
      "\u001b[34m\u001b[1moptimizer:\u001b[0m AdamW(lr=0.001667, momentum=0.9) with parameter groups 66 weight(decay=0.0), 77 weight(decay=0.0005), 76 bias(decay=0.0)\n",
      "\u001b[34m\u001b[1mTensorBoard: \u001b[0mmodel graph visualization added \n",
      "Image sizes 640 train, 640 val\n",
      "Using 0 dataloader workers\n",
      "Logging results to \u001b[1mC:\\Users\\further-pc\\.pyenv\\runs\\segment\\train6\u001b[0m\n",
      "Starting training for 150 epochs...\n",
      "\n",
      "      Epoch    GPU_mem   box_loss   seg_loss   cls_loss   dfl_loss  Instances       Size\n"
     ]
    },
    {
     "name": "stderr",
     "output_type": "stream",
     "text": [
      "      1/150         0G       1.33      8.168      3.424      1.356          6        640: 100%|██████████| 3/3 [00:15<00:00,  5.10s/it]\n",
      "                 Class     Images  Instances      Box(P          R      mAP50  mAP50-95)     Mask(P          R      mAP50  mAP50-95): 100\n"
     ]
    },
    {
     "name": "stdout",
     "output_type": "stream",
     "text": [
      "                   all         17         83    0.00372      0.296      0.012    0.00646   0.000171    0.00781   8.71e-05   3.48e-05\n",
      "\n",
      "      Epoch    GPU_mem   box_loss   seg_loss   cls_loss   dfl_loss  Instances       Size\n"
     ]
    },
    {
     "name": "stderr",
     "output_type": "stream",
     "text": [
      "      2/150         0G      1.428      7.322      3.505      1.415          7        640: 100%|██████████| 3/3 [00:14<00:00,  4.87s/it]\n",
      "                 Class     Images  Instances      Box(P          R      mAP50  mAP50-95)     Mask(P          R      mAP50  mAP50-95): 100\n"
     ]
    },
    {
     "name": "stdout",
     "output_type": "stream",
     "text": [
      "                   all         17         83    0.00406      0.312     0.0104    0.00554   0.000871     0.0391    0.00048   0.000131\n",
      "\n",
      "      Epoch    GPU_mem   box_loss   seg_loss   cls_loss   dfl_loss  Instances       Size\n"
     ]
    },
    {
     "name": "stderr",
     "output_type": "stream",
     "text": [
      "      3/150         0G      1.256       6.22      3.504       1.38         10        640: 100%|██████████| 3/3 [00:14<00:00,  4.97s/it]\n",
      "                 Class     Images  Instances      Box(P          R      mAP50  mAP50-95)     Mask(P          R      mAP50  mAP50-95): 100\n"
     ]
    },
    {
     "name": "stdout",
     "output_type": "stream",
     "text": [
      "                   all         17         83    0.00442      0.328     0.0173    0.00917    0.00162     0.0703   0.000952   0.000221\n",
      "\n",
      "      Epoch    GPU_mem   box_loss   seg_loss   cls_loss   dfl_loss  Instances       Size\n"
     ]
    },
    {
     "name": "stderr",
     "output_type": "stream",
     "text": [
      "      4/150         0G      1.743      5.562      3.724      1.635          3        640: 100%|██████████| 3/3 [00:14<00:00,  4.86s/it]\n",
      "                 Class     Images  Instances      Box(P          R      mAP50  mAP50-95)     Mask(P          R      mAP50  mAP50-95): 100\n"
     ]
    },
    {
     "name": "stdout",
     "output_type": "stream",
     "text": [
      "                   all         17         83    0.00499      0.351     0.0367     0.0145    0.00225      0.131    0.00235    0.00058\n",
      "\n",
      "      Epoch    GPU_mem   box_loss   seg_loss   cls_loss   dfl_loss  Instances       Size\n"
     ]
    },
    {
     "name": "stderr",
     "output_type": "stream",
     "text": [
      "      5/150         0G      1.264      4.515      3.143      1.243         30        640: 100%|██████████| 3/3 [00:15<00:00,  5.00s/it]\n",
      "                 Class     Images  Instances      Box(P          R      mAP50  mAP50-95)     Mask(P          R      mAP50  mAP50-95): 100\n"
     ]
    },
    {
     "name": "stdout",
     "output_type": "stream",
     "text": [
      "                   all         17         83    0.00654      0.421     0.0461     0.0167    0.00283      0.191    0.00894    0.00338\n",
      "\n",
      "      Epoch    GPU_mem   box_loss   seg_loss   cls_loss   dfl_loss  Instances       Size\n"
     ]
    },
    {
     "name": "stderr",
     "output_type": "stream",
     "text": [
      "      6/150         0G      1.165      4.337      2.703      1.289          4        640: 100%|██████████| 3/3 [00:14<00:00,  4.99s/it]\n",
      "                 Class     Images  Instances      Box(P          R      mAP50  mAP50-95)     Mask(P          R      mAP50  mAP50-95): 100\n"
     ]
    },
    {
     "name": "stdout",
     "output_type": "stream",
     "text": [
      "                   all         17         83    0.00661      0.421     0.0537     0.0266    0.00491      0.314     0.0243    0.00749\n",
      "\n",
      "      Epoch    GPU_mem   box_loss   seg_loss   cls_loss   dfl_loss  Instances       Size\n"
     ]
    },
    {
     "name": "stderr",
     "output_type": "stream",
     "text": [
      "      7/150         0G      1.153       3.67      2.249      1.228          6        640: 100%|██████████| 3/3 [00:15<00:00,  5.11s/it]\n",
      "                 Class     Images  Instances      Box(P          R      mAP50  mAP50-95)     Mask(P          R      mAP50  mAP50-95): 100\n"
     ]
    },
    {
     "name": "stdout",
     "output_type": "stream",
     "text": [
      "                   all         17         83    0.00774      0.461     0.0906      0.048    0.00754      0.434     0.0449     0.0115\n",
      "\n",
      "      Epoch    GPU_mem   box_loss   seg_loss   cls_loss   dfl_loss  Instances       Size\n"
     ]
    },
    {
     "name": "stderr",
     "output_type": "stream",
     "text": [
      "      8/150         0G      1.281      3.851      2.115      1.445          6        640: 100%|██████████| 3/3 [00:14<00:00,  4.78s/it]\n",
      "                 Class     Images  Instances      Box(P          R      mAP50  mAP50-95)     Mask(P          R      mAP50  mAP50-95): 100\n"
     ]
    },
    {
     "name": "stdout",
     "output_type": "stream",
     "text": [
      "                   all         17         83      0.632      0.132     0.0978     0.0497    0.00777      0.431      0.031     0.0127\n",
      "\n",
      "      Epoch    GPU_mem   box_loss   seg_loss   cls_loss   dfl_loss  Instances       Size\n"
     ]
    },
    {
     "name": "stderr",
     "output_type": "stream",
     "text": [
      "      9/150         0G      1.011      3.318      1.712      1.112          5        640: 100%|██████████| 3/3 [00:15<00:00,  5.11s/it]\n",
      "                 Class     Images  Instances      Box(P          R      mAP50  mAP50-95)     Mask(P          R      mAP50  mAP50-95): 100\n"
     ]
    },
    {
     "name": "stdout",
     "output_type": "stream",
     "text": [
      "                   all         17         83      0.644      0.132      0.133     0.0854      0.615      0.105      0.117     0.0636\n",
      "\n",
      "      Epoch    GPU_mem   box_loss   seg_loss   cls_loss   dfl_loss  Instances       Size\n"
     ]
    },
    {
     "name": "stderr",
     "output_type": "stream",
     "text": [
      "     10/150         0G      1.235      3.235      1.505      1.088         33        640: 100%|██████████| 3/3 [00:15<00:00,  5.02s/it]\n",
      "                 Class     Images  Instances      Box(P          R      mAP50  mAP50-95)     Mask(P          R      mAP50  mAP50-95): 100\n"
     ]
    },
    {
     "name": "stdout",
     "output_type": "stream",
     "text": [
      "                   all         17         83      0.696      0.105      0.139     0.0946      0.613     0.0526      0.124     0.0679\n",
      "\n",
      "      Epoch    GPU_mem   box_loss   seg_loss   cls_loss   dfl_loss  Instances       Size\n"
     ]
    },
    {
     "name": "stderr",
     "output_type": "stream",
     "text": [
      "     11/150         0G      1.139      3.341      2.255      1.165          5        640: 100%|██████████| 3/3 [00:15<00:00,  5.33s/it]\n",
      "                 Class     Images  Instances      Box(P          R      mAP50  mAP50-95)     Mask(P          R      mAP50  mAP50-95): 100\n"
     ]
    },
    {
     "name": "stdout",
     "output_type": "stream",
     "text": [
      "                   all         17         83      0.716     0.0789      0.123     0.0891      0.679     0.0789      0.095     0.0444\n",
      "\n",
      "      Epoch    GPU_mem   box_loss   seg_loss   cls_loss   dfl_loss  Instances       Size\n"
     ]
    },
    {
     "name": "stderr",
     "output_type": "stream",
     "text": [
      "     12/150         0G      1.183      3.027      1.531       1.12         10        640: 100%|██████████| 3/3 [00:15<00:00,  5.01s/it]\n",
      "                 Class     Images  Instances      Box(P          R      mAP50  mAP50-95)     Mask(P          R      mAP50  mAP50-95): 100\n"
     ]
    },
    {
     "name": "stdout",
     "output_type": "stream",
     "text": [
      "                   all         17         83      0.751      0.105      0.113     0.0793      0.696      0.105     0.0868     0.0343\n",
      "\n",
      "      Epoch    GPU_mem   box_loss   seg_loss   cls_loss   dfl_loss  Instances       Size\n"
     ]
    },
    {
     "name": "stderr",
     "output_type": "stream",
     "text": [
      "     13/150         0G      1.218      3.619      1.599      1.123         34        640: 100%|██████████| 3/3 [00:14<00:00,  4.91s/it]\n",
      "                 Class     Images  Instances      Box(P          R      mAP50  mAP50-95)     Mask(P          R      mAP50  mAP50-95): 100\n"
     ]
    },
    {
     "name": "stdout",
     "output_type": "stream",
     "text": [
      "                   all         17         83      0.693      0.105     0.0966     0.0574       0.69     0.0789     0.0633     0.0257\n",
      "\n",
      "      Epoch    GPU_mem   box_loss   seg_loss   cls_loss   dfl_loss  Instances       Size\n"
     ]
    },
    {
     "name": "stderr",
     "output_type": "stream",
     "text": [
      "     14/150         0G      1.193      2.878      1.483      1.075         14        640: 100%|██████████| 3/3 [00:15<00:00,  5.17s/it]\n",
      "                 Class     Images  Instances      Box(P          R      mAP50  mAP50-95)     Mask(P          R      mAP50  mAP50-95): 100\n"
     ]
    },
    {
     "name": "stdout",
     "output_type": "stream",
     "text": [
      "                   all         17         83      0.633     0.0789     0.0868     0.0503      0.591     0.0526     0.0613     0.0293\n",
      "\n",
      "      Epoch    GPU_mem   box_loss   seg_loss   cls_loss   dfl_loss  Instances       Size\n"
     ]
    },
    {
     "name": "stderr",
     "output_type": "stream",
     "text": [
      "     15/150         0G      1.199      3.175      1.652      1.114         14        640: 100%|██████████| 3/3 [00:14<00:00,  4.91s/it]\n",
      "                 Class     Images  Instances      Box(P          R      mAP50  mAP50-95)     Mask(P          R      mAP50  mAP50-95): 100\n"
     ]
    },
    {
     "name": "stdout",
     "output_type": "stream",
     "text": [
      "                   all         17         83      0.589      0.158      0.111     0.0736      0.551     0.0526     0.0754     0.0449\n",
      "\n",
      "      Epoch    GPU_mem   box_loss   seg_loss   cls_loss   dfl_loss  Instances       Size\n"
     ]
    },
    {
     "name": "stderr",
     "output_type": "stream",
     "text": [
      "     16/150         0G      1.043      2.379      1.323      1.082          8        640: 100%|██████████| 3/3 [00:14<00:00,  4.94s/it]\n",
      "                 Class     Images  Instances      Box(P          R      mAP50  mAP50-95)     Mask(P          R      mAP50  mAP50-95): 100\n"
     ]
    },
    {
     "name": "stdout",
     "output_type": "stream",
     "text": [
      "                   all         17         83      0.606      0.158      0.117     0.0765      0.527     0.0789     0.0799     0.0483\n",
      "\n",
      "      Epoch    GPU_mem   box_loss   seg_loss   cls_loss   dfl_loss  Instances       Size\n"
     ]
    },
    {
     "name": "stderr",
     "output_type": "stream",
     "text": [
      "     17/150         0G      1.127      2.915      1.238      1.031         24        640: 100%|██████████| 3/3 [00:15<00:00,  5.14s/it]\n",
      "                 Class     Images  Instances      Box(P          R      mAP50  mAP50-95)     Mask(P          R      mAP50  mAP50-95): 100\n"
     ]
    },
    {
     "name": "stdout",
     "output_type": "stream",
     "text": [
      "                   all         17         83      0.339      0.257      0.179      0.115      0.647      0.158       0.17     0.0783\n",
      "\n",
      "      Epoch    GPU_mem   box_loss   seg_loss   cls_loss   dfl_loss  Instances       Size\n"
     ]
    },
    {
     "name": "stderr",
     "output_type": "stream",
     "text": [
      "     18/150         0G      1.143      2.332      2.182      1.259          2        640: 100%|██████████| 3/3 [00:14<00:00,  4.83s/it]\n",
      "                 Class     Images  Instances      Box(P          R      mAP50  mAP50-95)     Mask(P          R      mAP50  mAP50-95): 100\n"
     ]
    },
    {
     "name": "stdout",
     "output_type": "stream",
     "text": [
      "                   all         17         83      0.296      0.267      0.197      0.127      0.293      0.244      0.188     0.0862\n",
      "\n",
      "      Epoch    GPU_mem   box_loss   seg_loss   cls_loss   dfl_loss  Instances       Size\n"
     ]
    },
    {
     "name": "stderr",
     "output_type": "stream",
     "text": [
      "     19/150         0G      1.193      2.312      1.356      1.047         11        640: 100%|██████████| 3/3 [00:14<00:00,  4.75s/it]\n",
      "                 Class     Images  Instances      Box(P          R      mAP50  mAP50-95)     Mask(P          R      mAP50  mAP50-95): 100\n"
     ]
    },
    {
     "name": "stdout",
     "output_type": "stream",
     "text": [
      "                   all         17         83      0.353      0.278      0.178      0.115      0.332      0.252      0.171     0.0807\n",
      "\n",
      "      Epoch    GPU_mem   box_loss   seg_loss   cls_loss   dfl_loss  Instances       Size\n"
     ]
    },
    {
     "name": "stderr",
     "output_type": "stream",
     "text": [
      "     20/150         0G      1.171      2.676      1.668      1.125         12        640: 100%|██████████| 3/3 [00:14<00:00,  4.73s/it]\n",
      "                 Class     Images  Instances      Box(P          R      mAP50  mAP50-95)     Mask(P          R      mAP50  mAP50-95): 100\n"
     ]
    },
    {
     "name": "stdout",
     "output_type": "stream",
     "text": [
      "                   all         17         83      0.314      0.247      0.135     0.0841       0.31       0.22      0.126     0.0605\n",
      "\n",
      "      Epoch    GPU_mem   box_loss   seg_loss   cls_loss   dfl_loss  Instances       Size\n"
     ]
    },
    {
     "name": "stderr",
     "output_type": "stream",
     "text": [
      "     21/150         0G      1.183      2.482      1.363       1.08         47        640: 100%|██████████| 3/3 [00:14<00:00,  4.95s/it]\n",
      "                 Class     Images  Instances      Box(P          R      mAP50  mAP50-95)     Mask(P          R      mAP50  mAP50-95): 100\n"
     ]
    },
    {
     "name": "stdout",
     "output_type": "stream",
     "text": [
      "                   all         17         83      0.239      0.243      0.156      0.101      0.227      0.164      0.134     0.0676\n",
      "\n",
      "      Epoch    GPU_mem   box_loss   seg_loss   cls_loss   dfl_loss  Instances       Size\n"
     ]
    },
    {
     "name": "stderr",
     "output_type": "stream",
     "text": [
      "     22/150         0G      1.136      2.722      1.223      1.106         21        640: 100%|██████████| 3/3 [00:14<00:00,  4.96s/it]\n",
      "                 Class     Images  Instances      Box(P          R      mAP50  mAP50-95)     Mask(P          R      mAP50  mAP50-95): 100\n"
     ]
    },
    {
     "name": "stdout",
     "output_type": "stream",
     "text": [
      "                   all         17         83      0.277      0.218       0.17      0.113      0.255      0.191      0.165     0.0814\n",
      "\n",
      "      Epoch    GPU_mem   box_loss   seg_loss   cls_loss   dfl_loss  Instances       Size\n"
     ]
    },
    {
     "name": "stderr",
     "output_type": "stream",
     "text": [
      "     23/150         0G     0.6929      1.451      12.92      0.687          0        640: 100%|██████████| 3/3 [00:15<00:00,  5.14s/it]\n",
      "                 Class     Images  Instances      Box(P          R      mAP50  mAP50-95)     Mask(P          R      mAP50  mAP50-95): 100\n"
     ]
    },
    {
     "name": "stdout",
     "output_type": "stream",
     "text": [
      "                   all         17         83      0.423      0.202      0.153     0.0939      0.426      0.202      0.144     0.0708\n",
      "\n",
      "      Epoch    GPU_mem   box_loss   seg_loss   cls_loss   dfl_loss  Instances       Size\n"
     ]
    },
    {
     "name": "stderr",
     "output_type": "stream",
     "text": [
      "     24/150         0G      1.046      2.213      1.513      1.112          5        640: 100%|██████████| 3/3 [00:14<00:00,  4.71s/it]\n",
      "                 Class     Images  Instances      Box(P          R      mAP50  mAP50-95)     Mask(P          R      mAP50  mAP50-95): 100\n"
     ]
    },
    {
     "name": "stdout",
     "output_type": "stream",
     "text": [
      "                   all         17         83      0.365      0.181      0.127     0.0725      0.362      0.154      0.117     0.0598\n",
      "\n",
      "      Epoch    GPU_mem   box_loss   seg_loss   cls_loss   dfl_loss  Instances       Size\n"
     ]
    },
    {
     "name": "stderr",
     "output_type": "stream",
     "text": [
      "     25/150         0G      1.122      2.404      1.247      1.007         51        640: 100%|██████████| 3/3 [00:15<00:00,  5.21s/it]\n",
      "                 Class     Images  Instances      Box(P          R      mAP50  mAP50-95)     Mask(P          R      mAP50  mAP50-95): 100\n"
     ]
    },
    {
     "name": "stdout",
     "output_type": "stream",
     "text": [
      "                   all         17         83      0.321      0.165      0.111      0.061      0.319      0.139     0.0992     0.0489\n",
      "\n",
      "      Epoch    GPU_mem   box_loss   seg_loss   cls_loss   dfl_loss  Instances       Size\n"
     ]
    },
    {
     "name": "stderr",
     "output_type": "stream",
     "text": [
      "     26/150         0G     0.9972      2.178      1.155       1.03         26        640: 100%|██████████| 3/3 [00:14<00:00,  4.96s/it]\n",
      "                 Class     Images  Instances      Box(P          R      mAP50  mAP50-95)     Mask(P          R      mAP50  mAP50-95): 100\n"
     ]
    },
    {
     "name": "stdout",
     "output_type": "stream",
     "text": [
      "                   all         17         83      0.253      0.168      0.104     0.0549      0.242      0.139     0.0939     0.0453\n",
      "\n",
      "      Epoch    GPU_mem   box_loss   seg_loss   cls_loss   dfl_loss  Instances       Size\n"
     ]
    },
    {
     "name": "stderr",
     "output_type": "stream",
     "text": [
      "     27/150         0G      1.136      2.122      1.123      1.099         12        640: 100%|██████████| 3/3 [00:14<00:00,  4.84s/it]\n",
      "                 Class     Images  Instances      Box(P          R      mAP50  mAP50-95)     Mask(P          R      mAP50  mAP50-95): 100\n"
     ]
    },
    {
     "name": "stdout",
     "output_type": "stream",
     "text": [
      "                   all         17         83      0.286      0.215      0.131     0.0603      0.163      0.181     0.0848     0.0375\n",
      "\n",
      "      Epoch    GPU_mem   box_loss   seg_loss   cls_loss   dfl_loss  Instances       Size\n"
     ]
    },
    {
     "name": "stderr",
     "output_type": "stream",
     "text": [
      "     28/150         0G       1.42      1.778      2.513      1.266          2        640: 100%|██████████| 3/3 [00:14<00:00,  4.77s/it]\n",
      "                 Class     Images  Instances      Box(P          R      mAP50  mAP50-95)     Mask(P          R      mAP50  mAP50-95): 100\n"
     ]
    },
    {
     "name": "stdout",
     "output_type": "stream",
     "text": [
      "                   all         17         83      0.265      0.215      0.107     0.0587      0.242      0.188     0.0876     0.0392\n",
      "\n",
      "      Epoch    GPU_mem   box_loss   seg_loss   cls_loss   dfl_loss  Instances       Size\n"
     ]
    },
    {
     "name": "stderr",
     "output_type": "stream",
     "text": [
      "     29/150         0G      1.043      2.545      1.418      1.131          4        640: 100%|██████████| 3/3 [00:15<00:00,  5.10s/it]\n",
      "                 Class     Images  Instances      Box(P          R      mAP50  mAP50-95)     Mask(P          R      mAP50  mAP50-95): 100\n"
     ]
    },
    {
     "name": "stdout",
     "output_type": "stream",
     "text": [
      "                   all         17         83      0.265      0.215      0.107     0.0587      0.242      0.188     0.0876     0.0392\n",
      "\n",
      "      Epoch    GPU_mem   box_loss   seg_loss   cls_loss   dfl_loss  Instances       Size\n"
     ]
    },
    {
     "name": "stderr",
     "output_type": "stream",
     "text": [
      "     30/150         0G      1.035      2.094       1.34      1.139          9        640: 100%|██████████| 3/3 [00:14<00:00,  4.71s/it]\n",
      "                 Class     Images  Instances      Box(P          R      mAP50  mAP50-95)     Mask(P          R      mAP50  mAP50-95): 100\n"
     ]
    },
    {
     "name": "stdout",
     "output_type": "stream",
     "text": [
      "                   all         17         83      0.201      0.154     0.0991     0.0511       0.16      0.128     0.0745     0.0344\n",
      "\n",
      "      Epoch    GPU_mem   box_loss   seg_loss   cls_loss   dfl_loss  Instances       Size\n"
     ]
    },
    {
     "name": "stderr",
     "output_type": "stream",
     "text": [
      "     31/150         0G      1.052       2.47      1.119      1.068         10        640: 100%|██████████| 3/3 [00:14<00:00,  4.76s/it]\n",
      "                 Class     Images  Instances      Box(P          R      mAP50  mAP50-95)     Mask(P          R      mAP50  mAP50-95): 100\n"
     ]
    },
    {
     "name": "stdout",
     "output_type": "stream",
     "text": [
      "                   all         17         83      0.231      0.181      0.103     0.0495      0.212      0.154      0.077     0.0344\n",
      "\n",
      "      Epoch    GPU_mem   box_loss   seg_loss   cls_loss   dfl_loss  Instances       Size\n"
     ]
    },
    {
     "name": "stderr",
     "output_type": "stream",
     "text": [
      "     32/150         0G      1.047        2.2      1.153      1.042         34        640: 100%|██████████| 3/3 [00:14<00:00,  4.78s/it]\n",
      "                 Class     Images  Instances      Box(P          R      mAP50  mAP50-95)     Mask(P          R      mAP50  mAP50-95): 100\n"
     ]
    },
    {
     "name": "stdout",
     "output_type": "stream",
     "text": [
      "                   all         17         83      0.424      0.121        0.1     0.0447      0.168      0.157      0.076     0.0318\n",
      "\n",
      "      Epoch    GPU_mem   box_loss   seg_loss   cls_loss   dfl_loss  Instances       Size\n"
     ]
    },
    {
     "name": "stderr",
     "output_type": "stream",
     "text": [
      "     33/150         0G      1.224      2.386      1.775      1.293          3        640: 100%|██████████| 3/3 [00:13<00:00,  4.59s/it]\n",
      "                 Class     Images  Instances      Box(P          R      mAP50  mAP50-95)     Mask(P          R      mAP50  mAP50-95): 100\n"
     ]
    },
    {
     "name": "stdout",
     "output_type": "stream",
     "text": [
      "                   all         17         83      0.424      0.121        0.1     0.0447      0.168      0.157      0.076     0.0318\n",
      "\n",
      "      Epoch    GPU_mem   box_loss   seg_loss   cls_loss   dfl_loss  Instances       Size\n"
     ]
    },
    {
     "name": "stderr",
     "output_type": "stream",
     "text": [
      "     34/150         0G      1.112      2.117      1.166       1.13          5        640: 100%|██████████| 3/3 [00:14<00:00,  4.77s/it]\n",
      "                 Class     Images  Instances      Box(P          R      mAP50  mAP50-95)     Mask(P          R      mAP50  mAP50-95): 100\n"
     ]
    },
    {
     "name": "stdout",
     "output_type": "stream",
     "text": [
      "                   all         17         83      0.255      0.152     0.0948     0.0528      0.179      0.149     0.0739     0.0324\n",
      "\n",
      "      Epoch    GPU_mem   box_loss   seg_loss   cls_loss   dfl_loss  Instances       Size\n"
     ]
    },
    {
     "name": "stderr",
     "output_type": "stream",
     "text": [
      "     35/150         0G      1.158      2.163      1.171      1.187         16        640: 100%|██████████| 3/3 [00:14<00:00,  4.91s/it]\n",
      "                 Class     Images  Instances      Box(P          R      mAP50  mAP50-95)     Mask(P          R      mAP50  mAP50-95): 100\n"
     ]
    },
    {
     "name": "stdout",
     "output_type": "stream",
     "text": [
      "                   all         17         83      0.231      0.199      0.125     0.0609       0.22      0.173      0.119     0.0434\n",
      "\n",
      "      Epoch    GPU_mem   box_loss   seg_loss   cls_loss   dfl_loss  Instances       Size\n"
     ]
    },
    {
     "name": "stderr",
     "output_type": "stream",
     "text": [
      "     36/150         0G      1.097       2.11      1.197      1.056         43        640: 100%|██████████| 3/3 [00:15<00:00,  5.20s/it]\n",
      "                 Class     Images  Instances      Box(P          R      mAP50  mAP50-95)     Mask(P          R      mAP50  mAP50-95): 100\n"
     ]
    },
    {
     "name": "stdout",
     "output_type": "stream",
     "text": [
      "                   all         17         83      0.279      0.196       0.14     0.0737      0.251      0.147      0.121     0.0512\n",
      "\n",
      "      Epoch    GPU_mem   box_loss   seg_loss   cls_loss   dfl_loss  Instances       Size\n"
     ]
    },
    {
     "name": "stderr",
     "output_type": "stream",
     "text": [
      "     37/150         0G      1.149      2.048      1.249      1.196          5        640: 100%|██████████| 3/3 [00:14<00:00,  4.94s/it]\n",
      "                 Class     Images  Instances      Box(P          R      mAP50  mAP50-95)     Mask(P          R      mAP50  mAP50-95): 100\n"
     ]
    },
    {
     "name": "stdout",
     "output_type": "stream",
     "text": [
      "                   all         17         83      0.279      0.196       0.14     0.0737      0.251      0.147      0.121     0.0512\n",
      "\n",
      "      Epoch    GPU_mem   box_loss   seg_loss   cls_loss   dfl_loss  Instances       Size\n"
     ]
    },
    {
     "name": "stderr",
     "output_type": "stream",
     "text": [
      "     38/150         0G      1.048      2.287      1.185      1.116          8        640: 100%|██████████| 3/3 [00:14<00:00,  4.83s/it]\n",
      "                 Class     Images  Instances      Box(P          R      mAP50  mAP50-95)     Mask(P          R      mAP50  mAP50-95): 100\n"
     ]
    },
    {
     "name": "stdout",
     "output_type": "stream",
     "text": [
      "                   all         17         83       0.38      0.318      0.203      0.115      0.281      0.238      0.159     0.0804\n",
      "\n",
      "      Epoch    GPU_mem   box_loss   seg_loss   cls_loss   dfl_loss  Instances       Size\n"
     ]
    },
    {
     "name": "stderr",
     "output_type": "stream",
     "text": [
      "     39/150         0G      1.022      1.911      1.178      1.073         35        640: 100%|██████████| 3/3 [00:14<00:00,  4.97s/it]\n",
      "                 Class     Images  Instances      Box(P          R      mAP50  mAP50-95)     Mask(P          R      mAP50  mAP50-95): 100\n"
     ]
    },
    {
     "name": "stdout",
     "output_type": "stream",
     "text": [
      "                   all         17         83      0.572      0.245      0.199      0.115      0.264      0.188      0.167     0.0923\n",
      "\n",
      "      Epoch    GPU_mem   box_loss   seg_loss   cls_loss   dfl_loss  Instances       Size\n"
     ]
    },
    {
     "name": "stderr",
     "output_type": "stream",
     "text": [
      "     40/150         0G      1.107      1.903      1.721      1.297          3        640: 100%|██████████| 3/3 [00:14<00:00,  4.96s/it]\n",
      "                 Class     Images  Instances      Box(P          R      mAP50  mAP50-95)     Mask(P          R      mAP50  mAP50-95): 100\n"
     ]
    },
    {
     "name": "stdout",
     "output_type": "stream",
     "text": [
      "                   all         17         83      0.248      0.304      0.169      0.108      0.239      0.199       0.16     0.0782\n",
      "\n",
      "      Epoch    GPU_mem   box_loss   seg_loss   cls_loss   dfl_loss  Instances       Size\n"
     ]
    },
    {
     "name": "stderr",
     "output_type": "stream",
     "text": [
      "     41/150         0G      1.154      2.133       1.18      1.122         10        640: 100%|██████████| 3/3 [00:14<00:00,  4.77s/it]\n",
      "                 Class     Images  Instances      Box(P          R      mAP50  mAP50-95)     Mask(P          R      mAP50  mAP50-95): 100\n"
     ]
    },
    {
     "name": "stdout",
     "output_type": "stream",
     "text": [
      "                   all         17         83      0.248      0.304      0.169      0.108      0.239      0.199       0.16     0.0782\n",
      "\n",
      "      Epoch    GPU_mem   box_loss   seg_loss   cls_loss   dfl_loss  Instances       Size\n"
     ]
    },
    {
     "name": "stderr",
     "output_type": "stream",
     "text": [
      "     42/150         0G      1.042      1.822      1.162      1.142          8        640: 100%|██████████| 3/3 [00:15<00:00,  5.10s/it]\n",
      "                 Class     Images  Instances      Box(P          R      mAP50  mAP50-95)     Mask(P          R      mAP50  mAP50-95): 100\n"
     ]
    },
    {
     "name": "stdout",
     "output_type": "stream",
     "text": [
      "                   all         17         83      0.265      0.299      0.145     0.0891      0.244      0.212      0.129     0.0697\n",
      "\n",
      "      Epoch    GPU_mem   box_loss   seg_loss   cls_loss   dfl_loss  Instances       Size\n"
     ]
    },
    {
     "name": "stderr",
     "output_type": "stream",
     "text": [
      "     43/150         0G      1.043      1.877      1.254      1.053         43        640: 100%|██████████| 3/3 [00:14<00:00,  4.87s/it]\n",
      "                 Class     Images  Instances      Box(P          R      mAP50  mAP50-95)     Mask(P          R      mAP50  mAP50-95): 100\n"
     ]
    },
    {
     "name": "stdout",
     "output_type": "stream",
     "text": [
      "                   all         17         83      0.261      0.308      0.166     0.0829      0.244       0.27      0.127     0.0663\n",
      "\n",
      "      Epoch    GPU_mem   box_loss   seg_loss   cls_loss   dfl_loss  Instances       Size\n"
     ]
    },
    {
     "name": "stderr",
     "output_type": "stream",
     "text": [
      "     44/150         0G     0.8908      1.762      1.122      1.015         35        640: 100%|██████████| 3/3 [00:14<00:00,  4.77s/it]\n",
      "                 Class     Images  Instances      Box(P          R      mAP50  mAP50-95)     Mask(P          R      mAP50  mAP50-95): 100\n"
     ]
    },
    {
     "name": "stdout",
     "output_type": "stream",
     "text": [
      "                   all         17         83       0.27      0.294      0.161     0.0905      0.264      0.267      0.144     0.0636\n",
      "\n",
      "      Epoch    GPU_mem   box_loss   seg_loss   cls_loss   dfl_loss  Instances       Size\n"
     ]
    },
    {
     "name": "stderr",
     "output_type": "stream",
     "text": [
      "     45/150         0G      1.082      1.929      1.215      1.168          7        640: 100%|██████████| 3/3 [00:14<00:00,  4.90s/it]\n",
      "                 Class     Images  Instances      Box(P          R      mAP50  mAP50-95)     Mask(P          R      mAP50  mAP50-95): 100\n"
     ]
    },
    {
     "name": "stdout",
     "output_type": "stream",
     "text": [
      "                   all         17         83       0.27      0.294      0.161     0.0905      0.264      0.267      0.144     0.0636\n",
      "\n",
      "      Epoch    GPU_mem   box_loss   seg_loss   cls_loss   dfl_loss  Instances       Size\n"
     ]
    },
    {
     "name": "stderr",
     "output_type": "stream",
     "text": [
      "     46/150         0G      1.074      2.005      1.051     0.9861         54        640: 100%|██████████| 3/3 [00:15<00:00,  5.15s/it]\n",
      "                 Class     Images  Instances      Box(P          R      mAP50  mAP50-95)     Mask(P          R      mAP50  mAP50-95): 100\n"
     ]
    },
    {
     "name": "stdout",
     "output_type": "stream",
     "text": [
      "                   all         17         83       0.32      0.244      0.157     0.0972       0.32      0.244      0.151     0.0732\n",
      "\n",
      "      Epoch    GPU_mem   box_loss   seg_loss   cls_loss   dfl_loss  Instances       Size\n"
     ]
    },
    {
     "name": "stderr",
     "output_type": "stream",
     "text": [
      "     47/150         0G      1.004      1.999      1.064      1.052         14        640: 100%|██████████| 3/3 [00:14<00:00,  4.79s/it]\n",
      "                 Class     Images  Instances      Box(P          R      mAP50  mAP50-95)     Mask(P          R      mAP50  mAP50-95): 100\n"
     ]
    },
    {
     "name": "stdout",
     "output_type": "stream",
     "text": [
      "                   all         17         83      0.268      0.291      0.141     0.0848      0.278      0.299      0.142     0.0716\n",
      "\n",
      "      Epoch    GPU_mem   box_loss   seg_loss   cls_loss   dfl_loss  Instances       Size\n"
     ]
    },
    {
     "name": "stderr",
     "output_type": "stream",
     "text": [
      "     48/150         0G       1.09      1.961     0.9129      1.081         17        640: 100%|██████████| 3/3 [00:15<00:00,  5.21s/it]\n",
      "                 Class     Images  Instances      Box(P          R      mAP50  mAP50-95)     Mask(P          R      mAP50  mAP50-95): 100\n"
     ]
    },
    {
     "name": "stdout",
     "output_type": "stream",
     "text": [
      "                   all         17         83      0.309      0.267      0.134     0.0823      0.321      0.275       0.13     0.0669\n",
      "\n",
      "      Epoch    GPU_mem   box_loss   seg_loss   cls_loss   dfl_loss  Instances       Size\n"
     ]
    },
    {
     "name": "stderr",
     "output_type": "stream",
     "text": [
      "     49/150         0G     0.6499      1.273      10.74     0.6776          0        640: 100%|██████████| 3/3 [00:15<00:00,  5.02s/it]\n",
      "                 Class     Images  Instances      Box(P          R      mAP50  mAP50-95)     Mask(P          R      mAP50  mAP50-95): 100\n"
     ]
    },
    {
     "name": "stdout",
     "output_type": "stream",
     "text": [
      "                   all         17         83      0.309      0.267      0.134     0.0823      0.321      0.275       0.13     0.0669\n",
      "\n",
      "      Epoch    GPU_mem   box_loss   seg_loss   cls_loss   dfl_loss  Instances       Size\n"
     ]
    },
    {
     "name": "stderr",
     "output_type": "stream",
     "text": [
      "     50/150         0G     0.9979      1.939     0.9343      1.043         18        640: 100%|██████████| 3/3 [00:14<00:00,  4.87s/it]\n",
      "                 Class     Images  Instances      Box(P          R      mAP50  mAP50-95)     Mask(P          R      mAP50  mAP50-95): 100\n"
     ]
    },
    {
     "name": "stdout",
     "output_type": "stream",
     "text": [
      "                   all         17         83      0.214      0.322      0.133     0.0881      0.316      0.233      0.128     0.0508\n",
      "\n",
      "      Epoch    GPU_mem   box_loss   seg_loss   cls_loss   dfl_loss  Instances       Size\n"
     ]
    },
    {
     "name": "stderr",
     "output_type": "stream",
     "text": [
      "     51/150         0G     0.9153      1.959     0.9179      1.034         19        640: 100%|██████████| 3/3 [00:14<00:00,  4.99s/it]\n",
      "                 Class     Images  Instances      Box(P          R      mAP50  mAP50-95)     Mask(P          R      mAP50  mAP50-95): 100\n"
     ]
    },
    {
     "name": "stdout",
     "output_type": "stream",
     "text": [
      "                   all         17         83      0.218       0.33      0.137      0.087      0.254      0.188      0.114      0.044\n",
      "\n",
      "      Epoch    GPU_mem   box_loss   seg_loss   cls_loss   dfl_loss  Instances       Size\n"
     ]
    },
    {
     "name": "stderr",
     "output_type": "stream",
     "text": [
      "     52/150         0G     0.7787      1.776      1.993      1.071          1        640: 100%|██████████| 3/3 [00:14<00:00,  4.79s/it]\n",
      "                 Class     Images  Instances      Box(P          R      mAP50  mAP50-95)     Mask(P          R      mAP50  mAP50-95): 100\n"
     ]
    },
    {
     "name": "stdout",
     "output_type": "stream",
     "text": [
      "                   all         17         83      0.178      0.309      0.108     0.0712      0.178       0.23      0.094     0.0406\n",
      "\n",
      "      Epoch    GPU_mem   box_loss   seg_loss   cls_loss   dfl_loss  Instances       Size\n"
     ]
    },
    {
     "name": "stderr",
     "output_type": "stream",
     "text": [
      "     53/150         0G      1.004      1.829     0.9408      1.064          9        640: 100%|██████████| 3/3 [00:14<00:00,  4.89s/it]\n",
      "                 Class     Images  Instances      Box(P          R      mAP50  mAP50-95)     Mask(P          R      mAP50  mAP50-95): 100\n"
     ]
    },
    {
     "name": "stdout",
     "output_type": "stream",
     "text": [
      "                   all         17         83      0.178      0.309      0.108     0.0712      0.178       0.23      0.094     0.0406\n",
      "\n",
      "      Epoch    GPU_mem   box_loss   seg_loss   cls_loss   dfl_loss  Instances       Size\n"
     ]
    },
    {
     "name": "stderr",
     "output_type": "stream",
     "text": [
      "     54/150         0G      1.356      2.368      4.276       1.06          1        640: 100%|██████████| 3/3 [00:14<00:00,  4.78s/it]\n",
      "                 Class     Images  Instances      Box(P          R      mAP50  mAP50-95)     Mask(P          R      mAP50  mAP50-95): 100\n"
     ]
    },
    {
     "name": "stdout",
     "output_type": "stream",
     "text": [
      "                   all         17         83      0.208      0.247      0.109     0.0699      0.157      0.225      0.101     0.0414\n",
      "\n",
      "      Epoch    GPU_mem   box_loss   seg_loss   cls_loss   dfl_loss  Instances       Size\n"
     ]
    },
    {
     "name": "stderr",
     "output_type": "stream",
     "text": [
      "     55/150         0G     0.9468      1.712      0.998      1.061         12        640: 100%|██████████| 3/3 [00:14<00:00,  4.91s/it]\n",
      "                 Class     Images  Instances      Box(P          R      mAP50  mAP50-95)     Mask(P          R      mAP50  mAP50-95): 100\n"
     ]
    },
    {
     "name": "stdout",
     "output_type": "stream",
     "text": [
      "                   all         17         83      0.186       0.34      0.121      0.065      0.216      0.249       0.11     0.0419\n",
      "\n",
      "      Epoch    GPU_mem   box_loss   seg_loss   cls_loss   dfl_loss  Instances       Size\n"
     ]
    },
    {
     "name": "stderr",
     "output_type": "stream",
     "text": [
      "     56/150         0G     0.9404      1.735     0.9921      1.023          8        640: 100%|██████████| 3/3 [00:15<00:00,  5.04s/it]\n",
      "                 Class     Images  Instances      Box(P          R      mAP50  mAP50-95)     Mask(P          R      mAP50  mAP50-95): 100\n"
     ]
    },
    {
     "name": "stdout",
     "output_type": "stream",
     "text": [
      "                   all         17         83      0.329      0.299      0.152     0.0847      0.303      0.204      0.116     0.0584\n",
      "\n",
      "      Epoch    GPU_mem   box_loss   seg_loss   cls_loss   dfl_loss  Instances       Size\n"
     ]
    },
    {
     "name": "stderr",
     "output_type": "stream",
     "text": [
      "     57/150         0G     0.8782      1.868     0.9739      1.009         22        640: 100%|██████████| 3/3 [00:14<00:00,  4.95s/it]\n",
      "                 Class     Images  Instances      Box(P          R      mAP50  mAP50-95)     Mask(P          R      mAP50  mAP50-95): 100\n"
     ]
    },
    {
     "name": "stdout",
     "output_type": "stream",
     "text": [
      "                   all         17         83      0.329      0.299      0.152     0.0847      0.303      0.204      0.116     0.0584\n",
      "\n",
      "      Epoch    GPU_mem   box_loss   seg_loss   cls_loss   dfl_loss  Instances       Size\n"
     ]
    },
    {
     "name": "stderr",
     "output_type": "stream",
     "text": [
      "     58/150         0G     0.8409      1.609      1.065      0.993          2        640: 100%|██████████| 3/3 [00:15<00:00,  5.30s/it]\n",
      "                 Class     Images  Instances      Box(P          R      mAP50  mAP50-95)     Mask(P          R      mAP50  mAP50-95): 100\n"
     ]
    },
    {
     "name": "stdout",
     "output_type": "stream",
     "text": [
      "                   all         17         83      0.375      0.303      0.162     0.0966      0.338      0.269      0.142     0.0724\n",
      "\n",
      "      Epoch    GPU_mem   box_loss   seg_loss   cls_loss   dfl_loss  Instances       Size\n"
     ]
    },
    {
     "name": "stderr",
     "output_type": "stream",
     "text": [
      "     59/150         0G      1.052      2.001      1.143      1.114         21        640: 100%|██████████| 3/3 [00:14<00:00,  5.00s/it]\n",
      "                 Class     Images  Instances      Box(P          R      mAP50  mAP50-95)     Mask(P          R      mAP50  mAP50-95): 100\n"
     ]
    },
    {
     "name": "stdout",
     "output_type": "stream",
     "text": [
      "                   all         17         83      0.381      0.278      0.171      0.108      0.371      0.272      0.162     0.0848\n",
      "\n",
      "      Epoch    GPU_mem   box_loss   seg_loss   cls_loss   dfl_loss  Instances       Size\n"
     ]
    },
    {
     "name": "stderr",
     "output_type": "stream",
     "text": [
      "     60/150         0G     0.7865      2.105      2.279      1.021          1        640: 100%|██████████| 3/3 [00:14<00:00,  4.81s/it]\n",
      "                 Class     Images  Instances      Box(P          R      mAP50  mAP50-95)     Mask(P          R      mAP50  mAP50-95): 100\n"
     ]
    },
    {
     "name": "stdout",
     "output_type": "stream",
     "text": [
      "                   all         17         83      0.324      0.285      0.179      0.106      0.305      0.269      0.168     0.0828\n",
      "\n",
      "      Epoch    GPU_mem   box_loss   seg_loss   cls_loss   dfl_loss  Instances       Size\n"
     ]
    },
    {
     "name": "stderr",
     "output_type": "stream",
     "text": [
      "     61/150         0G      1.006      1.949      1.207      1.008         72        640: 100%|██████████| 3/3 [00:14<00:00,  4.89s/it]\n",
      "                 Class     Images  Instances      Box(P          R      mAP50  mAP50-95)     Mask(P          R      mAP50  mAP50-95): 100\n"
     ]
    },
    {
     "name": "stdout",
     "output_type": "stream",
     "text": [
      "                   all         17         83      0.324      0.285      0.179      0.106      0.305      0.269      0.168     0.0828\n",
      "\n",
      "      Epoch    GPU_mem   box_loss   seg_loss   cls_loss   dfl_loss  Instances       Size\n"
     ]
    },
    {
     "name": "stderr",
     "output_type": "stream",
     "text": [
      "     62/150         0G     0.9216      1.808      0.878      1.018         14        640: 100%|██████████| 3/3 [00:14<00:00,  4.71s/it]\n",
      "                 Class     Images  Instances      Box(P          R      mAP50  mAP50-95)     Mask(P          R      mAP50  mAP50-95): 100\n"
     ]
    },
    {
     "name": "stdout",
     "output_type": "stream",
     "text": [
      "                   all         17         83      0.299      0.298      0.183      0.108      0.288      0.285       0.18     0.0853\n",
      "\n",
      "      Epoch    GPU_mem   box_loss   seg_loss   cls_loss   dfl_loss  Instances       Size\n"
     ]
    },
    {
     "name": "stderr",
     "output_type": "stream",
     "text": [
      "     63/150         0G     0.9855      1.899     0.9483      1.068          7        640: 100%|██████████| 3/3 [00:15<00:00,  5.15s/it]\n",
      "                 Class     Images  Instances      Box(P          R      mAP50  mAP50-95)     Mask(P          R      mAP50  mAP50-95): 100\n"
     ]
    },
    {
     "name": "stdout",
     "output_type": "stream",
     "text": [
      "                   all         17         83      0.254      0.319      0.162      0.101      0.328      0.277      0.168     0.0793\n",
      "\n",
      "      Epoch    GPU_mem   box_loss   seg_loss   cls_loss   dfl_loss  Instances       Size\n"
     ]
    },
    {
     "name": "stderr",
     "output_type": "stream",
     "text": [
      "     64/150         0G     0.9404      1.842      1.138      1.052         29        640: 100%|██████████| 3/3 [00:14<00:00,  4.79s/it]\n",
      "                 Class     Images  Instances      Box(P          R      mAP50  mAP50-95)     Mask(P          R      mAP50  mAP50-95): 100\n"
     ]
    },
    {
     "name": "stdout",
     "output_type": "stream",
     "text": [
      "                   all         17         83      0.307      0.262      0.152     0.0961       0.31      0.262      0.149     0.0767\n",
      "\n",
      "      Epoch    GPU_mem   box_loss   seg_loss   cls_loss   dfl_loss  Instances       Size\n"
     ]
    },
    {
     "name": "stderr",
     "output_type": "stream",
     "text": [
      "     65/150         0G     0.8773      1.722      0.909      1.003         23        640: 100%|██████████| 3/3 [00:14<00:00,  4.77s/it]\n",
      "                 Class     Images  Instances      Box(P          R      mAP50  mAP50-95)     Mask(P          R      mAP50  mAP50-95): 100\n"
     ]
    },
    {
     "name": "stdout",
     "output_type": "stream",
     "text": [
      "                   all         17         83      0.307      0.262      0.152     0.0961       0.31      0.262      0.149     0.0767\n",
      "\n",
      "      Epoch    GPU_mem   box_loss   seg_loss   cls_loss   dfl_loss  Instances       Size\n"
     ]
    },
    {
     "name": "stderr",
     "output_type": "stream",
     "text": [
      "     66/150         0G      1.728      2.161      2.452      1.923          1        640: 100%|██████████| 3/3 [00:15<00:00,  5.13s/it]\n",
      "                 Class     Images  Instances      Box(P          R      mAP50  mAP50-95)     Mask(P          R      mAP50  mAP50-95): 100\n"
     ]
    },
    {
     "name": "stdout",
     "output_type": "stream",
     "text": [
      "                   all         17         83      0.273      0.314      0.137     0.0867      0.273      0.305       0.14     0.0645\n",
      "\n",
      "      Epoch    GPU_mem   box_loss   seg_loss   cls_loss   dfl_loss  Instances       Size\n"
     ]
    },
    {
     "name": "stderr",
     "output_type": "stream",
     "text": [
      "     67/150         0G     0.9912      1.724     0.8206      1.069         16        640: 100%|██████████| 3/3 [00:15<00:00,  5.06s/it]\n",
      "                 Class     Images  Instances      Box(P          R      mAP50  mAP50-95)     Mask(P          R      mAP50  mAP50-95): 100\n"
     ]
    },
    {
     "name": "stdout",
     "output_type": "stream",
     "text": [
      "                   all         17         83      0.318      0.254      0.134     0.0881      0.309      0.246       0.13     0.0651\n",
      "\n",
      "      Epoch    GPU_mem   box_loss   seg_loss   cls_loss   dfl_loss  Instances       Size\n"
     ]
    },
    {
     "name": "stderr",
     "output_type": "stream",
     "text": [
      "     68/150         0G       1.44      3.151      3.221      1.299          3        640: 100%|██████████| 3/3 [00:14<00:00,  4.97s/it]\n",
      "                 Class     Images  Instances      Box(P          R      mAP50  mAP50-95)     Mask(P          R      mAP50  mAP50-95): 100\n"
     ]
    },
    {
     "name": "stdout",
     "output_type": "stream",
     "text": [
      "                   all         17         83      0.273      0.306      0.132     0.0863      0.291      0.322      0.141     0.0678\n",
      "\n",
      "      Epoch    GPU_mem   box_loss   seg_loss   cls_loss   dfl_loss  Instances       Size\n"
     ]
    },
    {
     "name": "stderr",
     "output_type": "stream",
     "text": [
      "     69/150         0G     0.9786      1.879      0.821     0.9997         30        640: 100%|██████████| 3/3 [00:14<00:00,  4.79s/it]\n",
      "                 Class     Images  Instances      Box(P          R      mAP50  mAP50-95)     Mask(P          R      mAP50  mAP50-95): 100\n"
     ]
    },
    {
     "name": "stdout",
     "output_type": "stream",
     "text": [
      "                   all         17         83      0.273      0.306      0.132     0.0863      0.291      0.322      0.141     0.0678\n",
      "\n",
      "      Epoch    GPU_mem   box_loss   seg_loss   cls_loss   dfl_loss  Instances       Size\n"
     ]
    },
    {
     "name": "stderr",
     "output_type": "stream",
     "text": [
      "     70/150         0G     0.9989      2.354       0.88      1.044         19        640: 100%|██████████| 3/3 [00:15<00:00,  5.18s/it]\n",
      "                 Class     Images  Instances      Box(P          R      mAP50  mAP50-95)     Mask(P          R      mAP50  mAP50-95): 100\n"
     ]
    },
    {
     "name": "stdout",
     "output_type": "stream",
     "text": [
      "                   all         17         83      0.274      0.306       0.13     0.0825      0.254       0.28      0.117     0.0547\n",
      "\n",
      "      Epoch    GPU_mem   box_loss   seg_loss   cls_loss   dfl_loss  Instances       Size\n"
     ]
    },
    {
     "name": "stderr",
     "output_type": "stream",
     "text": [
      "     71/150         0G      1.055      2.153     0.9976      1.174          4        640: 100%|██████████| 3/3 [00:15<00:00,  5.01s/it]\n",
      "                 Class     Images  Instances      Box(P          R      mAP50  mAP50-95)     Mask(P          R      mAP50  mAP50-95): 100\n"
     ]
    },
    {
     "name": "stdout",
     "output_type": "stream",
     "text": [
      "                   all         17         83      0.243      0.291      0.126     0.0718      0.204      0.249     0.0944     0.0442\n",
      "\n",
      "      Epoch    GPU_mem   box_loss   seg_loss   cls_loss   dfl_loss  Instances       Size\n"
     ]
    },
    {
     "name": "stderr",
     "output_type": "stream",
     "text": [
      "     72/150         0G     0.8072      1.713     0.8813     0.9877          6        640: 100%|██████████| 3/3 [00:15<00:00,  5.05s/it]\n",
      "                 Class     Images  Instances      Box(P          R      mAP50  mAP50-95)     Mask(P          R      mAP50  mAP50-95): 100\n"
     ]
    },
    {
     "name": "stdout",
     "output_type": "stream",
     "text": [
      "                   all         17         83      0.279      0.326      0.136     0.0785      0.244      0.291      0.109     0.0525\n",
      "\n",
      "      Epoch    GPU_mem   box_loss   seg_loss   cls_loss   dfl_loss  Instances       Size\n"
     ]
    },
    {
     "name": "stderr",
     "output_type": "stream",
     "text": [
      "     73/150         0G     0.8471      1.661     0.8453     0.9565         22        640: 100%|██████████| 3/3 [00:14<00:00,  4.73s/it]\n",
      "                 Class     Images  Instances      Box(P          R      mAP50  mAP50-95)     Mask(P          R      mAP50  mAP50-95): 100\n"
     ]
    },
    {
     "name": "stdout",
     "output_type": "stream",
     "text": [
      "                   all         17         83      0.279      0.326      0.136     0.0785      0.244      0.291      0.109     0.0525\n",
      "\n",
      "      Epoch    GPU_mem   box_loss   seg_loss   cls_loss   dfl_loss  Instances       Size\n"
     ]
    },
    {
     "name": "stderr",
     "output_type": "stream",
     "text": [
      "     74/150         0G     0.9462      1.891      0.809     0.9679         18        640: 100%|██████████| 3/3 [00:14<00:00,  4.77s/it]\n",
      "                 Class     Images  Instances      Box(P          R      mAP50  mAP50-95)     Mask(P          R      mAP50  mAP50-95): 100\n"
     ]
    },
    {
     "name": "stdout",
     "output_type": "stream",
     "text": [
      "                   all         17         83      0.321       0.26      0.139     0.0743      0.238       0.27      0.112     0.0546\n",
      "\n",
      "      Epoch    GPU_mem   box_loss   seg_loss   cls_loss   dfl_loss  Instances       Size\n"
     ]
    },
    {
     "name": "stderr",
     "output_type": "stream",
     "text": [
      "     75/150         0G     0.9383      2.209     0.9504     0.9949         40        640: 100%|██████████| 3/3 [00:14<00:00,  4.92s/it]\n",
      "                 Class     Images  Instances      Box(P          R      mAP50  mAP50-95)     Mask(P          R      mAP50  mAP50-95): 100\n"
     ]
    },
    {
     "name": "stdout",
     "output_type": "stream",
     "text": [
      "                   all         17         83      0.276      0.309      0.142     0.0761      0.248      0.275      0.108     0.0531\n",
      "\n",
      "      Epoch    GPU_mem   box_loss   seg_loss   cls_loss   dfl_loss  Instances       Size\n"
     ]
    },
    {
     "name": "stderr",
     "output_type": "stream",
     "text": [
      "     76/150         0G     0.7163       1.76        1.1     0.8929          2        640: 100%|██████████| 3/3 [00:14<00:00,  4.99s/it]\n",
      "                 Class     Images  Instances      Box(P          R      mAP50  mAP50-95)     Mask(P          R      mAP50  mAP50-95): 100\n"
     ]
    },
    {
     "name": "stdout",
     "output_type": "stream",
     "text": [
      "                   all         17         83      0.322      0.348      0.158     0.0832      0.294      0.314      0.128     0.0598\n",
      "\n",
      "      Epoch    GPU_mem   box_loss   seg_loss   cls_loss   dfl_loss  Instances       Size\n"
     ]
    },
    {
     "name": "stderr",
     "output_type": "stream",
     "text": [
      "     77/150         0G     0.8965        1.7     0.7887      1.026         14        640: 100%|██████████| 3/3 [00:15<00:00,  5.03s/it]\n",
      "                 Class     Images  Instances      Box(P          R      mAP50  mAP50-95)     Mask(P          R      mAP50  mAP50-95): 100\n"
     ]
    },
    {
     "name": "stdout",
     "output_type": "stream",
     "text": [
      "                   all         17         83      0.322      0.348      0.158     0.0832      0.294      0.314      0.128     0.0598\n",
      "\n",
      "      Epoch    GPU_mem   box_loss   seg_loss   cls_loss   dfl_loss  Instances       Size\n"
     ]
    },
    {
     "name": "stderr",
     "output_type": "stream",
     "text": [
      "     78/150         0G     0.8389      1.732     0.7878     0.9541          9        640: 100%|██████████| 3/3 [00:15<00:00,  5.02s/it]\n",
      "                 Class     Images  Instances      Box(P          R      mAP50  mAP50-95)     Mask(P          R      mAP50  mAP50-95): 100\n"
     ]
    },
    {
     "name": "stdout",
     "output_type": "stream",
     "text": [
      "                   all         17         83      0.302      0.354      0.148     0.0948      0.282      0.328      0.136      0.073\n",
      "\n",
      "      Epoch    GPU_mem   box_loss   seg_loss   cls_loss   dfl_loss  Instances       Size\n"
     ]
    },
    {
     "name": "stderr",
     "output_type": "stream",
     "text": [
      "     79/150         0G     0.9365      1.808      1.644      1.231          2        640: 100%|██████████| 3/3 [00:13<00:00,  4.57s/it]\n",
      "                 Class     Images  Instances      Box(P          R      mAP50  mAP50-95)     Mask(P          R      mAP50  mAP50-95): 100\n"
     ]
    },
    {
     "name": "stdout",
     "output_type": "stream",
     "text": [
      "                   all         17         83      0.337      0.332      0.166      0.107      0.303        0.3      0.142     0.0805\n",
      "\n",
      "      Epoch    GPU_mem   box_loss   seg_loss   cls_loss   dfl_loss  Instances       Size\n"
     ]
    },
    {
     "name": "stderr",
     "output_type": "stream",
     "text": [
      "     80/150         0G     0.8066      1.962     0.8009      1.005         12        640: 100%|██████████| 3/3 [00:14<00:00,  4.81s/it]\n",
      "                 Class     Images  Instances      Box(P          R      mAP50  mAP50-95)     Mask(P          R      mAP50  mAP50-95): 100\n"
     ]
    },
    {
     "name": "stdout",
     "output_type": "stream",
     "text": [
      "                   all         17         83      0.375      0.346      0.172      0.113      0.345       0.32       0.15     0.0874\n",
      "\n",
      "      Epoch    GPU_mem   box_loss   seg_loss   cls_loss   dfl_loss  Instances       Size\n"
     ]
    },
    {
     "name": "stderr",
     "output_type": "stream",
     "text": [
      "     81/150         0G     0.9495      1.743     0.8672      1.036          9        640: 100%|██████████| 3/3 [00:14<00:00,  4.88s/it]\n",
      "                 Class     Images  Instances      Box(P          R      mAP50  mAP50-95)     Mask(P          R      mAP50  mAP50-95): 100\n"
     ]
    },
    {
     "name": "stdout",
     "output_type": "stream",
     "text": [
      "                   all         17         83      0.375      0.346      0.172      0.113      0.345       0.32       0.15     0.0874\n",
      "\n",
      "      Epoch    GPU_mem   box_loss   seg_loss   cls_loss   dfl_loss  Instances       Size\n"
     ]
    },
    {
     "name": "stderr",
     "output_type": "stream",
     "text": [
      "     82/150         0G     0.7459      1.627        0.8     0.9355          4        640: 100%|██████████| 3/3 [00:14<00:00,  4.96s/it]\n",
      "                 Class     Images  Instances      Box(P          R      mAP50  mAP50-95)     Mask(P          R      mAP50  mAP50-95): 100\n"
     ]
    },
    {
     "name": "stdout",
     "output_type": "stream",
     "text": [
      "                   all         17         83      0.416       0.28      0.173      0.112      0.311      0.277      0.147      0.082\n",
      "\n",
      "      Epoch    GPU_mem   box_loss   seg_loss   cls_loss   dfl_loss  Instances       Size\n"
     ]
    },
    {
     "name": "stderr",
     "output_type": "stream",
     "text": [
      "     83/150         0G     0.8015      1.613     0.8217       1.02         12        640: 100%|██████████| 3/3 [00:15<00:00,  5.17s/it]\n",
      "                 Class     Images  Instances      Box(P          R      mAP50  mAP50-95)     Mask(P          R      mAP50  mAP50-95): 100\n"
     ]
    },
    {
     "name": "stdout",
     "output_type": "stream",
     "text": [
      "                   all         17         83      0.375      0.354      0.178      0.123      0.372      0.346      0.175     0.0909\n",
      "\n",
      "      Epoch    GPU_mem   box_loss   seg_loss   cls_loss   dfl_loss  Instances       Size\n"
     ]
    },
    {
     "name": "stderr",
     "output_type": "stream",
     "text": [
      "     84/150         0G     0.9115      1.806     0.8305      1.052          6        640: 100%|██████████| 3/3 [00:14<00:00,  4.95s/it]\n",
      "                 Class     Images  Instances      Box(P          R      mAP50  mAP50-95)     Mask(P          R      mAP50  mAP50-95): 100\n"
     ]
    },
    {
     "name": "stdout",
     "output_type": "stream",
     "text": [
      "                   all         17         83      0.393       0.37       0.19      0.128      0.396      0.372      0.191      0.103\n",
      "\n",
      "      Epoch    GPU_mem   box_loss   seg_loss   cls_loss   dfl_loss  Instances       Size\n"
     ]
    },
    {
     "name": "stderr",
     "output_type": "stream",
     "text": [
      "     85/150         0G      0.825      1.427     0.8164      1.051          5        640: 100%|██████████| 3/3 [00:14<00:00,  4.85s/it]\n",
      "                 Class     Images  Instances      Box(P          R      mAP50  mAP50-95)     Mask(P          R      mAP50  mAP50-95): 100\n"
     ]
    },
    {
     "name": "stdout",
     "output_type": "stream",
     "text": [
      "                   all         17         83      0.393       0.37       0.19      0.128      0.396      0.372      0.191      0.103\n",
      "\n",
      "      Epoch    GPU_mem   box_loss   seg_loss   cls_loss   dfl_loss  Instances       Size\n"
     ]
    },
    {
     "name": "stderr",
     "output_type": "stream",
     "text": [
      "     86/150         0G     0.7914      1.714     0.7228     0.9515         17        640: 100%|██████████| 3/3 [00:14<00:00,  4.97s/it]\n",
      "                 Class     Images  Instances      Box(P          R      mAP50  mAP50-95)     Mask(P          R      mAP50  mAP50-95): 100\n"
     ]
    },
    {
     "name": "stdout",
     "output_type": "stream",
     "text": [
      "                   all         17         83        0.4      0.403      0.209      0.136      0.385      0.387      0.199      0.107\n",
      "\n",
      "      Epoch    GPU_mem   box_loss   seg_loss   cls_loss   dfl_loss  Instances       Size\n"
     ]
    },
    {
     "name": "stderr",
     "output_type": "stream",
     "text": [
      "     87/150         0G     0.8824      1.643     0.7741     0.9846         14        640: 100%|██████████| 3/3 [00:15<00:00,  5.19s/it]\n",
      "                 Class     Images  Instances      Box(P          R      mAP50  mAP50-95)     Mask(P          R      mAP50  mAP50-95): 100\n"
     ]
    },
    {
     "name": "stdout",
     "output_type": "stream",
     "text": [
      "                   all         17         83      0.398      0.361      0.199      0.125      0.398      0.361      0.197      0.102\n",
      "\n",
      "      Epoch    GPU_mem   box_loss   seg_loss   cls_loss   dfl_loss  Instances       Size\n"
     ]
    },
    {
     "name": "stderr",
     "output_type": "stream",
     "text": [
      "     88/150         0G      0.778      1.571     0.7296     0.9761         11        640: 100%|██████████| 3/3 [00:14<00:00,  4.86s/it]\n",
      "                 Class     Images  Instances      Box(P          R      mAP50  mAP50-95)     Mask(P          R      mAP50  mAP50-95): 100\n"
     ]
    },
    {
     "name": "stdout",
     "output_type": "stream",
     "text": [
      "                   all         17         83      0.369      0.353      0.189      0.126      0.369      0.353      0.187     0.0987\n",
      "\n",
      "      Epoch    GPU_mem   box_loss   seg_loss   cls_loss   dfl_loss  Instances       Size\n"
     ]
    },
    {
     "name": "stderr",
     "output_type": "stream",
     "text": [
      "     89/150         0G     0.7995      2.024     0.7287     0.9684         21        640: 100%|██████████| 3/3 [00:14<00:00,  4.77s/it]\n",
      "                 Class     Images  Instances      Box(P          R      mAP50  mAP50-95)     Mask(P          R      mAP50  mAP50-95): 100\n"
     ]
    },
    {
     "name": "stdout",
     "output_type": "stream",
     "text": [
      "                   all         17         83      0.369      0.353      0.189      0.126      0.369      0.353      0.187     0.0987\n",
      "\n",
      "      Epoch    GPU_mem   box_loss   seg_loss   cls_loss   dfl_loss  Instances       Size\n"
     ]
    },
    {
     "name": "stderr",
     "output_type": "stream",
     "text": [
      "     90/150         0G     0.7284      1.734     0.7274     0.9877         10        640: 100%|██████████| 3/3 [00:15<00:00,  5.07s/it]\n",
      "                 Class     Images  Instances      Box(P          R      mAP50  mAP50-95)     Mask(P          R      mAP50  mAP50-95): 100\n"
     ]
    },
    {
     "name": "stdout",
     "output_type": "stream",
     "text": [
      "                   all         17         83      0.348      0.369      0.186      0.122      0.348      0.369      0.184     0.0963\n",
      "\n",
      "      Epoch    GPU_mem   box_loss   seg_loss   cls_loss   dfl_loss  Instances       Size\n"
     ]
    },
    {
     "name": "stderr",
     "output_type": "stream",
     "text": [
      "     91/150         0G     0.8661      1.869      0.899      1.008         13        640: 100%|██████████| 3/3 [00:14<00:00,  4.88s/it]\n",
      "                 Class     Images  Instances      Box(P          R      mAP50  mAP50-95)     Mask(P          R      mAP50  mAP50-95): 100\n"
     ]
    },
    {
     "name": "stdout",
     "output_type": "stream",
     "text": [
      "                   all         17         83      0.333      0.361       0.18      0.114      0.333      0.361      0.173     0.0933\n",
      "\n",
      "      Epoch    GPU_mem   box_loss   seg_loss   cls_loss   dfl_loss  Instances       Size\n"
     ]
    },
    {
     "name": "stderr",
     "output_type": "stream",
     "text": [
      "     92/150         0G     0.5498        1.1       13.9     0.6411          0        640: 100%|██████████| 3/3 [00:15<00:00,  5.07s/it]\n",
      "                 Class     Images  Instances      Box(P          R      mAP50  mAP50-95)     Mask(P          R      mAP50  mAP50-95): 100\n"
     ]
    },
    {
     "name": "stdout",
     "output_type": "stream",
     "text": [
      "                   all         17         83      0.377      0.342      0.172      0.108      0.377      0.342      0.173     0.0854\n",
      "\n",
      "      Epoch    GPU_mem   box_loss   seg_loss   cls_loss   dfl_loss  Instances       Size\n"
     ]
    },
    {
     "name": "stderr",
     "output_type": "stream",
     "text": [
      "     93/150         0G     0.9165      1.614     0.8109     0.9922          4        640: 100%|██████████| 3/3 [00:14<00:00,  4.96s/it]\n",
      "                 Class     Images  Instances      Box(P          R      mAP50  mAP50-95)     Mask(P          R      mAP50  mAP50-95): 100\n"
     ]
    },
    {
     "name": "stdout",
     "output_type": "stream",
     "text": [
      "                   all         17         83      0.377      0.342      0.172      0.108      0.377      0.342      0.173     0.0854\n",
      "\n",
      "      Epoch    GPU_mem   box_loss   seg_loss   cls_loss   dfl_loss  Instances       Size\n"
     ]
    },
    {
     "name": "stderr",
     "output_type": "stream",
     "text": [
      "     94/150         0G     0.7819      1.827      0.747     0.9693         12        640: 100%|██████████| 3/3 [00:15<00:00,  5.06s/it]\n",
      "                 Class     Images  Instances      Box(P          R      mAP50  mAP50-95)     Mask(P          R      mAP50  mAP50-95): 100\n"
     ]
    },
    {
     "name": "stdout",
     "output_type": "stream",
     "text": [
      "                   all         17         83      0.356      0.318      0.164      0.102      0.339      0.303      0.152     0.0759\n",
      "\n",
      "      Epoch    GPU_mem   box_loss   seg_loss   cls_loss   dfl_loss  Instances       Size\n"
     ]
    },
    {
     "name": "stderr",
     "output_type": "stream",
     "text": [
      "     95/150         0G      0.795      1.966      0.892      1.001         19        640: 100%|██████████| 3/3 [00:13<00:00,  4.64s/it]\n",
      "                 Class     Images  Instances      Box(P          R      mAP50  mAP50-95)     Mask(P          R      mAP50  mAP50-95): 100\n"
     ]
    },
    {
     "name": "stdout",
     "output_type": "stream",
     "text": [
      "                   all         17         83      0.338      0.285      0.157     0.0911      0.311      0.275      0.139     0.0692\n",
      "\n",
      "      Epoch    GPU_mem   box_loss   seg_loss   cls_loss   dfl_loss  Instances       Size\n"
     ]
    },
    {
     "name": "stderr",
     "output_type": "stream",
     "text": [
      "     96/150         0G     0.7768      1.344      0.858     0.9527          5        640: 100%|██████████| 3/3 [00:16<00:00,  5.39s/it]\n",
      "                 Class     Images  Instances      Box(P          R      mAP50  mAP50-95)     Mask(P          R      mAP50  mAP50-95): 100\n"
     ]
    },
    {
     "name": "stdout",
     "output_type": "stream",
     "text": [
      "                   all         17         83      0.386      0.275       0.15     0.0873      0.359      0.256      0.137      0.066\n",
      "\n",
      "      Epoch    GPU_mem   box_loss   seg_loss   cls_loss   dfl_loss  Instances       Size\n"
     ]
    },
    {
     "name": "stderr",
     "output_type": "stream",
     "text": [
      "     97/150         0G     0.8347      1.594      0.816     0.9338         31        640: 100%|██████████| 3/3 [00:14<00:00,  4.99s/it]\n",
      "                 Class     Images  Instances      Box(P          R      mAP50  mAP50-95)     Mask(P          R      mAP50  mAP50-95): 100\n"
     ]
    },
    {
     "name": "stdout",
     "output_type": "stream",
     "text": [
      "                   all         17         83      0.386      0.275       0.15     0.0873      0.359      0.256      0.137      0.066\n",
      "\n",
      "      Epoch    GPU_mem   box_loss   seg_loss   cls_loss   dfl_loss  Instances       Size\n"
     ]
    },
    {
     "name": "stderr",
     "output_type": "stream",
     "text": [
      "     98/150         0G     0.8867      1.772      1.235      1.042         39        640: 100%|██████████| 3/3 [00:15<00:00,  5.16s/it]\n",
      "                 Class     Images  Instances      Box(P          R      mAP50  mAP50-95)     Mask(P          R      mAP50  mAP50-95): 100\n"
     ]
    },
    {
     "name": "stdout",
     "output_type": "stream",
     "text": [
      "                   all         17         83      0.377      0.262      0.137     0.0814      0.296      0.235      0.108     0.0593\n",
      "\n",
      "      Epoch    GPU_mem   box_loss   seg_loss   cls_loss   dfl_loss  Instances       Size\n"
     ]
    },
    {
     "name": "stderr",
     "output_type": "stream",
     "text": [
      "     99/150         0G     0.8843      1.579     0.9014      1.076          8        640: 100%|██████████| 3/3 [00:14<00:00,  4.94s/it]\n",
      "                 Class     Images  Instances      Box(P          R      mAP50  mAP50-95)     Mask(P          R      mAP50  mAP50-95): 100\n"
     ]
    },
    {
     "name": "stdout",
     "output_type": "stream",
     "text": [
      "                   all         17         83       0.37      0.254       0.12     0.0769      0.295      0.259      0.103     0.0582\n",
      "\n",
      "      Epoch    GPU_mem   box_loss   seg_loss   cls_loss   dfl_loss  Instances       Size\n"
     ]
    },
    {
     "name": "stderr",
     "output_type": "stream",
     "text": [
      "    100/150         0G     0.8095      1.408     0.8051     0.9854         21        640: 100%|██████████| 3/3 [00:15<00:00,  5.02s/it]\n",
      "                 Class     Images  Instances      Box(P          R      mAP50  mAP50-95)     Mask(P          R      mAP50  mAP50-95): 100\n"
     ]
    },
    {
     "name": "stdout",
     "output_type": "stream",
     "text": [
      "                   all         17         83      0.371      0.254      0.128       0.08      0.321      0.254      0.106     0.0594\n",
      "\n",
      "      Epoch    GPU_mem   box_loss   seg_loss   cls_loss   dfl_loss  Instances       Size\n"
     ]
    },
    {
     "name": "stderr",
     "output_type": "stream",
     "text": [
      "    101/150         0G      1.037      1.246      2.427      1.291          1        640: 100%|██████████| 3/3 [00:14<00:00,  4.91s/it]\n",
      "                 Class     Images  Instances      Box(P          R      mAP50  mAP50-95)     Mask(P          R      mAP50  mAP50-95): 100\n"
     ]
    },
    {
     "name": "stdout",
     "output_type": "stream",
     "text": [
      "                   all         17         83      0.371      0.254      0.128       0.08      0.321      0.254      0.106     0.0594\n",
      "\n",
      "      Epoch    GPU_mem   box_loss   seg_loss   cls_loss   dfl_loss  Instances       Size\n"
     ]
    },
    {
     "name": "stderr",
     "output_type": "stream",
     "text": [
      "    102/150         0G     0.7609      1.261     0.7212     0.9645         20        640: 100%|██████████| 3/3 [00:14<00:00,  4.88s/it]\n",
      "                 Class     Images  Instances      Box(P          R      mAP50  mAP50-95)     Mask(P          R      mAP50  mAP50-95): 100\n"
     ]
    },
    {
     "name": "stdout",
     "output_type": "stream",
     "text": [
      "                   all         17         83      0.421      0.246      0.134     0.0877      0.409      0.269      0.142     0.0676\n",
      "\n",
      "      Epoch    GPU_mem   box_loss   seg_loss   cls_loss   dfl_loss  Instances       Size\n"
     ]
    },
    {
     "name": "stderr",
     "output_type": "stream",
     "text": [
      "    103/150         0G     0.8703      1.454     0.8337      1.097          3        640: 100%|██████████| 3/3 [00:14<00:00,  4.87s/it]\n",
      "                 Class     Images  Instances      Box(P          R      mAP50  mAP50-95)     Mask(P          R      mAP50  mAP50-95): 100\n"
     ]
    },
    {
     "name": "stdout",
     "output_type": "stream",
     "text": [
      "                   all         17         83      0.419      0.269      0.147     0.0984      0.419      0.269      0.146     0.0772\n",
      "\n",
      "      Epoch    GPU_mem   box_loss   seg_loss   cls_loss   dfl_loss  Instances       Size\n"
     ]
    },
    {
     "name": "stderr",
     "output_type": "stream",
     "text": [
      "    104/150         0G     0.7502      1.597      0.731     0.9645         13        640: 100%|██████████| 3/3 [00:14<00:00,  4.92s/it]\n",
      "                 Class     Images  Instances      Box(P          R      mAP50  mAP50-95)     Mask(P          R      mAP50  mAP50-95): 100\n"
     ]
    },
    {
     "name": "stdout",
     "output_type": "stream",
     "text": [
      "                   all         17         83      0.438      0.277      0.167      0.113      0.426      0.269      0.158     0.0902\n",
      "\n",
      "      Epoch    GPU_mem   box_loss   seg_loss   cls_loss   dfl_loss  Instances       Size\n"
     ]
    },
    {
     "name": "stderr",
     "output_type": "stream",
     "text": [
      "    105/150         0G     0.8065      1.738     0.7817      1.018          8        640: 100%|██████████| 3/3 [00:13<00:00,  4.60s/it]\n",
      "                 Class     Images  Instances      Box(P          R      mAP50  mAP50-95)     Mask(P          R      mAP50  mAP50-95): 100\n"
     ]
    },
    {
     "name": "stdout",
     "output_type": "stream",
     "text": [
      "                   all         17         83      0.438      0.277      0.167      0.113      0.426      0.269      0.158     0.0902\n",
      "\n",
      "      Epoch    GPU_mem   box_loss   seg_loss   cls_loss   dfl_loss  Instances       Size\n"
     ]
    },
    {
     "name": "stderr",
     "output_type": "stream",
     "text": [
      "    106/150         0G     0.6806      1.236      0.756      1.005          5        640: 100%|██████████| 3/3 [00:14<00:00,  4.68s/it]\n",
      "                 Class     Images  Instances      Box(P          R      mAP50  mAP50-95)     Mask(P          R      mAP50  mAP50-95): 100\n"
     ]
    },
    {
     "name": "stdout",
     "output_type": "stream",
     "text": [
      "                   all         17         83      0.426      0.277      0.193      0.134      0.415      0.269      0.183      0.105\n",
      "\n",
      "      Epoch    GPU_mem   box_loss   seg_loss   cls_loss   dfl_loss  Instances       Size\n"
     ]
    },
    {
     "name": "stderr",
     "output_type": "stream",
     "text": [
      "    107/150         0G     0.7855      1.699     0.8294      1.012          9        640: 100%|██████████| 3/3 [00:13<00:00,  4.60s/it]\n",
      "                 Class     Images  Instances      Box(P          R      mAP50  mAP50-95)     Mask(P          R      mAP50  mAP50-95): 100\n"
     ]
    },
    {
     "name": "stdout",
     "output_type": "stream",
     "text": [
      "                   all         17         83      0.422      0.269      0.197      0.146      0.422      0.277        0.2       0.12\n",
      "\n",
      "      Epoch    GPU_mem   box_loss   seg_loss   cls_loss   dfl_loss  Instances       Size\n"
     ]
    },
    {
     "name": "stderr",
     "output_type": "stream",
     "text": [
      "    108/150         0G     0.8193      1.556     0.7231     0.9715         18        640: 100%|██████████| 3/3 [00:14<00:00,  4.74s/it]\n",
      "                 Class     Images  Instances      Box(P          R      mAP50  mAP50-95)     Mask(P          R      mAP50  mAP50-95): 100\n"
     ]
    },
    {
     "name": "stdout",
     "output_type": "stream",
     "text": [
      "                   all         17         83      0.423      0.277        0.2      0.141      0.409      0.269      0.197      0.118\n",
      "\n",
      "      Epoch    GPU_mem   box_loss   seg_loss   cls_loss   dfl_loss  Instances       Size\n"
     ]
    },
    {
     "name": "stderr",
     "output_type": "stream",
     "text": [
      "    109/150         0G     0.7477      1.425     0.6968     0.9411          9        640: 100%|██████████| 3/3 [00:14<00:00,  4.82s/it]\n",
      "                 Class     Images  Instances      Box(P          R      mAP50  mAP50-95)     Mask(P          R      mAP50  mAP50-95): 100\n"
     ]
    },
    {
     "name": "stdout",
     "output_type": "stream",
     "text": [
      "                   all         17         83      0.423      0.277        0.2      0.141      0.409      0.269      0.197      0.118\n",
      "\n",
      "      Epoch    GPU_mem   box_loss   seg_loss   cls_loss   dfl_loss  Instances       Size\n"
     ]
    },
    {
     "name": "stderr",
     "output_type": "stream",
     "text": [
      "    110/150         0G     0.7717      1.595     0.7672     0.9286         33        640: 100%|██████████| 3/3 [00:14<00:00,  4.90s/it]\n",
      "                 Class     Images  Instances      Box(P          R      mAP50  mAP50-95)     Mask(P          R      mAP50  mAP50-95): 100\n"
     ]
    },
    {
     "name": "stdout",
     "output_type": "stream",
     "text": [
      "                   all         17         83       0.41      0.272      0.193      0.142       0.41      0.272      0.194      0.113\n",
      "\n",
      "      Epoch    GPU_mem   box_loss   seg_loss   cls_loss   dfl_loss  Instances       Size\n"
     ]
    },
    {
     "name": "stderr",
     "output_type": "stream",
     "text": [
      "    111/150         0G     0.7488      1.491     0.7845     0.9559          8        640: 100%|██████████| 3/3 [00:15<00:00,  5.02s/it]\n",
      "                 Class     Images  Instances      Box(P          R      mAP50  mAP50-95)     Mask(P          R      mAP50  mAP50-95): 100\n"
     ]
    },
    {
     "name": "stdout",
     "output_type": "stream",
     "text": [
      "                   all         17         83      0.379      0.269      0.182      0.132      0.335      0.295      0.173      0.101\n",
      "\n",
      "      Epoch    GPU_mem   box_loss   seg_loss   cls_loss   dfl_loss  Instances       Size\n"
     ]
    },
    {
     "name": "stderr",
     "output_type": "stream",
     "text": [
      "    112/150         0G     0.7946      1.874     0.7406     0.9827          9        640: 100%|██████████| 3/3 [00:14<00:00,  4.95s/it]\n",
      "                 Class     Images  Instances      Box(P          R      mAP50  mAP50-95)     Mask(P          R      mAP50  mAP50-95): 100\n"
     ]
    },
    {
     "name": "stdout",
     "output_type": "stream",
     "text": [
      "                   all         17         83      0.346      0.319      0.183      0.133      0.337      0.311      0.174      0.101\n",
      "\n",
      "      Epoch    GPU_mem   box_loss   seg_loss   cls_loss   dfl_loss  Instances       Size\n"
     ]
    },
    {
     "name": "stderr",
     "output_type": "stream",
     "text": [
      "    113/150         0G     0.6838      1.208     0.7992     0.8959          2        640: 100%|██████████| 3/3 [00:14<00:00,  4.75s/it]\n",
      "                 Class     Images  Instances      Box(P          R      mAP50  mAP50-95)     Mask(P          R      mAP50  mAP50-95): 100\n"
     ]
    },
    {
     "name": "stdout",
     "output_type": "stream",
     "text": [
      "                   all         17         83      0.346      0.319      0.183      0.133      0.337      0.311      0.174      0.101\n",
      "\n",
      "      Epoch    GPU_mem   box_loss   seg_loss   cls_loss   dfl_loss  Instances       Size\n"
     ]
    },
    {
     "name": "stderr",
     "output_type": "stream",
     "text": [
      "    114/150         0G     0.7466      1.887     0.8384     0.9977          7        640: 100%|██████████| 3/3 [00:14<00:00,  4.71s/it]\n",
      "                 Class     Images  Instances      Box(P          R      mAP50  mAP50-95)     Mask(P          R      mAP50  mAP50-95): 100\n"
     ]
    },
    {
     "name": "stdout",
     "output_type": "stream",
     "text": [
      "                   all         17         83      0.379      0.277      0.178      0.126      0.287      0.293      0.166     0.0938\n",
      "\n",
      "      Epoch    GPU_mem   box_loss   seg_loss   cls_loss   dfl_loss  Instances       Size\n"
     ]
    },
    {
     "name": "stderr",
     "output_type": "stream",
     "text": [
      "    115/150         0G     0.8099      1.728      0.789      1.014          4        640: 100%|██████████| 3/3 [00:14<00:00,  4.94s/it]\n",
      "                 Class     Images  Instances      Box(P          R      mAP50  mAP50-95)     Mask(P          R      mAP50  mAP50-95): 100\n"
     ]
    },
    {
     "name": "stdout",
     "output_type": "stream",
     "text": [
      "                   all         17         83      0.332      0.277       0.16      0.115      0.325      0.269      0.157     0.0849\n",
      "\n",
      "      Epoch    GPU_mem   box_loss   seg_loss   cls_loss   dfl_loss  Instances       Size\n"
     ]
    },
    {
     "name": "stderr",
     "output_type": "stream",
     "text": [
      "    116/150         0G     0.7036      1.576     0.8054     0.9316         40        640: 100%|██████████| 3/3 [00:14<00:00,  4.88s/it]\n",
      "                 Class     Images  Instances      Box(P          R      mAP50  mAP50-95)     Mask(P          R      mAP50  mAP50-95): 100\n"
     ]
    },
    {
     "name": "stdout",
     "output_type": "stream",
     "text": [
      "                   all         17         83       0.31      0.285      0.153       0.11      0.308      0.277      0.148     0.0815\n",
      "\n",
      "      Epoch    GPU_mem   box_loss   seg_loss   cls_loss   dfl_loss  Instances       Size\n"
     ]
    },
    {
     "name": "stderr",
     "output_type": "stream",
     "text": [
      "    117/150         0G       0.69      1.441     0.6983     0.9672          3        640: 100%|██████████| 3/3 [00:14<00:00,  4.83s/it]\n",
      "                 Class     Images  Instances      Box(P          R      mAP50  mAP50-95)     Mask(P          R      mAP50  mAP50-95): 100\n"
     ]
    },
    {
     "name": "stdout",
     "output_type": "stream",
     "text": [
      "                   all         17         83       0.31      0.285      0.153       0.11      0.308      0.277      0.148     0.0815\n",
      "\n",
      "      Epoch    GPU_mem   box_loss   seg_loss   cls_loss   dfl_loss  Instances       Size\n"
     ]
    },
    {
     "name": "stderr",
     "output_type": "stream",
     "text": [
      "    118/150         0G     0.8386      1.338      1.096      1.056          2        640: 100%|██████████| 3/3 [00:15<00:00,  5.01s/it]\n",
      "                 Class     Images  Instances      Box(P          R      mAP50  mAP50-95)     Mask(P          R      mAP50  mAP50-95): 100\n"
     ]
    },
    {
     "name": "stdout",
     "output_type": "stream",
     "text": [
      "                   all         17         83      0.324      0.285      0.148        0.1      0.314      0.277      0.146     0.0766\n",
      "\n",
      "      Epoch    GPU_mem   box_loss   seg_loss   cls_loss   dfl_loss  Instances       Size\n"
     ]
    },
    {
     "name": "stderr",
     "output_type": "stream",
     "text": [
      "    119/150         0G     0.7553      1.617     0.6596     0.9417         10        640: 100%|██████████| 3/3 [00:14<00:00,  4.87s/it]\n",
      "                 Class     Images  Instances      Box(P          R      mAP50  mAP50-95)     Mask(P          R      mAP50  mAP50-95): 100\n"
     ]
    },
    {
     "name": "stdout",
     "output_type": "stream",
     "text": [
      "                   all         17         83      0.307      0.262      0.139     0.0959      0.244      0.272      0.118     0.0713\n",
      "\n",
      "      Epoch    GPU_mem   box_loss   seg_loss   cls_loss   dfl_loss  Instances       Size\n"
     ]
    },
    {
     "name": "stderr",
     "output_type": "stream",
     "text": [
      "    120/150         0G     0.7429      1.766     0.7645     0.9284          6        640: 100%|██████████| 3/3 [00:14<00:00,  4.85s/it]\n",
      "                 Class     Images  Instances      Box(P          R      mAP50  mAP50-95)     Mask(P          R      mAP50  mAP50-95): 100\n"
     ]
    },
    {
     "name": "stdout",
     "output_type": "stream",
     "text": [
      "                   all         17         83      0.294      0.326      0.141     0.0913      0.256      0.287      0.112      0.064\n",
      "\n",
      "      Epoch    GPU_mem   box_loss   seg_loss   cls_loss   dfl_loss  Instances       Size\n"
     ]
    },
    {
     "name": "stderr",
     "output_type": "stream",
     "text": [
      "    121/150         0G     0.7297      1.312      1.235      1.138          1        640: 100%|██████████| 3/3 [00:14<00:00,  4.83s/it]\n",
      "                 Class     Images  Instances      Box(P          R      mAP50  mAP50-95)     Mask(P          R      mAP50  mAP50-95): 100\n"
     ]
    },
    {
     "name": "stdout",
     "output_type": "stream",
     "text": [
      "                   all         17         83      0.294      0.326      0.141     0.0913      0.256      0.287      0.112      0.064\n",
      "\n",
      "      Epoch    GPU_mem   box_loss   seg_loss   cls_loss   dfl_loss  Instances       Size\n"
     ]
    },
    {
     "name": "stderr",
     "output_type": "stream",
     "text": [
      "    122/150         0G     0.8182      1.579      0.881      1.001         20        640: 100%|██████████| 3/3 [00:14<00:00,  4.79s/it]\n",
      "                 Class     Images  Instances      Box(P          R      mAP50  mAP50-95)     Mask(P          R      mAP50  mAP50-95): 100\n"
     ]
    },
    {
     "name": "stdout",
     "output_type": "stream",
     "text": [
      "                   all         17         83      0.304       0.33      0.144      0.097      0.304       0.33      0.138     0.0693\n",
      "\n",
      "      Epoch    GPU_mem   box_loss   seg_loss   cls_loss   dfl_loss  Instances       Size\n"
     ]
    },
    {
     "name": "stderr",
     "output_type": "stream",
     "text": [
      "    123/150         0G     0.7856      1.564      1.192     0.9519          1        640: 100%|██████████| 3/3 [00:14<00:00,  4.72s/it]\n",
      "                 Class     Images  Instances      Box(P          R      mAP50  mAP50-95)     Mask(P          R      mAP50  mAP50-95): 100\n"
     ]
    },
    {
     "name": "stdout",
     "output_type": "stream",
     "text": [
      "                   all         17         83      0.333      0.322       0.15      0.108      0.323      0.314      0.143     0.0775\n",
      "\n",
      "      Epoch    GPU_mem   box_loss   seg_loss   cls_loss   dfl_loss  Instances       Size\n"
     ]
    },
    {
     "name": "stderr",
     "output_type": "stream",
     "text": [
      "    124/150         0G     0.7279      1.847     0.7027     0.9906          5        640: 100%|██████████| 3/3 [00:15<00:00,  5.07s/it]\n",
      "                 Class     Images  Instances      Box(P          R      mAP50  mAP50-95)     Mask(P          R      mAP50  mAP50-95): 100\n"
     ]
    },
    {
     "name": "stdout",
     "output_type": "stream",
     "text": [
      "                   all         17         83      0.374       0.33      0.156      0.114      0.365      0.322      0.148      0.085\n",
      "\n",
      "      Epoch    GPU_mem   box_loss   seg_loss   cls_loss   dfl_loss  Instances       Size\n"
     ]
    },
    {
     "name": "stderr",
     "output_type": "stream",
     "text": [
      "    125/150         0G      0.668      1.446     0.8746     0.9429         28        640: 100%|██████████| 3/3 [00:13<00:00,  4.61s/it]\n",
      "                 Class     Images  Instances      Box(P          R      mAP50  mAP50-95)     Mask(P          R      mAP50  mAP50-95): 100\n"
     ]
    },
    {
     "name": "stdout",
     "output_type": "stream",
     "text": [
      "                   all         17         83      0.374       0.33      0.156      0.114      0.365      0.322      0.148      0.085\n",
      "\n",
      "      Epoch    GPU_mem   box_loss   seg_loss   cls_loss   dfl_loss  Instances       Size\n"
     ]
    },
    {
     "name": "stderr",
     "output_type": "stream",
     "text": [
      "    126/150         0G     0.4623     0.9563      9.187     0.6208          0        640: 100%|██████████| 3/3 [00:14<00:00,  4.88s/it]\n",
      "                 Class     Images  Instances      Box(P          R      mAP50  mAP50-95)     Mask(P          R      mAP50  mAP50-95): 100\n"
     ]
    },
    {
     "name": "stdout",
     "output_type": "stream",
     "text": [
      "                   all         17         83      0.381      0.347      0.168      0.121      0.395      0.338      0.168      0.092\n",
      "\n",
      "      Epoch    GPU_mem   box_loss   seg_loss   cls_loss   dfl_loss  Instances       Size\n"
     ]
    },
    {
     "name": "stderr",
     "output_type": "stream",
     "text": [
      "    127/150         0G     0.7058      1.448     0.8107     0.9425         32        640: 100%|██████████| 3/3 [00:14<00:00,  4.82s/it]\n",
      "                 Class     Images  Instances      Box(P          R      mAP50  mAP50-95)     Mask(P          R      mAP50  mAP50-95): 100\n"
     ]
    },
    {
     "name": "stdout",
     "output_type": "stream",
     "text": [
      "                   all         17         83      0.459      0.356       0.18      0.128      0.446      0.348      0.176     0.0956\n",
      "\n",
      "      Epoch    GPU_mem   box_loss   seg_loss   cls_loss   dfl_loss  Instances       Size\n"
     ]
    },
    {
     "name": "stderr",
     "output_type": "stream",
     "text": [
      "    128/150         0G     0.7981       1.86     0.7384     0.9912         23        640: 100%|██████████| 3/3 [00:14<00:00,  4.84s/it]\n",
      "                 Class     Images  Instances      Box(P          R      mAP50  mAP50-95)     Mask(P          R      mAP50  mAP50-95): 100\n"
     ]
    },
    {
     "name": "stdout",
     "output_type": "stream",
     "text": [
      "                   all         17         83       0.45      0.356      0.187      0.133       0.45      0.356      0.188        0.1\n",
      "\n",
      "      Epoch    GPU_mem   box_loss   seg_loss   cls_loss   dfl_loss  Instances       Size\n"
     ]
    },
    {
     "name": "stderr",
     "output_type": "stream",
     "text": [
      "    129/150         0G     0.6413      1.626     0.6982     0.9238          4        640: 100%|██████████| 3/3 [00:14<00:00,  4.79s/it]\n",
      "                 Class     Images  Instances      Box(P          R      mAP50  mAP50-95)     Mask(P          R      mAP50  mAP50-95): 100\n"
     ]
    },
    {
     "name": "stdout",
     "output_type": "stream",
     "text": [
      "                   all         17         83       0.45      0.356      0.187      0.133       0.45      0.356      0.188        0.1\n",
      "\n",
      "      Epoch    GPU_mem   box_loss   seg_loss   cls_loss   dfl_loss  Instances       Size\n"
     ]
    },
    {
     "name": "stderr",
     "output_type": "stream",
     "text": [
      "    130/150         0G     0.6541      1.555     0.6445     0.9401         18        640: 100%|██████████| 3/3 [00:14<00:00,  4.68s/it]\n",
      "                 Class     Images  Instances      Box(P          R      mAP50  mAP50-95)     Mask(P          R      mAP50  mAP50-95): 100\n"
     ]
    },
    {
     "name": "stdout",
     "output_type": "stream",
     "text": [
      "                   all         17         83      0.447      0.358      0.187       0.14      0.445      0.361      0.189      0.105\n",
      "\n",
      "      Epoch    GPU_mem   box_loss   seg_loss   cls_loss   dfl_loss  Instances       Size\n"
     ]
    },
    {
     "name": "stderr",
     "output_type": "stream",
     "text": [
      "    131/150         0G     0.7727      1.569     0.6404       0.92         18        640: 100%|██████████| 3/3 [00:15<00:00,  5.19s/it]\n",
      "                 Class     Images  Instances      Box(P          R      mAP50  mAP50-95)     Mask(P          R      mAP50  mAP50-95): 100\n"
     ]
    },
    {
     "name": "stdout",
     "output_type": "stream",
     "text": [
      "                   all         17         83       0.43      0.357      0.191      0.142      0.439      0.365      0.193      0.109\n",
      "\n",
      "      Epoch    GPU_mem   box_loss   seg_loss   cls_loss   dfl_loss  Instances       Size\n"
     ]
    },
    {
     "name": "stderr",
     "output_type": "stream",
     "text": [
      "    132/150         0G     0.6934       1.49     0.6369     0.9478         12        640: 100%|██████████| 3/3 [00:14<00:00,  4.83s/it]\n",
      "                 Class     Images  Instances      Box(P          R      mAP50  mAP50-95)     Mask(P          R      mAP50  mAP50-95): 100\n"
     ]
    },
    {
     "name": "stdout",
     "output_type": "stream",
     "text": [
      "                   all         17         83      0.494      0.337      0.201      0.147      0.488      0.338      0.199      0.113\n",
      "\n",
      "      Epoch    GPU_mem   box_loss   seg_loss   cls_loss   dfl_loss  Instances       Size\n"
     ]
    },
    {
     "name": "stderr",
     "output_type": "stream",
     "text": [
      "    133/150         0G     0.6812      1.297     0.6227     0.9166         13        640: 100%|██████████| 3/3 [00:14<00:00,  4.84s/it]\n",
      "                 Class     Images  Instances      Box(P          R      mAP50  mAP50-95)     Mask(P          R      mAP50  mAP50-95): 100\n"
     ]
    },
    {
     "name": "stdout",
     "output_type": "stream",
     "text": [
      "                   all         17         83      0.494      0.337      0.201      0.147      0.488      0.338      0.199      0.113\n",
      "\n",
      "      Epoch    GPU_mem   box_loss   seg_loss   cls_loss   dfl_loss  Instances       Size\n"
     ]
    },
    {
     "name": "stderr",
     "output_type": "stream",
     "text": [
      "    134/150         0G     0.6437      1.219      0.588     0.8924          7        640: 100%|██████████| 3/3 [00:14<00:00,  4.85s/it]\n",
      "                 Class     Images  Instances      Box(P          R      mAP50  mAP50-95)     Mask(P          R      mAP50  mAP50-95): 100\n"
     ]
    },
    {
     "name": "stdout",
     "output_type": "stream",
     "text": [
      "                   all         17         83      0.478      0.335      0.204      0.149      0.487      0.345      0.203      0.119\n",
      "\n",
      "      Epoch    GPU_mem   box_loss   seg_loss   cls_loss   dfl_loss  Instances       Size\n"
     ]
    },
    {
     "name": "stderr",
     "output_type": "stream",
     "text": [
      "    135/150         0G     0.8416       1.58     0.6969     0.8979          5        640: 100%|██████████| 3/3 [00:14<00:00,  4.83s/it]\n",
      "                 Class     Images  Instances      Box(P          R      mAP50  mAP50-95)     Mask(P          R      mAP50  mAP50-95): 100\n"
     ]
    },
    {
     "name": "stdout",
     "output_type": "stream",
     "text": [
      "                   all         17         83      0.482       0.33      0.201       0.15      0.473      0.333      0.198       0.12\n",
      "\n",
      "      Epoch    GPU_mem   box_loss   seg_loss   cls_loss   dfl_loss  Instances       Size\n"
     ]
    },
    {
     "name": "stderr",
     "output_type": "stream",
     "text": [
      "    136/150         0G     0.4363     0.8498       9.56     0.6292          0        640: 100%|██████████| 3/3 [00:13<00:00,  4.52s/it]\n",
      "                 Class     Images  Instances      Box(P          R      mAP50  mAP50-95)     Mask(P          R      mAP50  mAP50-95): 100\n"
     ]
    },
    {
     "name": "stdout",
     "output_type": "stream",
     "text": [
      "                   all         17         83      0.475      0.326      0.198      0.148      0.463      0.308      0.186      0.114\n",
      "\n",
      "      Epoch    GPU_mem   box_loss   seg_loss   cls_loss   dfl_loss  Instances       Size\n"
     ]
    },
    {
     "name": "stderr",
     "output_type": "stream",
     "text": [
      "    137/150         0G     0.7275      1.688     0.6807     0.9539         26        640: 100%|██████████| 3/3 [00:14<00:00,  4.92s/it]\n",
      "                 Class     Images  Instances      Box(P          R      mAP50  mAP50-95)     Mask(P          R      mAP50  mAP50-95): 100\n"
     ]
    },
    {
     "name": "stdout",
     "output_type": "stream",
     "text": [
      "                   all         17         83      0.475      0.326      0.198      0.148      0.463      0.308      0.186      0.114\n",
      "\n",
      "      Epoch    GPU_mem   box_loss   seg_loss   cls_loss   dfl_loss  Instances       Size\n"
     ]
    },
    {
     "name": "stderr",
     "output_type": "stream",
     "text": [
      "    138/150         0G     0.6913      1.433      0.609     0.9001         10        640: 100%|██████████| 3/3 [00:14<00:00,  4.93s/it]\n",
      "                 Class     Images  Instances      Box(P          R      mAP50  mAP50-95)     Mask(P          R      mAP50  mAP50-95): 100\n"
     ]
    },
    {
     "name": "stdout",
     "output_type": "stream",
     "text": [
      "                   all         17         83      0.474      0.303      0.185      0.138      0.462      0.296       0.18      0.104\n",
      "\n",
      "      Epoch    GPU_mem   box_loss   seg_loss   cls_loss   dfl_loss  Instances       Size\n"
     ]
    },
    {
     "name": "stderr",
     "output_type": "stream",
     "text": [
      "    139/150         0G     0.6601       1.34     0.6713     0.9579          9        640: 100%|██████████| 3/3 [00:14<00:00,  4.90s/it]\n",
      "                 Class     Images  Instances      Box(P          R      mAP50  mAP50-95)     Mask(P          R      mAP50  mAP50-95): 100\n"
     ]
    },
    {
     "name": "stdout",
     "output_type": "stream",
     "text": [
      "                   all         17         83      0.458      0.299       0.18      0.134      0.451      0.303      0.182      0.101\n",
      "\n",
      "      Epoch    GPU_mem   box_loss   seg_loss   cls_loss   dfl_loss  Instances       Size\n"
     ]
    },
    {
     "name": "stderr",
     "output_type": "stream",
     "text": [
      "    140/150         0G     0.7302      1.677     0.6732     0.9707         21        640: 100%|██████████| 3/3 [00:15<00:00,  5.18s/it]\n",
      "                 Class     Images  Instances      Box(P          R      mAP50  mAP50-95)     Mask(P          R      mAP50  mAP50-95): 100\n"
     ]
    },
    {
     "name": "stdout",
     "output_type": "stream",
     "text": [
      "                   all         17         83      0.464      0.297      0.176      0.128      0.464      0.297      0.178     0.0995\n",
      "Closing dataloader mosaic\n",
      "\u001b[34m\u001b[1malbumentations: \u001b[0mBlur(p=0.01, blur_limit=(3, 7)), MedianBlur(p=0.01, blur_limit=(3, 7)), ToGray(p=0.01), CLAHE(p=0.01, clip_limit=(1, 4.0), tile_grid_size=(8, 8))\n",
      "\n",
      "      Epoch    GPU_mem   box_loss   seg_loss   cls_loss   dfl_loss  Instances       Size\n"
     ]
    },
    {
     "name": "stderr",
     "output_type": "stream",
     "text": [
      "    141/150         0G     0.4757     0.9491      11.87     0.6183          0        640: 100%|██████████| 3/3 [00:13<00:00,  4.55s/it]\n",
      "                 Class     Images  Instances      Box(P          R      mAP50  mAP50-95)     Mask(P          R      mAP50  mAP50-95): 100\n"
     ]
    },
    {
     "name": "stdout",
     "output_type": "stream",
     "text": [
      "                   all         17         83      0.464      0.297      0.176      0.128      0.464      0.297      0.178     0.0995\n",
      "\n",
      "      Epoch    GPU_mem   box_loss   seg_loss   cls_loss   dfl_loss  Instances       Size\n"
     ]
    },
    {
     "name": "stderr",
     "output_type": "stream",
     "text": [
      "    142/150         0G     0.6261      1.393     0.9821     0.9179          2        640: 100%|██████████| 3/3 [00:13<00:00,  4.58s/it]\n",
      "                 Class     Images  Instances      Box(P          R      mAP50  mAP50-95)     Mask(P          R      mAP50  mAP50-95): 100\n"
     ]
    },
    {
     "name": "stdout",
     "output_type": "stream",
     "text": [
      "                   all         17         83      0.466      0.299      0.174      0.127      0.454      0.291      0.168      0.101\n",
      "\n",
      "      Epoch    GPU_mem   box_loss   seg_loss   cls_loss   dfl_loss  Instances       Size\n"
     ]
    },
    {
     "name": "stderr",
     "output_type": "stream",
     "text": [
      "    143/150         0G     0.6769      1.475     0.8719     0.9267         32        640: 100%|██████████| 3/3 [00:13<00:00,  4.44s/it]\n",
      "                 Class     Images  Instances      Box(P          R      mAP50  mAP50-95)     Mask(P          R      mAP50  mAP50-95): 100\n"
     ]
    },
    {
     "name": "stdout",
     "output_type": "stream",
     "text": [
      "                   all         17         83      0.473      0.309      0.176      0.127      0.462      0.301      0.172      0.101\n",
      "\n",
      "      Epoch    GPU_mem   box_loss   seg_loss   cls_loss   dfl_loss  Instances       Size\n"
     ]
    },
    {
     "name": "stderr",
     "output_type": "stream",
     "text": [
      "    144/150         0G     0.6296      1.446     0.8507     0.8958          3        640: 100%|██████████| 3/3 [00:13<00:00,  4.55s/it]\n",
      "                 Class     Images  Instances      Box(P          R      mAP50  mAP50-95)     Mask(P          R      mAP50  mAP50-95): 100\n"
     ]
    },
    {
     "name": "stdout",
     "output_type": "stream",
     "text": [
      "                   all         17         83      0.478      0.309      0.177       0.13      0.468      0.301      0.174     0.0972\n",
      "\n",
      "      Epoch    GPU_mem   box_loss   seg_loss   cls_loss   dfl_loss  Instances       Size\n"
     ]
    },
    {
     "name": "stderr",
     "output_type": "stream",
     "text": [
      "    145/150         0G     0.5664      1.544     0.6805     0.8596          2        640: 100%|██████████| 3/3 [00:13<00:00,  4.49s/it]\n",
      "                 Class     Images  Instances      Box(P          R      mAP50  mAP50-95)     Mask(P          R      mAP50  mAP50-95): 100\n"
     ]
    },
    {
     "name": "stdout",
     "output_type": "stream",
     "text": [
      "                   all         17         83      0.478      0.309      0.177       0.13      0.468      0.301      0.174     0.0972\n",
      "\n",
      "      Epoch    GPU_mem   box_loss   seg_loss   cls_loss   dfl_loss  Instances       Size\n"
     ]
    },
    {
     "name": "stderr",
     "output_type": "stream",
     "text": [
      "    146/150         0G     0.5758        1.3     0.6781     0.8876          2        640: 100%|██████████| 3/3 [00:18<00:00,  6.24s/it]\n",
      "                 Class     Images  Instances      Box(P          R      mAP50  mAP50-95)     Mask(P          R      mAP50  mAP50-95): 100\n"
     ]
    },
    {
     "name": "stdout",
     "output_type": "stream",
     "text": [
      "                   all         17         83      0.458      0.303      0.174      0.128      0.459      0.293      0.165     0.0961\n",
      "\n",
      "      Epoch    GPU_mem   box_loss   seg_loss   cls_loss   dfl_loss  Instances       Size\n"
     ]
    },
    {
     "name": "stderr",
     "output_type": "stream",
     "text": [
      "    147/150         0G      0.392     0.9788      6.381     0.5985          0        640: 100%|██████████| 3/3 [00:14<00:00,  4.82s/it]\n",
      "                 Class     Images  Instances      Box(P          R      mAP50  mAP50-95)     Mask(P          R      mAP50  mAP50-95): 100\n"
     ]
    },
    {
     "name": "stdout",
     "output_type": "stream",
     "text": [
      "                   all         17         83      0.461      0.303      0.174      0.127       0.45      0.295      0.169     0.0963\n",
      "\n",
      "      Epoch    GPU_mem   box_loss   seg_loss   cls_loss   dfl_loss  Instances       Size\n"
     ]
    },
    {
     "name": "stderr",
     "output_type": "stream",
     "text": [
      "    148/150         0G      0.672      1.575     0.6732     0.9241          9        640: 100%|██████████| 3/3 [00:14<00:00,  4.73s/it]\n",
      "                 Class     Images  Instances      Box(P          R      mAP50  mAP50-95)     Mask(P          R      mAP50  mAP50-95): 100\n"
     ]
    },
    {
     "name": "stdout",
     "output_type": "stream",
     "text": [
      "                   all         17         83      0.443      0.307      0.169      0.125      0.433      0.299      0.165     0.0956\n",
      "\n",
      "      Epoch    GPU_mem   box_loss   seg_loss   cls_loss   dfl_loss  Instances       Size\n"
     ]
    },
    {
     "name": "stderr",
     "output_type": "stream",
     "text": [
      "    149/150         0G      0.651      1.557     0.6795     0.8958          5        640: 100%|██████████| 3/3 [00:13<00:00,  4.38s/it]\n",
      "                 Class     Images  Instances      Box(P          R      mAP50  mAP50-95)     Mask(P          R      mAP50  mAP50-95): 100\n"
     ]
    },
    {
     "name": "stdout",
     "output_type": "stream",
     "text": [
      "                   all         17         83      0.443      0.307      0.169      0.125      0.433      0.299      0.165     0.0956\n",
      "\n",
      "      Epoch    GPU_mem   box_loss   seg_loss   cls_loss   dfl_loss  Instances       Size\n"
     ]
    },
    {
     "name": "stderr",
     "output_type": "stream",
     "text": [
      "    150/150         0G     0.6207      1.746      0.937     0.8534          2        640: 100%|██████████| 3/3 [00:13<00:00,  4.50s/it]\n",
      "                 Class     Images  Instances      Box(P          R      mAP50  mAP50-95)     Mask(P          R      mAP50  mAP50-95): 100\n"
     ]
    },
    {
     "name": "stdout",
     "output_type": "stream",
     "text": [
      "                   all         17         83      0.441      0.304      0.169      0.125      0.431      0.296      0.166     0.0946\n",
      "\n",
      "150 epochs completed in 0.789 hours.\n",
      "Optimizer stripped from C:\\Users\\further-pc\\.pyenv\\runs\\segment\\train6\\weights\\last.pt, 6.8MB\n",
      "Optimizer stripped from C:\\Users\\further-pc\\.pyenv\\runs\\segment\\train6\\weights\\best.pt, 6.8MB\n",
      "\n",
      "Validating C:\\Users\\further-pc\\.pyenv\\runs\\segment\\train6\\weights\\best.pt...\n",
      "Ultralytics YOLOv8.2.2  Python-3.10.5 torch-2.2.2+cpu CPU (Intel Core(TM) i7-8700 3.20GHz)\n",
      "YOLOv8n-seg summary (fused): 195 layers, 3258454 parameters, 0 gradients, 12.0 GFLOPs\n"
     ]
    },
    {
     "name": "stderr",
     "output_type": "stream",
     "text": [
      "                 Class     Images  Instances      Box(P          R      mAP50  mAP50-95)     Mask(P          R      mAP50  mAP50-95): 100\n"
     ]
    },
    {
     "name": "stdout",
     "output_type": "stream",
     "text": [
      "                   all         17         83      0.482       0.33      0.201       0.15      0.473      0.332      0.198       0.12\n",
      "          garbage area         17         19      0.448        0.3      0.167      0.148      0.453      0.305      0.164      0.123\n",
      "                  E006         17         64      0.516      0.359      0.235      0.152      0.493      0.359      0.232      0.117\n",
      "Speed: 1.3ms preprocess, 107.6ms inference, 0.0ms loss, 5.4ms postprocess per image\n",
      "Results saved to \u001b[1mC:\\Users\\further-pc\\.pyenv\\runs\\segment\\train6\u001b[0m\n",
      "training time : 2853.880844593048 seconds\n",
      "Ultralytics YOLOv8.2.2  Python-3.10.5 torch-2.2.2+cpu CPU (Intel Core(TM) i7-8700 3.20GHz)\n",
      "YOLOv8n-seg summary (fused): 195 layers, 3258454 parameters, 0 gradients, 12.0 GFLOPs\n",
      "\n",
      "\u001b[34m\u001b[1mPyTorch:\u001b[0m starting from 'C:\\Users\\further-pc\\.pyenv\\runs\\segment\\train6\\weights\\best.pt' with input shape (1, 3, 640, 640) BCHW and output shape(s) ((1, 38, 8400), (1, 32, 160, 160)) (6.5 MB)\n",
      "\n",
      "\u001b[34m\u001b[1mTorchScript:\u001b[0m starting export with torch 2.2.2+cpu...\n",
      "\u001b[34m\u001b[1mTorchScript:\u001b[0m export success  2.2s, saved as 'C:\\Users\\further-pc\\.pyenv\\runs\\segment\\train6\\weights\\best.torchscript' (12.9 MB)\n",
      "\n",
      "Export complete (3.9s)\n",
      "Results saved to \u001b[1mC:\\Users\\further-pc\\.pyenv\\runs\\segment\\train6\\weights\u001b[0m\n",
      "Predict:         yolo predict task=segment model=C:\\Users\\further-pc\\.pyenv\\runs\\segment\\train6\\weights\\best.torchscript imgsz=640  \n",
      "Validate:        yolo val task=segment model=C:\\Users\\further-pc\\.pyenv\\runs\\segment\\train6\\weights\\best.torchscript imgsz=640 data=./data_thing.yaml  \n",
      "Visualize:       https://netron.app\n",
      "model export path : C:\\Users\\further-pc\\.pyenv\\runs\\segment\\train6\\weights\\best.torchscript\n"
     ]
    }
   ],
   "source": [
    "# 開始訓練\n",
    "\n",
    "model_output_path = \"./runs/segment/train\"\n",
    "data_yaml_path = \"./data_thing.yaml\"\n",
    "\n",
    "if __name__ == \"__main__\":\n",
    "    # yaml裡面的data路徑從datasets開始\n",
    "    train.train_model(model_output_path,data_yaml_path,epochs=150)"
   ]
  },
  {
   "cell_type": "code",
   "execution_count": 21,
   "metadata": {},
   "outputs": [
    {
     "name": "stdout",
     "output_type": "stream",
     "text": [
      "\n",
      "0: 448x640 (no detections), 94.0ms\n",
      "Speed: 4.0ms preprocess, 94.0ms inference, 1.0ms postprocess per image at shape (1, 3, 448, 640)\n"
     ]
    },
    {
     "ename": "error",
     "evalue": "OpenCV(4.9.0) D:\\a\\opencv-python\\opencv-python\\opencv\\modules\\highgui\\src\\window.cpp:1272: error: (-2:Unspecified error) The function is not implemented. Rebuild the library with Windows, GTK+ 2.x or Cocoa support. If you are on Ubuntu or Debian, install libgtk2.0-dev and pkg-config, then re-run cmake or configure script in function 'cvShowImage'\n",
     "output_type": "error",
     "traceback": [
      "\u001b[1;31m---------------------------------------------------------------------------\u001b[0m",
      "\u001b[1;31merror\u001b[0m                                     Traceback (most recent call last)",
      "Cell \u001b[1;32mIn[21], line 13\u001b[0m\n\u001b[0;32m     10\u001b[0m     results \u001b[38;5;241m=\u001b[39m model\u001b[38;5;241m.\u001b[39mpredict(img, save\u001b[38;5;241m=\u001b[39m\u001b[38;5;28;01mFalse\u001b[39;00m)\n\u001b[0;32m     11\u001b[0m     \u001b[38;5;28;01mreturn\u001b[39;00m results[\u001b[38;5;241m0\u001b[39m]\u001b[38;5;241m.\u001b[39mplot()\n\u001b[1;32m---> 13\u001b[0m \u001b[43mvideo_player\u001b[49m\u001b[38;5;241;43m.\u001b[39;49m\u001b[43mplay\u001b[49m\u001b[43m(\u001b[49m\u001b[43mpredict\u001b[49m\u001b[43m)\u001b[49m\n",
      "File \u001b[1;32m~\\Documents\\yolo8-cars\\video_player.py:38\u001b[0m, in \u001b[0;36mVideoPlayer.play\u001b[1;34m(self, callback)\u001b[0m\n\u001b[0;32m     35\u001b[0m     annotated_frame \u001b[38;5;241m=\u001b[39m \u001b[38;5;28mself\u001b[39m\u001b[38;5;241m.\u001b[39mdraw_progress_bar(annotated_frame)\n\u001b[0;32m     37\u001b[0m \u001b[38;5;66;03m# # 顯示結果\u001b[39;00m\n\u001b[1;32m---> 38\u001b[0m \u001b[43mcv2\u001b[49m\u001b[38;5;241;43m.\u001b[39;49m\u001b[43mimshow\u001b[49m\u001b[43m(\u001b[49m\u001b[38;5;124;43m'\u001b[39;49m\u001b[38;5;124;43mYOLO\u001b[39;49m\u001b[38;5;124;43m'\u001b[39;49m\u001b[43m,\u001b[49m\u001b[43m \u001b[49m\u001b[43mcv2\u001b[49m\u001b[38;5;241;43m.\u001b[39;49m\u001b[43mcvtColor\u001b[49m\u001b[43m(\u001b[49m\u001b[43mannotated_frame\u001b[49m\u001b[43m,\u001b[49m\u001b[43m \u001b[49m\u001b[43mcv2\u001b[49m\u001b[38;5;241;43m.\u001b[39;49m\u001b[43mCOLOR_RGB2BGR\u001b[49m\u001b[43m)\u001b[49m\u001b[43m)\u001b[49m\n\u001b[0;32m     41\u001b[0m key \u001b[38;5;241m=\u001b[39m cv2\u001b[38;5;241m.\u001b[39mwaitKey(\u001b[38;5;241m1\u001b[39m) \u001b[38;5;241m&\u001b[39m \u001b[38;5;241m0xFF\u001b[39m\n\u001b[0;32m     42\u001b[0m \u001b[38;5;28;01mif\u001b[39;00m key \u001b[38;5;241m==\u001b[39m \u001b[38;5;28mord\u001b[39m(\u001b[38;5;124m\"\u001b[39m\u001b[38;5;124mq\u001b[39m\u001b[38;5;124m\"\u001b[39m):\n",
      "File \u001b[1;32m~\\.pyenv\\pyenv-win\\versions\\3.10.5\\lib\\site-packages\\ultralytics\\utils\\patches.py:56\u001b[0m, in \u001b[0;36mimshow\u001b[1;34m(winname, mat)\u001b[0m\n\u001b[0;32m     48\u001b[0m \u001b[38;5;28;01mdef\u001b[39;00m \u001b[38;5;21mimshow\u001b[39m(winname: \u001b[38;5;28mstr\u001b[39m, mat: np\u001b[38;5;241m.\u001b[39mndarray):\n\u001b[0;32m     49\u001b[0m \u001b[38;5;250m    \u001b[39m\u001b[38;5;124;03m\"\"\"\u001b[39;00m\n\u001b[0;32m     50\u001b[0m \u001b[38;5;124;03m    Displays an image in the specified window.\u001b[39;00m\n\u001b[0;32m     51\u001b[0m \n\u001b[1;32m   (...)\u001b[0m\n\u001b[0;32m     54\u001b[0m \u001b[38;5;124;03m        mat (np.ndarray): Image to be shown.\u001b[39;00m\n\u001b[0;32m     55\u001b[0m \u001b[38;5;124;03m    \"\"\"\u001b[39;00m\n\u001b[1;32m---> 56\u001b[0m     \u001b[43m_imshow\u001b[49m\u001b[43m(\u001b[49m\u001b[43mwinname\u001b[49m\u001b[38;5;241;43m.\u001b[39;49m\u001b[43mencode\u001b[49m\u001b[43m(\u001b[49m\u001b[38;5;124;43m\"\u001b[39;49m\u001b[38;5;124;43municode_escape\u001b[39;49m\u001b[38;5;124;43m\"\u001b[39;49m\u001b[43m)\u001b[49m\u001b[38;5;241;43m.\u001b[39;49m\u001b[43mdecode\u001b[49m\u001b[43m(\u001b[49m\u001b[43m)\u001b[49m\u001b[43m,\u001b[49m\u001b[43m \u001b[49m\u001b[43mmat\u001b[49m\u001b[43m)\u001b[49m\n",
      "\u001b[1;31merror\u001b[0m: OpenCV(4.9.0) D:\\a\\opencv-python\\opencv-python\\opencv\\modules\\highgui\\src\\window.cpp:1272: error: (-2:Unspecified error) The function is not implemented. Rebuild the library with Windows, GTK+ 2.x or Cocoa support. If you are on Ubuntu or Debian, install libgtk2.0-dev and pkg-config, then re-run cmake or configure script in function 'cvShowImage'\n"
     ]
    }
   ],
   "source": [
    "# 播放影片測試\n",
    "\n",
    "model = YOLO(\"models/wb/thing/weights/best.pt\")\n",
    "\n",
    "# video_player = VideoPlayer(\"datas/videos/Barataria Morvant Exit.mp4\")\n",
    "video_player = VideoPlayer(\"wbdatas/wb_videos/94cb8bb8-4c88-11ec-9b81-3a0bea150e9c/result.mp4\")\n",
    "\n",
    "def predict(frame):\n",
    "    img = frame[:, :, ::-1].copy()  # 转换颜色空间\n",
    "    results = model.predict(img, save=False)\n",
    "    return results[0].plot()\n",
    "\n",
    "video_player.play(predict)"
   ]
  },
  {
   "cell_type": "code",
   "execution_count": 12,
   "metadata": {},
   "outputs": [
    {
     "name": "stderr",
     "output_type": "stream",
     "text": [
      "100%|█████████████████████████████████████████████████████████████████████████████████████████████████| 101/101 [00:00<00:00, 204.88it/s]\n"
     ]
    }
   ],
   "source": [
    "# 將影片切成圖檔\n",
    "\n",
    "video_path = \"./wbdatas/wb_videos/ad50c5df-259c-3345-39f5-3a09b39a5c87/result.mp4\"\n",
    "\n",
    "video2img.toimg(video_path,\"wb_ad50c5df-259c-3345-39f5-3a09b39a5c87\")\n"
   ]
  },
  {
   "cell_type": "code",
   "execution_count": 13,
   "metadata": {},
   "outputs": [
    {
     "name": "stdout",
     "output_type": "stream",
     "text": [
      "\n",
      "image 1/1 C:\\Users\\further-pc\\Documents\\yolo8-cars\\wbdatas\\wb_videos\\ad50c5df-259c-3345-39f5-3a09b39a5c87\\result\\wb_ad50c5df-259c-3345-39f5-3a09b39a5c8700000000.jpg: 448x640 2 garbage areas, 1 E006, 95.0ms\n",
      "Speed: 2.0ms preprocess, 95.0ms inference, 4.0ms postprocess per image at shape (1, 3, 448, 640)\n",
      "\n",
      "image 1/1 C:\\Users\\further-pc\\Documents\\yolo8-cars\\wbdatas\\wb_videos\\ad50c5df-259c-3345-39f5-3a09b39a5c87\\result\\wb_ad50c5df-259c-3345-39f5-3a09b39a5c8700000001.jpg: 448x640 2 garbage areas, 1 E006, 86.0ms\n",
      "Speed: 2.0ms preprocess, 86.0ms inference, 4.0ms postprocess per image at shape (1, 3, 448, 640)\n",
      "\n",
      "image 1/1 C:\\Users\\further-pc\\Documents\\yolo8-cars\\wbdatas\\wb_videos\\ad50c5df-259c-3345-39f5-3a09b39a5c87\\result\\wb_ad50c5df-259c-3345-39f5-3a09b39a5c8700000002.jpg: 448x640 2 garbage areas, 1 E006, 87.6ms\n",
      "Speed: 2.0ms preprocess, 87.6ms inference, 4.0ms postprocess per image at shape (1, 3, 448, 640)\n",
      "\n",
      "image 1/1 C:\\Users\\further-pc\\Documents\\yolo8-cars\\wbdatas\\wb_videos\\ad50c5df-259c-3345-39f5-3a09b39a5c87\\result\\wb_ad50c5df-259c-3345-39f5-3a09b39a5c8700000003.jpg: 448x640 2 garbage areas, 1 E006, 88.6ms\n",
      "Speed: 2.0ms preprocess, 88.6ms inference, 4.0ms postprocess per image at shape (1, 3, 448, 640)\n",
      "\n",
      "image 1/1 C:\\Users\\further-pc\\Documents\\yolo8-cars\\wbdatas\\wb_videos\\ad50c5df-259c-3345-39f5-3a09b39a5c87\\result\\wb_ad50c5df-259c-3345-39f5-3a09b39a5c8700000004.jpg: 448x640 2 garbage areas, 1 E006, 94.0ms\n",
      "Speed: 2.0ms preprocess, 94.0ms inference, 3.0ms postprocess per image at shape (1, 3, 448, 640)\n",
      "\n",
      "image 1/1 C:\\Users\\further-pc\\Documents\\yolo8-cars\\wbdatas\\wb_videos\\ad50c5df-259c-3345-39f5-3a09b39a5c87\\result\\wb_ad50c5df-259c-3345-39f5-3a09b39a5c8700000005.jpg: 448x640 2 garbage areas, 1 E006, 88.0ms\n",
      "Speed: 2.0ms preprocess, 88.0ms inference, 5.0ms postprocess per image at shape (1, 3, 448, 640)\n",
      "\n",
      "image 1/1 C:\\Users\\further-pc\\Documents\\yolo8-cars\\wbdatas\\wb_videos\\ad50c5df-259c-3345-39f5-3a09b39a5c87\\result\\wb_ad50c5df-259c-3345-39f5-3a09b39a5c8700000006.jpg: 448x640 2 garbage areas, 1 E006, 93.0ms\n",
      "Speed: 2.0ms preprocess, 93.0ms inference, 4.0ms postprocess per image at shape (1, 3, 448, 640)\n",
      "\n",
      "image 1/1 C:\\Users\\further-pc\\Documents\\yolo8-cars\\wbdatas\\wb_videos\\ad50c5df-259c-3345-39f5-3a09b39a5c87\\result\\wb_ad50c5df-259c-3345-39f5-3a09b39a5c8700000007.jpg: 448x640 2 garbage areas, 1 E006, 87.0ms\n",
      "Speed: 2.0ms preprocess, 87.0ms inference, 3.0ms postprocess per image at shape (1, 3, 448, 640)\n",
      "\n",
      "image 1/1 C:\\Users\\further-pc\\Documents\\yolo8-cars\\wbdatas\\wb_videos\\ad50c5df-259c-3345-39f5-3a09b39a5c87\\result\\wb_ad50c5df-259c-3345-39f5-3a09b39a5c8700000008.jpg: 448x640 2 garbage areas, 1 E006, 89.0ms\n",
      "Speed: 2.0ms preprocess, 89.0ms inference, 4.0ms postprocess per image at shape (1, 3, 448, 640)\n",
      "\n",
      "image 1/1 C:\\Users\\further-pc\\Documents\\yolo8-cars\\wbdatas\\wb_videos\\ad50c5df-259c-3345-39f5-3a09b39a5c87\\result\\wb_ad50c5df-259c-3345-39f5-3a09b39a5c8700000009.jpg: 448x640 1 garbage area, 4 E006s, 85.0ms\n",
      "Speed: 1.0ms preprocess, 85.0ms inference, 4.0ms postprocess per image at shape (1, 3, 448, 640)\n",
      "\n",
      "image 1/1 C:\\Users\\further-pc\\Documents\\yolo8-cars\\wbdatas\\wb_videos\\ad50c5df-259c-3345-39f5-3a09b39a5c87\\result\\wb_ad50c5df-259c-3345-39f5-3a09b39a5c8700000010.jpg: 448x640 2 garbage areas, 11 E006s, 92.6ms\n",
      "Speed: 2.0ms preprocess, 92.6ms inference, 11.0ms postprocess per image at shape (1, 3, 448, 640)\n",
      "\n",
      "image 1/1 C:\\Users\\further-pc\\Documents\\yolo8-cars\\wbdatas\\wb_videos\\ad50c5df-259c-3345-39f5-3a09b39a5c87\\result\\wb_ad50c5df-259c-3345-39f5-3a09b39a5c8700000011.jpg: 448x640 2 garbage areas, 3 E006s, 79.0ms\n",
      "Speed: 2.0ms preprocess, 79.0ms inference, 5.0ms postprocess per image at shape (1, 3, 448, 640)\n",
      "\n",
      "image 1/1 C:\\Users\\further-pc\\Documents\\yolo8-cars\\wbdatas\\wb_videos\\ad50c5df-259c-3345-39f5-3a09b39a5c87\\result\\wb_ad50c5df-259c-3345-39f5-3a09b39a5c8700000012.jpg: 448x640 1 garbage area, 1 E006, 89.0ms\n",
      "Speed: 2.0ms preprocess, 89.0ms inference, 3.0ms postprocess per image at shape (1, 3, 448, 640)\n",
      "\n",
      "image 1/1 C:\\Users\\further-pc\\Documents\\yolo8-cars\\wbdatas\\wb_videos\\ad50c5df-259c-3345-39f5-3a09b39a5c87\\result\\wb_ad50c5df-259c-3345-39f5-3a09b39a5c8700000013.jpg: 448x640 1 garbage area, 1 E006, 81.0ms\n",
      "Speed: 1.0ms preprocess, 81.0ms inference, 2.0ms postprocess per image at shape (1, 3, 448, 640)\n",
      "\n",
      "image 1/1 C:\\Users\\further-pc\\Documents\\yolo8-cars\\wbdatas\\wb_videos\\ad50c5df-259c-3345-39f5-3a09b39a5c87\\result\\wb_ad50c5df-259c-3345-39f5-3a09b39a5c8700000014.jpg: 448x640 1 garbage area, 1 E006, 114.0ms\n",
      "Speed: 2.0ms preprocess, 114.0ms inference, 3.0ms postprocess per image at shape (1, 3, 448, 640)\n",
      "\n",
      "image 1/1 C:\\Users\\further-pc\\Documents\\yolo8-cars\\wbdatas\\wb_videos\\ad50c5df-259c-3345-39f5-3a09b39a5c87\\result\\wb_ad50c5df-259c-3345-39f5-3a09b39a5c8700000015.jpg: 448x640 1 garbage area, 1 E006, 89.0ms\n",
      "Speed: 2.0ms preprocess, 89.0ms inference, 4.0ms postprocess per image at shape (1, 3, 448, 640)\n",
      "\n",
      "image 1/1 C:\\Users\\further-pc\\Documents\\yolo8-cars\\wbdatas\\wb_videos\\ad50c5df-259c-3345-39f5-3a09b39a5c87\\result\\wb_ad50c5df-259c-3345-39f5-3a09b39a5c8700000016.jpg: 448x640 1 E006, 90.0ms\n",
      "Speed: 2.0ms preprocess, 90.0ms inference, 3.0ms postprocess per image at shape (1, 3, 448, 640)\n",
      "\n",
      "image 1/1 C:\\Users\\further-pc\\Documents\\yolo8-cars\\wbdatas\\wb_videos\\ad50c5df-259c-3345-39f5-3a09b39a5c87\\result\\wb_ad50c5df-259c-3345-39f5-3a09b39a5c8700000017.jpg: 448x640 1 E006, 90.0ms\n",
      "Speed: 2.0ms preprocess, 90.0ms inference, 1.6ms postprocess per image at shape (1, 3, 448, 640)\n",
      "\n",
      "image 1/1 C:\\Users\\further-pc\\Documents\\yolo8-cars\\wbdatas\\wb_videos\\ad50c5df-259c-3345-39f5-3a09b39a5c87\\result\\wb_ad50c5df-259c-3345-39f5-3a09b39a5c8700000018.jpg: 448x640 1 E006, 86.6ms\n",
      "Speed: 2.0ms preprocess, 86.6ms inference, 2.0ms postprocess per image at shape (1, 3, 448, 640)\n",
      "\n",
      "image 1/1 C:\\Users\\further-pc\\Documents\\yolo8-cars\\wbdatas\\wb_videos\\ad50c5df-259c-3345-39f5-3a09b39a5c87\\result\\wb_ad50c5df-259c-3345-39f5-3a09b39a5c8700000019.jpg: 448x640 1 garbage area, 1 E006, 88.0ms\n",
      "Speed: 2.0ms preprocess, 88.0ms inference, 3.0ms postprocess per image at shape (1, 3, 448, 640)\n",
      "\n",
      "image 1/1 C:\\Users\\further-pc\\Documents\\yolo8-cars\\wbdatas\\wb_videos\\ad50c5df-259c-3345-39f5-3a09b39a5c87\\result\\wb_ad50c5df-259c-3345-39f5-3a09b39a5c8700000020.jpg: 448x640 1 E006, 91.0ms\n",
      "Speed: 2.0ms preprocess, 91.0ms inference, 3.0ms postprocess per image at shape (1, 3, 448, 640)\n",
      "\n",
      "image 1/1 C:\\Users\\further-pc\\Documents\\yolo8-cars\\wbdatas\\wb_videos\\ad50c5df-259c-3345-39f5-3a09b39a5c87\\result\\wb_ad50c5df-259c-3345-39f5-3a09b39a5c8700000021.jpg: 448x640 1 garbage area, 1 E006, 90.0ms\n",
      "Speed: 2.0ms preprocess, 90.0ms inference, 3.0ms postprocess per image at shape (1, 3, 448, 640)\n",
      "\n",
      "image 1/1 C:\\Users\\further-pc\\Documents\\yolo8-cars\\wbdatas\\wb_videos\\ad50c5df-259c-3345-39f5-3a09b39a5c87\\result\\wb_ad50c5df-259c-3345-39f5-3a09b39a5c8700000022.jpg: 448x640 1 E006, 87.0ms\n",
      "Speed: 2.0ms preprocess, 87.0ms inference, 2.0ms postprocess per image at shape (1, 3, 448, 640)\n",
      "\n",
      "image 1/1 C:\\Users\\further-pc\\Documents\\yolo8-cars\\wbdatas\\wb_videos\\ad50c5df-259c-3345-39f5-3a09b39a5c87\\result\\wb_ad50c5df-259c-3345-39f5-3a09b39a5c8700000023.jpg: 448x640 1 E006, 87.0ms\n",
      "Speed: 2.0ms preprocess, 87.0ms inference, 2.0ms postprocess per image at shape (1, 3, 448, 640)\n",
      "\n",
      "image 1/1 C:\\Users\\further-pc\\Documents\\yolo8-cars\\wbdatas\\wb_videos\\ad50c5df-259c-3345-39f5-3a09b39a5c87\\result\\wb_ad50c5df-259c-3345-39f5-3a09b39a5c8700000024.jpg: 448x640 1 E006, 92.0ms\n",
      "Speed: 2.0ms preprocess, 92.0ms inference, 3.0ms postprocess per image at shape (1, 3, 448, 640)\n",
      "\n",
      "image 1/1 C:\\Users\\further-pc\\Documents\\yolo8-cars\\wbdatas\\wb_videos\\ad50c5df-259c-3345-39f5-3a09b39a5c87\\result\\wb_ad50c5df-259c-3345-39f5-3a09b39a5c8700000025.jpg: 448x640 1 E006, 90.0ms\n",
      "Speed: 1.0ms preprocess, 90.0ms inference, 2.0ms postprocess per image at shape (1, 3, 448, 640)\n",
      "\n",
      "image 1/1 C:\\Users\\further-pc\\Documents\\yolo8-cars\\wbdatas\\wb_videos\\ad50c5df-259c-3345-39f5-3a09b39a5c87\\result\\wb_ad50c5df-259c-3345-39f5-3a09b39a5c8700000026.jpg: 448x640 1 E006, 84.0ms\n",
      "Speed: 3.0ms preprocess, 84.0ms inference, 2.6ms postprocess per image at shape (1, 3, 448, 640)\n",
      "\n",
      "image 1/1 C:\\Users\\further-pc\\Documents\\yolo8-cars\\wbdatas\\wb_videos\\ad50c5df-259c-3345-39f5-3a09b39a5c87\\result\\wb_ad50c5df-259c-3345-39f5-3a09b39a5c8700000027.jpg: 448x640 1 E006, 87.6ms\n",
      "Speed: 1.0ms preprocess, 87.6ms inference, 1.0ms postprocess per image at shape (1, 3, 448, 640)\n",
      "\n",
      "image 1/1 C:\\Users\\further-pc\\Documents\\yolo8-cars\\wbdatas\\wb_videos\\ad50c5df-259c-3345-39f5-3a09b39a5c87\\result\\wb_ad50c5df-259c-3345-39f5-3a09b39a5c8700000028.jpg: 448x640 1 garbage area, 1 E006, 84.0ms\n",
      "Speed: 2.0ms preprocess, 84.0ms inference, 3.0ms postprocess per image at shape (1, 3, 448, 640)\n",
      "\n",
      "image 1/1 C:\\Users\\further-pc\\Documents\\yolo8-cars\\wbdatas\\wb_videos\\ad50c5df-259c-3345-39f5-3a09b39a5c87\\result\\wb_ad50c5df-259c-3345-39f5-3a09b39a5c8700000029.jpg: 448x640 1 E006, 96.0ms\n",
      "Speed: 2.0ms preprocess, 96.0ms inference, 2.0ms postprocess per image at shape (1, 3, 448, 640)\n",
      "\n",
      "image 1/1 C:\\Users\\further-pc\\Documents\\yolo8-cars\\wbdatas\\wb_videos\\ad50c5df-259c-3345-39f5-3a09b39a5c87\\result\\wb_ad50c5df-259c-3345-39f5-3a09b39a5c8700000030.jpg: 448x640 1 E006, 85.0ms\n",
      "Speed: 2.0ms preprocess, 85.0ms inference, 2.0ms postprocess per image at shape (1, 3, 448, 640)\n",
      "\n",
      "image 1/1 C:\\Users\\further-pc\\Documents\\yolo8-cars\\wbdatas\\wb_videos\\ad50c5df-259c-3345-39f5-3a09b39a5c87\\result\\wb_ad50c5df-259c-3345-39f5-3a09b39a5c8700000031.jpg: 448x640 1 E006, 83.0ms\n",
      "Speed: 2.0ms preprocess, 83.0ms inference, 2.0ms postprocess per image at shape (1, 3, 448, 640)\n",
      "\n",
      "image 1/1 C:\\Users\\further-pc\\Documents\\yolo8-cars\\wbdatas\\wb_videos\\ad50c5df-259c-3345-39f5-3a09b39a5c87\\result\\wb_ad50c5df-259c-3345-39f5-3a09b39a5c8700000032.jpg: 448x640 1 E006, 86.0ms\n",
      "Speed: 2.0ms preprocess, 86.0ms inference, 2.0ms postprocess per image at shape (1, 3, 448, 640)\n",
      "\n",
      "image 1/1 C:\\Users\\further-pc\\Documents\\yolo8-cars\\wbdatas\\wb_videos\\ad50c5df-259c-3345-39f5-3a09b39a5c87\\result\\wb_ad50c5df-259c-3345-39f5-3a09b39a5c8700000033.jpg: 448x640 1 E006, 81.0ms\n",
      "Speed: 1.0ms preprocess, 81.0ms inference, 2.0ms postprocess per image at shape (1, 3, 448, 640)\n",
      "\n",
      "image 1/1 C:\\Users\\further-pc\\Documents\\yolo8-cars\\wbdatas\\wb_videos\\ad50c5df-259c-3345-39f5-3a09b39a5c87\\result\\wb_ad50c5df-259c-3345-39f5-3a09b39a5c8700000034.jpg: 448x640 1 E006, 82.0ms\n",
      "Speed: 2.0ms preprocess, 82.0ms inference, 3.0ms postprocess per image at shape (1, 3, 448, 640)\n",
      "\n",
      "image 1/1 C:\\Users\\further-pc\\Documents\\yolo8-cars\\wbdatas\\wb_videos\\ad50c5df-259c-3345-39f5-3a09b39a5c87\\result\\wb_ad50c5df-259c-3345-39f5-3a09b39a5c8700000035.jpg: 448x640 1 E006, 103.0ms\n",
      "Speed: 11.0ms preprocess, 103.0ms inference, 2.0ms postprocess per image at shape (1, 3, 448, 640)\n",
      "\n",
      "image 1/1 C:\\Users\\further-pc\\Documents\\yolo8-cars\\wbdatas\\wb_videos\\ad50c5df-259c-3345-39f5-3a09b39a5c87\\result\\wb_ad50c5df-259c-3345-39f5-3a09b39a5c8700000036.jpg: 448x640 1 E006, 128.8ms\n",
      "Speed: 3.0ms preprocess, 128.8ms inference, 3.0ms postprocess per image at shape (1, 3, 448, 640)\n",
      "\n",
      "image 1/1 C:\\Users\\further-pc\\Documents\\yolo8-cars\\wbdatas\\wb_videos\\ad50c5df-259c-3345-39f5-3a09b39a5c87\\result\\wb_ad50c5df-259c-3345-39f5-3a09b39a5c8700000037.jpg: 448x640 1 garbage area, 1 E006, 93.0ms\n",
      "Speed: 2.0ms preprocess, 93.0ms inference, 3.0ms postprocess per image at shape (1, 3, 448, 640)\n",
      "\n",
      "image 1/1 C:\\Users\\further-pc\\Documents\\yolo8-cars\\wbdatas\\wb_videos\\ad50c5df-259c-3345-39f5-3a09b39a5c87\\result\\wb_ad50c5df-259c-3345-39f5-3a09b39a5c8700000038.jpg: 448x640 1 garbage area, 1 E006, 85.0ms\n",
      "Speed: 2.0ms preprocess, 85.0ms inference, 3.0ms postprocess per image at shape (1, 3, 448, 640)\n",
      "\n",
      "image 1/1 C:\\Users\\further-pc\\Documents\\yolo8-cars\\wbdatas\\wb_videos\\ad50c5df-259c-3345-39f5-3a09b39a5c87\\result\\wb_ad50c5df-259c-3345-39f5-3a09b39a5c8700000039.jpg: 448x640 1 garbage area, 1 E006, 89.0ms\n",
      "Speed: 2.0ms preprocess, 89.0ms inference, 3.0ms postprocess per image at shape (1, 3, 448, 640)\n",
      "\n",
      "image 1/1 C:\\Users\\further-pc\\Documents\\yolo8-cars\\wbdatas\\wb_videos\\ad50c5df-259c-3345-39f5-3a09b39a5c87\\result\\wb_ad50c5df-259c-3345-39f5-3a09b39a5c8700000040.jpg: 448x640 1 E006, 84.0ms\n",
      "Speed: 2.0ms preprocess, 84.0ms inference, 2.0ms postprocess per image at shape (1, 3, 448, 640)\n",
      "\n",
      "image 1/1 C:\\Users\\further-pc\\Documents\\yolo8-cars\\wbdatas\\wb_videos\\ad50c5df-259c-3345-39f5-3a09b39a5c87\\result\\wb_ad50c5df-259c-3345-39f5-3a09b39a5c8700000041.jpg: 448x640 1 garbage area, 1 E006, 78.0ms\n",
      "Speed: 2.0ms preprocess, 78.0ms inference, 2.0ms postprocess per image at shape (1, 3, 448, 640)\n",
      "\n",
      "image 1/1 C:\\Users\\further-pc\\Documents\\yolo8-cars\\wbdatas\\wb_videos\\ad50c5df-259c-3345-39f5-3a09b39a5c87\\result\\wb_ad50c5df-259c-3345-39f5-3a09b39a5c8700000042.jpg: 448x640 1 garbage area, 1 E006, 95.0ms\n",
      "Speed: 3.0ms preprocess, 95.0ms inference, 3.0ms postprocess per image at shape (1, 3, 448, 640)\n",
      "\n",
      "image 1/1 C:\\Users\\further-pc\\Documents\\yolo8-cars\\wbdatas\\wb_videos\\ad50c5df-259c-3345-39f5-3a09b39a5c87\\result\\wb_ad50c5df-259c-3345-39f5-3a09b39a5c8700000043.jpg: 448x640 1 garbage area, 1 E006, 93.0ms\n",
      "Speed: 2.0ms preprocess, 93.0ms inference, 4.0ms postprocess per image at shape (1, 3, 448, 640)\n",
      "\n",
      "image 1/1 C:\\Users\\further-pc\\Documents\\yolo8-cars\\wbdatas\\wb_videos\\ad50c5df-259c-3345-39f5-3a09b39a5c87\\result\\wb_ad50c5df-259c-3345-39f5-3a09b39a5c8700000044.jpg: 448x640 1 garbage area, 1 E006, 92.5ms\n",
      "Speed: 2.0ms preprocess, 92.5ms inference, 3.0ms postprocess per image at shape (1, 3, 448, 640)\n",
      "\n",
      "image 1/1 C:\\Users\\further-pc\\Documents\\yolo8-cars\\wbdatas\\wb_videos\\ad50c5df-259c-3345-39f5-3a09b39a5c87\\result\\wb_ad50c5df-259c-3345-39f5-3a09b39a5c8700000045.jpg: 448x640 1 garbage area, 1 E006, 90.5ms\n",
      "Speed: 2.0ms preprocess, 90.5ms inference, 4.0ms postprocess per image at shape (1, 3, 448, 640)\n",
      "\n",
      "image 1/1 C:\\Users\\further-pc\\Documents\\yolo8-cars\\wbdatas\\wb_videos\\ad50c5df-259c-3345-39f5-3a09b39a5c87\\result\\wb_ad50c5df-259c-3345-39f5-3a09b39a5c8700000046.jpg: 448x640 1 garbage area, 1 E006, 91.0ms\n",
      "Speed: 2.0ms preprocess, 91.0ms inference, 4.0ms postprocess per image at shape (1, 3, 448, 640)\n",
      "\n",
      "image 1/1 C:\\Users\\further-pc\\Documents\\yolo8-cars\\wbdatas\\wb_videos\\ad50c5df-259c-3345-39f5-3a09b39a5c87\\result\\wb_ad50c5df-259c-3345-39f5-3a09b39a5c8700000047.jpg: 448x640 1 garbage area, 1 E006, 86.0ms\n",
      "Speed: 3.0ms preprocess, 86.0ms inference, 2.0ms postprocess per image at shape (1, 3, 448, 640)\n",
      "\n",
      "image 1/1 C:\\Users\\further-pc\\Documents\\yolo8-cars\\wbdatas\\wb_videos\\ad50c5df-259c-3345-39f5-3a09b39a5c87\\result\\wb_ad50c5df-259c-3345-39f5-3a09b39a5c8700000048.jpg: 448x640 1 garbage area, 1 E006, 91.0ms\n",
      "Speed: 2.0ms preprocess, 91.0ms inference, 3.0ms postprocess per image at shape (1, 3, 448, 640)\n",
      "\n",
      "image 1/1 C:\\Users\\further-pc\\Documents\\yolo8-cars\\wbdatas\\wb_videos\\ad50c5df-259c-3345-39f5-3a09b39a5c87\\result\\wb_ad50c5df-259c-3345-39f5-3a09b39a5c8700000049.jpg: 448x640 1 garbage area, 1 E006, 91.0ms\n",
      "Speed: 2.0ms preprocess, 91.0ms inference, 4.0ms postprocess per image at shape (1, 3, 448, 640)\n",
      "\n",
      "image 1/1 C:\\Users\\further-pc\\Documents\\yolo8-cars\\wbdatas\\wb_videos\\ad50c5df-259c-3345-39f5-3a09b39a5c87\\result\\wb_ad50c5df-259c-3345-39f5-3a09b39a5c8700000050.jpg: 448x640 1 garbage area, 1 E006, 86.0ms\n",
      "Speed: 3.0ms preprocess, 86.0ms inference, 3.0ms postprocess per image at shape (1, 3, 448, 640)\n",
      "\n",
      "image 1/1 C:\\Users\\further-pc\\Documents\\yolo8-cars\\wbdatas\\wb_videos\\ad50c5df-259c-3345-39f5-3a09b39a5c87\\result\\wb_ad50c5df-259c-3345-39f5-3a09b39a5c8700000051.jpg: 448x640 1 garbage area, 1 E006, 88.0ms\n",
      "Speed: 2.0ms preprocess, 88.0ms inference, 3.0ms postprocess per image at shape (1, 3, 448, 640)\n",
      "\n",
      "image 1/1 C:\\Users\\further-pc\\Documents\\yolo8-cars\\wbdatas\\wb_videos\\ad50c5df-259c-3345-39f5-3a09b39a5c87\\result\\wb_ad50c5df-259c-3345-39f5-3a09b39a5c8700000052.jpg: 448x640 1 garbage area, 1 E006, 84.0ms\n",
      "Speed: 2.0ms preprocess, 84.0ms inference, 4.0ms postprocess per image at shape (1, 3, 448, 640)\n",
      "\n",
      "image 1/1 C:\\Users\\further-pc\\Documents\\yolo8-cars\\wbdatas\\wb_videos\\ad50c5df-259c-3345-39f5-3a09b39a5c87\\result\\wb_ad50c5df-259c-3345-39f5-3a09b39a5c8700000053.jpg: 448x640 1 garbage area, 1 E006, 111.6ms\n",
      "Speed: 2.0ms preprocess, 111.6ms inference, 3.0ms postprocess per image at shape (1, 3, 448, 640)\n",
      "\n",
      "image 1/1 C:\\Users\\further-pc\\Documents\\yolo8-cars\\wbdatas\\wb_videos\\ad50c5df-259c-3345-39f5-3a09b39a5c87\\result\\wb_ad50c5df-259c-3345-39f5-3a09b39a5c8700000054.jpg: 448x640 1 E006, 82.0ms\n",
      "Speed: 3.0ms preprocess, 82.0ms inference, 2.0ms postprocess per image at shape (1, 3, 448, 640)\n",
      "\n",
      "image 1/1 C:\\Users\\further-pc\\Documents\\yolo8-cars\\wbdatas\\wb_videos\\ad50c5df-259c-3345-39f5-3a09b39a5c87\\result\\wb_ad50c5df-259c-3345-39f5-3a09b39a5c8700000055.jpg: 448x640 1 garbage area, 1 E006, 93.0ms\n",
      "Speed: 2.0ms preprocess, 93.0ms inference, 3.0ms postprocess per image at shape (1, 3, 448, 640)\n",
      "\n",
      "image 1/1 C:\\Users\\further-pc\\Documents\\yolo8-cars\\wbdatas\\wb_videos\\ad50c5df-259c-3345-39f5-3a09b39a5c87\\result\\wb_ad50c5df-259c-3345-39f5-3a09b39a5c8700000056.jpg: 448x640 (no detections), 87.0ms\n",
      "Speed: 2.0ms preprocess, 87.0ms inference, 1.0ms postprocess per image at shape (1, 3, 448, 640)\n",
      "\n",
      "image 1/1 C:\\Users\\further-pc\\Documents\\yolo8-cars\\wbdatas\\wb_videos\\ad50c5df-259c-3345-39f5-3a09b39a5c87\\result\\wb_ad50c5df-259c-3345-39f5-3a09b39a5c8700000057.jpg: 448x640 (no detections), 85.0ms\n",
      "Speed: 1.0ms preprocess, 85.0ms inference, 1.0ms postprocess per image at shape (1, 3, 448, 640)\n",
      "\n",
      "image 1/1 C:\\Users\\further-pc\\Documents\\yolo8-cars\\wbdatas\\wb_videos\\ad50c5df-259c-3345-39f5-3a09b39a5c87\\result\\wb_ad50c5df-259c-3345-39f5-3a09b39a5c8700000058.jpg: 448x640 (no detections), 85.0ms\n",
      "Speed: 2.0ms preprocess, 85.0ms inference, 0.0ms postprocess per image at shape (1, 3, 448, 640)\n",
      "\n",
      "image 1/1 C:\\Users\\further-pc\\Documents\\yolo8-cars\\wbdatas\\wb_videos\\ad50c5df-259c-3345-39f5-3a09b39a5c87\\result\\wb_ad50c5df-259c-3345-39f5-3a09b39a5c8700000059.jpg: 448x640 1 garbage area, 92.0ms\n",
      "Speed: 2.0ms preprocess, 92.0ms inference, 2.0ms postprocess per image at shape (1, 3, 448, 640)\n",
      "\n",
      "image 1/1 C:\\Users\\further-pc\\Documents\\yolo8-cars\\wbdatas\\wb_videos\\ad50c5df-259c-3345-39f5-3a09b39a5c87\\result\\wb_ad50c5df-259c-3345-39f5-3a09b39a5c8700000060.jpg: 448x640 (no detections), 90.0ms\n",
      "Speed: 3.0ms preprocess, 90.0ms inference, 1.0ms postprocess per image at shape (1, 3, 448, 640)\n",
      "\n",
      "image 1/1 C:\\Users\\further-pc\\Documents\\yolo8-cars\\wbdatas\\wb_videos\\ad50c5df-259c-3345-39f5-3a09b39a5c87\\result\\wb_ad50c5df-259c-3345-39f5-3a09b39a5c8700000061.jpg: 448x640 (no detections), 93.6ms\n",
      "Speed: 2.0ms preprocess, 93.6ms inference, 0.0ms postprocess per image at shape (1, 3, 448, 640)\n",
      "\n",
      "image 1/1 C:\\Users\\further-pc\\Documents\\yolo8-cars\\wbdatas\\wb_videos\\ad50c5df-259c-3345-39f5-3a09b39a5c87\\result\\wb_ad50c5df-259c-3345-39f5-3a09b39a5c8700000062.jpg: 448x640 (no detections), 96.6ms\n",
      "Speed: 2.0ms preprocess, 96.6ms inference, 0.0ms postprocess per image at shape (1, 3, 448, 640)\n",
      "\n",
      "image 1/1 C:\\Users\\further-pc\\Documents\\yolo8-cars\\wbdatas\\wb_videos\\ad50c5df-259c-3345-39f5-3a09b39a5c87\\result\\wb_ad50c5df-259c-3345-39f5-3a09b39a5c8700000063.jpg: 448x640 (no detections), 93.0ms\n",
      "Speed: 1.0ms preprocess, 93.0ms inference, 1.0ms postprocess per image at shape (1, 3, 448, 640)\n",
      "\n",
      "image 1/1 C:\\Users\\further-pc\\Documents\\yolo8-cars\\wbdatas\\wb_videos\\ad50c5df-259c-3345-39f5-3a09b39a5c87\\result\\wb_ad50c5df-259c-3345-39f5-3a09b39a5c8700000064.jpg: 448x640 1 garbage area, 94.0ms\n",
      "Speed: 2.0ms preprocess, 94.0ms inference, 3.0ms postprocess per image at shape (1, 3, 448, 640)\n",
      "\n",
      "image 1/1 C:\\Users\\further-pc\\Documents\\yolo8-cars\\wbdatas\\wb_videos\\ad50c5df-259c-3345-39f5-3a09b39a5c87\\result\\wb_ad50c5df-259c-3345-39f5-3a09b39a5c8700000065.jpg: 448x640 1 garbage area, 97.0ms\n",
      "Speed: 2.0ms preprocess, 97.0ms inference, 3.0ms postprocess per image at shape (1, 3, 448, 640)\n",
      "\n",
      "image 1/1 C:\\Users\\further-pc\\Documents\\yolo8-cars\\wbdatas\\wb_videos\\ad50c5df-259c-3345-39f5-3a09b39a5c87\\result\\wb_ad50c5df-259c-3345-39f5-3a09b39a5c8700000066.jpg: 448x640 1 garbage area, 94.0ms\n",
      "Speed: 2.0ms preprocess, 94.0ms inference, 2.0ms postprocess per image at shape (1, 3, 448, 640)\n",
      "\n",
      "image 1/1 C:\\Users\\further-pc\\Documents\\yolo8-cars\\wbdatas\\wb_videos\\ad50c5df-259c-3345-39f5-3a09b39a5c87\\result\\wb_ad50c5df-259c-3345-39f5-3a09b39a5c8700000067.jpg: 448x640 1 garbage area, 84.0ms\n",
      "Speed: 2.0ms preprocess, 84.0ms inference, 2.0ms postprocess per image at shape (1, 3, 448, 640)\n",
      "\n",
      "image 1/1 C:\\Users\\further-pc\\Documents\\yolo8-cars\\wbdatas\\wb_videos\\ad50c5df-259c-3345-39f5-3a09b39a5c87\\result\\wb_ad50c5df-259c-3345-39f5-3a09b39a5c8700000068.jpg: 448x640 1 garbage area, 121.0ms\n",
      "Speed: 2.0ms preprocess, 121.0ms inference, 3.0ms postprocess per image at shape (1, 3, 448, 640)\n",
      "\n",
      "image 1/1 C:\\Users\\further-pc\\Documents\\yolo8-cars\\wbdatas\\wb_videos\\ad50c5df-259c-3345-39f5-3a09b39a5c87\\result\\wb_ad50c5df-259c-3345-39f5-3a09b39a5c8700000069.jpg: 448x640 (no detections), 105.6ms\n",
      "Speed: 22.0ms preprocess, 105.6ms inference, 1.0ms postprocess per image at shape (1, 3, 448, 640)\n",
      "\n",
      "image 1/1 C:\\Users\\further-pc\\Documents\\yolo8-cars\\wbdatas\\wb_videos\\ad50c5df-259c-3345-39f5-3a09b39a5c87\\result\\wb_ad50c5df-259c-3345-39f5-3a09b39a5c8700000070.jpg: 448x640 1 garbage area, 113.6ms\n",
      "Speed: 2.0ms preprocess, 113.6ms inference, 3.0ms postprocess per image at shape (1, 3, 448, 640)\n",
      "\n",
      "image 1/1 C:\\Users\\further-pc\\Documents\\yolo8-cars\\wbdatas\\wb_videos\\ad50c5df-259c-3345-39f5-3a09b39a5c87\\result\\wb_ad50c5df-259c-3345-39f5-3a09b39a5c8700000071.jpg: 448x640 1 garbage area, 102.0ms\n",
      "Speed: 3.0ms preprocess, 102.0ms inference, 3.0ms postprocess per image at shape (1, 3, 448, 640)\n",
      "\n",
      "image 1/1 C:\\Users\\further-pc\\Documents\\yolo8-cars\\wbdatas\\wb_videos\\ad50c5df-259c-3345-39f5-3a09b39a5c87\\result\\wb_ad50c5df-259c-3345-39f5-3a09b39a5c8700000072.jpg: 448x640 1 garbage area, 89.0ms\n",
      "Speed: 1.0ms preprocess, 89.0ms inference, 2.0ms postprocess per image at shape (1, 3, 448, 640)\n",
      "\n",
      "image 1/1 C:\\Users\\further-pc\\Documents\\yolo8-cars\\wbdatas\\wb_videos\\ad50c5df-259c-3345-39f5-3a09b39a5c87\\result\\wb_ad50c5df-259c-3345-39f5-3a09b39a5c8700000073.jpg: 448x640 1 garbage area, 87.0ms\n",
      "Speed: 3.0ms preprocess, 87.0ms inference, 2.0ms postprocess per image at shape (1, 3, 448, 640)\n",
      "\n",
      "image 1/1 C:\\Users\\further-pc\\Documents\\yolo8-cars\\wbdatas\\wb_videos\\ad50c5df-259c-3345-39f5-3a09b39a5c87\\result\\wb_ad50c5df-259c-3345-39f5-3a09b39a5c8700000074.jpg: 448x640 1 garbage area, 91.0ms\n",
      "Speed: 1.0ms preprocess, 91.0ms inference, 3.0ms postprocess per image at shape (1, 3, 448, 640)\n",
      "\n",
      "image 1/1 C:\\Users\\further-pc\\Documents\\yolo8-cars\\wbdatas\\wb_videos\\ad50c5df-259c-3345-39f5-3a09b39a5c87\\result\\wb_ad50c5df-259c-3345-39f5-3a09b39a5c8700000075.jpg: 448x640 1 garbage area, 87.0ms\n",
      "Speed: 2.0ms preprocess, 87.0ms inference, 3.0ms postprocess per image at shape (1, 3, 448, 640)\n",
      "\n",
      "image 1/1 C:\\Users\\further-pc\\Documents\\yolo8-cars\\wbdatas\\wb_videos\\ad50c5df-259c-3345-39f5-3a09b39a5c87\\result\\wb_ad50c5df-259c-3345-39f5-3a09b39a5c8700000076.jpg: 448x640 1 garbage area, 92.0ms\n",
      "Speed: 2.0ms preprocess, 92.0ms inference, 2.0ms postprocess per image at shape (1, 3, 448, 640)\n",
      "\n",
      "image 1/1 C:\\Users\\further-pc\\Documents\\yolo8-cars\\wbdatas\\wb_videos\\ad50c5df-259c-3345-39f5-3a09b39a5c87\\result\\wb_ad50c5df-259c-3345-39f5-3a09b39a5c8700000077.jpg: 448x640 1 garbage area, 90.0ms\n",
      "Speed: 2.0ms preprocess, 90.0ms inference, 3.0ms postprocess per image at shape (1, 3, 448, 640)\n",
      "\n",
      "image 1/1 C:\\Users\\further-pc\\Documents\\yolo8-cars\\wbdatas\\wb_videos\\ad50c5df-259c-3345-39f5-3a09b39a5c87\\result\\wb_ad50c5df-259c-3345-39f5-3a09b39a5c8700000078.jpg: 448x640 1 garbage area, 94.6ms\n",
      "Speed: 2.0ms preprocess, 94.6ms inference, 3.0ms postprocess per image at shape (1, 3, 448, 640)\n",
      "\n",
      "image 1/1 C:\\Users\\further-pc\\Documents\\yolo8-cars\\wbdatas\\wb_videos\\ad50c5df-259c-3345-39f5-3a09b39a5c87\\result\\wb_ad50c5df-259c-3345-39f5-3a09b39a5c8700000079.jpg: 448x640 1 garbage area, 91.0ms\n",
      "Speed: 3.0ms preprocess, 91.0ms inference, 3.0ms postprocess per image at shape (1, 3, 448, 640)\n",
      "\n",
      "image 1/1 C:\\Users\\further-pc\\Documents\\yolo8-cars\\wbdatas\\wb_videos\\ad50c5df-259c-3345-39f5-3a09b39a5c87\\result\\wb_ad50c5df-259c-3345-39f5-3a09b39a5c8700000080.jpg: 448x640 1 garbage area, 196.0ms\n",
      "Speed: 3.0ms preprocess, 196.0ms inference, 17.0ms postprocess per image at shape (1, 3, 448, 640)\n",
      "\n",
      "image 1/1 C:\\Users\\further-pc\\Documents\\yolo8-cars\\wbdatas\\wb_videos\\ad50c5df-259c-3345-39f5-3a09b39a5c87\\result\\wb_ad50c5df-259c-3345-39f5-3a09b39a5c8700000081.jpg: 448x640 1 garbage area, 167.0ms\n",
      "Speed: 3.0ms preprocess, 167.0ms inference, 2.0ms postprocess per image at shape (1, 3, 448, 640)\n",
      "\n",
      "image 1/1 C:\\Users\\further-pc\\Documents\\yolo8-cars\\wbdatas\\wb_videos\\ad50c5df-259c-3345-39f5-3a09b39a5c87\\result\\wb_ad50c5df-259c-3345-39f5-3a09b39a5c8700000082.jpg: 448x640 1 garbage area, 110.0ms\n",
      "Speed: 3.0ms preprocess, 110.0ms inference, 2.0ms postprocess per image at shape (1, 3, 448, 640)\n",
      "\n",
      "image 1/1 C:\\Users\\further-pc\\Documents\\yolo8-cars\\wbdatas\\wb_videos\\ad50c5df-259c-3345-39f5-3a09b39a5c87\\result\\wb_ad50c5df-259c-3345-39f5-3a09b39a5c8700000083.jpg: 448x640 1 garbage area, 100.0ms\n",
      "Speed: 2.0ms preprocess, 100.0ms inference, 2.0ms postprocess per image at shape (1, 3, 448, 640)\n",
      "\n",
      "image 1/1 C:\\Users\\further-pc\\Documents\\yolo8-cars\\wbdatas\\wb_videos\\ad50c5df-259c-3345-39f5-3a09b39a5c87\\result\\wb_ad50c5df-259c-3345-39f5-3a09b39a5c8700000084.jpg: 448x640 1 garbage area, 95.1ms\n",
      "Speed: 3.0ms preprocess, 95.1ms inference, 3.0ms postprocess per image at shape (1, 3, 448, 640)\n",
      "\n",
      "image 1/1 C:\\Users\\further-pc\\Documents\\yolo8-cars\\wbdatas\\wb_videos\\ad50c5df-259c-3345-39f5-3a09b39a5c87\\result\\wb_ad50c5df-259c-3345-39f5-3a09b39a5c8700000085.jpg: 448x640 (no detections), 98.6ms\n",
      "Speed: 3.0ms preprocess, 98.6ms inference, 0.0ms postprocess per image at shape (1, 3, 448, 640)\n",
      "\n",
      "image 1/1 C:\\Users\\further-pc\\Documents\\yolo8-cars\\wbdatas\\wb_videos\\ad50c5df-259c-3345-39f5-3a09b39a5c87\\result\\wb_ad50c5df-259c-3345-39f5-3a09b39a5c8700000086.jpg: 448x640 1 garbage area, 85.0ms\n",
      "Speed: 1.0ms preprocess, 85.0ms inference, 2.0ms postprocess per image at shape (1, 3, 448, 640)\n",
      "\n",
      "image 1/1 C:\\Users\\further-pc\\Documents\\yolo8-cars\\wbdatas\\wb_videos\\ad50c5df-259c-3345-39f5-3a09b39a5c87\\result\\wb_ad50c5df-259c-3345-39f5-3a09b39a5c8700000087.jpg: 448x640 (no detections), 93.0ms\n",
      "Speed: 2.0ms preprocess, 93.0ms inference, 0.0ms postprocess per image at shape (1, 3, 448, 640)\n",
      "\n",
      "image 1/1 C:\\Users\\further-pc\\Documents\\yolo8-cars\\wbdatas\\wb_videos\\ad50c5df-259c-3345-39f5-3a09b39a5c87\\result\\wb_ad50c5df-259c-3345-39f5-3a09b39a5c8700000088.jpg: 448x640 2 garbage areas, 89.0ms\n",
      "Speed: 1.0ms preprocess, 89.0ms inference, 4.0ms postprocess per image at shape (1, 3, 448, 640)\n",
      "\n",
      "image 1/1 C:\\Users\\further-pc\\Documents\\yolo8-cars\\wbdatas\\wb_videos\\ad50c5df-259c-3345-39f5-3a09b39a5c87\\result\\wb_ad50c5df-259c-3345-39f5-3a09b39a5c8700000089.jpg: 448x640 2 garbage areas, 90.0ms\n",
      "Speed: 2.0ms preprocess, 90.0ms inference, 4.0ms postprocess per image at shape (1, 3, 448, 640)\n",
      "\n",
      "image 1/1 C:\\Users\\further-pc\\Documents\\yolo8-cars\\wbdatas\\wb_videos\\ad50c5df-259c-3345-39f5-3a09b39a5c87\\result\\wb_ad50c5df-259c-3345-39f5-3a09b39a5c8700000090.jpg: 448x640 2 garbage areas, 88.0ms\n",
      "Speed: 2.0ms preprocess, 88.0ms inference, 3.0ms postprocess per image at shape (1, 3, 448, 640)\n",
      "\n",
      "image 1/1 C:\\Users\\further-pc\\Documents\\yolo8-cars\\wbdatas\\wb_videos\\ad50c5df-259c-3345-39f5-3a09b39a5c87\\result\\wb_ad50c5df-259c-3345-39f5-3a09b39a5c8700000091.jpg: 448x640 1 garbage area, 92.0ms\n",
      "Speed: 2.0ms preprocess, 92.0ms inference, 3.0ms postprocess per image at shape (1, 3, 448, 640)\n",
      "\n",
      "image 1/1 C:\\Users\\further-pc\\Documents\\yolo8-cars\\wbdatas\\wb_videos\\ad50c5df-259c-3345-39f5-3a09b39a5c87\\result\\wb_ad50c5df-259c-3345-39f5-3a09b39a5c8700000092.jpg: 448x640 1 garbage area, 89.0ms\n",
      "Speed: 1.0ms preprocess, 89.0ms inference, 2.0ms postprocess per image at shape (1, 3, 448, 640)\n",
      "\n",
      "image 1/1 C:\\Users\\further-pc\\Documents\\yolo8-cars\\wbdatas\\wb_videos\\ad50c5df-259c-3345-39f5-3a09b39a5c87\\result\\wb_ad50c5df-259c-3345-39f5-3a09b39a5c8700000093.jpg: 448x640 1 garbage area, 88.6ms\n",
      "Speed: 2.0ms preprocess, 88.6ms inference, 2.0ms postprocess per image at shape (1, 3, 448, 640)\n",
      "\n",
      "image 1/1 C:\\Users\\further-pc\\Documents\\yolo8-cars\\wbdatas\\wb_videos\\ad50c5df-259c-3345-39f5-3a09b39a5c87\\result\\wb_ad50c5df-259c-3345-39f5-3a09b39a5c8700000094.jpg: 448x640 1 garbage area, 109.0ms\n",
      "Speed: 1.6ms preprocess, 109.0ms inference, 2.0ms postprocess per image at shape (1, 3, 448, 640)\n",
      "\n",
      "image 1/1 C:\\Users\\further-pc\\Documents\\yolo8-cars\\wbdatas\\wb_videos\\ad50c5df-259c-3345-39f5-3a09b39a5c87\\result\\wb_ad50c5df-259c-3345-39f5-3a09b39a5c8700000095.jpg: 448x640 1 garbage area, 90.0ms\n",
      "Speed: 1.0ms preprocess, 90.0ms inference, 3.0ms postprocess per image at shape (1, 3, 448, 640)\n",
      "\n",
      "image 1/1 C:\\Users\\further-pc\\Documents\\yolo8-cars\\wbdatas\\wb_videos\\ad50c5df-259c-3345-39f5-3a09b39a5c87\\result\\wb_ad50c5df-259c-3345-39f5-3a09b39a5c8700000096.jpg: 448x640 1 garbage area, 91.0ms\n",
      "Speed: 2.0ms preprocess, 91.0ms inference, 1.0ms postprocess per image at shape (1, 3, 448, 640)\n",
      "\n",
      "image 1/1 C:\\Users\\further-pc\\Documents\\yolo8-cars\\wbdatas\\wb_videos\\ad50c5df-259c-3345-39f5-3a09b39a5c87\\result\\wb_ad50c5df-259c-3345-39f5-3a09b39a5c8700000097.jpg: 448x640 1 garbage area, 87.0ms\n",
      "Speed: 2.0ms preprocess, 87.0ms inference, 2.0ms postprocess per image at shape (1, 3, 448, 640)\n",
      "\n",
      "image 1/1 C:\\Users\\further-pc\\Documents\\yolo8-cars\\wbdatas\\wb_videos\\ad50c5df-259c-3345-39f5-3a09b39a5c87\\result\\wb_ad50c5df-259c-3345-39f5-3a09b39a5c8700000098.jpg: 448x640 1 garbage area, 82.0ms\n",
      "Speed: 2.0ms preprocess, 82.0ms inference, 3.0ms postprocess per image at shape (1, 3, 448, 640)\n",
      "\n",
      "image 1/1 C:\\Users\\further-pc\\Documents\\yolo8-cars\\wbdatas\\wb_videos\\ad50c5df-259c-3345-39f5-3a09b39a5c87\\result\\wb_ad50c5df-259c-3345-39f5-3a09b39a5c8700000099.jpg: 448x640 1 garbage area, 84.0ms\n",
      "Speed: 1.0ms preprocess, 84.0ms inference, 3.0ms postprocess per image at shape (1, 3, 448, 640)\n",
      "\n",
      "image 1/1 C:\\Users\\further-pc\\Documents\\yolo8-cars\\wbdatas\\wb_videos\\ad50c5df-259c-3345-39f5-3a09b39a5c87\\result\\wb_ad50c5df-259c-3345-39f5-3a09b39a5c8700000100.jpg: 448x640 1 garbage area, 88.0ms\n",
      "Speed: 2.0ms preprocess, 88.0ms inference, 2.0ms postprocess per image at shape (1, 3, 448, 640)\n"
     ]
    }
   ],
   "source": [
    "# 利用產生的模型對剛剛的圖檔做標記\n",
    "\n",
    "model_path = \"models/wb/thingV2.0/weights/best.pt\"\n",
    "result_video_path = \"./wbdatas/wb_videos/ad50c5df-259c-3345-39f5-3a09b39a5c87/result\"\n",
    "output_dir = \"./datas/labelmecheck_thing\"\n",
    "\n",
    "predict2labelme_json.predict_result_to_labelme_datas(\n",
    "    model_path, result_video_path, output_dir\n",
    ")"
   ]
  },
  {
   "cell_type": "code",
   "execution_count": null,
   "metadata": {},
   "outputs": [],
   "source": []
  }
 ],
 "metadata": {
  "kernelspec": {
   "display_name": "Python 3 (ipykernel)",
   "language": "python",
   "name": "python3"
  },
  "language_info": {
   "codemirror_mode": {
    "name": "ipython",
    "version": 3
   },
   "file_extension": ".py",
   "mimetype": "text/x-python",
   "name": "python",
   "nbconvert_exporter": "python",
   "pygments_lexer": "ipython3",
   "version": "3.10.5"
  }
 },
 "nbformat": 4,
 "nbformat_minor": 4
}
